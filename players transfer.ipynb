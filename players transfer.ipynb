{
 "cells": [
  {
   "cell_type": "markdown",
   "id": "208f5d44",
   "metadata": {},
   "source": [
    "# Import Libraries"
   ]
  },
  {
   "cell_type": "code",
   "execution_count": 13,
   "id": "f55d693c",
   "metadata": {},
   "outputs": [],
   "source": [
    "import numpy as np \n",
    "import pandas as pd \n",
    "import matplotlib.pyplot as plt \n",
    "import seaborn as sns \n",
    "import plotly.express as px "
   ]
  },
  {
   "cell_type": "code",
   "execution_count": null,
   "id": "de8c3bcb",
   "metadata": {},
   "outputs": [],
   "source": []
  },
  {
   "cell_type": "markdown",
   "id": "f7b57b99",
   "metadata": {},
   "source": [
    "# Loading The Dataset"
   ]
  },
  {
   "cell_type": "code",
   "execution_count": 14,
   "id": "08430513",
   "metadata": {},
   "outputs": [],
   "source": [
    "data=pd.read_csv('players transfer.csv')"
   ]
  },
  {
   "cell_type": "markdown",
   "id": "890e0db2",
   "metadata": {},
   "source": [
    "# Exploratory Data Analysis and Data Cleaning"
   ]
  },
  {
   "cell_type": "code",
   "execution_count": 15,
   "id": "b2867a13",
   "metadata": {},
   "outputs": [
    {
     "data": {
      "text/html": [
       "<div>\n",
       "<style scoped>\n",
       "    .dataframe tbody tr th:only-of-type {\n",
       "        vertical-align: middle;\n",
       "    }\n",
       "\n",
       "    .dataframe tbody tr th {\n",
       "        vertical-align: top;\n",
       "    }\n",
       "\n",
       "    .dataframe thead th {\n",
       "        text-align: right;\n",
       "    }\n",
       "</style>\n",
       "<table border=\"1\" class=\"dataframe\">\n",
       "  <thead>\n",
       "    <tr style=\"text-align: right;\">\n",
       "      <th></th>\n",
       "      <th>Unnamed: 0</th>\n",
       "      <th>Name</th>\n",
       "      <th>Position</th>\n",
       "      <th>Age</th>\n",
       "      <th>Markey Value In Millions(£)</th>\n",
       "      <th>Country</th>\n",
       "      <th>Club</th>\n",
       "      <th>Matches</th>\n",
       "      <th>Goals</th>\n",
       "      <th>Own Goals</th>\n",
       "      <th>Assists</th>\n",
       "      <th>Yellow Cards</th>\n",
       "      <th>Second Yellow Cards</th>\n",
       "      <th>Red Cards</th>\n",
       "      <th>Number Of Substitute In</th>\n",
       "      <th>Number Of Substitute Out</th>\n",
       "    </tr>\n",
       "  </thead>\n",
       "  <tbody>\n",
       "    <tr>\n",
       "      <th>0</th>\n",
       "      <td>0</td>\n",
       "      <td>Kylian Mbappé</td>\n",
       "      <td>Centre-Forward</td>\n",
       "      <td>22</td>\n",
       "      <td>144.0</td>\n",
       "      <td>France</td>\n",
       "      <td>Paris Saint-Germain</td>\n",
       "      <td>16</td>\n",
       "      <td>7</td>\n",
       "      <td>0</td>\n",
       "      <td>11</td>\n",
       "      <td>3</td>\n",
       "      <td>0</td>\n",
       "      <td>0</td>\n",
       "      <td>0</td>\n",
       "      <td>8</td>\n",
       "    </tr>\n",
       "    <tr>\n",
       "      <th>1</th>\n",
       "      <td>1</td>\n",
       "      <td>Erling Haaland</td>\n",
       "      <td>Centre-Forward</td>\n",
       "      <td>21</td>\n",
       "      <td>135.0</td>\n",
       "      <td>Norway</td>\n",
       "      <td>Borussia Dortmund</td>\n",
       "      <td>10</td>\n",
       "      <td>13</td>\n",
       "      <td>0</td>\n",
       "      <td>4</td>\n",
       "      <td>1</td>\n",
       "      <td>0</td>\n",
       "      <td>0</td>\n",
       "      <td>0</td>\n",
       "      <td>1</td>\n",
       "    </tr>\n",
       "    <tr>\n",
       "      <th>2</th>\n",
       "      <td>2</td>\n",
       "      <td>Harry Kane</td>\n",
       "      <td>Centre-Forward</td>\n",
       "      <td>28</td>\n",
       "      <td>108.0</td>\n",
       "      <td>England</td>\n",
       "      <td>Tottenham Hotspur</td>\n",
       "      <td>16</td>\n",
       "      <td>7</td>\n",
       "      <td>0</td>\n",
       "      <td>2</td>\n",
       "      <td>2</td>\n",
       "      <td>0</td>\n",
       "      <td>0</td>\n",
       "      <td>2</td>\n",
       "      <td>2</td>\n",
       "    </tr>\n",
       "    <tr>\n",
       "      <th>3</th>\n",
       "      <td>3</td>\n",
       "      <td>Jack Grealish</td>\n",
       "      <td>Left Winger</td>\n",
       "      <td>26</td>\n",
       "      <td>90.0</td>\n",
       "      <td>England</td>\n",
       "      <td>Manchester City</td>\n",
       "      <td>15</td>\n",
       "      <td>2</td>\n",
       "      <td>0</td>\n",
       "      <td>3</td>\n",
       "      <td>1</td>\n",
       "      <td>0</td>\n",
       "      <td>0</td>\n",
       "      <td>2</td>\n",
       "      <td>8</td>\n",
       "    </tr>\n",
       "    <tr>\n",
       "      <th>4</th>\n",
       "      <td>4</td>\n",
       "      <td>Mohamed Salah</td>\n",
       "      <td>Right Winger</td>\n",
       "      <td>29</td>\n",
       "      <td>90.0</td>\n",
       "      <td>Egypt</td>\n",
       "      <td>Liverpool FC</td>\n",
       "      <td>15</td>\n",
       "      <td>15</td>\n",
       "      <td>0</td>\n",
       "      <td>6</td>\n",
       "      <td>1</td>\n",
       "      <td>0</td>\n",
       "      <td>0</td>\n",
       "      <td>0</td>\n",
       "      <td>3</td>\n",
       "    </tr>\n",
       "  </tbody>\n",
       "</table>\n",
       "</div>"
      ],
      "text/plain": [
       "   Unnamed: 0            Name        Position  Age  \\\n",
       "0           0   Kylian Mbappé  Centre-Forward   22   \n",
       "1           1  Erling Haaland  Centre-Forward   21   \n",
       "2           2      Harry Kane  Centre-Forward   28   \n",
       "3           3   Jack Grealish     Left Winger   26   \n",
       "4           4   Mohamed Salah    Right Winger   29   \n",
       "\n",
       "   Markey Value In Millions(£)  Country                 Club  Matches  Goals  \\\n",
       "0                        144.0   France  Paris Saint-Germain       16      7   \n",
       "1                        135.0   Norway    Borussia Dortmund       10     13   \n",
       "2                        108.0  England    Tottenham Hotspur       16      7   \n",
       "3                         90.0  England      Manchester City       15      2   \n",
       "4                         90.0    Egypt         Liverpool FC       15     15   \n",
       "\n",
       "   Own Goals  Assists  Yellow Cards  Second Yellow Cards  Red Cards  \\\n",
       "0          0       11             3                    0          0   \n",
       "1          0        4             1                    0          0   \n",
       "2          0        2             2                    0          0   \n",
       "3          0        3             1                    0          0   \n",
       "4          0        6             1                    0          0   \n",
       "\n",
       "   Number Of Substitute In  Number Of Substitute Out  \n",
       "0                        0                         8  \n",
       "1                        0                         1  \n",
       "2                        2                         2  \n",
       "3                        2                         8  \n",
       "4                        0                         3  "
      ]
     },
     "execution_count": 15,
     "metadata": {},
     "output_type": "execute_result"
    }
   ],
   "source": [
    "data.head()"
   ]
  },
  {
   "cell_type": "code",
   "execution_count": null,
   "id": "7c4acd9f",
   "metadata": {},
   "outputs": [],
   "source": []
  },
  {
   "cell_type": "code",
   "execution_count": 16,
   "id": "9a206b17",
   "metadata": {},
   "outputs": [
    {
     "data": {
      "text/html": [
       "<div>\n",
       "<style scoped>\n",
       "    .dataframe tbody tr th:only-of-type {\n",
       "        vertical-align: middle;\n",
       "    }\n",
       "\n",
       "    .dataframe tbody tr th {\n",
       "        vertical-align: top;\n",
       "    }\n",
       "\n",
       "    .dataframe thead th {\n",
       "        text-align: right;\n",
       "    }\n",
       "</style>\n",
       "<table border=\"1\" class=\"dataframe\">\n",
       "  <thead>\n",
       "    <tr style=\"text-align: right;\">\n",
       "      <th></th>\n",
       "      <th>Unnamed: 0</th>\n",
       "      <th>Name</th>\n",
       "      <th>Position</th>\n",
       "      <th>Age</th>\n",
       "      <th>Markey Value In Millions(£)</th>\n",
       "      <th>Country</th>\n",
       "      <th>Club</th>\n",
       "      <th>Matches</th>\n",
       "      <th>Goals</th>\n",
       "      <th>Own Goals</th>\n",
       "      <th>Assists</th>\n",
       "      <th>Yellow Cards</th>\n",
       "      <th>Second Yellow Cards</th>\n",
       "      <th>Red Cards</th>\n",
       "      <th>Number Of Substitute In</th>\n",
       "      <th>Number Of Substitute Out</th>\n",
       "    </tr>\n",
       "  </thead>\n",
       "  <tbody>\n",
       "    <tr>\n",
       "      <th>495</th>\n",
       "      <td>495</td>\n",
       "      <td>Giorgian de Arrascaeta</td>\n",
       "      <td>Attacking Midfield</td>\n",
       "      <td>27</td>\n",
       "      <td>16.2</td>\n",
       "      <td>Uruguay</td>\n",
       "      <td>Clube de Regatas do Flamengo</td>\n",
       "      <td>0</td>\n",
       "      <td>0</td>\n",
       "      <td>0</td>\n",
       "      <td>0</td>\n",
       "      <td>0</td>\n",
       "      <td>0</td>\n",
       "      <td>0</td>\n",
       "      <td>0</td>\n",
       "      <td>0</td>\n",
       "    </tr>\n",
       "    <tr>\n",
       "      <th>496</th>\n",
       "      <td>496</td>\n",
       "      <td>Ayoze Pérez</td>\n",
       "      <td>Second Striker</td>\n",
       "      <td>28</td>\n",
       "      <td>16.2</td>\n",
       "      <td>Spain</td>\n",
       "      <td>Leicester City</td>\n",
       "      <td>8</td>\n",
       "      <td>1</td>\n",
       "      <td>0</td>\n",
       "      <td>3</td>\n",
       "      <td>0</td>\n",
       "      <td>0</td>\n",
       "      <td>1</td>\n",
       "      <td>2</td>\n",
       "      <td>5</td>\n",
       "    </tr>\n",
       "    <tr>\n",
       "      <th>497</th>\n",
       "      <td>497</td>\n",
       "      <td>Alex Meret</td>\n",
       "      <td>Goalkeeper</td>\n",
       "      <td>24</td>\n",
       "      <td>16.2</td>\n",
       "      <td>Italy</td>\n",
       "      <td>SSC Napoli</td>\n",
       "      <td>5</td>\n",
       "      <td>0</td>\n",
       "      <td>0</td>\n",
       "      <td>0</td>\n",
       "      <td>0</td>\n",
       "      <td>0</td>\n",
       "      <td>0</td>\n",
       "      <td>0</td>\n",
       "      <td>0</td>\n",
       "    </tr>\n",
       "    <tr>\n",
       "      <th>498</th>\n",
       "      <td>498</td>\n",
       "      <td>Duje Caleta-Car</td>\n",
       "      <td>Centre-Back</td>\n",
       "      <td>25</td>\n",
       "      <td>16.2</td>\n",
       "      <td>Croatia</td>\n",
       "      <td>Olympique Marseille</td>\n",
       "      <td>8</td>\n",
       "      <td>0</td>\n",
       "      <td>0</td>\n",
       "      <td>0</td>\n",
       "      <td>2</td>\n",
       "      <td>0</td>\n",
       "      <td>0</td>\n",
       "      <td>0</td>\n",
       "      <td>2</td>\n",
       "    </tr>\n",
       "    <tr>\n",
       "      <th>499</th>\n",
       "      <td>499</td>\n",
       "      <td>Aritz Elustondo</td>\n",
       "      <td>Centre-Back</td>\n",
       "      <td>27</td>\n",
       "      <td>16.2</td>\n",
       "      <td>Spain</td>\n",
       "      <td>Real Sociedad</td>\n",
       "      <td>15</td>\n",
       "      <td>3</td>\n",
       "      <td>0</td>\n",
       "      <td>1</td>\n",
       "      <td>4</td>\n",
       "      <td>0</td>\n",
       "      <td>0</td>\n",
       "      <td>1</td>\n",
       "      <td>1</td>\n",
       "    </tr>\n",
       "  </tbody>\n",
       "</table>\n",
       "</div>"
      ],
      "text/plain": [
       "     Unnamed: 0                    Name            Position  Age  \\\n",
       "495         495  Giorgian de Arrascaeta  Attacking Midfield   27   \n",
       "496         496             Ayoze Pérez      Second Striker   28   \n",
       "497         497              Alex Meret          Goalkeeper   24   \n",
       "498         498         Duje Caleta-Car         Centre-Back   25   \n",
       "499         499         Aritz Elustondo         Centre-Back   27   \n",
       "\n",
       "     Markey Value In Millions(£)  Country                          Club  \\\n",
       "495                         16.2  Uruguay  Clube de Regatas do Flamengo   \n",
       "496                         16.2    Spain                Leicester City   \n",
       "497                         16.2    Italy                    SSC Napoli   \n",
       "498                         16.2  Croatia           Olympique Marseille   \n",
       "499                         16.2    Spain                 Real Sociedad   \n",
       "\n",
       "     Matches  Goals  Own Goals  Assists  Yellow Cards  Second Yellow Cards  \\\n",
       "495        0      0          0        0             0                    0   \n",
       "496        8      1          0        3             0                    0   \n",
       "497        5      0          0        0             0                    0   \n",
       "498        8      0          0        0             2                    0   \n",
       "499       15      3          0        1             4                    0   \n",
       "\n",
       "     Red Cards  Number Of Substitute In  Number Of Substitute Out  \n",
       "495          0                        0                         0  \n",
       "496          1                        2                         5  \n",
       "497          0                        0                         0  \n",
       "498          0                        0                         2  \n",
       "499          0                        1                         1  "
      ]
     },
     "execution_count": 16,
     "metadata": {},
     "output_type": "execute_result"
    }
   ],
   "source": [
    "data.tail()"
   ]
  },
  {
   "cell_type": "code",
   "execution_count": 22,
   "id": "77de4aeb",
   "metadata": {},
   "outputs": [],
   "source": [
    "datacopy=data.copy()"
   ]
  },
  {
   "cell_type": "code",
   "execution_count": null,
   "id": "2b129c41",
   "metadata": {},
   "outputs": [],
   "source": []
  },
  {
   "cell_type": "code",
   "execution_count": 23,
   "id": "7452c35b",
   "metadata": {},
   "outputs": [
    {
     "data": {
      "text/plain": [
       "Index(['Unnamed: 0', 'Name', 'Position', 'Age', 'Markey Value In Millions(£)',\n",
       "       'Country', 'Club', 'Matches', 'Goals', 'Own Goals', 'Assists',\n",
       "       'Yellow Cards', 'Second Yellow Cards', 'Red Cards',\n",
       "       'Number Of Substitute In', 'Number Of Substitute Out'],\n",
       "      dtype='object')"
      ]
     },
     "execution_count": 23,
     "metadata": {},
     "output_type": "execute_result"
    }
   ],
   "source": [
    "data.columns"
   ]
  },
  {
   "cell_type": "code",
   "execution_count": 24,
   "id": "a2448e12",
   "metadata": {},
   "outputs": [
    {
     "name": "stdout",
     "output_type": "stream",
     "text": [
      "<class 'pandas.core.frame.DataFrame'>\n",
      "RangeIndex: 500 entries, 0 to 499\n",
      "Data columns (total 16 columns):\n",
      " #   Column                       Non-Null Count  Dtype  \n",
      "---  ------                       --------------  -----  \n",
      " 0   Unnamed: 0                   500 non-null    int64  \n",
      " 1   Name                         500 non-null    object \n",
      " 2   Position                     500 non-null    object \n",
      " 3   Age                          500 non-null    int64  \n",
      " 4   Markey Value In Millions(£)  500 non-null    float64\n",
      " 5   Country                      500 non-null    object \n",
      " 6   Club                         500 non-null    object \n",
      " 7   Matches                      500 non-null    int64  \n",
      " 8   Goals                        500 non-null    int64  \n",
      " 9   Own Goals                    500 non-null    int64  \n",
      " 10  Assists                      500 non-null    int64  \n",
      " 11  Yellow Cards                 500 non-null    int64  \n",
      " 12  Second Yellow Cards          500 non-null    int64  \n",
      " 13  Red Cards                    500 non-null    int64  \n",
      " 14  Number Of Substitute In      500 non-null    int64  \n",
      " 15  Number Of Substitute Out     500 non-null    int64  \n",
      "dtypes: float64(1), int64(11), object(4)\n",
      "memory usage: 62.6+ KB\n"
     ]
    }
   ],
   "source": [
    "data.info()"
   ]
  },
  {
   "cell_type": "code",
   "execution_count": 25,
   "id": "a690df89",
   "metadata": {},
   "outputs": [
    {
     "data": {
      "text/html": [
       "<div>\n",
       "<style scoped>\n",
       "    .dataframe tbody tr th:only-of-type {\n",
       "        vertical-align: middle;\n",
       "    }\n",
       "\n",
       "    .dataframe tbody tr th {\n",
       "        vertical-align: top;\n",
       "    }\n",
       "\n",
       "    .dataframe thead th {\n",
       "        text-align: right;\n",
       "    }\n",
       "</style>\n",
       "<table border=\"1\" class=\"dataframe\">\n",
       "  <thead>\n",
       "    <tr style=\"text-align: right;\">\n",
       "      <th></th>\n",
       "      <th>Unnamed: 0</th>\n",
       "      <th>Age</th>\n",
       "      <th>Markey Value In Millions(£)</th>\n",
       "      <th>Matches</th>\n",
       "      <th>Goals</th>\n",
       "      <th>Own Goals</th>\n",
       "      <th>Assists</th>\n",
       "      <th>Yellow Cards</th>\n",
       "      <th>Second Yellow Cards</th>\n",
       "      <th>Red Cards</th>\n",
       "      <th>Number Of Substitute In</th>\n",
       "      <th>Number Of Substitute Out</th>\n",
       "    </tr>\n",
       "  </thead>\n",
       "  <tbody>\n",
       "    <tr>\n",
       "      <th>count</th>\n",
       "      <td>500.000000</td>\n",
       "      <td>500.000000</td>\n",
       "      <td>500.000000</td>\n",
       "      <td>500.000000</td>\n",
       "      <td>500.000000</td>\n",
       "      <td>500.000000</td>\n",
       "      <td>500.00000</td>\n",
       "      <td>500.000000</td>\n",
       "      <td>500.000000</td>\n",
       "      <td>500.000000</td>\n",
       "      <td>500.000000</td>\n",
       "      <td>500.000000</td>\n",
       "    </tr>\n",
       "    <tr>\n",
       "      <th>mean</th>\n",
       "      <td>249.500000</td>\n",
       "      <td>24.968000</td>\n",
       "      <td>31.537800</td>\n",
       "      <td>12.396000</td>\n",
       "      <td>2.160000</td>\n",
       "      <td>0.030000</td>\n",
       "      <td>1.51200</td>\n",
       "      <td>1.592000</td>\n",
       "      <td>0.036000</td>\n",
       "      <td>0.046000</td>\n",
       "      <td>2.394000</td>\n",
       "      <td>3.744000</td>\n",
       "    </tr>\n",
       "    <tr>\n",
       "      <th>std</th>\n",
       "      <td>144.481833</td>\n",
       "      <td>3.165916</td>\n",
       "      <td>17.577697</td>\n",
       "      <td>4.342453</td>\n",
       "      <td>2.880102</td>\n",
       "      <td>0.170758</td>\n",
       "      <td>1.85276</td>\n",
       "      <td>1.445585</td>\n",
       "      <td>0.186477</td>\n",
       "      <td>0.209695</td>\n",
       "      <td>2.517825</td>\n",
       "      <td>3.293046</td>\n",
       "    </tr>\n",
       "    <tr>\n",
       "      <th>min</th>\n",
       "      <td>0.000000</td>\n",
       "      <td>16.000000</td>\n",
       "      <td>16.200000</td>\n",
       "      <td>0.000000</td>\n",
       "      <td>0.000000</td>\n",
       "      <td>0.000000</td>\n",
       "      <td>0.00000</td>\n",
       "      <td>0.000000</td>\n",
       "      <td>0.000000</td>\n",
       "      <td>0.000000</td>\n",
       "      <td>0.000000</td>\n",
       "      <td>0.000000</td>\n",
       "    </tr>\n",
       "    <tr>\n",
       "      <th>25%</th>\n",
       "      <td>124.750000</td>\n",
       "      <td>23.000000</td>\n",
       "      <td>19.800000</td>\n",
       "      <td>10.000000</td>\n",
       "      <td>0.000000</td>\n",
       "      <td>0.000000</td>\n",
       "      <td>0.00000</td>\n",
       "      <td>0.000000</td>\n",
       "      <td>0.000000</td>\n",
       "      <td>0.000000</td>\n",
       "      <td>0.000000</td>\n",
       "      <td>1.000000</td>\n",
       "    </tr>\n",
       "    <tr>\n",
       "      <th>50%</th>\n",
       "      <td>249.500000</td>\n",
       "      <td>25.000000</td>\n",
       "      <td>25.200000</td>\n",
       "      <td>13.000000</td>\n",
       "      <td>1.000000</td>\n",
       "      <td>0.000000</td>\n",
       "      <td>1.00000</td>\n",
       "      <td>1.000000</td>\n",
       "      <td>0.000000</td>\n",
       "      <td>0.000000</td>\n",
       "      <td>2.000000</td>\n",
       "      <td>3.000000</td>\n",
       "    </tr>\n",
       "    <tr>\n",
       "      <th>75%</th>\n",
       "      <td>374.250000</td>\n",
       "      <td>27.000000</td>\n",
       "      <td>36.000000</td>\n",
       "      <td>16.000000</td>\n",
       "      <td>3.000000</td>\n",
       "      <td>0.000000</td>\n",
       "      <td>2.00000</td>\n",
       "      <td>2.000000</td>\n",
       "      <td>0.000000</td>\n",
       "      <td>0.000000</td>\n",
       "      <td>3.250000</td>\n",
       "      <td>6.000000</td>\n",
       "    </tr>\n",
       "    <tr>\n",
       "      <th>max</th>\n",
       "      <td>499.000000</td>\n",
       "      <td>36.000000</td>\n",
       "      <td>144.000000</td>\n",
       "      <td>24.000000</td>\n",
       "      <td>23.000000</td>\n",
       "      <td>1.000000</td>\n",
       "      <td>12.00000</td>\n",
       "      <td>7.000000</td>\n",
       "      <td>1.000000</td>\n",
       "      <td>1.000000</td>\n",
       "      <td>13.000000</td>\n",
       "      <td>20.000000</td>\n",
       "    </tr>\n",
       "  </tbody>\n",
       "</table>\n",
       "</div>"
      ],
      "text/plain": [
       "       Unnamed: 0         Age  Markey Value In Millions(£)     Matches  \\\n",
       "count  500.000000  500.000000                   500.000000  500.000000   \n",
       "mean   249.500000   24.968000                    31.537800   12.396000   \n",
       "std    144.481833    3.165916                    17.577697    4.342453   \n",
       "min      0.000000   16.000000                    16.200000    0.000000   \n",
       "25%    124.750000   23.000000                    19.800000   10.000000   \n",
       "50%    249.500000   25.000000                    25.200000   13.000000   \n",
       "75%    374.250000   27.000000                    36.000000   16.000000   \n",
       "max    499.000000   36.000000                   144.000000   24.000000   \n",
       "\n",
       "            Goals   Own Goals    Assists  Yellow Cards  Second Yellow Cards  \\\n",
       "count  500.000000  500.000000  500.00000    500.000000           500.000000   \n",
       "mean     2.160000    0.030000    1.51200      1.592000             0.036000   \n",
       "std      2.880102    0.170758    1.85276      1.445585             0.186477   \n",
       "min      0.000000    0.000000    0.00000      0.000000             0.000000   \n",
       "25%      0.000000    0.000000    0.00000      0.000000             0.000000   \n",
       "50%      1.000000    0.000000    1.00000      1.000000             0.000000   \n",
       "75%      3.000000    0.000000    2.00000      2.000000             0.000000   \n",
       "max     23.000000    1.000000   12.00000      7.000000             1.000000   \n",
       "\n",
       "        Red Cards  Number Of Substitute In  Number Of Substitute Out  \n",
       "count  500.000000               500.000000                500.000000  \n",
       "mean     0.046000                 2.394000                  3.744000  \n",
       "std      0.209695                 2.517825                  3.293046  \n",
       "min      0.000000                 0.000000                  0.000000  \n",
       "25%      0.000000                 0.000000                  1.000000  \n",
       "50%      0.000000                 2.000000                  3.000000  \n",
       "75%      0.000000                 3.250000                  6.000000  \n",
       "max      1.000000                13.000000                 20.000000  "
      ]
     },
     "execution_count": 25,
     "metadata": {},
     "output_type": "execute_result"
    }
   ],
   "source": [
    "data.describe()"
   ]
  },
  {
   "cell_type": "code",
   "execution_count": 26,
   "id": "fcedb599",
   "metadata": {},
   "outputs": [
    {
     "data": {
      "text/plain": [
       "(500, 16)"
      ]
     },
     "execution_count": 26,
     "metadata": {},
     "output_type": "execute_result"
    }
   ],
   "source": [
    "data.shape"
   ]
  },
  {
   "cell_type": "code",
   "execution_count": 27,
   "id": "01f3b340",
   "metadata": {},
   "outputs": [
    {
     "data": {
      "text/plain": [
       "Unnamed: 0                     0\n",
       "Name                           0\n",
       "Position                       0\n",
       "Age                            0\n",
       "Markey Value In Millions(£)    0\n",
       "Country                        0\n",
       "Club                           0\n",
       "Matches                        0\n",
       "Goals                          0\n",
       "Own Goals                      0\n",
       "Assists                        0\n",
       "Yellow Cards                   0\n",
       "Second Yellow Cards            0\n",
       "Red Cards                      0\n",
       "Number Of Substitute In        0\n",
       "Number Of Substitute Out       0\n",
       "dtype: int64"
      ]
     },
     "execution_count": 27,
     "metadata": {},
     "output_type": "execute_result"
    }
   ],
   "source": [
    "data.isna().sum()"
   ]
  },
  {
   "cell_type": "code",
   "execution_count": 28,
   "id": "fddfd526",
   "metadata": {},
   "outputs": [],
   "source": [
    "data.drop(columns='Unnamed: 0' , axis=1 , inplace= True )"
   ]
  },
  {
   "cell_type": "code",
   "execution_count": 29,
   "id": "7c59ea3a",
   "metadata": {},
   "outputs": [
    {
     "data": {
      "text/plain": [
       "Index(['Name', 'Position', 'Age', 'Markey Value In Millions(£)', 'Country',\n",
       "       'Club', 'Matches', 'Goals', 'Own Goals', 'Assists', 'Yellow Cards',\n",
       "       'Second Yellow Cards', 'Red Cards', 'Number Of Substitute In',\n",
       "       'Number Of Substitute Out'],\n",
       "      dtype='object')"
      ]
     },
     "execution_count": 29,
     "metadata": {},
     "output_type": "execute_result"
    }
   ],
   "source": [
    "data.columns"
   ]
  },
  {
   "cell_type": "code",
   "execution_count": 30,
   "id": "c397d338",
   "metadata": {},
   "outputs": [
    {
     "data": {
      "text/plain": [
       "0"
      ]
     },
     "execution_count": 30,
     "metadata": {},
     "output_type": "execute_result"
    }
   ],
   "source": [
    "data.duplicated().sum()"
   ]
  },
  {
   "cell_type": "code",
   "execution_count": 32,
   "id": "442f1a70",
   "metadata": {},
   "outputs": [
    {
     "data": {
      "text/html": [
       "<div>\n",
       "<style scoped>\n",
       "    .dataframe tbody tr th:only-of-type {\n",
       "        vertical-align: middle;\n",
       "    }\n",
       "\n",
       "    .dataframe tbody tr th {\n",
       "        vertical-align: top;\n",
       "    }\n",
       "\n",
       "    .dataframe thead th {\n",
       "        text-align: right;\n",
       "    }\n",
       "</style>\n",
       "<table border=\"1\" class=\"dataframe\">\n",
       "  <thead>\n",
       "    <tr style=\"text-align: right;\">\n",
       "      <th></th>\n",
       "      <th>Name</th>\n",
       "      <th>Position</th>\n",
       "      <th>Age</th>\n",
       "      <th>Markey Value In Millions(£)</th>\n",
       "      <th>Country</th>\n",
       "      <th>Club</th>\n",
       "      <th>Matches</th>\n",
       "      <th>Goals</th>\n",
       "      <th>Own Goals</th>\n",
       "      <th>Assists</th>\n",
       "      <th>Yellow Cards</th>\n",
       "      <th>Second Yellow Cards</th>\n",
       "      <th>Red Cards</th>\n",
       "      <th>Number Of Substitute In</th>\n",
       "      <th>Number Of Substitute Out</th>\n",
       "    </tr>\n",
       "  </thead>\n",
       "  <tbody>\n",
       "    <tr>\n",
       "      <th>86</th>\n",
       "      <td>Ferland Mendy</td>\n",
       "      <td>Left-Back</td>\n",
       "      <td>26</td>\n",
       "      <td>45.0</td>\n",
       "      <td>France</td>\n",
       "      <td>Real Madrid</td>\n",
       "      <td>6</td>\n",
       "      <td>0</td>\n",
       "      <td>0</td>\n",
       "      <td>0</td>\n",
       "      <td>2</td>\n",
       "      <td>0</td>\n",
       "      <td>0</td>\n",
       "      <td>1</td>\n",
       "      <td>2</td>\n",
       "    </tr>\n",
       "  </tbody>\n",
       "</table>\n",
       "</div>"
      ],
      "text/plain": [
       "             Name   Position  Age  Markey Value In Millions(£) Country  \\\n",
       "86  Ferland Mendy  Left-Back   26                         45.0  France   \n",
       "\n",
       "           Club  Matches  Goals  Own Goals  Assists  Yellow Cards  \\\n",
       "86  Real Madrid        6      0          0        0             2   \n",
       "\n",
       "    Second Yellow Cards  Red Cards  Number Of Substitute In  \\\n",
       "86                    0          0                        1   \n",
       "\n",
       "    Number Of Substitute Out  \n",
       "86                         2  "
      ]
     },
     "execution_count": 32,
     "metadata": {},
     "output_type": "execute_result"
    }
   ],
   "source": [
    "data.sample()"
   ]
  },
  {
   "cell_type": "code",
   "execution_count": 34,
   "id": "09025aa4",
   "metadata": {},
   "outputs": [
    {
     "data": {
      "text/plain": [
       "23.0"
      ]
     },
     "execution_count": 34,
     "metadata": {},
     "output_type": "execute_result"
    }
   ],
   "source": [
    "q1 = data['Age'].quantile(0.25)\n",
    "q1"
   ]
  },
  {
   "cell_type": "code",
   "execution_count": 35,
   "id": "19dd868a",
   "metadata": {},
   "outputs": [
    {
     "data": {
      "text/plain": [
       "27.0"
      ]
     },
     "execution_count": 35,
     "metadata": {},
     "output_type": "execute_result"
    }
   ],
   "source": [
    "q3 = data['Age'].quantile(0.75)\n",
    "q3"
   ]
  },
  {
   "cell_type": "code",
   "execution_count": 36,
   "id": "ee25d50f",
   "metadata": {},
   "outputs": [
    {
     "data": {
      "text/plain": [
       "4.0"
      ]
     },
     "execution_count": 36,
     "metadata": {},
     "output_type": "execute_result"
    }
   ],
   "source": [
    "iqr = q3 - q1\n",
    "iqr"
   ]
  },
  {
   "cell_type": "code",
   "execution_count": 37,
   "id": "244deaea",
   "metadata": {},
   "outputs": [
    {
     "data": {
      "text/plain": [
       "17.0"
      ]
     },
     "execution_count": 37,
     "metadata": {},
     "output_type": "execute_result"
    }
   ],
   "source": [
    "l = q1 - 1.5 * iqr\n",
    "l"
   ]
  },
  {
   "cell_type": "code",
   "execution_count": 38,
   "id": "99f52559",
   "metadata": {},
   "outputs": [
    {
     "data": {
      "text/plain": [
       "33.0"
      ]
     },
     "execution_count": 38,
     "metadata": {},
     "output_type": "execute_result"
    }
   ],
   "source": [
    "u = q3 + 1.5 * iqr\n",
    "u"
   ]
  },
  {
   "cell_type": "code",
   "execution_count": 41,
   "id": "0e501f1a",
   "metadata": {},
   "outputs": [],
   "source": [
    "data=data[(data['Age'] >= l) & (data['Age'] <= u)]"
   ]
  },
  {
   "cell_type": "code",
   "execution_count": 42,
   "id": "2e73e40b",
   "metadata": {},
   "outputs": [
    {
     "data": {
      "text/plain": [
       "(497, 15)"
      ]
     },
     "execution_count": 42,
     "metadata": {},
     "output_type": "execute_result"
    }
   ],
   "source": [
    "data.shape"
   ]
  },
  {
   "cell_type": "markdown",
   "id": "d690e60f",
   "metadata": {},
   "source": [
    "# Data Analysis and Visualization"
   ]
  },
  {
   "cell_type": "code",
   "execution_count": 43,
   "id": "8d0005fb",
   "metadata": {},
   "outputs": [
    {
     "data": {
      "text/html": [
       "<div>\n",
       "<style scoped>\n",
       "    .dataframe tbody tr th:only-of-type {\n",
       "        vertical-align: middle;\n",
       "    }\n",
       "\n",
       "    .dataframe tbody tr th {\n",
       "        vertical-align: top;\n",
       "    }\n",
       "\n",
       "    .dataframe thead th {\n",
       "        text-align: right;\n",
       "    }\n",
       "</style>\n",
       "<table border=\"1\" class=\"dataframe\">\n",
       "  <thead>\n",
       "    <tr style=\"text-align: right;\">\n",
       "      <th></th>\n",
       "      <th>Name</th>\n",
       "      <th>Position</th>\n",
       "      <th>Age</th>\n",
       "      <th>Markey Value In Millions(£)</th>\n",
       "      <th>Country</th>\n",
       "      <th>Club</th>\n",
       "      <th>Matches</th>\n",
       "      <th>Goals</th>\n",
       "      <th>Own Goals</th>\n",
       "      <th>Assists</th>\n",
       "      <th>Yellow Cards</th>\n",
       "      <th>Second Yellow Cards</th>\n",
       "      <th>Red Cards</th>\n",
       "      <th>Number Of Substitute In</th>\n",
       "      <th>Number Of Substitute Out</th>\n",
       "    </tr>\n",
       "  </thead>\n",
       "  <tbody>\n",
       "    <tr>\n",
       "      <th>21</th>\n",
       "      <td>Mason Mount</td>\n",
       "      <td>Attacking Midfield</td>\n",
       "      <td>22</td>\n",
       "      <td>67.5</td>\n",
       "      <td>England</td>\n",
       "      <td>Chelsea FC</td>\n",
       "      <td>13</td>\n",
       "      <td>3</td>\n",
       "      <td>0</td>\n",
       "      <td>2</td>\n",
       "      <td>0</td>\n",
       "      <td>0</td>\n",
       "      <td>0</td>\n",
       "      <td>6</td>\n",
       "      <td>3</td>\n",
       "    </tr>\n",
       "    <tr>\n",
       "      <th>30</th>\n",
       "      <td>Rodri</td>\n",
       "      <td>Defensive Midfield</td>\n",
       "      <td>25</td>\n",
       "      <td>63.0</td>\n",
       "      <td>Spain</td>\n",
       "      <td>Manchester City</td>\n",
       "      <td>14</td>\n",
       "      <td>1</td>\n",
       "      <td>0</td>\n",
       "      <td>0</td>\n",
       "      <td>2</td>\n",
       "      <td>0</td>\n",
       "      <td>0</td>\n",
       "      <td>1</td>\n",
       "      <td>2</td>\n",
       "    </tr>\n",
       "    <tr>\n",
       "      <th>222</th>\n",
       "      <td>Wout Weghorst</td>\n",
       "      <td>Centre-Forward</td>\n",
       "      <td>29</td>\n",
       "      <td>27.0</td>\n",
       "      <td>Netherlands</td>\n",
       "      <td>VfL Wolfsburg</td>\n",
       "      <td>13</td>\n",
       "      <td>4</td>\n",
       "      <td>0</td>\n",
       "      <td>1</td>\n",
       "      <td>4</td>\n",
       "      <td>0</td>\n",
       "      <td>0</td>\n",
       "      <td>1</td>\n",
       "      <td>3</td>\n",
       "    </tr>\n",
       "  </tbody>\n",
       "</table>\n",
       "</div>"
      ],
      "text/plain": [
       "              Name            Position  Age  Markey Value In Millions(£)  \\\n",
       "21     Mason Mount  Attacking Midfield   22                         67.5   \n",
       "30           Rodri  Defensive Midfield   25                         63.0   \n",
       "222  Wout Weghorst      Centre-Forward   29                         27.0   \n",
       "\n",
       "         Country             Club  Matches  Goals  Own Goals  Assists  \\\n",
       "21       England       Chelsea FC       13      3          0        2   \n",
       "30         Spain  Manchester City       14      1          0        0   \n",
       "222  Netherlands    VfL Wolfsburg       13      4          0        1   \n",
       "\n",
       "     Yellow Cards  Second Yellow Cards  Red Cards  Number Of Substitute In  \\\n",
       "21              0                    0          0                        6   \n",
       "30              2                    0          0                        1   \n",
       "222             4                    0          0                        1   \n",
       "\n",
       "     Number Of Substitute Out  \n",
       "21                          3  \n",
       "30                          2  \n",
       "222                         3  "
      ]
     },
     "execution_count": 43,
     "metadata": {},
     "output_type": "execute_result"
    }
   ],
   "source": [
    "data.sample(3)"
   ]
  },
  {
   "cell_type": "code",
   "execution_count": 44,
   "id": "38451f28",
   "metadata": {},
   "outputs": [
    {
     "data": {
      "text/plain": [
       "Centre-Back           87\n",
       "Central Midfield      74\n",
       "Centre-Forward        68\n",
       "Right Winger          47\n",
       "Left Winger           46\n",
       "Attacking Midfield    41\n",
       "Defensive Midfield    41\n",
       "Right-Back            30\n",
       "Left-Back             23\n",
       "Goalkeeper            19\n",
       "Second Striker         8\n",
       "Left Midfield          8\n",
       "Right Midfield         5\n",
       "Name: Position, dtype: int64"
      ]
     },
     "execution_count": 44,
     "metadata": {},
     "output_type": "execute_result"
    }
   ],
   "source": [
    "data['Position'].value_counts()"
   ]
  },
  {
   "cell_type": "code",
   "execution_count": 55,
   "id": "e6f8d2dc",
   "metadata": {},
   "outputs": [
    {
     "data": {
      "text/plain": [
       "England           67\n",
       "France            58\n",
       "Spain             52\n",
       "Brazil            41\n",
       "Germany           28\n",
       "Italy             26\n",
       "Portugal          25\n",
       "Argentina         21\n",
       "Netherlands       17\n",
       "Belgium           14\n",
       "Uruguay           11\n",
       "Cote d'Ivoire      8\n",
       "Croatia            8\n",
       "Denmark            7\n",
       "Nigeria            7\n",
       "Colombia           7\n",
       "Austria            6\n",
       "Turkey             6\n",
       "Senegal            6\n",
       "Switzerland        6\n",
       "Serbia             5\n",
       "Scotland           5\n",
       "Poland             5\n",
       "United States      5\n",
       "Sweden             4\n",
       "Algeria            4\n",
       "Morocco            4\n",
       "Mexico             3\n",
       "Norway             3\n",
       "Ukraine            3\n",
       "Zambia             2\n",
       "Albania            2\n",
       "Mali               2\n",
       "Guinea             2\n",
       "Japan              2\n",
       "Canada             2\n",
       "Czech Republic     2\n",
       "Burkina Faso       2\n",
       "The Gambia         1\n",
       "Iran               1\n",
       "Israel             1\n",
       "Georgia            1\n",
       "Gabon              1\n",
       "Venezuela          1\n",
       "Wales              1\n",
       "Montenegro         1\n",
       "Jamaica            1\n",
       "Cameroon           1\n",
       "Hungary            1\n",
       "DR Congo           1\n",
       "Russia             1\n",
       "Ghana              1\n",
       "Egypt              1\n",
       "Slovakia           1\n",
       "Slovenia           1\n",
       "Korea, South       1\n",
       "Peru               1\n",
       "Name: Country, dtype: int64"
      ]
     },
     "execution_count": 55,
     "metadata": {},
     "output_type": "execute_result"
    }
   ],
   "source": [
    "data['Country'].value_counts()"
   ]
  },
  {
   "cell_type": "code",
   "execution_count": 56,
   "id": "339f474d",
   "metadata": {},
   "outputs": [
    {
     "data": {
      "text/plain": [
       "Manchester City                  18\n",
       "Manchester United                18\n",
       "Tottenham Hotspur                16\n",
       "Chelsea FC                       16\n",
       "Real Madrid                      16\n",
       "                                 ..\n",
       "Club Atlético Vélez Sarsfield     1\n",
       "KRC Genk                          1\n",
       "Watford FC                        1\n",
       "Stade Rennais FC                  1\n",
       "Celta de Vigo                     1\n",
       "Name: Club, Length: 81, dtype: int64"
      ]
     },
     "execution_count": 56,
     "metadata": {},
     "output_type": "execute_result"
    }
   ],
   "source": [
    "data['Club'].value_counts()"
   ]
  },
  {
   "cell_type": "code",
   "execution_count": 46,
   "id": "bffb6478",
   "metadata": {},
   "outputs": [
    {
     "data": {
      "text/plain": [
       "(array([114.,  47.,  41.,  74.,  41., 117.,   8.,  23.,  19.,  13.]),\n",
       " array([ 0. ,  1.2,  2.4,  3.6,  4.8,  6. ,  7.2,  8.4,  9.6, 10.8, 12. ]),\n",
       " <BarContainer object of 10 artists>)"
      ]
     },
     "execution_count": 46,
     "metadata": {},
     "output_type": "execute_result"
    },
    {
     "data": {
      "image/png": "[encoded data removed]",
      "text/plain": [
       "<Figure size 640x480 with 1 Axes>"
      ]
     },
     "metadata": {},
     "output_type": "display_data"
    }
   ],
   "source": [
    "plt.hist(data['Position'])"
   ]
  },
  {
   "cell_type": "code",
   "execution_count": 47,
   "id": "bbbb880a",
   "metadata": {},
   "outputs": [
    {
     "name": "stderr",
     "output_type": "stream",
     "text": [
      "H:\\install anaconda\\lib\\site-packages\\seaborn\\distributions.py:2619: FutureWarning: `distplot` is a deprecated function and will be removed in a future version. Please adapt your code to use either `displot` (a figure-level function with similar flexibility) or `histplot` (an axes-level function for histograms).\n",
      "  warnings.warn(msg, FutureWarning)\n"
     ]
    },
    {
     "data": {
      "text/plain": [
       "<AxesSubplot:xlabel='Age', ylabel='Density'>"
      ]
     },
     "execution_count": 47,
     "metadata": {},
     "output_type": "execute_result"
    },
    {
     "data": {
      "image/png": "[encoded data removed]",
      "text/plain": [
       "<Figure size 640x480 with 1 Axes>"
      ]
     },
     "metadata": {},
     "output_type": "display_data"
    }
   ],
   "source": [
    "sns.distplot(data['Age'])"
   ]
  },
  {
   "cell_type": "code",
   "execution_count": 49,
   "id": "6d9de694",
   "metadata": {},
   "outputs": [
    {
     "data": {
      "text/plain": [
       "<AxesSubplot:xlabel='Red Cards', ylabel='Count'>"
      ]
     },
     "execution_count": 49,
     "metadata": {},
     "output_type": "execute_result"
    },
    {
     "data": {
      "image/png": "[encoded data removed]",
      "text/plain": [
       "<Figure size 640x480 with 1 Axes>"
      ]
     },
     "metadata": {},
     "output_type": "display_data"
    }
   ],
   "source": [
    "sns.histplot(data['Red Cards'])"
   ]
  },
  {
   "cell_type": "code",
   "execution_count": 50,
   "id": "202d0d39",
   "metadata": {},
   "outputs": [
    {
     "name": "stderr",
     "output_type": "stream",
     "text": [
      "H:\\install anaconda\\lib\\site-packages\\seaborn\\_decorators.py:36: FutureWarning: Pass the following variable as a keyword arg: x. From version 0.12, the only valid positional argument will be `data`, and passing other arguments without an explicit keyword will result in an error or misinterpretation.\n",
      "  warnings.warn(\n"
     ]
    },
    {
     "data": {
      "text/plain": [
       "<AxesSubplot:xlabel='Goals'>"
      ]
     },
     "execution_count": 50,
     "metadata": {},
     "output_type": "execute_result"
    },
    {
     "data": {
      "image/png": "[encoded data removed]",
      "text/plain": [
       "<Figure size 640x480 with 1 Axes>"
      ]
     },
     "metadata": {},
     "output_type": "display_data"
    }
   ],
   "source": [
    "sns.boxplot(data['Goals'])"
   ]
  },
  {
   "cell_type": "code",
   "execution_count": 52,
   "id": "5ed9e234",
   "metadata": {},
   "outputs": [
    {
     "data": {
      "text/plain": [
       "<AxesSubplot:xlabel='Markey Value In Millions(£)', ylabel='Count'>"
      ]
     },
     "execution_count": 52,
     "metadata": {},
     "output_type": "execute_result"
    },
    {
     "data": {
      "image/png": "[encoded data removed]",
      "text/plain": [
       "<Figure size 640x480 with 1 Axes>"
      ]
     },
     "metadata": {},
     "output_type": "display_data"
    }
   ],
   "source": [
    "sns.histplot(data['Markey Value In Millions(£)'])"
   ]
  },
  {
   "cell_type": "code",
   "execution_count": 53,
   "id": "c53ffec5",
   "metadata": {},
   "outputs": [
    {
     "name": "stderr",
     "output_type": "stream",
     "text": [
      "H:\\install anaconda\\lib\\site-packages\\seaborn\\distributions.py:2619: FutureWarning: `distplot` is a deprecated function and will be removed in a future version. Please adapt your code to use either `displot` (a figure-level function with similar flexibility) or `histplot` (an axes-level function for histograms).\n",
      "  warnings.warn(msg, FutureWarning)\n"
     ]
    },
    {
     "data": {
      "text/plain": [
       "<AxesSubplot:xlabel='Number Of Substitute Out', ylabel='Density'>"
      ]
     },
     "execution_count": 53,
     "metadata": {},
     "output_type": "execute_result"
    },
    {
     "data": {
      "image/png": "[encoded data removed]",
      "text/plain": [
       "<Figure size 640x480 with 1 Axes>"
      ]
     },
     "metadata": {},
     "output_type": "display_data"
    }
   ],
   "source": [
    "sns.distplot(data['Number Of Substitute Out'])"
   ]
  },
  {
   "cell_type": "code",
   "execution_count": 57,
   "id": "7701dc56",
   "metadata": {},
   "outputs": [
    {
     "data": {
      "text/html": [
       "<div>\n",
       "<style scoped>\n",
       "    .dataframe tbody tr th:only-of-type {\n",
       "        vertical-align: middle;\n",
       "    }\n",
       "\n",
       "    .dataframe tbody tr th {\n",
       "        vertical-align: top;\n",
       "    }\n",
       "\n",
       "    .dataframe thead th {\n",
       "        text-align: right;\n",
       "    }\n",
       "</style>\n",
       "<table border=\"1\" class=\"dataframe\">\n",
       "  <thead>\n",
       "    <tr style=\"text-align: right;\">\n",
       "      <th></th>\n",
       "      <th>Name</th>\n",
       "      <th>Position</th>\n",
       "      <th>Age</th>\n",
       "      <th>Markey Value In Millions(£)</th>\n",
       "      <th>Country</th>\n",
       "      <th>Club</th>\n",
       "      <th>Matches</th>\n",
       "      <th>Goals</th>\n",
       "      <th>Own Goals</th>\n",
       "      <th>Assists</th>\n",
       "      <th>Yellow Cards</th>\n",
       "      <th>Second Yellow Cards</th>\n",
       "      <th>Red Cards</th>\n",
       "      <th>Number Of Substitute In</th>\n",
       "      <th>Number Of Substitute Out</th>\n",
       "    </tr>\n",
       "  </thead>\n",
       "  <tbody>\n",
       "    <tr>\n",
       "      <th>62</th>\n",
       "      <td>Koke</td>\n",
       "      <td>Central Midfield</td>\n",
       "      <td>29</td>\n",
       "      <td>54.0</td>\n",
       "      <td>Spain</td>\n",
       "      <td>Atlético de Madrid</td>\n",
       "      <td>13</td>\n",
       "      <td>0</td>\n",
       "      <td>0</td>\n",
       "      <td>1</td>\n",
       "      <td>3</td>\n",
       "      <td>0</td>\n",
       "      <td>0</td>\n",
       "      <td>0</td>\n",
       "      <td>4</td>\n",
       "    </tr>\n",
       "  </tbody>\n",
       "</table>\n",
       "</div>"
      ],
      "text/plain": [
       "    Name          Position  Age  Markey Value In Millions(£) Country  \\\n",
       "62  Koke  Central Midfield   29                         54.0   Spain   \n",
       "\n",
       "                  Club  Matches  Goals  Own Goals  Assists  Yellow Cards  \\\n",
       "62  Atlético de Madrid       13      0          0        1             3   \n",
       "\n",
       "    Second Yellow Cards  Red Cards  Number Of Substitute In  \\\n",
       "62                    0          0                        0   \n",
       "\n",
       "    Number Of Substitute Out  \n",
       "62                         4  "
      ]
     },
     "execution_count": 57,
     "metadata": {},
     "output_type": "execute_result"
    }
   ],
   "source": [
    "data.sample()"
   ]
  },
  {
   "cell_type": "code",
   "execution_count": 319,
   "id": "b1559a89",
   "metadata": {},
   "outputs": [
    {
     "data": {
      "application/vnd.plotly.v1+json": {
       "config": {
        "plotlyServerURL": "https://plot.ly"
       },
       "data": [
        {
         "alignmentgroup": "True",
         "hovertemplate": "Position=%{x}<br>Goals=%{y}<br>Age=%{marker.color}<extra></extra>",
         "legendgroup": "",
         "marker": {
          "color": [
           22,
           21,
           28,
           26,
           29,
           28,
           30,
           29,
           21,
           24,
           27,
           26,
           26,
           24,
           29,
           29,
           18,
           21,
           24,
           26,
           22,
           23,
           24,
           27,
           18,
           22,
           21,
           23,
           22,
           25,
           24,
           24,
           22,
           22,
           26,
           27,
           28,
           26,
           26,
           28,
           29,
           18,
           20,
           23,
           22,
           24,
           27,
           19,
           23,
           22,
           24,
           23,
           22,
           24,
           26,
           28,
           26,
           25,
           28,
           29,
           29,
           29,
           33,
           19,
           24,
           24,
           24,
           25,
           30,
           27,
           25,
           30,
           29,
           29,
           29,
           18,
           20,
           24,
           21,
           21,
           21,
           24,
           23,
           24,
           23,
           26,
           24,
           28,
           28,
           27,
           28,
           30,
           29,
           30,
           30,
           24,
           21,
           24,
           25,
           24,
           28,
           25,
           26,
           24,
           25,
           25,
           27,
           27,
           29,
           29,
           29,
           27,
           19,
           22,
           26,
           24,
           26,
           30,
           19,
           22,
           23,
           20,
           24,
           23,
           22,
           24,
           25,
           22,
           25,
           24,
           22,
           23,
           26,
           26,
           27,
           28,
           26,
           26,
           29,
           27,
           26,
           29,
           26,
           28,
           30,
           29,
           31,
           23,
           24,
           24,
           28,
           31,
           21,
           21,
           23,
           24,
           21,
           21,
           21,
           20,
           23,
           23,
           24,
           21,
           25,
           22,
           23,
           25,
           26,
           24,
           24,
           25,
           26,
           24,
           27,
           23,
           26,
           25,
           25,
           27,
           27,
           26,
           31,
           28,
           29,
           28,
           28,
           19,
           28,
           30,
           24,
           21,
           25,
           25,
           26,
           24,
           25,
           28,
           27,
           26,
           27,
           27,
           19,
           20,
           24,
           22,
           29,
           20,
           21,
           24,
           22,
           24,
           24,
           26,
           24,
           27,
           24,
           25,
           24,
           28,
           29,
           27,
           28,
           25,
           28,
           25,
           27,
           27,
           27,
           26,
           26,
           28,
           27,
           28,
           30,
           29,
           32,
           31,
           31,
           20,
           21,
           21,
           21,
           22,
           21,
           22,
           23,
           24,
           24,
           25,
           25,
           25,
           28,
           30,
           24,
           31,
           23,
           21,
           24,
           24,
           25,
           27,
           27,
           28,
           19,
           25,
           24,
           27,
           28,
           17,
           18,
           23,
           21,
           22,
           19,
           23,
           24,
           22,
           23,
           22,
           21,
           20,
           23,
           23,
           24,
           24,
           25,
           25,
           22,
           25,
           24,
           26,
           25,
           24,
           23,
           22,
           23,
           23,
           23,
           25,
           26,
           24,
           24,
           26,
           24,
           24,
           26,
           27,
           25,
           25,
           25,
           24,
           28,
           25,
           26,
           26,
           29,
           30,
           29,
           29,
           29,
           27,
           28,
           28,
           28,
           30,
           29,
           29,
           30,
           32,
           30,
           33,
           23,
           23,
           28,
           26,
           27,
           28,
           20,
           18,
           22,
           26,
           30,
           30,
           20,
           21,
           21,
           24,
           22,
           22,
           24,
           21,
           21,
           24,
           23,
           25,
           27,
           22,
           23,
           22,
           24,
           23,
           26,
           24,
           24,
           27,
           25,
           24,
           25,
           25,
           26,
           28,
           28,
           27,
           27,
           28,
           28,
           29,
           30,
           29,
           29,
           30,
           26,
           27,
           20,
           21,
           21,
           19,
           22,
           22,
           21,
           21,
           19,
           23,
           23,
           23,
           20,
           23,
           22,
           22,
           23,
           22,
           21,
           21,
           24,
           21,
           25,
           25,
           24,
           25,
           25,
           24,
           22,
           24,
           23,
           23,
           25,
           25,
           24,
           25,
           26,
           27,
           23,
           24,
           23,
           28,
           26,
           24,
           25,
           28,
           27,
           25,
           28,
           25,
           24,
           26,
           26,
           26,
           26,
           27,
           26,
           25,
           27,
           29,
           30,
           26,
           29,
           30,
           29,
           31,
           30,
           28,
           29,
           30,
           30,
           31,
           33,
           19,
           24,
           27,
           21,
           20,
           19,
           21,
           19,
           20,
           24,
           20,
           24,
           24,
           24,
           21,
           23,
           22,
           23,
           24,
           24,
           24,
           24,
           23,
           27,
           25,
           24,
           25,
           23,
           26,
           26,
           23,
           28,
           26,
           26,
           24,
           27,
           28,
           24,
           25,
           27
          ],
          "coloraxis": "coloraxis",
          "pattern": {
           "shape": ""
          }
         },
         "name": "",
         "offsetgroup": "",
         "orientation": "v",
         "showlegend": false,
         "textposition": "auto",
         "type": "bar",
         "x": [
          "Centre-Forward",
          "Centre-Forward",
          "Centre-Forward",
          "Left Winger",
          "Right Winger",
          "Centre-Forward",
          "Attacking Midfield",
          "Left Winger",
          "Left Winger",
          "Central Midfield",
          "Attacking Midfield",
          "Defensive Midfield",
          "Left Winger",
          "Left Winger",
          "Left Winger",
          "Left Winger",
          "Central Midfield",
          "Central Midfield",
          "Centre-Forward",
          "Central Midfield",
          "Attacking Midfield",
          "Right-Back",
          "Centre-Back",
          "Centre-Back",
          "Central Midfield",
          "Second Striker",
          "Left-Back",
          "Right-Back",
          "Defensive Midfield",
          "Defensive Midfield",
          "Left Winger",
          "Right Winger",
          "Centre-Back",
          "Attacking Midfield",
          "Central Midfield",
          "Attacking Midfield",
          "Centre-Back",
          "Right Winger",
          "Central Midfield",
          "Goalkeeper",
          "Defensive Midfield",
          "Attacking Midfield",
          "Left Midfield",
          "Central Midfield",
          "Goalkeeper",
          "Central Midfield",
          "Left-Back",
          "Left Winger",
          "Centre-Back",
          "Centre-Forward",
          "Centre-Forward",
          "Centre-Back",
          "Centre-Back",
          "Defensive Midfield",
          "Centre-Back",
          "Defensive Midfield",
          "Centre-Back",
          "Left Winger",
          "Central Midfield",
          "Goalkeeper",
          "Goalkeeper",
          "Central Midfield",
          "Centre-Forward",
          "Central Midfield",
          "Centre-Forward",
          "Central Midfield",
          "Central Midfield",
          "Right Winger",
          "Defensive Midfield",
          "Right-Back",
          "Centre-Forward",
          "Centre-Back",
          "Central Midfield",
          "Goalkeeper",
          "Centre-Back",
          "Attacking Midfield",
          "Right Winger",
          "Centre-Back",
          "Right Winger",
          "Left Winger",
          "Centre-Forward",
          "Left-Back",
          "Right Winger",
          "Attacking Midfield",
          "Attacking Midfield",
          "Left-Back",
          "Right Winger",
          "Goalkeeper",
          "Second Striker",
          "Attacking Midfield",
          "Centre-Back",
          "Second Striker",
          "Centre-Back",
          "Left Winger",
          "Centre-Back",
          "Attacking Midfield",
          "Right-Back",
          "Central Midfield",
          "Central Midfield",
          "Left Winger",
          "Centre-Back",
          "Centre-Back",
          "Right Winger",
          "Centre-Forward",
          "Central Midfield",
          "Centre-Back",
          "Centre-Back",
          "Centre-Forward",
          "Left Winger",
          "Centre-Forward",
          "Defensive Midfield",
          "Central Midfield",
          "Attacking Midfield",
          "Left Winger",
          "Defensive Midfield",
          "Defensive Midfield",
          "Left-Back",
          "Right Winger",
          "Left-Back",
          "Centre-Back",
          "Right-Back",
          "Centre-Back",
          "Centre-Forward",
          "Centre-Back",
          "Right Winger",
          "Central Midfield",
          "Defensive Midfield",
          "Centre-Forward",
          "Central Midfield",
          "Centre-Back",
          "Attacking Midfield",
          "Centre-Back",
          "Centre-Back",
          "Second Striker",
          "Central Midfield",
          "Defensive Midfield",
          "Attacking Midfield",
          "Centre-Forward",
          "Centre-Forward",
          "Left-Back",
          "Central Midfield",
          "Defensive Midfield",
          "Central Midfield",
          "Left Winger",
          "Centre-Forward",
          "Central Midfield",
          "Central Midfield",
          "Defensive Midfield",
          "Centre-Forward",
          "Left-Back",
          "Attacking Midfield",
          "Centre-Forward",
          "Centre-Forward",
          "Left Winger",
          "Defensive Midfield",
          "Attacking Midfield",
          "Right Winger",
          "Centre-Forward",
          "Defensive Midfield",
          "Right Winger",
          "Left Midfield",
          "Central Midfield",
          "Left Winger",
          "Centre-Forward",
          "Central Midfield",
          "Centre-Back",
          "Centre-Back",
          "Right-Back",
          "Right Winger",
          "Right Winger",
          "Defensive Midfield",
          "Right Winger",
          "Centre-Back",
          "Left-Back",
          "Left Midfield",
          "Defensive Midfield",
          "Left-Back",
          "Centre-Back",
          "Centre-Forward",
          "Right Winger",
          "Centre-Forward",
          "Centre-Back",
          "Centre-Forward",
          "Left-Back",
          "Goalkeeper",
          "Centre-Back",
          "Centre-Forward",
          "Central Midfield",
          "Central Midfield",
          "Centre-Forward",
          "Right Winger",
          "Right Winger",
          "Centre-Back",
          "Centre-Forward",
          "Central Midfield",
          "Left-Back",
          "Centre-Forward",
          "Left Winger",
          "Central Midfield",
          "Centre-Back",
          "Centre-Back",
          "Central Midfield",
          "Right Winger",
          "Left Winger",
          "Central Midfield",
          "Centre-Forward",
          "Goalkeeper",
          "Central Midfield",
          "Right-Back",
          "Central Midfield",
          "Centre-Forward",
          "Right Winger",
          "Attacking Midfield",
          "Centre-Back",
          "Left Winger",
          "Central Midfield",
          "Central Midfield",
          "Centre-Back",
          "Centre-Back",
          "Centre-Back",
          "Centre-Forward",
          "Second Striker",
          "Right-Back",
          "Attacking Midfield",
          "Attacking Midfield",
          "Right Winger",
          "Central Midfield",
          "Left Winger",
          "Centre-Back",
          "Central Midfield",
          "Defensive Midfield",
          "Right Winger",
          "Central Midfield",
          "Right Midfield",
          "Centre-Forward",
          "Centre-Forward",
          "Second Striker",
          "Central Midfield",
          "Central Midfield",
          "Centre-Back",
          "Centre-Back",
          "Defensive Midfield",
          "Attacking Midfield",
          "Centre-Back",
          "Centre-Back",
          "Defensive Midfield",
          "Centre-Back",
          "Left Winger",
          "Central Midfield",
          "Attacking Midfield",
          "Right-Back",
          "Centre-Forward",
          "Right-Back",
          "Centre-Forward",
          "Left-Back",
          "Right-Back",
          "Right Winger",
          "Defensive Midfield",
          "Defensive Midfield",
          "Central Midfield",
          "Right-Back",
          "Centre-Forward",
          "Centre-Back",
          "Left Winger",
          "Right Winger",
          "Centre-Forward",
          "Central Midfield",
          "Defensive Midfield",
          "Left-Back",
          "Central Midfield",
          "Central Midfield",
          "Right Midfield",
          "Right Winger",
          "Centre-Back",
          "Centre-Forward",
          "Centre-Back",
          "Left Midfield",
          "Centre-Back",
          "Left-Back",
          "Right-Back",
          "Left Winger",
          "Centre-Forward",
          "Centre-Back",
          "Right Winger",
          "Centre-Back",
          "Centre-Back",
          "Central Midfield",
          "Centre-Forward",
          "Left Winger",
          "Attacking Midfield",
          "Left Winger",
          "Defensive Midfield",
          "Centre-Back",
          "Right-Back",
          "Centre-Back",
          "Left Winger",
          "Central Midfield",
          "Right Midfield",
          "Right Winger",
          "Left Winger",
          "Left Winger",
          "Central Midfield",
          "Left-Back",
          "Centre-Back",
          "Right Winger",
          "Right-Back",
          "Right Winger",
          "Centre-Forward",
          "Centre-Back",
          "Left-Back",
          "Centre-Back",
          "Left Winger",
          "Attacking Midfield",
          "Centre-Back",
          "Goalkeeper",
          "Centre-Forward",
          "Centre-Back",
          "Centre-Back",
          "Central Midfield",
          "Centre-Back",
          "Right-Back",
          "Goalkeeper",
          "Centre-Back",
          "Central Midfield",
          "Centre-Back",
          "Centre-Back",
          "Right Winger",
          "Right Winger",
          "Central Midfield",
          "Centre-Forward",
          "Left Winger",
          "Centre-Forward",
          "Left Winger",
          "Central Midfield",
          "Right Winger",
          "Attacking Midfield",
          "Centre-Back",
          "Right-Back",
          "Centre-Back",
          "Attacking Midfield",
          "Attacking Midfield",
          "Central Midfield",
          "Defensive Midfield",
          "Second Striker",
          "Left Winger",
          "Left Winger",
          "Right-Back",
          "Right Winger",
          "Central Midfield",
          "Left Winger",
          "Right-Back",
          "Right Winger",
          "Centre-Back",
          "Centre-Forward",
          "Centre-Forward",
          "Central Midfield",
          "Defensive Midfield",
          "Central Midfield",
          "Left Midfield",
          "Attacking Midfield",
          "Right Winger",
          "Defensive Midfield",
          "Left-Back",
          "Left Winger",
          "Centre-Forward",
          "Centre-Forward",
          "Centre-Back",
          "Goalkeeper",
          "Left Winger",
          "Centre-Back",
          "Left-Back",
          "Central Midfield",
          "Centre-Forward",
          "Centre-Back",
          "Defensive Midfield",
          "Centre-Back",
          "Attacking Midfield",
          "Centre-Forward",
          "Central Midfield",
          "Centre-Forward",
          "Defensive Midfield",
          "Centre-Forward",
          "Defensive Midfield",
          "Centre-Forward",
          "Attacking Midfield",
          "Centre-Forward",
          "Attacking Midfield",
          "Defensive Midfield",
          "Right-Back",
          "Centre-Forward",
          "Goalkeeper",
          "Left Winger",
          "Centre-Forward",
          "Central Midfield",
          "Centre-Forward",
          "Attacking Midfield",
          "Centre-Back",
          "Goalkeeper",
          "Defensive Midfield",
          "Right Winger",
          "Right-Back",
          "Left Winger",
          "Centre-Back",
          "Attacking Midfield",
          "Attacking Midfield",
          "Right Winger",
          "Attacking Midfield",
          "Left-Back",
          "Centre-Back",
          "Centre-Back",
          "Centre-Forward",
          "Central Midfield",
          "Defensive Midfield",
          "Attacking Midfield",
          "Right-Back",
          "Attacking Midfield",
          "Central Midfield",
          "Right Midfield",
          "Central Midfield",
          "Centre-Forward",
          "Central Midfield",
          "Centre-Back",
          "Left Midfield",
          "Goalkeeper",
          "Centre-Forward",
          "Left-Back",
          "Centre-Back",
          "Right-Back",
          "Defensive Midfield",
          "Centre-Back",
          "Goalkeeper",
          "Centre-Forward",
          "Central Midfield",
          "Centre-Forward",
          "Left Winger",
          "Goalkeeper",
          "Central Midfield",
          "Centre-Back",
          "Defensive Midfield",
          "Centre-Forward",
          "Right-Back",
          "Attacking Midfield",
          "Defensive Midfield",
          "Left Midfield",
          "Right-Back",
          "Right Winger",
          "Right Winger",
          "Left Winger",
          "Right Winger",
          "Right-Back",
          "Attacking Midfield",
          "Left Winger",
          "Attacking Midfield",
          "Left-Back",
          "Attacking Midfield",
          "Central Midfield",
          "Right Winger",
          "Centre-Back",
          "Right-Back",
          "Central Midfield",
          "Centre-Back",
          "Left-Back",
          "Right Winger",
          "Right-Back",
          "Right Winger",
          "Left Winger",
          "Central Midfield",
          "Centre-Back",
          "Centre-Back",
          "Centre-Back",
          "Central Midfield",
          "Left Midfield",
          "Centre-Back",
          "Right Winger",
          "Central Midfield",
          "Right Winger",
          "Right-Back",
          "Right-Back",
          "Centre-Forward",
          "Defensive Midfield",
          "Right Midfield",
          "Left Winger",
          "Left Winger",
          "Defensive Midfield",
          "Central Midfield",
          "Defensive Midfield",
          "Goalkeeper",
          "Goalkeeper",
          "Defensive Midfield",
          "Right Winger",
          "Centre-Back",
          "Centre-Forward",
          "Attacking Midfield",
          "Second Striker",
          "Goalkeeper",
          "Centre-Back",
          "Centre-Back"
         ],
         "xaxis": "x",
         "y": [
          7,
          13,
          7,
          2,
          15,
          4,
          3,
          3,
          0,
          0,
          5,
          3,
          2,
          3,
          8,
          5,
          0,
          5,
          5,
          0,
          3,
          1,
          0,
          1,
          3,
          1,
          0,
          3,
          3,
          1,
          6,
          3,
          1,
          4,
          4,
          3,
          0,
          8,
          2,
          0,
          0,
          7,
          2,
          0,
          0,
          1,
          0,
          4,
          0,
          9,
          4,
          0,
          0,
          0,
          0,
          1,
          3,
          8,
          0,
          0,
          0,
          0,
          23,
          2,
          2,
          2,
          3,
          2,
          1,
          2,
          2,
          0,
          0,
          0,
          1,
          4,
          4,
          1,
          3,
          9,
          12,
          1,
          1,
          1,
          0,
          0,
          0,
          0,
          6,
          3,
          1,
          5,
          1,
          5,
          2,
          11,
          4,
          2,
          3,
          5,
          3,
          1,
          3,
          3,
          8,
          0,
          1,
          6,
          4,
          4,
          3,
          1,
          2,
          6,
          2,
          1,
          0,
          8,
          0,
          0,
          0,
          0,
          3,
          0,
          1,
          5,
          1,
          5,
          3,
          0,
          1,
          0,
          0,
          3,
          0,
          1,
          2,
          5,
          3,
          3,
          2,
          1,
          0,
          2,
          6,
          2,
          2,
          1,
          5,
          3,
          2,
          11,
          9,
          0,
          0,
          6,
          1,
          8,
          2,
          2,
          3,
          5,
          1,
          2,
          0,
          0,
          0,
          0,
          1,
          1,
          0,
          3,
          0,
          0,
          2,
          2,
          2,
          1,
          1,
          5,
          2,
          0,
          8,
          1,
          0,
          1,
          3,
          1,
          4,
          8,
          5,
          1,
          0,
          2,
          3,
          0,
          3,
          2,
          2,
          1,
          1,
          0,
          5,
          0,
          0,
          3,
          0,
          1,
          0,
          0,
          1,
          3,
          0,
          0,
          2,
          0,
          0,
          1,
          0,
          0,
          4,
          4,
          0,
          2,
          2,
          0,
          2,
          2,
          0,
          0,
          1,
          2,
          2,
          0,
          1,
          4,
          6,
          2,
          1,
          0,
          0,
          1,
          6,
          0,
          2,
          0,
          1,
          0,
          1,
          3,
          0,
          8,
          0,
          2,
          0,
          1,
          4,
          2,
          2,
          0,
          0,
          14,
          0,
          4,
          0,
          0,
          1,
          1,
          0,
          0,
          0,
          0,
          4,
          3,
          3,
          0,
          11,
          1,
          0,
          0,
          6,
          5,
          1,
          9,
          2,
          0,
          0,
          1,
          5,
          2,
          7,
          0,
          0,
          2,
          0,
          4,
          2,
          4,
          2,
          0,
          6,
          0,
          0,
          2,
          9,
          2,
          2,
          3,
          0,
          0,
          0,
          3,
          2,
          0,
          0,
          9,
          1,
          2,
          1,
          0,
          1,
          0,
          1,
          2,
          1,
          0,
          2,
          3,
          0,
          7,
          0,
          14,
          3,
          3,
          8,
          1,
          0,
          1,
          0,
          6,
          4,
          3,
          1,
          4,
          1,
          0,
          0,
          3,
          3,
          7,
          1,
          1,
          0,
          0,
          5,
          1,
          0,
          0,
          1,
          3,
          3,
          1,
          2,
          0,
          3,
          12,
          0,
          0,
          2,
          0,
          2,
          1,
          1,
          0,
          0,
          0,
          2,
          3,
          0,
          4,
          0,
          3,
          2,
          4,
          4,
          15,
          8,
          0,
          2,
          8,
          0,
          0,
          15,
          2,
          4,
          0,
          0,
          0,
          0,
          1,
          0,
          3,
          1,
          1,
          1,
          7,
          4,
          0,
          0,
          0,
          2,
          1,
          0,
          1,
          0,
          0,
          0,
          0,
          0,
          3,
          0,
          0,
          0,
          0,
          2,
          1,
          0,
          0,
          0,
          1,
          0,
          4,
          0,
          4,
          0,
          0,
          2,
          0,
          2,
          2,
          0,
          2,
          0,
          2,
          0,
          0,
          4,
          4,
          0,
          0,
          1,
          2,
          1,
          1,
          1,
          2,
          2,
          0,
          0,
          1,
          0,
          0,
          2,
          0,
          6,
          1,
          4,
          0,
          0,
          0,
          4,
          0,
          1,
          0,
          0,
          5,
          1,
          4,
          7,
          1,
          1,
          3,
          0,
          0,
          1,
          0,
          0,
          0,
          0,
          3,
          0,
          2,
          0,
          1,
          0,
          0,
          3
         ],
         "yaxis": "y"
        }
       ],
       "layout": {
        "barmode": "relative",
        "coloraxis": {
         "colorbar": {
          "title": {
           "text": "Age"
          }
         },
         "colorscale": [
          [
           0,
           "#0d0887"
          ],
          [
           0.1111111111111111,
           "#46039f"
          ],
          [
           0.2222222222222222,
           "#7201a8"
          ],
          [
           0.3333333333333333,
           "#9c179e"
          ],
          [
           0.4444444444444444,
           "#bd3786"
          ],
          [
           0.5555555555555556,
           "#d8576b"
          ],
          [
           0.6666666666666666,
           "#ed7953"
          ],
          [
           0.7777777777777778,
           "#fb9f3a"
          ],
          [
           0.8888888888888888,
           "#fdca26"
          ],
          [
           1,
           "#f0f921"
          ]
         ]
        },
        "height": 400,
        "legend": {
         "tracegroupgap": 0
        },
        "margin": {
         "t": 60
        },
        "template": {
         "data": {
          "bar": [
           {
            "error_x": {
             "color": "#2a3f5f"
            },
            "error_y": {
             "color": "#2a3f5f"
            },
            "marker": {
             "line": {
              "color": "#E5ECF6",
              "width": 0.5
             },
             "pattern": {
              "fillmode": "overlay",
              "size": 10,
              "solidity": 0.2
             }
            },
            "type": "bar"
           }
          ],
          "barpolar": [
           {
            "marker": {
             "line": {
              "color": "#E5ECF6",
              "width": 0.5
             },
             "pattern": {
              "fillmode": "overlay",
              "size": 10,
              "solidity": 0.2
             }
            },
            "type": "barpolar"
           }
          ],
          "carpet": [
           {
            "aaxis": {
             "endlinecolor": "#2a3f5f",
             "gridcolor": "white",
             "linecolor": "white",
             "minorgridcolor": "white",
             "startlinecolor": "#2a3f5f"
            },
            "baxis": {
             "endlinecolor": "#2a3f5f",
             "gridcolor": "white",
             "linecolor": "white",
             "minorgridcolor": "white",
             "startlinecolor": "#2a3f5f"
            },
            "type": "carpet"
           }
          ],
          "choropleth": [
           {
            "colorbar": {
             "outlinewidth": 0,
             "ticks": ""
            },
            "type": "choropleth"
           }
          ],
          "contour": [
           {
            "colorbar": {
             "outlinewidth": 0,
             "ticks": ""
            },
            "colorscale": [
             [
              0,
              "#0d0887"
             ],
             [
              0.1111111111111111,
              "#46039f"
             ],
             [
              0.2222222222222222,
              "#7201a8"
             ],
             [
              0.3333333333333333,
              "#9c179e"
             ],
             [
              0.4444444444444444,
              "#bd3786"
             ],
             [
              0.5555555555555556,
              "#d8576b"
             ],
             [
              0.6666666666666666,
              "#ed7953"
             ],
             [
              0.7777777777777778,
              "#fb9f3a"
             ],
             [
              0.8888888888888888,
              "#fdca26"
             ],
             [
              1,
              "#f0f921"
             ]
            ],
            "type": "contour"
           }
          ],
          "contourcarpet": [
           {
            "colorbar": {
             "outlinewidth": 0,
             "ticks": ""
            },
            "type": "contourcarpet"
           }
          ],
          "heatmap": [
           {
            "colorbar": {
             "outlinewidth": 0,
             "ticks": ""
            },
            "colorscale": [
             [
              0,
              "#0d0887"
             ],
             [
              0.1111111111111111,
              "#46039f"
             ],
             [
              0.2222222222222222,
              "#7201a8"
             ],
             [
              0.3333333333333333,
              "#9c179e"
             ],
             [
              0.4444444444444444,
              "#bd3786"
             ],
             [
              0.5555555555555556,
              "#d8576b"
             ],
             [
              0.6666666666666666,
              "#ed7953"
             ],
             [
              0.7777777777777778,
              "#fb9f3a"
             ],
             [
              0.8888888888888888,
              "#fdca26"
             ],
             [
              1,
              "#f0f921"
             ]
            ],
            "type": "heatmap"
           }
          ],
          "heatmapgl": [
           {
            "colorbar": {
             "outlinewidth": 0,
             "ticks": ""
            },
            "colorscale": [
             [
              0,
              "#0d0887"
             ],
             [
              0.1111111111111111,
              "#46039f"
             ],
             [
              0.2222222222222222,
              "#7201a8"
             ],
             [
              0.3333333333333333,
              "#9c179e"
             ],
             [
              0.4444444444444444,
              "#bd3786"
             ],
             [
              0.5555555555555556,
              "#d8576b"
             ],
             [
              0.6666666666666666,
              "#ed7953"
             ],
             [
              0.7777777777777778,
              "#fb9f3a"
             ],
             [
              0.8888888888888888,
              "#fdca26"
             ],
             [
              1,
              "#f0f921"
             ]
            ],
            "type": "heatmapgl"
           }
          ],
          "histogram": [
           {
            "marker": {
             "pattern": {
              "fillmode": "overlay",
              "size": 10,
              "solidity": 0.2
             }
            },
            "type": "histogram"
           }
          ],
          "histogram2d": [
           {
            "colorbar": {
             "outlinewidth": 0,
             "ticks": ""
            },
            "colorscale": [
             [
              0,
              "#0d0887"
             ],
             [
              0.1111111111111111,
              "#46039f"
             ],
             [
              0.2222222222222222,
              "#7201a8"
             ],
             [
              0.3333333333333333,
              "#9c179e"
             ],
             [
              0.4444444444444444,
              "#bd3786"
             ],
             [
              0.5555555555555556,
              "#d8576b"
             ],
             [
              0.6666666666666666,
              "#ed7953"
             ],
             [
              0.7777777777777778,
              "#fb9f3a"
             ],
             [
              0.8888888888888888,
              "#fdca26"
             ],
             [
              1,
              "#f0f921"
             ]
            ],
            "type": "histogram2d"
           }
          ],
          "histogram2dcontour": [
           {
            "colorbar": {
             "outlinewidth": 0,
             "ticks": ""
            },
            "colorscale": [
             [
              0,
              "#0d0887"
             ],
             [
              0.1111111111111111,
              "#46039f"
             ],
             [
              0.2222222222222222,
              "#7201a8"
             ],
             [
              0.3333333333333333,
              "#9c179e"
             ],
             [
              0.4444444444444444,
              "#bd3786"
             ],
             [
              0.5555555555555556,
              "#d8576b"
             ],
             [
              0.6666666666666666,
              "#ed7953"
             ],
             [
              0.7777777777777778,
              "#fb9f3a"
             ],
             [
              0.8888888888888888,
              "#fdca26"
             ],
             [
              1,
              "#f0f921"
             ]
            ],
            "type": "histogram2dcontour"
           }
          ],
          "mesh3d": [
           {
            "colorbar": {
             "outlinewidth": 0,
             "ticks": ""
            },
            "type": "mesh3d"
           }
          ],
          "parcoords": [
           {
            "line": {
             "colorbar": {
              "outlinewidth": 0,
              "ticks": ""
             }
            },
            "type": "parcoords"
           }
          ],
          "pie": [
           {
            "automargin": true,
            "type": "pie"
           }
          ],
          "scatter": [
           {
            "fillpattern": {
             "fillmode": "overlay",
             "size": 10,
             "solidity": 0.2
            },
            "type": "scatter"
           }
          ],
          "scatter3d": [
           {
            "line": {
             "colorbar": {
              "outlinewidth": 0,
              "ticks": ""
             }
            },
            "marker": {
             "colorbar": {
              "outlinewidth": 0,
              "ticks": ""
             }
            },
            "type": "scatter3d"
           }
          ],
          "scattercarpet": [
           {
            "marker": {
             "colorbar": {
              "outlinewidth": 0,
              "ticks": ""
             }
            },
            "type": "scattercarpet"
           }
          ],
          "scattergeo": [
           {
            "marker": {
             "colorbar": {
              "outlinewidth": 0,
              "ticks": ""
             }
            },
            "type": "scattergeo"
           }
          ],
          "scattergl": [
           {
            "marker": {
             "colorbar": {
              "outlinewidth": 0,
              "ticks": ""
             }
            },
            "type": "scattergl"
           }
          ],
          "scattermapbox": [
           {
            "marker": {
             "colorbar": {
              "outlinewidth": 0,
              "ticks": ""
             }
            },
            "type": "scattermapbox"
           }
          ],
          "scatterpolar": [
           {
            "marker": {
             "colorbar": {
              "outlinewidth": 0,
              "ticks": ""
             }
            },
            "type": "scatterpolar"
           }
          ],
          "scatterpolargl": [
           {
            "marker": {
             "colorbar": {
              "outlinewidth": 0,
              "ticks": ""
             }
            },
            "type": "scatterpolargl"
           }
          ],
          "scatterternary": [
           {
            "marker": {
             "colorbar": {
              "outlinewidth": 0,
              "ticks": ""
             }
            },
            "type": "scatterternary"
           }
          ],
          "surface": [
           {
            "colorbar": {
             "outlinewidth": 0,
             "ticks": ""
            },
            "colorscale": [
             [
              0,
              "#0d0887"
             ],
             [
              0.1111111111111111,
              "#46039f"
             ],
             [
              0.2222222222222222,
              "#7201a8"
             ],
             [
              0.3333333333333333,
              "#9c179e"
             ],
             [
              0.4444444444444444,
              "#bd3786"
             ],
             [
              0.5555555555555556,
              "#d8576b"
             ],
             [
              0.6666666666666666,
              "#ed7953"
             ],
             [
              0.7777777777777778,
              "#fb9f3a"
             ],
             [
              0.8888888888888888,
              "#fdca26"
             ],
             [
              1,
              "#f0f921"
             ]
            ],
            "type": "surface"
           }
          ],
          "table": [
           {
            "cells": {
             "fill": {
              "color": "#EBF0F8"
             },
             "line": {
              "color": "white"
             }
            },
            "header": {
             "fill": {
              "color": "#C8D4E3"
             },
             "line": {
              "color": "white"
             }
            },
            "type": "table"
           }
          ]
         },
         "layout": {
          "annotationdefaults": {
           "arrowcolor": "#2a3f5f",
           "arrowhead": 0,
           "arrowwidth": 1
          },
          "autotypenumbers": "strict",
          "coloraxis": {
           "colorbar": {
            "outlinewidth": 0,
            "ticks": ""
           }
          },
          "colorscale": {
           "diverging": [
            [
             0,
             "#8e0152"
            ],
            [
             0.1,
             "#c51b7d"
            ],
            [
             0.2,
             "#de77ae"
            ],
            [
             0.3,
             "#f1b6da"
            ],
            [
             0.4,
             "#fde0ef"
            ],
            [
             0.5,
             "#f7f7f7"
            ],
            [
             0.6,
             "#e6f5d0"
            ],
            [
             0.7,
             "#b8e186"
            ],
            [
             0.8,
             "#7fbc41"
            ],
            [
             0.9,
             "#4d9221"
            ],
            [
             1,
             "#276419"
            ]
           ],
           "sequential": [
            [
             0,
             "#0d0887"
            ],
            [
             0.1111111111111111,
             "#46039f"
            ],
            [
             0.2222222222222222,
             "#7201a8"
            ],
            [
             0.3333333333333333,
             "#9c179e"
            ],
            [
             0.4444444444444444,
             "#bd3786"
            ],
            [
             0.5555555555555556,
             "#d8576b"
            ],
            [
             0.6666666666666666,
             "#ed7953"
            ],
            [
             0.7777777777777778,
             "#fb9f3a"
            ],
            [
             0.8888888888888888,
             "#fdca26"
            ],
            [
             1,
             "#f0f921"
            ]
           ],
           "sequentialminus": [
            [
             0,
             "#0d0887"
            ],
            [
             0.1111111111111111,
             "#46039f"
            ],
            [
             0.2222222222222222,
             "#7201a8"
            ],
            [
             0.3333333333333333,
             "#9c179e"
            ],
            [
             0.4444444444444444,
             "#bd3786"
            ],
            [
             0.5555555555555556,
             "#d8576b"
            ],
            [
             0.6666666666666666,
             "#ed7953"
            ],
            [
             0.7777777777777778,
             "#fb9f3a"
            ],
            [
             0.8888888888888888,
             "#fdca26"
            ],
            [
             1,
             "#f0f921"
            ]
           ]
          },
          "colorway": [
           "#636efa",
           "#EF553B",
           "#00cc96",
           "#ab63fa",
           "#FFA15A",
           "#19d3f3",
           "#FF6692",
           "#B6E880",
           "#FF97FF",
           "#FECB52"
          ],
          "font": {
           "color": "#2a3f5f"
          },
          "geo": {
           "bgcolor": "white",
           "lakecolor": "white",
           "landcolor": "#E5ECF6",
           "showlakes": true,
           "showland": true,
           "subunitcolor": "white"
          },
          "hoverlabel": {
           "align": "left"
          },
          "hovermode": "closest",
          "mapbox": {
           "style": "light"
          },
          "paper_bgcolor": "white",
          "plot_bgcolor": "#E5ECF6",
          "polar": {
           "angularaxis": {
            "gridcolor": "white",
            "linecolor": "white",
            "ticks": ""
           },
           "bgcolor": "#E5ECF6",
           "radialaxis": {
            "gridcolor": "white",
            "linecolor": "white",
            "ticks": ""
           }
          },
          "scene": {
           "xaxis": {
            "backgroundcolor": "#E5ECF6",
            "gridcolor": "white",
            "gridwidth": 2,
            "linecolor": "white",
            "showbackground": true,
            "ticks": "",
            "zerolinecolor": "white"
           },
           "yaxis": {
            "backgroundcolor": "#E5ECF6",
            "gridcolor": "white",
            "gridwidth": 2,
            "linecolor": "white",
            "showbackground": true,
            "ticks": "",
            "zerolinecolor": "white"
           },
           "zaxis": {
            "backgroundcolor": "#E5ECF6",
            "gridcolor": "white",
            "gridwidth": 2,
            "linecolor": "white",
            "showbackground": true,
            "ticks": "",
            "zerolinecolor": "white"
           }
          },
          "shapedefaults": {
           "line": {
            "color": "#2a3f5f"
           }
          },
          "ternary": {
           "aaxis": {
            "gridcolor": "white",
            "linecolor": "white",
            "ticks": ""
           },
           "baxis": {
            "gridcolor": "white",
            "linecolor": "white",
            "ticks": ""
           },
           "bgcolor": "#E5ECF6",
           "caxis": {
            "gridcolor": "white",
            "linecolor": "white",
            "ticks": ""
           }
          },
          "title": {
           "x": 0.05
          },
          "xaxis": {
           "automargin": true,
           "gridcolor": "white",
           "linecolor": "white",
           "ticks": "",
           "title": {
            "standoff": 15
           },
           "zerolinecolor": "white",
           "zerolinewidth": 2
          },
          "yaxis": {
           "automargin": true,
           "gridcolor": "white",
           "linecolor": "white",
           "ticks": "",
           "title": {
            "standoff": 15
           },
           "zerolinecolor": "white",
           "zerolinewidth": 2
          }
         }
        },
        "width": 500,
        "xaxis": {
         "anchor": "y",
         "domain": [
          0,
          1
         ],
         "title": {
          "text": "Position"
         }
        },
        "yaxis": {
         "anchor": "x",
         "domain": [
          0,
          1
         ],
         "title": {
          "text": "Goals"
         }
        }
       }
      },
      "text/html": [
       "<div>                            <div id=\"c563286e-61e2-40ff-90ff-9da4c8186015\" class=\"plotly-graph-div\" style=\"height:400px; width:500px;\"></div>            <script type=\"text/javascript\">                require([\"plotly\"], function(Plotly) {                    window.PLOTLYENV=window.PLOTLYENV || {};                                    if (document.getElementById(\"c563286e-61e2-40ff-90ff-9da4c8186015\")) {                    Plotly.newPlot(                        \"c563286e-61e2-40ff-90ff-9da4c8186015\",                        [{\"alignmentgroup\":\"True\",\"hovertemplate\":\"Position=%{x}<br>Goals=%{y}<br>Age=%{marker.color}<extra></extra>\",\"legendgroup\":\"\",\"marker\":{\"color\":[22,21,28,26,29,28,30,29,21,24,27,26,26,24,29,29,18,21,24,26,22,23,24,27,18,22,21,23,22,25,24,24,22,22,26,27,28,26,26,28,29,18,20,23,22,24,27,19,23,22,24,23,22,24,26,28,26,25,28,29,29,29,33,19,24,24,24,25,30,27,25,30,29,29,29,18,20,24,21,21,21,24,23,24,23,26,24,28,28,27,28,30,29,30,30,24,21,24,25,24,28,25,26,24,25,25,27,27,29,29,29,27,19,22,26,24,26,30,19,22,23,20,24,23,22,24,25,22,25,24,22,23,26,26,27,28,26,26,29,27,26,29,26,28,30,29,31,23,24,24,28,31,21,21,23,24,21,21,21,20,23,23,24,21,25,22,23,25,26,24,24,25,26,24,27,23,26,25,25,27,27,26,31,28,29,28,28,19,28,30,24,21,25,25,26,24,25,28,27,26,27,27,19,20,24,22,29,20,21,24,22,24,24,26,24,27,24,25,24,28,29,27,28,25,28,25,27,27,27,26,26,28,27,28,30,29,32,31,31,20,21,21,21,22,21,22,23,24,24,25,25,25,28,30,24,31,23,21,24,24,25,27,27,28,19,25,24,27,28,17,18,23,21,22,19,23,24,22,23,22,21,20,23,23,24,24,25,25,22,25,24,26,25,24,23,22,23,23,23,25,26,24,24,26,24,24,26,27,25,25,25,24,28,25,26,26,29,30,29,29,29,27,28,28,28,30,29,29,30,32,30,33,23,23,28,26,27,28,20,18,22,26,30,30,20,21,21,24,22,22,24,21,21,24,23,25,27,22,23,22,24,23,26,24,24,27,25,24,25,25,26,28,28,27,27,28,28,29,30,29,29,30,26,27,20,21,21,19,22,22,21,21,19,23,23,23,20,23,22,22,23,22,21,21,24,21,25,25,24,25,25,24,22,24,23,23,25,25,24,25,26,27,23,24,23,28,26,24,25,28,27,25,28,25,24,26,26,26,26,27,26,25,27,29,30,26,29,30,29,31,30,28,29,30,30,31,33,19,24,27,21,20,19,21,19,20,24,20,24,24,24,21,23,22,23,24,24,24,24,23,27,25,24,25,23,26,26,23,28,26,26,24,27,28,24,25,27],\"coloraxis\":\"coloraxis\",\"pattern\":{\"shape\":\"\"}},\"name\":\"\",\"offsetgroup\":\"\",\"orientation\":\"v\",\"showlegend\":false,\"textposition\":\"auto\",\"x\":[\"Centre-Forward\",\"Centre-Forward\",\"Centre-Forward\",\"Left Winger\",\"Right Winger\",\"Centre-Forward\",\"Attacking Midfield\",\"Left Winger\",\"Left Winger\",\"Central Midfield\",\"Attacking Midfield\",\"Defensive Midfield\",\"Left Winger\",\"Left Winger\",\"Left Winger\",\"Left Winger\",\"Central Midfield\",\"Central Midfield\",\"Centre-Forward\",\"Central Midfield\",\"Attacking Midfield\",\"Right-Back\",\"Centre-Back\",\"Centre-Back\",\"Central Midfield\",\"Second Striker\",\"Left-Back\",\"Right-Back\",\"Defensive Midfield\",\"Defensive Midfield\",\"Left Winger\",\"Right Winger\",\"Centre-Back\",\"Attacking Midfield\",\"Central Midfield\",\"Attacking Midfield\",\"Centre-Back\",\"Right Winger\",\"Central Midfield\",\"Goalkeeper\",\"Defensive Midfield\",\"Attacking Midfield\",\"Left Midfield\",\"Central Midfield\",\"Goalkeeper\",\"Central Midfield\",\"Left-Back\",\"Left Winger\",\"Centre-Back\",\"Centre-Forward\",\"Centre-Forward\",\"Centre-Back\",\"Centre-Back\",\"Defensive Midfield\",\"Centre-Back\",\"Defensive Midfield\",\"Centre-Back\",\"Left Winger\",\"Central Midfield\",\"Goalkeeper\",\"Goalkeeper\",\"Central Midfield\",\"Centre-Forward\",\"Central Midfield\",\"Centre-Forward\",\"Central Midfield\",\"Central Midfield\",\"Right Winger\",\"Defensive Midfield\",\"Right-Back\",\"Centre-Forward\",\"Centre-Back\",\"Central Midfield\",\"Goalkeeper\",\"Centre-Back\",\"Attacking Midfield\",\"Right Winger\",\"Centre-Back\",\"Right Winger\",\"Left Winger\",\"Centre-Forward\",\"Left-Back\",\"Right Winger\",\"Attacking Midfield\",\"Attacking Midfield\",\"Left-Back\",\"Right Winger\",\"Goalkeeper\",\"Second Striker\",\"Attacking Midfield\",\"Centre-Back\",\"Second Striker\",\"Centre-Back\",\"Left Winger\",\"Centre-Back\",\"Attacking Midfield\",\"Right-Back\",\"Central Midfield\",\"Central Midfield\",\"Left Winger\",\"Centre-Back\",\"Centre-Back\",\"Right Winger\",\"Centre-Forward\",\"Central Midfield\",\"Centre-Back\",\"Centre-Back\",\"Centre-Forward\",\"Left Winger\",\"Centre-Forward\",\"Defensive Midfield\",\"Central Midfield\",\"Attacking Midfield\",\"Left Winger\",\"Defensive Midfield\",\"Defensive Midfield\",\"Left-Back\",\"Right Winger\",\"Left-Back\",\"Centre-Back\",\"Right-Back\",\"Centre-Back\",\"Centre-Forward\",\"Centre-Back\",\"Right Winger\",\"Central Midfield\",\"Defensive Midfield\",\"Centre-Forward\",\"Central Midfield\",\"Centre-Back\",\"Attacking Midfield\",\"Centre-Back\",\"Centre-Back\",\"Second Striker\",\"Central Midfield\",\"Defensive Midfield\",\"Attacking Midfield\",\"Centre-Forward\",\"Centre-Forward\",\"Left-Back\",\"Central Midfield\",\"Defensive Midfield\",\"Central Midfield\",\"Left Winger\",\"Centre-Forward\",\"Central Midfield\",\"Central Midfield\",\"Defensive Midfield\",\"Centre-Forward\",\"Left-Back\",\"Attacking Midfield\",\"Centre-Forward\",\"Centre-Forward\",\"Left Winger\",\"Defensive Midfield\",\"Attacking Midfield\",\"Right Winger\",\"Centre-Forward\",\"Defensive Midfield\",\"Right Winger\",\"Left Midfield\",\"Central Midfield\",\"Left Winger\",\"Centre-Forward\",\"Central Midfield\",\"Centre-Back\",\"Centre-Back\",\"Right-Back\",\"Right Winger\",\"Right Winger\",\"Defensive Midfield\",\"Right Winger\",\"Centre-Back\",\"Left-Back\",\"Left Midfield\",\"Defensive Midfield\",\"Left-Back\",\"Centre-Back\",\"Centre-Forward\",\"Right Winger\",\"Centre-Forward\",\"Centre-Back\",\"Centre-Forward\",\"Left-Back\",\"Goalkeeper\",\"Centre-Back\",\"Centre-Forward\",\"Central Midfield\",\"Central Midfield\",\"Centre-Forward\",\"Right Winger\",\"Right Winger\",\"Centre-Back\",\"Centre-Forward\",\"Central Midfield\",\"Left-Back\",\"Centre-Forward\",\"Left Winger\",\"Central Midfield\",\"Centre-Back\",\"Centre-Back\",\"Central Midfield\",\"Right Winger\",\"Left Winger\",\"Central Midfield\",\"Centre-Forward\",\"Goalkeeper\",\"Central Midfield\",\"Right-Back\",\"Central Midfield\",\"Centre-Forward\",\"Right Winger\",\"Attacking Midfield\",\"Centre-Back\",\"Left Winger\",\"Central Midfield\",\"Central Midfield\",\"Centre-Back\",\"Centre-Back\",\"Centre-Back\",\"Centre-Forward\",\"Second Striker\",\"Right-Back\",\"Attacking Midfield\",\"Attacking Midfield\",\"Right Winger\",\"Central Midfield\",\"Left Winger\",\"Centre-Back\",\"Central Midfield\",\"Defensive Midfield\",\"Right Winger\",\"Central Midfield\",\"Right Midfield\",\"Centre-Forward\",\"Centre-Forward\",\"Second Striker\",\"Central Midfield\",\"Central Midfield\",\"Centre-Back\",\"Centre-Back\",\"Defensive Midfield\",\"Attacking Midfield\",\"Centre-Back\",\"Centre-Back\",\"Defensive Midfield\",\"Centre-Back\",\"Left Winger\",\"Central Midfield\",\"Attacking Midfield\",\"Right-Back\",\"Centre-Forward\",\"Right-Back\",\"Centre-Forward\",\"Left-Back\",\"Right-Back\",\"Right Winger\",\"Defensive Midfield\",\"Defensive Midfield\",\"Central Midfield\",\"Right-Back\",\"Centre-Forward\",\"Centre-Back\",\"Left Winger\",\"Right Winger\",\"Centre-Forward\",\"Central Midfield\",\"Defensive Midfield\",\"Left-Back\",\"Central Midfield\",\"Central Midfield\",\"Right Midfield\",\"Right Winger\",\"Centre-Back\",\"Centre-Forward\",\"Centre-Back\",\"Left Midfield\",\"Centre-Back\",\"Left-Back\",\"Right-Back\",\"Left Winger\",\"Centre-Forward\",\"Centre-Back\",\"Right Winger\",\"Centre-Back\",\"Centre-Back\",\"Central Midfield\",\"Centre-Forward\",\"Left Winger\",\"Attacking Midfield\",\"Left Winger\",\"Defensive Midfield\",\"Centre-Back\",\"Right-Back\",\"Centre-Back\",\"Left Winger\",\"Central Midfield\",\"Right Midfield\",\"Right Winger\",\"Left Winger\",\"Left Winger\",\"Central Midfield\",\"Left-Back\",\"Centre-Back\",\"Right Winger\",\"Right-Back\",\"Right Winger\",\"Centre-Forward\",\"Centre-Back\",\"Left-Back\",\"Centre-Back\",\"Left Winger\",\"Attacking Midfield\",\"Centre-Back\",\"Goalkeeper\",\"Centre-Forward\",\"Centre-Back\",\"Centre-Back\",\"Central Midfield\",\"Centre-Back\",\"Right-Back\",\"Goalkeeper\",\"Centre-Back\",\"Central Midfield\",\"Centre-Back\",\"Centre-Back\",\"Right Winger\",\"Right Winger\",\"Central Midfield\",\"Centre-Forward\",\"Left Winger\",\"Centre-Forward\",\"Left Winger\",\"Central Midfield\",\"Right Winger\",\"Attacking Midfield\",\"Centre-Back\",\"Right-Back\",\"Centre-Back\",\"Attacking Midfield\",\"Attacking Midfield\",\"Central Midfield\",\"Defensive Midfield\",\"Second Striker\",\"Left Winger\",\"Left Winger\",\"Right-Back\",\"Right Winger\",\"Central Midfield\",\"Left Winger\",\"Right-Back\",\"Right Winger\",\"Centre-Back\",\"Centre-Forward\",\"Centre-Forward\",\"Central Midfield\",\"Defensive Midfield\",\"Central Midfield\",\"Left Midfield\",\"Attacking Midfield\",\"Right Winger\",\"Defensive Midfield\",\"Left-Back\",\"Left Winger\",\"Centre-Forward\",\"Centre-Forward\",\"Centre-Back\",\"Goalkeeper\",\"Left Winger\",\"Centre-Back\",\"Left-Back\",\"Central Midfield\",\"Centre-Forward\",\"Centre-Back\",\"Defensive Midfield\",\"Centre-Back\",\"Attacking Midfield\",\"Centre-Forward\",\"Central Midfield\",\"Centre-Forward\",\"Defensive Midfield\",\"Centre-Forward\",\"Defensive Midfield\",\"Centre-Forward\",\"Attacking Midfield\",\"Centre-Forward\",\"Attacking Midfield\",\"Defensive Midfield\",\"Right-Back\",\"Centre-Forward\",\"Goalkeeper\",\"Left Winger\",\"Centre-Forward\",\"Central Midfield\",\"Centre-Forward\",\"Attacking Midfield\",\"Centre-Back\",\"Goalkeeper\",\"Defensive Midfield\",\"Right Winger\",\"Right-Back\",\"Left Winger\",\"Centre-Back\",\"Attacking Midfield\",\"Attacking Midfield\",\"Right Winger\",\"Attacking Midfield\",\"Left-Back\",\"Centre-Back\",\"Centre-Back\",\"Centre-Forward\",\"Central Midfield\",\"Defensive Midfield\",\"Attacking Midfield\",\"Right-Back\",\"Attacking Midfield\",\"Central Midfield\",\"Right Midfield\",\"Central Midfield\",\"Centre-Forward\",\"Central Midfield\",\"Centre-Back\",\"Left Midfield\",\"Goalkeeper\",\"Centre-Forward\",\"Left-Back\",\"Centre-Back\",\"Right-Back\",\"Defensive Midfield\",\"Centre-Back\",\"Goalkeeper\",\"Centre-Forward\",\"Central Midfield\",\"Centre-Forward\",\"Left Winger\",\"Goalkeeper\",\"Central Midfield\",\"Centre-Back\",\"Defensive Midfield\",\"Centre-Forward\",\"Right-Back\",\"Attacking Midfield\",\"Defensive Midfield\",\"Left Midfield\",\"Right-Back\",\"Right Winger\",\"Right Winger\",\"Left Winger\",\"Right Winger\",\"Right-Back\",\"Attacking Midfield\",\"Left Winger\",\"Attacking Midfield\",\"Left-Back\",\"Attacking Midfield\",\"Central Midfield\",\"Right Winger\",\"Centre-Back\",\"Right-Back\",\"Central Midfield\",\"Centre-Back\",\"Left-Back\",\"Right Winger\",\"Right-Back\",\"Right Winger\",\"Left Winger\",\"Central Midfield\",\"Centre-Back\",\"Centre-Back\",\"Centre-Back\",\"Central Midfield\",\"Left Midfield\",\"Centre-Back\",\"Right Winger\",\"Central Midfield\",\"Right Winger\",\"Right-Back\",\"Right-Back\",\"Centre-Forward\",\"Defensive Midfield\",\"Right Midfield\",\"Left Winger\",\"Left Winger\",\"Defensive Midfield\",\"Central Midfield\",\"Defensive Midfield\",\"Goalkeeper\",\"Goalkeeper\",\"Defensive Midfield\",\"Right Winger\",\"Centre-Back\",\"Centre-Forward\",\"Attacking Midfield\",\"Second Striker\",\"Goalkeeper\",\"Centre-Back\",\"Centre-Back\"],\"xaxis\":\"x\",\"y\":[7,13,7,2,15,4,3,3,0,0,5,3,2,3,8,5,0,5,5,0,3,1,0,1,3,1,0,3,3,1,6,3,1,4,4,3,0,8,2,0,0,7,2,0,0,1,0,4,0,9,4,0,0,0,0,1,3,8,0,0,0,0,23,2,2,2,3,2,1,2,2,0,0,0,1,4,4,1,3,9,12,1,1,1,0,0,0,0,6,3,1,5,1,5,2,11,4,2,3,5,3,1,3,3,8,0,1,6,4,4,3,1,2,6,2,1,0,8,0,0,0,0,3,0,1,5,1,5,3,0,1,0,0,3,0,1,2,5,3,3,2,1,0,2,6,2,2,1,5,3,2,11,9,0,0,6,1,8,2,2,3,5,1,2,0,0,0,0,1,1,0,3,0,0,2,2,2,1,1,5,2,0,8,1,0,1,3,1,4,8,5,1,0,2,3,0,3,2,2,1,1,0,5,0,0,3,0,1,0,0,1,3,0,0,2,0,0,1,0,0,4,4,0,2,2,0,2,2,0,0,1,2,2,0,1,4,6,2,1,0,0,1,6,0,2,0,1,0,1,3,0,8,0,2,0,1,4,2,2,0,0,14,0,4,0,0,1,1,0,0,0,0,4,3,3,0,11,1,0,0,6,5,1,9,2,0,0,1,5,2,7,0,0,2,0,4,2,4,2,0,6,0,0,2,9,2,2,3,0,0,0,3,2,0,0,9,1,2,1,0,1,0,1,2,1,0,2,3,0,7,0,14,3,3,8,1,0,1,0,6,4,3,1,4,1,0,0,3,3,7,1,1,0,0,5,1,0,0,1,3,3,1,2,0,3,12,0,0,2,0,2,1,1,0,0,0,2,3,0,4,0,3,2,4,4,15,8,0,2,8,0,0,15,2,4,0,0,0,0,1,0,3,1,1,1,7,4,0,0,0,2,1,0,1,0,0,0,0,0,3,0,0,0,0,2,1,0,0,0,1,0,4,0,4,0,0,2,0,2,2,0,2,0,2,0,0,4,4,0,0,1,2,1,1,1,2,2,0,0,1,0,0,2,0,6,1,4,0,0,0,4,0,1,0,0,5,1,4,7,1,1,3,0,0,1,0,0,0,0,3,0,2,0,1,0,0,3],\"yaxis\":\"y\",\"type\":\"bar\"}],                        {\"template\":{\"data\":{\"histogram2dcontour\":[{\"type\":\"histogram2dcontour\",\"colorbar\":{\"outlinewidth\":0,\"ticks\":\"\"},\"colorscale\":[[0.0,\"#0d0887\"],[0.1111111111111111,\"#46039f\"],[0.2222222222222222,\"#7201a8\"],[0.3333333333333333,\"#9c179e\"],[0.4444444444444444,\"#bd3786\"],[0.5555555555555556,\"#d8576b\"],[0.6666666666666666,\"#ed7953\"],[0.7777777777777778,\"#fb9f3a\"],[0.8888888888888888,\"#fdca26\"],[1.0,\"#f0f921\"]]}],\"choropleth\":[{\"type\":\"choropleth\",\"colorbar\":{\"outlinewidth\":0,\"ticks\":\"\"}}],\"histogram2d\":[{\"type\":\"histogram2d\",\"colorbar\":{\"outlinewidth\":0,\"ticks\":\"\"},\"colorscale\":[[0.0,\"#0d0887\"],[0.1111111111111111,\"#46039f\"],[0.2222222222222222,\"#7201a8\"],[0.3333333333333333,\"#9c179e\"],[0.4444444444444444,\"#bd3786\"],[0.5555555555555556,\"#d8576b\"],[0.6666666666666666,\"#ed7953\"],[0.7777777777777778,\"#fb9f3a\"],[0.8888888888888888,\"#fdca26\"],[1.0,\"#f0f921\"]]}],\"heatmap\":[{\"type\":\"heatmap\",\"colorbar\":{\"outlinewidth\":0,\"ticks\":\"\"},\"colorscale\":[[0.0,\"#0d0887\"],[0.1111111111111111,\"#46039f\"],[0.2222222222222222,\"#7201a8\"],[0.3333333333333333,\"#9c179e\"],[0.4444444444444444,\"#bd3786\"],[0.5555555555555556,\"#d8576b\"],[0.6666666666666666,\"#ed7953\"],[0.7777777777777778,\"#fb9f3a\"],[0.8888888888888888,\"#fdca26\"],[1.0,\"#f0f921\"]]}],\"heatmapgl\":[{\"type\":\"heatmapgl\",\"colorbar\":{\"outlinewidth\":0,\"ticks\":\"\"},\"colorscale\":[[0.0,\"#0d0887\"],[0.1111111111111111,\"#46039f\"],[0.2222222222222222,\"#7201a8\"],[0.3333333333333333,\"#9c179e\"],[0.4444444444444444,\"#bd3786\"],[0.5555555555555556,\"#d8576b\"],[0.6666666666666666,\"#ed7953\"],[0.7777777777777778,\"#fb9f3a\"],[0.8888888888888888,\"#fdca26\"],[1.0,\"#f0f921\"]]}],\"contourcarpet\":[{\"type\":\"contourcarpet\",\"colorbar\":{\"outlinewidth\":0,\"ticks\":\"\"}}],\"contour\":[{\"type\":\"contour\",\"colorbar\":{\"outlinewidth\":0,\"ticks\":\"\"},\"colorscale\":[[0.0,\"#0d0887\"],[0.1111111111111111,\"#46039f\"],[0.2222222222222222,\"#7201a8\"],[0.3333333333333333,\"#9c179e\"],[0.4444444444444444,\"#bd3786\"],[0.5555555555555556,\"#d8576b\"],[0.6666666666666666,\"#ed7953\"],[0.7777777777777778,\"#fb9f3a\"],[0.8888888888888888,\"#fdca26\"],[1.0,\"#f0f921\"]]}],\"surface\":[{\"type\":\"surface\",\"colorbar\":{\"outlinewidth\":0,\"ticks\":\"\"},\"colorscale\":[[0.0,\"#0d0887\"],[0.1111111111111111,\"#46039f\"],[0.2222222222222222,\"#7201a8\"],[0.3333333333333333,\"#9c179e\"],[0.4444444444444444,\"#bd3786\"],[0.5555555555555556,\"#d8576b\"],[0.6666666666666666,\"#ed7953\"],[0.7777777777777778,\"#fb9f3a\"],[0.8888888888888888,\"#fdca26\"],[1.0,\"#f0f921\"]]}],\"mesh3d\":[{\"type\":\"mesh3d\",\"colorbar\":{\"outlinewidth\":0,\"ticks\":\"\"}}],\"scatter\":[{\"fillpattern\":{\"fillmode\":\"overlay\",\"size\":10,\"solidity\":0.2},\"type\":\"scatter\"}],\"parcoords\":[{\"type\":\"parcoords\",\"line\":{\"colorbar\":{\"outlinewidth\":0,\"ticks\":\"\"}}}],\"scatterpolargl\":[{\"type\":\"scatterpolargl\",\"marker\":{\"colorbar\":{\"outlinewidth\":0,\"ticks\":\"\"}}}],\"bar\":[{\"error_x\":{\"color\":\"#2a3f5f\"},\"error_y\":{\"color\":\"#2a3f5f\"},\"marker\":{\"line\":{\"color\":\"#E5ECF6\",\"width\":0.5},\"pattern\":{\"fillmode\":\"overlay\",\"size\":10,\"solidity\":0.2}},\"type\":\"bar\"}],\"scattergeo\":[{\"type\":\"scattergeo\",\"marker\":{\"colorbar\":{\"outlinewidth\":0,\"ticks\":\"\"}}}],\"scatterpolar\":[{\"type\":\"scatterpolar\",\"marker\":{\"colorbar\":{\"outlinewidth\":0,\"ticks\":\"\"}}}],\"histogram\":[{\"marker\":{\"pattern\":{\"fillmode\":\"overlay\",\"size\":10,\"solidity\":0.2}},\"type\":\"histogram\"}],\"scattergl\":[{\"type\":\"scattergl\",\"marker\":{\"colorbar\":{\"outlinewidth\":0,\"ticks\":\"\"}}}],\"scatter3d\":[{\"type\":\"scatter3d\",\"line\":{\"colorbar\":{\"outlinewidth\":0,\"ticks\":\"\"}},\"marker\":{\"colorbar\":{\"outlinewidth\":0,\"ticks\":\"\"}}}],\"scattermapbox\":[{\"type\":\"scattermapbox\",\"marker\":{\"colorbar\":{\"outlinewidth\":0,\"ticks\":\"\"}}}],\"scatterternary\":[{\"type\":\"scatterternary\",\"marker\":{\"colorbar\":{\"outlinewidth\":0,\"ticks\":\"\"}}}],\"scattercarpet\":[{\"type\":\"scattercarpet\",\"marker\":{\"colorbar\":{\"outlinewidth\":0,\"ticks\":\"\"}}}],\"carpet\":[{\"aaxis\":{\"endlinecolor\":\"#2a3f5f\",\"gridcolor\":\"white\",\"linecolor\":\"white\",\"minorgridcolor\":\"white\",\"startlinecolor\":\"#2a3f5f\"},\"baxis\":{\"endlinecolor\":\"#2a3f5f\",\"gridcolor\":\"white\",\"linecolor\":\"white\",\"minorgridcolor\":\"white\",\"startlinecolor\":\"#2a3f5f\"},\"type\":\"carpet\"}],\"table\":[{\"cells\":{\"fill\":{\"color\":\"#EBF0F8\"},\"line\":{\"color\":\"white\"}},\"header\":{\"fill\":{\"color\":\"#C8D4E3\"},\"line\":{\"color\":\"white\"}},\"type\":\"table\"}],\"barpolar\":[{\"marker\":{\"line\":{\"color\":\"#E5ECF6\",\"width\":0.5},\"pattern\":{\"fillmode\":\"overlay\",\"size\":10,\"solidity\":0.2}},\"type\":\"barpolar\"}],\"pie\":[{\"automargin\":true,\"type\":\"pie\"}]},\"layout\":{\"autotypenumbers\":\"strict\",\"colorway\":[\"#636efa\",\"#EF553B\",\"#00cc96\",\"#ab63fa\",\"#FFA15A\",\"#19d3f3\",\"#FF6692\",\"#B6E880\",\"#FF97FF\",\"#FECB52\"],\"font\":{\"color\":\"#2a3f5f\"},\"hovermode\":\"closest\",\"hoverlabel\":{\"align\":\"left\"},\"paper_bgcolor\":\"white\",\"plot_bgcolor\":\"#E5ECF6\",\"polar\":{\"bgcolor\":\"#E5ECF6\",\"angularaxis\":{\"gridcolor\":\"white\",\"linecolor\":\"white\",\"ticks\":\"\"},\"radialaxis\":{\"gridcolor\":\"white\",\"linecolor\":\"white\",\"ticks\":\"\"}},\"ternary\":{\"bgcolor\":\"#E5ECF6\",\"aaxis\":{\"gridcolor\":\"white\",\"linecolor\":\"white\",\"ticks\":\"\"},\"baxis\":{\"gridcolor\":\"white\",\"linecolor\":\"white\",\"ticks\":\"\"},\"caxis\":{\"gridcolor\":\"white\",\"linecolor\":\"white\",\"ticks\":\"\"}},\"coloraxis\":{\"colorbar\":{\"outlinewidth\":0,\"ticks\":\"\"}},\"colorscale\":{\"sequential\":[[0.0,\"#0d0887\"],[0.1111111111111111,\"#46039f\"],[0.2222222222222222,\"#7201a8\"],[0.3333333333333333,\"#9c179e\"],[0.4444444444444444,\"#bd3786\"],[0.5555555555555556,\"#d8576b\"],[0.6666666666666666,\"#ed7953\"],[0.7777777777777778,\"#fb9f3a\"],[0.8888888888888888,\"#fdca26\"],[1.0,\"#f0f921\"]],\"sequentialminus\":[[0.0,\"#0d0887\"],[0.1111111111111111,\"#46039f\"],[0.2222222222222222,\"#7201a8\"],[0.3333333333333333,\"#9c179e\"],[0.4444444444444444,\"#bd3786\"],[0.5555555555555556,\"#d8576b\"],[0.6666666666666666,\"#ed7953\"],[0.7777777777777778,\"#fb9f3a\"],[0.8888888888888888,\"#fdca26\"],[1.0,\"#f0f921\"]],\"diverging\":[[0,\"#8e0152\"],[0.1,\"#c51b7d\"],[0.2,\"#de77ae\"],[0.3,\"#f1b6da\"],[0.4,\"#fde0ef\"],[0.5,\"#f7f7f7\"],[0.6,\"#e6f5d0\"],[0.7,\"#b8e186\"],[0.8,\"#7fbc41\"],[0.9,\"#4d9221\"],[1,\"#276419\"]]},\"xaxis\":{\"gridcolor\":\"white\",\"linecolor\":\"white\",\"ticks\":\"\",\"title\":{\"standoff\":15},\"zerolinecolor\":\"white\",\"automargin\":true,\"zerolinewidth\":2},\"yaxis\":{\"gridcolor\":\"white\",\"linecolor\":\"white\",\"ticks\":\"\",\"title\":{\"standoff\":15},\"zerolinecolor\":\"white\",\"automargin\":true,\"zerolinewidth\":2},\"scene\":{\"xaxis\":{\"backgroundcolor\":\"#E5ECF6\",\"gridcolor\":\"white\",\"linecolor\":\"white\",\"showbackground\":true,\"ticks\":\"\",\"zerolinecolor\":\"white\",\"gridwidth\":2},\"yaxis\":{\"backgroundcolor\":\"#E5ECF6\",\"gridcolor\":\"white\",\"linecolor\":\"white\",\"showbackground\":true,\"ticks\":\"\",\"zerolinecolor\":\"white\",\"gridwidth\":2},\"zaxis\":{\"backgroundcolor\":\"#E5ECF6\",\"gridcolor\":\"white\",\"linecolor\":\"white\",\"showbackground\":true,\"ticks\":\"\",\"zerolinecolor\":\"white\",\"gridwidth\":2}},\"shapedefaults\":{\"line\":{\"color\":\"#2a3f5f\"}},\"annotationdefaults\":{\"arrowcolor\":\"#2a3f5f\",\"arrowhead\":0,\"arrowwidth\":1},\"geo\":{\"bgcolor\":\"white\",\"landcolor\":\"#E5ECF6\",\"subunitcolor\":\"white\",\"showland\":true,\"showlakes\":true,\"lakecolor\":\"white\"},\"title\":{\"x\":0.05},\"mapbox\":{\"style\":\"light\"}}},\"xaxis\":{\"anchor\":\"y\",\"domain\":[0.0,1.0],\"title\":{\"text\":\"Position\"}},\"yaxis\":{\"anchor\":\"x\",\"domain\":[0.0,1.0],\"title\":{\"text\":\"Goals\"}},\"coloraxis\":{\"colorbar\":{\"title\":{\"text\":\"Age\"}},\"colorscale\":[[0.0,\"#0d0887\"],[0.1111111111111111,\"#46039f\"],[0.2222222222222222,\"#7201a8\"],[0.3333333333333333,\"#9c179e\"],[0.4444444444444444,\"#bd3786\"],[0.5555555555555556,\"#d8576b\"],[0.6666666666666666,\"#ed7953\"],[0.7777777777777778,\"#fb9f3a\"],[0.8888888888888888,\"#fdca26\"],[1.0,\"#f0f921\"]]},\"legend\":{\"tracegroupgap\":0},\"margin\":{\"t\":60},\"barmode\":\"relative\",\"height\":400,\"width\":500},                        {\"responsive\": true}                    ).then(function(){\n",
       "                            \n",
       "var gd = document.getElementById('c563286e-61e2-40ff-90ff-9da4c8186015');\n",
       "var x = new MutationObserver(function (mutations, observer) {{\n",
       "        var display = window.getComputedStyle(gd).display;\n",
       "        if (!display || display === 'none') {{\n",
       "            console.log([gd, 'removed!']);\n",
       "            Plotly.purge(gd);\n",
       "            observer.disconnect();\n",
       "        }}\n",
       "}});\n",
       "\n",
       "// Listen for the removal of the full notebook cells\n",
       "var notebookContainer = gd.closest('#notebook-container');\n",
       "if (notebookContainer) {{\n",
       "    x.observe(notebookContainer, {childList: true});\n",
       "}}\n",
       "\n",
       "// Listen for the clearing of the current output cell\n",
       "var outputEl = gd.closest('.output');\n",
       "if (outputEl) {{\n",
       "    x.observe(outputEl, {childList: true});\n",
       "}}\n",
       "\n",
       "                        })                };                });            </script>        </div>"
      ]
     },
     "metadata": {},
     "output_type": "display_data"
    }
   ],
   "source": [
    "px.bar(data,x='Position',y='Goals',color='Age',width=500, height=400)"
   ]
  },
  {
   "cell_type": "code",
   "execution_count": 320,
   "id": "23c407be",
   "metadata": {},
   "outputs": [
    {
     "data": {
      "application/vnd.plotly.v1+json": {
       "config": {
        "plotlyServerURL": "https://plot.ly"
       },
       "data": [
        {
         "alignmentgroup": "True",
         "hovertemplate": "Age=%{x}<br>Goals=%{y}<extra></extra>",
         "legendgroup": "",
         "marker": {
          "color": "#636efa",
          "pattern": {
           "shape": ""
          }
         },
         "name": "",
         "offsetgroup": "",
         "orientation": "v",
         "showlegend": false,
         "textposition": "auto",
         "type": "bar",
         "x": [
          22,
          21,
          28,
          26,
          29,
          28,
          30,
          29,
          21,
          24,
          27,
          26,
          26,
          24,
          29,
          29,
          18,
          21,
          24,
          26,
          22,
          23,
          24,
          27,
          18,
          22,
          21,
          23,
          22,
          25,
          24,
          24,
          22,
          22,
          26,
          27,
          28,
          26,
          26,
          28,
          29,
          18,
          20,
          23,
          22,
          24,
          27,
          19,
          23,
          22,
          24,
          23,
          22,
          24,
          26,
          28,
          26,
          25,
          28,
          29,
          29,
          29,
          33,
          19,
          24,
          24,
          24,
          25,
          30,
          27,
          25,
          30,
          29,
          29,
          29,
          18,
          20,
          24,
          21,
          21,
          21,
          24,
          23,
          24,
          23,
          26,
          24,
          28,
          28,
          27,
          28,
          30,
          29,
          30,
          30,
          24,
          21,
          24,
          25,
          24,
          28,
          25,
          26,
          24,
          25,
          25,
          27,
          27,
          29,
          29,
          29,
          27,
          19,
          22,
          26,
          24,
          26,
          30,
          19,
          22,
          23,
          20,
          24,
          23,
          22,
          24,
          25,
          22,
          25,
          24,
          22,
          23,
          26,
          26,
          27,
          28,
          26,
          26,
          29,
          27,
          26,
          29,
          26,
          28,
          30,
          29,
          31,
          23,
          24,
          24,
          28,
          31,
          21,
          21,
          23,
          24,
          21,
          21,
          21,
          20,
          23,
          23,
          24,
          21,
          25,
          22,
          23,
          25,
          26,
          24,
          24,
          25,
          26,
          24,
          27,
          23,
          26,
          25,
          25,
          27,
          27,
          26,
          31,
          28,
          29,
          28,
          28,
          19,
          28,
          30,
          24,
          21,
          25,
          25,
          26,
          24,
          25,
          28,
          27,
          26,
          27,
          27,
          19,
          20,
          24,
          22,
          29,
          20,
          21,
          24,
          22,
          24,
          24,
          26,
          24,
          27,
          24,
          25,
          24,
          28,
          29,
          27,
          28,
          25,
          28,
          25,
          27,
          27,
          27,
          26,
          26,
          28,
          27,
          28,
          30,
          29,
          32,
          31,
          31,
          20,
          21,
          21,
          21,
          22,
          21,
          22,
          23,
          24,
          24,
          25,
          25,
          25,
          28,
          30,
          24,
          31,
          23,
          21,
          24,
          24,
          25,
          27,
          27,
          28,
          19,
          25,
          24,
          27,
          28,
          17,
          18,
          23,
          21,
          22,
          19,
          23,
          24,
          22,
          23,
          22,
          21,
          20,
          23,
          23,
          24,
          24,
          25,
          25,
          22,
          25,
          24,
          26,
          25,
          24,
          23,
          22,
          23,
          23,
          23,
          25,
          26,
          24,
          24,
          26,
          24,
          24,
          26,
          27,
          25,
          25,
          25,
          24,
          28,
          25,
          26,
          26,
          29,
          30,
          29,
          29,
          29,
          27,
          28,
          28,
          28,
          30,
          29,
          29,
          30,
          32,
          30,
          33,
          23,
          23,
          28,
          26,
          27,
          28,
          20,
          18,
          22,
          26,
          30,
          30,
          20,
          21,
          21,
          24,
          22,
          22,
          24,
          21,
          21,
          24,
          23,
          25,
          27,
          22,
          23,
          22,
          24,
          23,
          26,
          24,
          24,
          27,
          25,
          24,
          25,
          25,
          26,
          28,
          28,
          27,
          27,
          28,
          28,
          29,
          30,
          29,
          29,
          30,
          26,
          27,
          20,
          21,
          21,
          19,
          22,
          22,
          21,
          21,
          19,
          23,
          23,
          23,
          20,
          23,
          22,
          22,
          23,
          22,
          21,
          21,
          24,
          21,
          25,
          25,
          24,
          25,
          25,
          24,
          22,
          24,
          23,
          23,
          25,
          25,
          24,
          25,
          26,
          27,
          23,
          24,
          23,
          28,
          26,
          24,
          25,
          28,
          27,
          25,
          28,
          25,
          24,
          26,
          26,
          26,
          26,
          27,
          26,
          25,
          27,
          29,
          30,
          26,
          29,
          30,
          29,
          31,
          30,
          28,
          29,
          30,
          30,
          31,
          33,
          19,
          24,
          27,
          21,
          20,
          19,
          21,
          19,
          20,
          24,
          20,
          24,
          24,
          24,
          21,
          23,
          22,
          23,
          24,
          24,
          24,
          24,
          23,
          27,
          25,
          24,
          25,
          23,
          26,
          26,
          23,
          28,
          26,
          26,
          24,
          27,
          28,
          24,
          25,
          27
         ],
         "xaxis": "x",
         "y": [
          7,
          13,
          7,
          2,
          15,
          4,
          3,
          3,
          0,
          0,
          5,
          3,
          2,
          3,
          8,
          5,
          0,
          5,
          5,
          0,
          3,
          1,
          0,
          1,
          3,
          1,
          0,
          3,
          3,
          1,
          6,
          3,
          1,
          4,
          4,
          3,
          0,
          8,
          2,
          0,
          0,
          7,
          2,
          0,
          0,
          1,
          0,
          4,
          0,
          9,
          4,
          0,
          0,
          0,
          0,
          1,
          3,
          8,
          0,
          0,
          0,
          0,
          23,
          2,
          2,
          2,
          3,
          2,
          1,
          2,
          2,
          0,
          0,
          0,
          1,
          4,
          4,
          1,
          3,
          9,
          12,
          1,
          1,
          1,
          0,
          0,
          0,
          0,
          6,
          3,
          1,
          5,
          1,
          5,
          2,
          11,
          4,
          2,
          3,
          5,
          3,
          1,
          3,
          3,
          8,
          0,
          1,
          6,
          4,
          4,
          3,
          1,
          2,
          6,
          2,
          1,
          0,
          8,
          0,
          0,
          0,
          0,
          3,
          0,
          1,
          5,
          1,
          5,
          3,
          0,
          1,
          0,
          0,
          3,
          0,
          1,
          2,
          5,
          3,
          3,
          2,
          1,
          0,
          2,
          6,
          2,
          2,
          1,
          5,
          3,
          2,
          11,
          9,
          0,
          0,
          6,
          1,
          8,
          2,
          2,
          3,
          5,
          1,
          2,
          0,
          0,
          0,
          0,
          1,
          1,
          0,
          3,
          0,
          0,
          2,
          2,
          2,
          1,
          1,
          5,
          2,
          0,
          8,
          1,
          0,
          1,
          3,
          1,
          4,
          8,
          5,
          1,
          0,
          2,
          3,
          0,
          3,
          2,
          2,
          1,
          1,
          0,
          5,
          0,
          0,
          3,
          0,
          1,
          0,
          0,
          1,
          3,
          0,
          0,
          2,
          0,
          0,
          1,
          0,
          0,
          4,
          4,
          0,
          2,
          2,
          0,
          2,
          2,
          0,
          0,
          1,
          2,
          2,
          0,
          1,
          4,
          6,
          2,
          1,
          0,
          0,
          1,
          6,
          0,
          2,
          0,
          1,
          0,
          1,
          3,
          0,
          8,
          0,
          2,
          0,
          1,
          4,
          2,
          2,
          0,
          0,
          14,
          0,
          4,
          0,
          0,
          1,
          1,
          0,
          0,
          0,
          0,
          4,
          3,
          3,
          0,
          11,
          1,
          0,
          0,
          6,
          5,
          1,
          9,
          2,
          0,
          0,
          1,
          5,
          2,
          7,
          0,
          0,
          2,
          0,
          4,
          2,
          4,
          2,
          0,
          6,
          0,
          0,
          2,
          9,
          2,
          2,
          3,
          0,
          0,
          0,
          3,
          2,
          0,
          0,
          9,
          1,
          2,
          1,
          0,
          1,
          0,
          1,
          2,
          1,
          0,
          2,
          3,
          0,
          7,
          0,
          14,
          3,
          3,
          8,
          1,
          0,
          1,
          0,
          6,
          4,
          3,
          1,
          4,
          1,
          0,
          0,
          3,
          3,
          7,
          1,
          1,
          0,
          0,
          5,
          1,
          0,
          0,
          1,
          3,
          3,
          1,
          2,
          0,
          3,
          12,
          0,
          0,
          2,
          0,
          2,
          1,
          1,
          0,
          0,
          0,
          2,
          3,
          0,
          4,
          0,
          3,
          2,
          4,
          4,
          15,
          8,
          0,
          2,
          8,
          0,
          0,
          15,
          2,
          4,
          0,
          0,
          0,
          0,
          1,
          0,
          3,
          1,
          1,
          1,
          7,
          4,
          0,
          0,
          0,
          2,
          1,
          0,
          1,
          0,
          0,
          0,
          0,
          0,
          3,
          0,
          0,
          0,
          0,
          2,
          1,
          0,
          0,
          0,
          1,
          0,
          4,
          0,
          4,
          0,
          0,
          2,
          0,
          2,
          2,
          0,
          2,
          0,
          2,
          0,
          0,
          4,
          4,
          0,
          0,
          1,
          2,
          1,
          1,
          1,
          2,
          2,
          0,
          0,
          1,
          0,
          0,
          2,
          0,
          6,
          1,
          4,
          0,
          0,
          0,
          4,
          0,
          1,
          0,
          0,
          5,
          1,
          4,
          7,
          1,
          1,
          3,
          0,
          0,
          1,
          0,
          0,
          0,
          0,
          3,
          0,
          2,
          0,
          1,
          0,
          0,
          3
         ],
         "yaxis": "y"
        }
       ],
       "layout": {
        "barmode": "relative",
        "height": 400,
        "legend": {
         "tracegroupgap": 0
        },
        "margin": {
         "t": 60
        },
        "template": {
         "data": {
          "bar": [
           {
            "error_x": {
             "color": "#2a3f5f"
            },
            "error_y": {
             "color": "#2a3f5f"
            },
            "marker": {
             "line": {
              "color": "#E5ECF6",
              "width": 0.5
             },
             "pattern": {
              "fillmode": "overlay",
              "size": 10,
              "solidity": 0.2
             }
            },
            "type": "bar"
           }
          ],
          "barpolar": [
           {
            "marker": {
             "line": {
              "color": "#E5ECF6",
              "width": 0.5
             },
             "pattern": {
              "fillmode": "overlay",
              "size": 10,
              "solidity": 0.2
             }
            },
            "type": "barpolar"
           }
          ],
          "carpet": [
           {
            "aaxis": {
             "endlinecolor": "#2a3f5f",
             "gridcolor": "white",
             "linecolor": "white",
             "minorgridcolor": "white",
             "startlinecolor": "#2a3f5f"
            },
            "baxis": {
             "endlinecolor": "#2a3f5f",
             "gridcolor": "white",
             "linecolor": "white",
             "minorgridcolor": "white",
             "startlinecolor": "#2a3f5f"
            },
            "type": "carpet"
           }
          ],
          "choropleth": [
           {
            "colorbar": {
             "outlinewidth": 0,
             "ticks": ""
            },
            "type": "choropleth"
           }
          ],
          "contour": [
           {
            "colorbar": {
             "outlinewidth": 0,
             "ticks": ""
            },
            "colorscale": [
             [
              0,
              "#0d0887"
             ],
             [
              0.1111111111111111,
              "#46039f"
             ],
             [
              0.2222222222222222,
              "#7201a8"
             ],
             [
              0.3333333333333333,
              "#9c179e"
             ],
             [
              0.4444444444444444,
              "#bd3786"
             ],
             [
              0.5555555555555556,
              "#d8576b"
             ],
             [
              0.6666666666666666,
              "#ed7953"
             ],
             [
              0.7777777777777778,
              "#fb9f3a"
             ],
             [
              0.8888888888888888,
              "#fdca26"
             ],
             [
              1,
              "#f0f921"
             ]
            ],
            "type": "contour"
           }
          ],
          "contourcarpet": [
           {
            "colorbar": {
             "outlinewidth": 0,
             "ticks": ""
            },
            "type": "contourcarpet"
           }
          ],
          "heatmap": [
           {
            "colorbar": {
             "outlinewidth": 0,
             "ticks": ""
            },
            "colorscale": [
             [
              0,
              "#0d0887"
             ],
             [
              0.1111111111111111,
              "#46039f"
             ],
             [
              0.2222222222222222,
              "#7201a8"
             ],
             [
              0.3333333333333333,
              "#9c179e"
             ],
             [
              0.4444444444444444,
              "#bd3786"
             ],
             [
              0.5555555555555556,
              "#d8576b"
             ],
             [
              0.6666666666666666,
              "#ed7953"
             ],
             [
              0.7777777777777778,
              "#fb9f3a"
             ],
             [
              0.8888888888888888,
              "#fdca26"
             ],
             [
              1,
              "#f0f921"
             ]
            ],
            "type": "heatmap"
           }
          ],
          "heatmapgl": [
           {
            "colorbar": {
             "outlinewidth": 0,
             "ticks": ""
            },
            "colorscale": [
             [
              0,
              "#0d0887"
             ],
             [
              0.1111111111111111,
              "#46039f"
             ],
             [
              0.2222222222222222,
              "#7201a8"
             ],
             [
              0.3333333333333333,
              "#9c179e"
             ],
             [
              0.4444444444444444,
              "#bd3786"
             ],
             [
              0.5555555555555556,
              "#d8576b"
             ],
             [
              0.6666666666666666,
              "#ed7953"
             ],
             [
              0.7777777777777778,
              "#fb9f3a"
             ],
             [
              0.8888888888888888,
              "#fdca26"
             ],
             [
              1,
              "#f0f921"
             ]
            ],
            "type": "heatmapgl"
           }
          ],
          "histogram": [
           {
            "marker": {
             "pattern": {
              "fillmode": "overlay",
              "size": 10,
              "solidity": 0.2
             }
            },
            "type": "histogram"
           }
          ],
          "histogram2d": [
           {
            "colorbar": {
             "outlinewidth": 0,
             "ticks": ""
            },
            "colorscale": [
             [
              0,
              "#0d0887"
             ],
             [
              0.1111111111111111,
              "#46039f"
             ],
             [
              0.2222222222222222,
              "#7201a8"
             ],
             [
              0.3333333333333333,
              "#9c179e"
             ],
             [
              0.4444444444444444,
              "#bd3786"
             ],
             [
              0.5555555555555556,
              "#d8576b"
             ],
             [
              0.6666666666666666,
              "#ed7953"
             ],
             [
              0.7777777777777778,
              "#fb9f3a"
             ],
             [
              0.8888888888888888,
              "#fdca26"
             ],
             [
              1,
              "#f0f921"
             ]
            ],
            "type": "histogram2d"
           }
          ],
          "histogram2dcontour": [
           {
            "colorbar": {
             "outlinewidth": 0,
             "ticks": ""
            },
            "colorscale": [
             [
              0,
              "#0d0887"
             ],
             [
              0.1111111111111111,
              "#46039f"
             ],
             [
              0.2222222222222222,
              "#7201a8"
             ],
             [
              0.3333333333333333,
              "#9c179e"
             ],
             [
              0.4444444444444444,
              "#bd3786"
             ],
             [
              0.5555555555555556,
              "#d8576b"
             ],
             [
              0.6666666666666666,
              "#ed7953"
             ],
             [
              0.7777777777777778,
              "#fb9f3a"
             ],
             [
              0.8888888888888888,
              "#fdca26"
             ],
             [
              1,
              "#f0f921"
             ]
            ],
            "type": "histogram2dcontour"
           }
          ],
          "mesh3d": [
           {
            "colorbar": {
             "outlinewidth": 0,
             "ticks": ""
            },
            "type": "mesh3d"
           }
          ],
          "parcoords": [
           {
            "line": {
             "colorbar": {
              "outlinewidth": 0,
              "ticks": ""
             }
            },
            "type": "parcoords"
           }
          ],
          "pie": [
           {
            "automargin": true,
            "type": "pie"
           }
          ],
          "scatter": [
           {
            "fillpattern": {
             "fillmode": "overlay",
             "size": 10,
             "solidity": 0.2
            },
            "type": "scatter"
           }
          ],
          "scatter3d": [
           {
            "line": {
             "colorbar": {
              "outlinewidth": 0,
              "ticks": ""
             }
            },
            "marker": {
             "colorbar": {
              "outlinewidth": 0,
              "ticks": ""
             }
            },
            "type": "scatter3d"
           }
          ],
          "scattercarpet": [
           {
            "marker": {
             "colorbar": {
              "outlinewidth": 0,
              "ticks": ""
             }
            },
            "type": "scattercarpet"
           }
          ],
          "scattergeo": [
           {
            "marker": {
             "colorbar": {
              "outlinewidth": 0,
              "ticks": ""
             }
            },
            "type": "scattergeo"
           }
          ],
          "scattergl": [
           {
            "marker": {
             "colorbar": {
              "outlinewidth": 0,
              "ticks": ""
             }
            },
            "type": "scattergl"
           }
          ],
          "scattermapbox": [
           {
            "marker": {
             "colorbar": {
              "outlinewidth": 0,
              "ticks": ""
             }
            },
            "type": "scattermapbox"
           }
          ],
          "scatterpolar": [
           {
            "marker": {
             "colorbar": {
              "outlinewidth": 0,
              "ticks": ""
             }
            },
            "type": "scatterpolar"
           }
          ],
          "scatterpolargl": [
           {
            "marker": {
             "colorbar": {
              "outlinewidth": 0,
              "ticks": ""
             }
            },
            "type": "scatterpolargl"
           }
          ],
          "scatterternary": [
           {
            "marker": {
             "colorbar": {
              "outlinewidth": 0,
              "ticks": ""
             }
            },
            "type": "scatterternary"
           }
          ],
          "surface": [
           {
            "colorbar": {
             "outlinewidth": 0,
             "ticks": ""
            },
            "colorscale": [
             [
              0,
              "#0d0887"
             ],
             [
              0.1111111111111111,
              "#46039f"
             ],
             [
              0.2222222222222222,
              "#7201a8"
             ],
             [
              0.3333333333333333,
              "#9c179e"
             ],
             [
              0.4444444444444444,
              "#bd3786"
             ],
             [
              0.5555555555555556,
              "#d8576b"
             ],
             [
              0.6666666666666666,
              "#ed7953"
             ],
             [
              0.7777777777777778,
              "#fb9f3a"
             ],
             [
              0.8888888888888888,
              "#fdca26"
             ],
             [
              1,
              "#f0f921"
             ]
            ],
            "type": "surface"
           }
          ],
          "table": [
           {
            "cells": {
             "fill": {
              "color": "#EBF0F8"
             },
             "line": {
              "color": "white"
             }
            },
            "header": {
             "fill": {
              "color": "#C8D4E3"
             },
             "line": {
              "color": "white"
             }
            },
            "type": "table"
           }
          ]
         },
         "layout": {
          "annotationdefaults": {
           "arrowcolor": "#2a3f5f",
           "arrowhead": 0,
           "arrowwidth": 1
          },
          "autotypenumbers": "strict",
          "coloraxis": {
           "colorbar": {
            "outlinewidth": 0,
            "ticks": ""
           }
          },
          "colorscale": {
           "diverging": [
            [
             0,
             "#8e0152"
            ],
            [
             0.1,
             "#c51b7d"
            ],
            [
             0.2,
             "#de77ae"
            ],
            [
             0.3,
             "#f1b6da"
            ],
            [
             0.4,
             "#fde0ef"
            ],
            [
             0.5,
             "#f7f7f7"
            ],
            [
             0.6,
             "#e6f5d0"
            ],
            [
             0.7,
             "#b8e186"
            ],
            [
             0.8,
             "#7fbc41"
            ],
            [
             0.9,
             "#4d9221"
            ],
            [
             1,
             "#276419"
            ]
           ],
           "sequential": [
            [
             0,
             "#0d0887"
            ],
            [
             0.1111111111111111,
             "#46039f"
            ],
            [
             0.2222222222222222,
             "#7201a8"
            ],
            [
             0.3333333333333333,
             "#9c179e"
            ],
            [
             0.4444444444444444,
             "#bd3786"
            ],
            [
             0.5555555555555556,
             "#d8576b"
            ],
            [
             0.6666666666666666,
             "#ed7953"
            ],
            [
             0.7777777777777778,
             "#fb9f3a"
            ],
            [
             0.8888888888888888,
             "#fdca26"
            ],
            [
             1,
             "#f0f921"
            ]
           ],
           "sequentialminus": [
            [
             0,
             "#0d0887"
            ],
            [
             0.1111111111111111,
             "#46039f"
            ],
            [
             0.2222222222222222,
             "#7201a8"
            ],
            [
             0.3333333333333333,
             "#9c179e"
            ],
            [
             0.4444444444444444,
             "#bd3786"
            ],
            [
             0.5555555555555556,
             "#d8576b"
            ],
            [
             0.6666666666666666,
             "#ed7953"
            ],
            [
             0.7777777777777778,
             "#fb9f3a"
            ],
            [
             0.8888888888888888,
             "#fdca26"
            ],
            [
             1,
             "#f0f921"
            ]
           ]
          },
          "colorway": [
           "#636efa",
           "#EF553B",
           "#00cc96",
           "#ab63fa",
           "#FFA15A",
           "#19d3f3",
           "#FF6692",
           "#B6E880",
           "#FF97FF",
           "#FECB52"
          ],
          "font": {
           "color": "#2a3f5f"
          },
          "geo": {
           "bgcolor": "white",
           "lakecolor": "white",
           "landcolor": "#E5ECF6",
           "showlakes": true,
           "showland": true,
           "subunitcolor": "white"
          },
          "hoverlabel": {
           "align": "left"
          },
          "hovermode": "closest",
          "mapbox": {
           "style": "light"
          },
          "paper_bgcolor": "white",
          "plot_bgcolor": "#E5ECF6",
          "polar": {
           "angularaxis": {
            "gridcolor": "white",
            "linecolor": "white",
            "ticks": ""
           },
           "bgcolor": "#E5ECF6",
           "radialaxis": {
            "gridcolor": "white",
            "linecolor": "white",
            "ticks": ""
           }
          },
          "scene": {
           "xaxis": {
            "backgroundcolor": "#E5ECF6",
            "gridcolor": "white",
            "gridwidth": 2,
            "linecolor": "white",
            "showbackground": true,
            "ticks": "",
            "zerolinecolor": "white"
           },
           "yaxis": {
            "backgroundcolor": "#E5ECF6",
            "gridcolor": "white",
            "gridwidth": 2,
            "linecolor": "white",
            "showbackground": true,
            "ticks": "",
            "zerolinecolor": "white"
           },
           "zaxis": {
            "backgroundcolor": "#E5ECF6",
            "gridcolor": "white",
            "gridwidth": 2,
            "linecolor": "white",
            "showbackground": true,
            "ticks": "",
            "zerolinecolor": "white"
           }
          },
          "shapedefaults": {
           "line": {
            "color": "#2a3f5f"
           }
          },
          "ternary": {
           "aaxis": {
            "gridcolor": "white",
            "linecolor": "white",
            "ticks": ""
           },
           "baxis": {
            "gridcolor": "white",
            "linecolor": "white",
            "ticks": ""
           },
           "bgcolor": "#E5ECF6",
           "caxis": {
            "gridcolor": "white",
            "linecolor": "white",
            "ticks": ""
           }
          },
          "title": {
           "x": 0.05
          },
          "xaxis": {
           "automargin": true,
           "gridcolor": "white",
           "linecolor": "white",
           "ticks": "",
           "title": {
            "standoff": 15
           },
           "zerolinecolor": "white",
           "zerolinewidth": 2
          },
          "yaxis": {
           "automargin": true,
           "gridcolor": "white",
           "linecolor": "white",
           "ticks": "",
           "title": {
            "standoff": 15
           },
           "zerolinecolor": "white",
           "zerolinewidth": 2
          }
         }
        },
        "width": 500,
        "xaxis": {
         "anchor": "y",
         "domain": [
          0,
          1
         ],
         "title": {
          "text": "Age"
         }
        },
        "yaxis": {
         "anchor": "x",
         "domain": [
          0,
          1
         ],
         "title": {
          "text": "Goals"
         }
        }
       }
      },
      "text/html": [
       "<div>                            <div id=\"7dc74ae0-0117-4fbd-9b28-074299367bff\" class=\"plotly-graph-div\" style=\"height:400px; width:500px;\"></div>            <script type=\"text/javascript\">                require([\"plotly\"], function(Plotly) {                    window.PLOTLYENV=window.PLOTLYENV || {};                                    if (document.getElementById(\"7dc74ae0-0117-4fbd-9b28-074299367bff\")) {                    Plotly.newPlot(                        \"7dc74ae0-0117-4fbd-9b28-074299367bff\",                        [{\"alignmentgroup\":\"True\",\"hovertemplate\":\"Age=%{x}<br>Goals=%{y}<extra></extra>\",\"legendgroup\":\"\",\"marker\":{\"color\":\"#636efa\",\"pattern\":{\"shape\":\"\"}},\"name\":\"\",\"offsetgroup\":\"\",\"orientation\":\"v\",\"showlegend\":false,\"textposition\":\"auto\",\"x\":[22,21,28,26,29,28,30,29,21,24,27,26,26,24,29,29,18,21,24,26,22,23,24,27,18,22,21,23,22,25,24,24,22,22,26,27,28,26,26,28,29,18,20,23,22,24,27,19,23,22,24,23,22,24,26,28,26,25,28,29,29,29,33,19,24,24,24,25,30,27,25,30,29,29,29,18,20,24,21,21,21,24,23,24,23,26,24,28,28,27,28,30,29,30,30,24,21,24,25,24,28,25,26,24,25,25,27,27,29,29,29,27,19,22,26,24,26,30,19,22,23,20,24,23,22,24,25,22,25,24,22,23,26,26,27,28,26,26,29,27,26,29,26,28,30,29,31,23,24,24,28,31,21,21,23,24,21,21,21,20,23,23,24,21,25,22,23,25,26,24,24,25,26,24,27,23,26,25,25,27,27,26,31,28,29,28,28,19,28,30,24,21,25,25,26,24,25,28,27,26,27,27,19,20,24,22,29,20,21,24,22,24,24,26,24,27,24,25,24,28,29,27,28,25,28,25,27,27,27,26,26,28,27,28,30,29,32,31,31,20,21,21,21,22,21,22,23,24,24,25,25,25,28,30,24,31,23,21,24,24,25,27,27,28,19,25,24,27,28,17,18,23,21,22,19,23,24,22,23,22,21,20,23,23,24,24,25,25,22,25,24,26,25,24,23,22,23,23,23,25,26,24,24,26,24,24,26,27,25,25,25,24,28,25,26,26,29,30,29,29,29,27,28,28,28,30,29,29,30,32,30,33,23,23,28,26,27,28,20,18,22,26,30,30,20,21,21,24,22,22,24,21,21,24,23,25,27,22,23,22,24,23,26,24,24,27,25,24,25,25,26,28,28,27,27,28,28,29,30,29,29,30,26,27,20,21,21,19,22,22,21,21,19,23,23,23,20,23,22,22,23,22,21,21,24,21,25,25,24,25,25,24,22,24,23,23,25,25,24,25,26,27,23,24,23,28,26,24,25,28,27,25,28,25,24,26,26,26,26,27,26,25,27,29,30,26,29,30,29,31,30,28,29,30,30,31,33,19,24,27,21,20,19,21,19,20,24,20,24,24,24,21,23,22,23,24,24,24,24,23,27,25,24,25,23,26,26,23,28,26,26,24,27,28,24,25,27],\"xaxis\":\"x\",\"y\":[7,13,7,2,15,4,3,3,0,0,5,3,2,3,8,5,0,5,5,0,3,1,0,1,3,1,0,3,3,1,6,3,1,4,4,3,0,8,2,0,0,7,2,0,0,1,0,4,0,9,4,0,0,0,0,1,3,8,0,0,0,0,23,2,2,2,3,2,1,2,2,0,0,0,1,4,4,1,3,9,12,1,1,1,0,0,0,0,6,3,1,5,1,5,2,11,4,2,3,5,3,1,3,3,8,0,1,6,4,4,3,1,2,6,2,1,0,8,0,0,0,0,3,0,1,5,1,5,3,0,1,0,0,3,0,1,2,5,3,3,2,1,0,2,6,2,2,1,5,3,2,11,9,0,0,6,1,8,2,2,3,5,1,2,0,0,0,0,1,1,0,3,0,0,2,2,2,1,1,5,2,0,8,1,0,1,3,1,4,8,5,1,0,2,3,0,3,2,2,1,1,0,5,0,0,3,0,1,0,0,1,3,0,0,2,0,0,1,0,0,4,4,0,2,2,0,2,2,0,0,1,2,2,0,1,4,6,2,1,0,0,1,6,0,2,0,1,0,1,3,0,8,0,2,0,1,4,2,2,0,0,14,0,4,0,0,1,1,0,0,0,0,4,3,3,0,11,1,0,0,6,5,1,9,2,0,0,1,5,2,7,0,0,2,0,4,2,4,2,0,6,0,0,2,9,2,2,3,0,0,0,3,2,0,0,9,1,2,1,0,1,0,1,2,1,0,2,3,0,7,0,14,3,3,8,1,0,1,0,6,4,3,1,4,1,0,0,3,3,7,1,1,0,0,5,1,0,0,1,3,3,1,2,0,3,12,0,0,2,0,2,1,1,0,0,0,2,3,0,4,0,3,2,4,4,15,8,0,2,8,0,0,15,2,4,0,0,0,0,1,0,3,1,1,1,7,4,0,0,0,2,1,0,1,0,0,0,0,0,3,0,0,0,0,2,1,0,0,0,1,0,4,0,4,0,0,2,0,2,2,0,2,0,2,0,0,4,4,0,0,1,2,1,1,1,2,2,0,0,1,0,0,2,0,6,1,4,0,0,0,4,0,1,0,0,5,1,4,7,1,1,3,0,0,1,0,0,0,0,3,0,2,0,1,0,0,3],\"yaxis\":\"y\",\"type\":\"bar\"}],                        {\"template\":{\"data\":{\"histogram2dcontour\":[{\"type\":\"histogram2dcontour\",\"colorbar\":{\"outlinewidth\":0,\"ticks\":\"\"},\"colorscale\":[[0.0,\"#0d0887\"],[0.1111111111111111,\"#46039f\"],[0.2222222222222222,\"#7201a8\"],[0.3333333333333333,\"#9c179e\"],[0.4444444444444444,\"#bd3786\"],[0.5555555555555556,\"#d8576b\"],[0.6666666666666666,\"#ed7953\"],[0.7777777777777778,\"#fb9f3a\"],[0.8888888888888888,\"#fdca26\"],[1.0,\"#f0f921\"]]}],\"choropleth\":[{\"type\":\"choropleth\",\"colorbar\":{\"outlinewidth\":0,\"ticks\":\"\"}}],\"histogram2d\":[{\"type\":\"histogram2d\",\"colorbar\":{\"outlinewidth\":0,\"ticks\":\"\"},\"colorscale\":[[0.0,\"#0d0887\"],[0.1111111111111111,\"#46039f\"],[0.2222222222222222,\"#7201a8\"],[0.3333333333333333,\"#9c179e\"],[0.4444444444444444,\"#bd3786\"],[0.5555555555555556,\"#d8576b\"],[0.6666666666666666,\"#ed7953\"],[0.7777777777777778,\"#fb9f3a\"],[0.8888888888888888,\"#fdca26\"],[1.0,\"#f0f921\"]]}],\"heatmap\":[{\"type\":\"heatmap\",\"colorbar\":{\"outlinewidth\":0,\"ticks\":\"\"},\"colorscale\":[[0.0,\"#0d0887\"],[0.1111111111111111,\"#46039f\"],[0.2222222222222222,\"#7201a8\"],[0.3333333333333333,\"#9c179e\"],[0.4444444444444444,\"#bd3786\"],[0.5555555555555556,\"#d8576b\"],[0.6666666666666666,\"#ed7953\"],[0.7777777777777778,\"#fb9f3a\"],[0.8888888888888888,\"#fdca26\"],[1.0,\"#f0f921\"]]}],\"heatmapgl\":[{\"type\":\"heatmapgl\",\"colorbar\":{\"outlinewidth\":0,\"ticks\":\"\"},\"colorscale\":[[0.0,\"#0d0887\"],[0.1111111111111111,\"#46039f\"],[0.2222222222222222,\"#7201a8\"],[0.3333333333333333,\"#9c179e\"],[0.4444444444444444,\"#bd3786\"],[0.5555555555555556,\"#d8576b\"],[0.6666666666666666,\"#ed7953\"],[0.7777777777777778,\"#fb9f3a\"],[0.8888888888888888,\"#fdca26\"],[1.0,\"#f0f921\"]]}],\"contourcarpet\":[{\"type\":\"contourcarpet\",\"colorbar\":{\"outlinewidth\":0,\"ticks\":\"\"}}],\"contour\":[{\"type\":\"contour\",\"colorbar\":{\"outlinewidth\":0,\"ticks\":\"\"},\"colorscale\":[[0.0,\"#0d0887\"],[0.1111111111111111,\"#46039f\"],[0.2222222222222222,\"#7201a8\"],[0.3333333333333333,\"#9c179e\"],[0.4444444444444444,\"#bd3786\"],[0.5555555555555556,\"#d8576b\"],[0.6666666666666666,\"#ed7953\"],[0.7777777777777778,\"#fb9f3a\"],[0.8888888888888888,\"#fdca26\"],[1.0,\"#f0f921\"]]}],\"surface\":[{\"type\":\"surface\",\"colorbar\":{\"outlinewidth\":0,\"ticks\":\"\"},\"colorscale\":[[0.0,\"#0d0887\"],[0.1111111111111111,\"#46039f\"],[0.2222222222222222,\"#7201a8\"],[0.3333333333333333,\"#9c179e\"],[0.4444444444444444,\"#bd3786\"],[0.5555555555555556,\"#d8576b\"],[0.6666666666666666,\"#ed7953\"],[0.7777777777777778,\"#fb9f3a\"],[0.8888888888888888,\"#fdca26\"],[1.0,\"#f0f921\"]]}],\"mesh3d\":[{\"type\":\"mesh3d\",\"colorbar\":{\"outlinewidth\":0,\"ticks\":\"\"}}],\"scatter\":[{\"fillpattern\":{\"fillmode\":\"overlay\",\"size\":10,\"solidity\":0.2},\"type\":\"scatter\"}],\"parcoords\":[{\"type\":\"parcoords\",\"line\":{\"colorbar\":{\"outlinewidth\":0,\"ticks\":\"\"}}}],\"scatterpolargl\":[{\"type\":\"scatterpolargl\",\"marker\":{\"colorbar\":{\"outlinewidth\":0,\"ticks\":\"\"}}}],\"bar\":[{\"error_x\":{\"color\":\"#2a3f5f\"},\"error_y\":{\"color\":\"#2a3f5f\"},\"marker\":{\"line\":{\"color\":\"#E5ECF6\",\"width\":0.5},\"pattern\":{\"fillmode\":\"overlay\",\"size\":10,\"solidity\":0.2}},\"type\":\"bar\"}],\"scattergeo\":[{\"type\":\"scattergeo\",\"marker\":{\"colorbar\":{\"outlinewidth\":0,\"ticks\":\"\"}}}],\"scatterpolar\":[{\"type\":\"scatterpolar\",\"marker\":{\"colorbar\":{\"outlinewidth\":0,\"ticks\":\"\"}}}],\"histogram\":[{\"marker\":{\"pattern\":{\"fillmode\":\"overlay\",\"size\":10,\"solidity\":0.2}},\"type\":\"histogram\"}],\"scattergl\":[{\"type\":\"scattergl\",\"marker\":{\"colorbar\":{\"outlinewidth\":0,\"ticks\":\"\"}}}],\"scatter3d\":[{\"type\":\"scatter3d\",\"line\":{\"colorbar\":{\"outlinewidth\":0,\"ticks\":\"\"}},\"marker\":{\"colorbar\":{\"outlinewidth\":0,\"ticks\":\"\"}}}],\"scattermapbox\":[{\"type\":\"scattermapbox\",\"marker\":{\"colorbar\":{\"outlinewidth\":0,\"ticks\":\"\"}}}],\"scatterternary\":[{\"type\":\"scatterternary\",\"marker\":{\"colorbar\":{\"outlinewidth\":0,\"ticks\":\"\"}}}],\"scattercarpet\":[{\"type\":\"scattercarpet\",\"marker\":{\"colorbar\":{\"outlinewidth\":0,\"ticks\":\"\"}}}],\"carpet\":[{\"aaxis\":{\"endlinecolor\":\"#2a3f5f\",\"gridcolor\":\"white\",\"linecolor\":\"white\",\"minorgridcolor\":\"white\",\"startlinecolor\":\"#2a3f5f\"},\"baxis\":{\"endlinecolor\":\"#2a3f5f\",\"gridcolor\":\"white\",\"linecolor\":\"white\",\"minorgridcolor\":\"white\",\"startlinecolor\":\"#2a3f5f\"},\"type\":\"carpet\"}],\"table\":[{\"cells\":{\"fill\":{\"color\":\"#EBF0F8\"},\"line\":{\"color\":\"white\"}},\"header\":{\"fill\":{\"color\":\"#C8D4E3\"},\"line\":{\"color\":\"white\"}},\"type\":\"table\"}],\"barpolar\":[{\"marker\":{\"line\":{\"color\":\"#E5ECF6\",\"width\":0.5},\"pattern\":{\"fillmode\":\"overlay\",\"size\":10,\"solidity\":0.2}},\"type\":\"barpolar\"}],\"pie\":[{\"automargin\":true,\"type\":\"pie\"}]},\"layout\":{\"autotypenumbers\":\"strict\",\"colorway\":[\"#636efa\",\"#EF553B\",\"#00cc96\",\"#ab63fa\",\"#FFA15A\",\"#19d3f3\",\"#FF6692\",\"#B6E880\",\"#FF97FF\",\"#FECB52\"],\"font\":{\"color\":\"#2a3f5f\"},\"hovermode\":\"closest\",\"hoverlabel\":{\"align\":\"left\"},\"paper_bgcolor\":\"white\",\"plot_bgcolor\":\"#E5ECF6\",\"polar\":{\"bgcolor\":\"#E5ECF6\",\"angularaxis\":{\"gridcolor\":\"white\",\"linecolor\":\"white\",\"ticks\":\"\"},\"radialaxis\":{\"gridcolor\":\"white\",\"linecolor\":\"white\",\"ticks\":\"\"}},\"ternary\":{\"bgcolor\":\"#E5ECF6\",\"aaxis\":{\"gridcolor\":\"white\",\"linecolor\":\"white\",\"ticks\":\"\"},\"baxis\":{\"gridcolor\":\"white\",\"linecolor\":\"white\",\"ticks\":\"\"},\"caxis\":{\"gridcolor\":\"white\",\"linecolor\":\"white\",\"ticks\":\"\"}},\"coloraxis\":{\"colorbar\":{\"outlinewidth\":0,\"ticks\":\"\"}},\"colorscale\":{\"sequential\":[[0.0,\"#0d0887\"],[0.1111111111111111,\"#46039f\"],[0.2222222222222222,\"#7201a8\"],[0.3333333333333333,\"#9c179e\"],[0.4444444444444444,\"#bd3786\"],[0.5555555555555556,\"#d8576b\"],[0.6666666666666666,\"#ed7953\"],[0.7777777777777778,\"#fb9f3a\"],[0.8888888888888888,\"#fdca26\"],[1.0,\"#f0f921\"]],\"sequentialminus\":[[0.0,\"#0d0887\"],[0.1111111111111111,\"#46039f\"],[0.2222222222222222,\"#7201a8\"],[0.3333333333333333,\"#9c179e\"],[0.4444444444444444,\"#bd3786\"],[0.5555555555555556,\"#d8576b\"],[0.6666666666666666,\"#ed7953\"],[0.7777777777777778,\"#fb9f3a\"],[0.8888888888888888,\"#fdca26\"],[1.0,\"#f0f921\"]],\"diverging\":[[0,\"#8e0152\"],[0.1,\"#c51b7d\"],[0.2,\"#de77ae\"],[0.3,\"#f1b6da\"],[0.4,\"#fde0ef\"],[0.5,\"#f7f7f7\"],[0.6,\"#e6f5d0\"],[0.7,\"#b8e186\"],[0.8,\"#7fbc41\"],[0.9,\"#4d9221\"],[1,\"#276419\"]]},\"xaxis\":{\"gridcolor\":\"white\",\"linecolor\":\"white\",\"ticks\":\"\",\"title\":{\"standoff\":15},\"zerolinecolor\":\"white\",\"automargin\":true,\"zerolinewidth\":2},\"yaxis\":{\"gridcolor\":\"white\",\"linecolor\":\"white\",\"ticks\":\"\",\"title\":{\"standoff\":15},\"zerolinecolor\":\"white\",\"automargin\":true,\"zerolinewidth\":2},\"scene\":{\"xaxis\":{\"backgroundcolor\":\"#E5ECF6\",\"gridcolor\":\"white\",\"linecolor\":\"white\",\"showbackground\":true,\"ticks\":\"\",\"zerolinecolor\":\"white\",\"gridwidth\":2},\"yaxis\":{\"backgroundcolor\":\"#E5ECF6\",\"gridcolor\":\"white\",\"linecolor\":\"white\",\"showbackground\":true,\"ticks\":\"\",\"zerolinecolor\":\"white\",\"gridwidth\":2},\"zaxis\":{\"backgroundcolor\":\"#E5ECF6\",\"gridcolor\":\"white\",\"linecolor\":\"white\",\"showbackground\":true,\"ticks\":\"\",\"zerolinecolor\":\"white\",\"gridwidth\":2}},\"shapedefaults\":{\"line\":{\"color\":\"#2a3f5f\"}},\"annotationdefaults\":{\"arrowcolor\":\"#2a3f5f\",\"arrowhead\":0,\"arrowwidth\":1},\"geo\":{\"bgcolor\":\"white\",\"landcolor\":\"#E5ECF6\",\"subunitcolor\":\"white\",\"showland\":true,\"showlakes\":true,\"lakecolor\":\"white\"},\"title\":{\"x\":0.05},\"mapbox\":{\"style\":\"light\"}}},\"xaxis\":{\"anchor\":\"y\",\"domain\":[0.0,1.0],\"title\":{\"text\":\"Age\"}},\"yaxis\":{\"anchor\":\"x\",\"domain\":[0.0,1.0],\"title\":{\"text\":\"Goals\"}},\"legend\":{\"tracegroupgap\":0},\"margin\":{\"t\":60},\"barmode\":\"relative\",\"height\":400,\"width\":500},                        {\"responsive\": true}                    ).then(function(){\n",
       "                            \n",
       "var gd = document.getElementById('7dc74ae0-0117-4fbd-9b28-074299367bff');\n",
       "var x = new MutationObserver(function (mutations, observer) {{\n",
       "        var display = window.getComputedStyle(gd).display;\n",
       "        if (!display || display === 'none') {{\n",
       "            console.log([gd, 'removed!']);\n",
       "            Plotly.purge(gd);\n",
       "            observer.disconnect();\n",
       "        }}\n",
       "}});\n",
       "\n",
       "// Listen for the removal of the full notebook cells\n",
       "var notebookContainer = gd.closest('#notebook-container');\n",
       "if (notebookContainer) {{\n",
       "    x.observe(notebookContainer, {childList: true});\n",
       "}}\n",
       "\n",
       "// Listen for the clearing of the current output cell\n",
       "var outputEl = gd.closest('.output');\n",
       "if (outputEl) {{\n",
       "    x.observe(outputEl, {childList: true});\n",
       "}}\n",
       "\n",
       "                        })                };                });            </script>        </div>"
      ]
     },
     "metadata": {},
     "output_type": "display_data"
    }
   ],
   "source": [
    "px.bar(data ,x='Age' ,y='Goals',width=500, height=400)"
   ]
  },
  {
   "cell_type": "code",
   "execution_count": 321,
   "id": "43613117",
   "metadata": {},
   "outputs": [
    {
     "data": {
      "application/vnd.plotly.v1+json": {
       "config": {
        "plotlyServerURL": "https://plot.ly"
       },
       "data": [
        {
         "domain": {
          "x": [
           0,
           1
          ],
          "y": [
           0,
           1
          ]
         },
         "hovertemplate": "Position=%{label}<br>Goals=%{value}<extra></extra>",
         "labels": [
          "Centre-Forward",
          "Centre-Forward",
          "Centre-Forward",
          "Left Winger",
          "Right Winger",
          "Centre-Forward",
          "Attacking Midfield",
          "Left Winger",
          "Left Winger",
          "Central Midfield",
          "Attacking Midfield",
          "Defensive Midfield",
          "Left Winger",
          "Left Winger",
          "Left Winger",
          "Left Winger",
          "Central Midfield",
          "Central Midfield",
          "Centre-Forward",
          "Central Midfield",
          "Attacking Midfield",
          "Right-Back",
          "Centre-Back",
          "Centre-Back",
          "Central Midfield",
          "Second Striker",
          "Left-Back",
          "Right-Back",
          "Defensive Midfield",
          "Defensive Midfield",
          "Left Winger",
          "Right Winger",
          "Centre-Back",
          "Attacking Midfield",
          "Central Midfield",
          "Attacking Midfield",
          "Centre-Back",
          "Right Winger",
          "Central Midfield",
          "Goalkeeper",
          "Defensive Midfield",
          "Attacking Midfield",
          "Left Midfield",
          "Central Midfield",
          "Goalkeeper",
          "Central Midfield",
          "Left-Back",
          "Left Winger",
          "Centre-Back",
          "Centre-Forward",
          "Centre-Forward",
          "Centre-Back",
          "Centre-Back",
          "Defensive Midfield",
          "Centre-Back",
          "Defensive Midfield",
          "Centre-Back",
          "Left Winger",
          "Central Midfield",
          "Goalkeeper",
          "Goalkeeper",
          "Central Midfield",
          "Centre-Forward",
          "Central Midfield",
          "Centre-Forward",
          "Central Midfield",
          "Central Midfield",
          "Right Winger",
          "Defensive Midfield",
          "Right-Back",
          "Centre-Forward",
          "Centre-Back",
          "Central Midfield",
          "Goalkeeper",
          "Centre-Back",
          "Attacking Midfield",
          "Right Winger",
          "Centre-Back",
          "Right Winger",
          "Left Winger",
          "Centre-Forward",
          "Left-Back",
          "Right Winger",
          "Attacking Midfield",
          "Attacking Midfield",
          "Left-Back",
          "Right Winger",
          "Goalkeeper",
          "Second Striker",
          "Attacking Midfield",
          "Centre-Back",
          "Second Striker",
          "Centre-Back",
          "Left Winger",
          "Centre-Back",
          "Attacking Midfield",
          "Right-Back",
          "Central Midfield",
          "Central Midfield",
          "Left Winger",
          "Centre-Back",
          "Centre-Back",
          "Right Winger",
          "Centre-Forward",
          "Central Midfield",
          "Centre-Back",
          "Centre-Back",
          "Centre-Forward",
          "Left Winger",
          "Centre-Forward",
          "Defensive Midfield",
          "Central Midfield",
          "Attacking Midfield",
          "Left Winger",
          "Defensive Midfield",
          "Defensive Midfield",
          "Left-Back",
          "Right Winger",
          "Left-Back",
          "Centre-Back",
          "Right-Back",
          "Centre-Back",
          "Centre-Forward",
          "Centre-Back",
          "Right Winger",
          "Central Midfield",
          "Defensive Midfield",
          "Centre-Forward",
          "Central Midfield",
          "Centre-Back",
          "Attacking Midfield",
          "Centre-Back",
          "Centre-Back",
          "Second Striker",
          "Central Midfield",
          "Defensive Midfield",
          "Attacking Midfield",
          "Centre-Forward",
          "Centre-Forward",
          "Left-Back",
          "Central Midfield",
          "Defensive Midfield",
          "Central Midfield",
          "Left Winger",
          "Centre-Forward",
          "Central Midfield",
          "Central Midfield",
          "Defensive Midfield",
          "Centre-Forward",
          "Left-Back",
          "Attacking Midfield",
          "Centre-Forward",
          "Centre-Forward",
          "Left Winger",
          "Defensive Midfield",
          "Attacking Midfield",
          "Right Winger",
          "Centre-Forward",
          "Defensive Midfield",
          "Right Winger",
          "Left Midfield",
          "Central Midfield",
          "Left Winger",
          "Centre-Forward",
          "Central Midfield",
          "Centre-Back",
          "Centre-Back",
          "Right-Back",
          "Right Winger",
          "Right Winger",
          "Defensive Midfield",
          "Right Winger",
          "Centre-Back",
          "Left-Back",
          "Left Midfield",
          "Defensive Midfield",
          "Left-Back",
          "Centre-Back",
          "Centre-Forward",
          "Right Winger",
          "Centre-Forward",
          "Centre-Back",
          "Centre-Forward",
          "Left-Back",
          "Goalkeeper",
          "Centre-Back",
          "Centre-Forward",
          "Central Midfield",
          "Central Midfield",
          "Centre-Forward",
          "Right Winger",
          "Right Winger",
          "Centre-Back",
          "Centre-Forward",
          "Central Midfield",
          "Left-Back",
          "Centre-Forward",
          "Left Winger",
          "Central Midfield",
          "Centre-Back",
          "Centre-Back",
          "Central Midfield",
          "Right Winger",
          "Left Winger",
          "Central Midfield",
          "Centre-Forward",
          "Goalkeeper",
          "Central Midfield",
          "Right-Back",
          "Central Midfield",
          "Centre-Forward",
          "Right Winger",
          "Attacking Midfield",
          "Centre-Back",
          "Left Winger",
          "Central Midfield",
          "Central Midfield",
          "Centre-Back",
          "Centre-Back",
          "Centre-Back",
          "Centre-Forward",
          "Second Striker",
          "Right-Back",
          "Attacking Midfield",
          "Attacking Midfield",
          "Right Winger",
          "Central Midfield",
          "Left Winger",
          "Centre-Back",
          "Central Midfield",
          "Defensive Midfield",
          "Right Winger",
          "Central Midfield",
          "Right Midfield",
          "Centre-Forward",
          "Centre-Forward",
          "Second Striker",
          "Central Midfield",
          "Central Midfield",
          "Centre-Back",
          "Centre-Back",
          "Defensive Midfield",
          "Attacking Midfield",
          "Centre-Back",
          "Centre-Back",
          "Defensive Midfield",
          "Centre-Back",
          "Left Winger",
          "Central Midfield",
          "Attacking Midfield",
          "Right-Back",
          "Centre-Forward",
          "Right-Back",
          "Centre-Forward",
          "Left-Back",
          "Right-Back",
          "Right Winger",
          "Defensive Midfield",
          "Defensive Midfield",
          "Central Midfield",
          "Right-Back",
          "Centre-Forward",
          "Centre-Back",
          "Left Winger",
          "Right Winger",
          "Centre-Forward",
          "Central Midfield",
          "Defensive Midfield",
          "Left-Back",
          "Central Midfield",
          "Central Midfield",
          "Right Midfield",
          "Right Winger",
          "Centre-Back",
          "Centre-Forward",
          "Centre-Back",
          "Left Midfield",
          "Centre-Back",
          "Left-Back",
          "Right-Back",
          "Left Winger",
          "Centre-Forward",
          "Centre-Back",
          "Right Winger",
          "Centre-Back",
          "Centre-Back",
          "Central Midfield",
          "Centre-Forward",
          "Left Winger",
          "Attacking Midfield",
          "Left Winger",
          "Defensive Midfield",
          "Centre-Back",
          "Right-Back",
          "Centre-Back",
          "Left Winger",
          "Central Midfield",
          "Right Midfield",
          "Right Winger",
          "Left Winger",
          "Left Winger",
          "Central Midfield",
          "Left-Back",
          "Centre-Back",
          "Right Winger",
          "Right-Back",
          "Right Winger",
          "Centre-Forward",
          "Centre-Back",
          "Left-Back",
          "Centre-Back",
          "Left Winger",
          "Attacking Midfield",
          "Centre-Back",
          "Goalkeeper",
          "Centre-Forward",
          "Centre-Back",
          "Centre-Back",
          "Central Midfield",
          "Centre-Back",
          "Right-Back",
          "Goalkeeper",
          "Centre-Back",
          "Central Midfield",
          "Centre-Back",
          "Centre-Back",
          "Right Winger",
          "Right Winger",
          "Central Midfield",
          "Centre-Forward",
          "Left Winger",
          "Centre-Forward",
          "Left Winger",
          "Central Midfield",
          "Right Winger",
          "Attacking Midfield",
          "Centre-Back",
          "Right-Back",
          "Centre-Back",
          "Attacking Midfield",
          "Attacking Midfield",
          "Central Midfield",
          "Defensive Midfield",
          "Second Striker",
          "Left Winger",
          "Left Winger",
          "Right-Back",
          "Right Winger",
          "Central Midfield",
          "Left Winger",
          "Right-Back",
          "Right Winger",
          "Centre-Back",
          "Centre-Forward",
          "Centre-Forward",
          "Central Midfield",
          "Defensive Midfield",
          "Central Midfield",
          "Left Midfield",
          "Attacking Midfield",
          "Right Winger",
          "Defensive Midfield",
          "Left-Back",
          "Left Winger",
          "Centre-Forward",
          "Centre-Forward",
          "Centre-Back",
          "Goalkeeper",
          "Left Winger",
          "Centre-Back",
          "Left-Back",
          "Central Midfield",
          "Centre-Forward",
          "Centre-Back",
          "Defensive Midfield",
          "Centre-Back",
          "Attacking Midfield",
          "Centre-Forward",
          "Central Midfield",
          "Centre-Forward",
          "Defensive Midfield",
          "Centre-Forward",
          "Defensive Midfield",
          "Centre-Forward",
          "Attacking Midfield",
          "Centre-Forward",
          "Attacking Midfield",
          "Defensive Midfield",
          "Right-Back",
          "Centre-Forward",
          "Goalkeeper",
          "Left Winger",
          "Centre-Forward",
          "Central Midfield",
          "Centre-Forward",
          "Attacking Midfield",
          "Centre-Back",
          "Goalkeeper",
          "Defensive Midfield",
          "Right Winger",
          "Right-Back",
          "Left Winger",
          "Centre-Back",
          "Attacking Midfield",
          "Attacking Midfield",
          "Right Winger",
          "Attacking Midfield",
          "Left-Back",
          "Centre-Back",
          "Centre-Back",
          "Centre-Forward",
          "Central Midfield",
          "Defensive Midfield",
          "Attacking Midfield",
          "Right-Back",
          "Attacking Midfield",
          "Central Midfield",
          "Right Midfield",
          "Central Midfield",
          "Centre-Forward",
          "Central Midfield",
          "Centre-Back",
          "Left Midfield",
          "Goalkeeper",
          "Centre-Forward",
          "Left-Back",
          "Centre-Back",
          "Right-Back",
          "Defensive Midfield",
          "Centre-Back",
          "Goalkeeper",
          "Centre-Forward",
          "Central Midfield",
          "Centre-Forward",
          "Left Winger",
          "Goalkeeper",
          "Central Midfield",
          "Centre-Back",
          "Defensive Midfield",
          "Centre-Forward",
          "Right-Back",
          "Attacking Midfield",
          "Defensive Midfield",
          "Left Midfield",
          "Right-Back",
          "Right Winger",
          "Right Winger",
          "Left Winger",
          "Right Winger",
          "Right-Back",
          "Attacking Midfield",
          "Left Winger",
          "Attacking Midfield",
          "Left-Back",
          "Attacking Midfield",
          "Central Midfield",
          "Right Winger",
          "Centre-Back",
          "Right-Back",
          "Central Midfield",
          "Centre-Back",
          "Left-Back",
          "Right Winger",
          "Right-Back",
          "Right Winger",
          "Left Winger",
          "Central Midfield",
          "Centre-Back",
          "Centre-Back",
          "Centre-Back",
          "Central Midfield",
          "Left Midfield",
          "Centre-Back",
          "Right Winger",
          "Central Midfield",
          "Right Winger",
          "Right-Back",
          "Right-Back",
          "Centre-Forward",
          "Defensive Midfield",
          "Right Midfield",
          "Left Winger",
          "Left Winger",
          "Defensive Midfield",
          "Central Midfield",
          "Defensive Midfield",
          "Goalkeeper",
          "Goalkeeper",
          "Defensive Midfield",
          "Right Winger",
          "Centre-Back",
          "Centre-Forward",
          "Attacking Midfield",
          "Second Striker",
          "Goalkeeper",
          "Centre-Back",
          "Centre-Back"
         ],
         "legendgroup": "",
         "name": "",
         "showlegend": true,
         "type": "pie",
         "values": [
          7,
          13,
          7,
          2,
          15,
          4,
          3,
          3,
          0,
          0,
          5,
          3,
          2,
          3,
          8,
          5,
          0,
          5,
          5,
          0,
          3,
          1,
          0,
          1,
          3,
          1,
          0,
          3,
          3,
          1,
          6,
          3,
          1,
          4,
          4,
          3,
          0,
          8,
          2,
          0,
          0,
          7,
          2,
          0,
          0,
          1,
          0,
          4,
          0,
          9,
          4,
          0,
          0,
          0,
          0,
          1,
          3,
          8,
          0,
          0,
          0,
          0,
          23,
          2,
          2,
          2,
          3,
          2,
          1,
          2,
          2,
          0,
          0,
          0,
          1,
          4,
          4,
          1,
          3,
          9,
          12,
          1,
          1,
          1,
          0,
          0,
          0,
          0,
          6,
          3,
          1,
          5,
          1,
          5,
          2,
          11,
          4,
          2,
          3,
          5,
          3,
          1,
          3,
          3,
          8,
          0,
          1,
          6,
          4,
          4,
          3,
          1,
          2,
          6,
          2,
          1,
          0,
          8,
          0,
          0,
          0,
          0,
          3,
          0,
          1,
          5,
          1,
          5,
          3,
          0,
          1,
          0,
          0,
          3,
          0,
          1,
          2,
          5,
          3,
          3,
          2,
          1,
          0,
          2,
          6,
          2,
          2,
          1,
          5,
          3,
          2,
          11,
          9,
          0,
          0,
          6,
          1,
          8,
          2,
          2,
          3,
          5,
          1,
          2,
          0,
          0,
          0,
          0,
          1,
          1,
          0,
          3,
          0,
          0,
          2,
          2,
          2,
          1,
          1,
          5,
          2,
          0,
          8,
          1,
          0,
          1,
          3,
          1,
          4,
          8,
          5,
          1,
          0,
          2,
          3,
          0,
          3,
          2,
          2,
          1,
          1,
          0,
          5,
          0,
          0,
          3,
          0,
          1,
          0,
          0,
          1,
          3,
          0,
          0,
          2,
          0,
          0,
          1,
          0,
          0,
          4,
          4,
          0,
          2,
          2,
          0,
          2,
          2,
          0,
          0,
          1,
          2,
          2,
          0,
          1,
          4,
          6,
          2,
          1,
          0,
          0,
          1,
          6,
          0,
          2,
          0,
          1,
          0,
          1,
          3,
          0,
          8,
          0,
          2,
          0,
          1,
          4,
          2,
          2,
          0,
          0,
          14,
          0,
          4,
          0,
          0,
          1,
          1,
          0,
          0,
          0,
          0,
          4,
          3,
          3,
          0,
          11,
          1,
          0,
          0,
          6,
          5,
          1,
          9,
          2,
          0,
          0,
          1,
          5,
          2,
          7,
          0,
          0,
          2,
          0,
          4,
          2,
          4,
          2,
          0,
          6,
          0,
          0,
          2,
          9,
          2,
          2,
          3,
          0,
          0,
          0,
          3,
          2,
          0,
          0,
          9,
          1,
          2,
          1,
          0,
          1,
          0,
          1,
          2,
          1,
          0,
          2,
          3,
          0,
          7,
          0,
          14,
          3,
          3,
          8,
          1,
          0,
          1,
          0,
          6,
          4,
          3,
          1,
          4,
          1,
          0,
          0,
          3,
          3,
          7,
          1,
          1,
          0,
          0,
          5,
          1,
          0,
          0,
          1,
          3,
          3,
          1,
          2,
          0,
          3,
          12,
          0,
          0,
          2,
          0,
          2,
          1,
          1,
          0,
          0,
          0,
          2,
          3,
          0,
          4,
          0,
          3,
          2,
          4,
          4,
          15,
          8,
          0,
          2,
          8,
          0,
          0,
          15,
          2,
          4,
          0,
          0,
          0,
          0,
          1,
          0,
          3,
          1,
          1,
          1,
          7,
          4,
          0,
          0,
          0,
          2,
          1,
          0,
          1,
          0,
          0,
          0,
          0,
          0,
          3,
          0,
          0,
          0,
          0,
          2,
          1,
          0,
          0,
          0,
          1,
          0,
          4,
          0,
          4,
          0,
          0,
          2,
          0,
          2,
          2,
          0,
          2,
          0,
          2,
          0,
          0,
          4,
          4,
          0,
          0,
          1,
          2,
          1,
          1,
          1,
          2,
          2,
          0,
          0,
          1,
          0,
          0,
          2,
          0,
          6,
          1,
          4,
          0,
          0,
          0,
          4,
          0,
          1,
          0,
          0,
          5,
          1,
          4,
          7,
          1,
          1,
          3,
          0,
          0,
          1,
          0,
          0,
          0,
          0,
          3,
          0,
          2,
          0,
          1,
          0,
          0,
          3
         ]
        }
       ],
       "layout": {
        "height": 400,
        "legend": {
         "tracegroupgap": 0
        },
        "margin": {
         "t": 60
        },
        "template": {
         "data": {
          "bar": [
           {
            "error_x": {
             "color": "#2a3f5f"
            },
            "error_y": {
             "color": "#2a3f5f"
            },
            "marker": {
             "line": {
              "color": "#E5ECF6",
              "width": 0.5
             },
             "pattern": {
              "fillmode": "overlay",
              "size": 10,
              "solidity": 0.2
             }
            },
            "type": "bar"
           }
          ],
          "barpolar": [
           {
            "marker": {
             "line": {
              "color": "#E5ECF6",
              "width": 0.5
             },
             "pattern": {
              "fillmode": "overlay",
              "size": 10,
              "solidity": 0.2
             }
            },
            "type": "barpolar"
           }
          ],
          "carpet": [
           {
            "aaxis": {
             "endlinecolor": "#2a3f5f",
             "gridcolor": "white",
             "linecolor": "white",
             "minorgridcolor": "white",
             "startlinecolor": "#2a3f5f"
            },
            "baxis": {
             "endlinecolor": "#2a3f5f",
             "gridcolor": "white",
             "linecolor": "white",
             "minorgridcolor": "white",
             "startlinecolor": "#2a3f5f"
            },
            "type": "carpet"
           }
          ],
          "choropleth": [
           {
            "colorbar": {
             "outlinewidth": 0,
             "ticks": ""
            },
            "type": "choropleth"
           }
          ],
          "contour": [
           {
            "colorbar": {
             "outlinewidth": 0,
             "ticks": ""
            },
            "colorscale": [
             [
              0,
              "#0d0887"
             ],
             [
              0.1111111111111111,
              "#46039f"
             ],
             [
              0.2222222222222222,
              "#7201a8"
             ],
             [
              0.3333333333333333,
              "#9c179e"
             ],
             [
              0.4444444444444444,
              "#bd3786"
             ],
             [
              0.5555555555555556,
              "#d8576b"
             ],
             [
              0.6666666666666666,
              "#ed7953"
             ],
             [
              0.7777777777777778,
              "#fb9f3a"
             ],
             [
              0.8888888888888888,
              "#fdca26"
             ],
             [
              1,
              "#f0f921"
             ]
            ],
            "type": "contour"
           }
          ],
          "contourcarpet": [
           {
            "colorbar": {
             "outlinewidth": 0,
             "ticks": ""
            },
            "type": "contourcarpet"
           }
          ],
          "heatmap": [
           {
            "colorbar": {
             "outlinewidth": 0,
             "ticks": ""
            },
            "colorscale": [
             [
              0,
              "#0d0887"
             ],
             [
              0.1111111111111111,
              "#46039f"
             ],
             [
              0.2222222222222222,
              "#7201a8"
             ],
             [
              0.3333333333333333,
              "#9c179e"
             ],
             [
              0.4444444444444444,
              "#bd3786"
             ],
             [
              0.5555555555555556,
              "#d8576b"
             ],
             [
              0.6666666666666666,
              "#ed7953"
             ],
             [
              0.7777777777777778,
              "#fb9f3a"
             ],
             [
              0.8888888888888888,
              "#fdca26"
             ],
             [
              1,
              "#f0f921"
             ]
            ],
            "type": "heatmap"
           }
          ],
          "heatmapgl": [
           {
            "colorbar": {
             "outlinewidth": 0,
             "ticks": ""
            },
            "colorscale": [
             [
              0,
              "#0d0887"
             ],
             [
              0.1111111111111111,
              "#46039f"
             ],
             [
              0.2222222222222222,
              "#7201a8"
             ],
             [
              0.3333333333333333,
              "#9c179e"
             ],
             [
              0.4444444444444444,
              "#bd3786"
             ],
             [
              0.5555555555555556,
              "#d8576b"
             ],
             [
              0.6666666666666666,
              "#ed7953"
             ],
             [
              0.7777777777777778,
              "#fb9f3a"
             ],
             [
              0.8888888888888888,
              "#fdca26"
             ],
             [
              1,
              "#f0f921"
             ]
            ],
            "type": "heatmapgl"
           }
          ],
          "histogram": [
           {
            "marker": {
             "pattern": {
              "fillmode": "overlay",
              "size": 10,
              "solidity": 0.2
             }
            },
            "type": "histogram"
           }
          ],
          "histogram2d": [
           {
            "colorbar": {
             "outlinewidth": 0,
             "ticks": ""
            },
            "colorscale": [
             [
              0,
              "#0d0887"
             ],
             [
              0.1111111111111111,
              "#46039f"
             ],
             [
              0.2222222222222222,
              "#7201a8"
             ],
             [
              0.3333333333333333,
              "#9c179e"
             ],
             [
              0.4444444444444444,
              "#bd3786"
             ],
             [
              0.5555555555555556,
              "#d8576b"
             ],
             [
              0.6666666666666666,
              "#ed7953"
             ],
             [
              0.7777777777777778,
              "#fb9f3a"
             ],
             [
              0.8888888888888888,
              "#fdca26"
             ],
             [
              1,
              "#f0f921"
             ]
            ],
            "type": "histogram2d"
           }
          ],
          "histogram2dcontour": [
           {
            "colorbar": {
             "outlinewidth": 0,
             "ticks": ""
            },
            "colorscale": [
             [
              0,
              "#0d0887"
             ],
             [
              0.1111111111111111,
              "#46039f"
             ],
             [
              0.2222222222222222,
              "#7201a8"
             ],
             [
              0.3333333333333333,
              "#9c179e"
             ],
             [
              0.4444444444444444,
              "#bd3786"
             ],
             [
              0.5555555555555556,
              "#d8576b"
             ],
             [
              0.6666666666666666,
              "#ed7953"
             ],
             [
              0.7777777777777778,
              "#fb9f3a"
             ],
             [
              0.8888888888888888,
              "#fdca26"
             ],
             [
              1,
              "#f0f921"
             ]
            ],
            "type": "histogram2dcontour"
           }
          ],
          "mesh3d": [
           {
            "colorbar": {
             "outlinewidth": 0,
             "ticks": ""
            },
            "type": "mesh3d"
           }
          ],
          "parcoords": [
           {
            "line": {
             "colorbar": {
              "outlinewidth": 0,
              "ticks": ""
             }
            },
            "type": "parcoords"
           }
          ],
          "pie": [
           {
            "automargin": true,
            "type": "pie"
           }
          ],
          "scatter": [
           {
            "fillpattern": {
             "fillmode": "overlay",
             "size": 10,
             "solidity": 0.2
            },
            "type": "scatter"
           }
          ],
          "scatter3d": [
           {
            "line": {
             "colorbar": {
              "outlinewidth": 0,
              "ticks": ""
             }
            },
            "marker": {
             "colorbar": {
              "outlinewidth": 0,
              "ticks": ""
             }
            },
            "type": "scatter3d"
           }
          ],
          "scattercarpet": [
           {
            "marker": {
             "colorbar": {
              "outlinewidth": 0,
              "ticks": ""
             }
            },
            "type": "scattercarpet"
           }
          ],
          "scattergeo": [
           {
            "marker": {
             "colorbar": {
              "outlinewidth": 0,
              "ticks": ""
             }
            },
            "type": "scattergeo"
           }
          ],
          "scattergl": [
           {
            "marker": {
             "colorbar": {
              "outlinewidth": 0,
              "ticks": ""
             }
            },
            "type": "scattergl"
           }
          ],
          "scattermapbox": [
           {
            "marker": {
             "colorbar": {
              "outlinewidth": 0,
              "ticks": ""
             }
            },
            "type": "scattermapbox"
           }
          ],
          "scatterpolar": [
           {
            "marker": {
             "colorbar": {
              "outlinewidth": 0,
              "ticks": ""
             }
            },
            "type": "scatterpolar"
           }
          ],
          "scatterpolargl": [
           {
            "marker": {
             "colorbar": {
              "outlinewidth": 0,
              "ticks": ""
             }
            },
            "type": "scatterpolargl"
           }
          ],
          "scatterternary": [
           {
            "marker": {
             "colorbar": {
              "outlinewidth": 0,
              "ticks": ""
             }
            },
            "type": "scatterternary"
           }
          ],
          "surface": [
           {
            "colorbar": {
             "outlinewidth": 0,
             "ticks": ""
            },
            "colorscale": [
             [
              0,
              "#0d0887"
             ],
             [
              0.1111111111111111,
              "#46039f"
             ],
             [
              0.2222222222222222,
              "#7201a8"
             ],
             [
              0.3333333333333333,
              "#9c179e"
             ],
             [
              0.4444444444444444,
              "#bd3786"
             ],
             [
              0.5555555555555556,
              "#d8576b"
             ],
             [
              0.6666666666666666,
              "#ed7953"
             ],
             [
              0.7777777777777778,
              "#fb9f3a"
             ],
             [
              0.8888888888888888,
              "#fdca26"
             ],
             [
              1,
              "#f0f921"
             ]
            ],
            "type": "surface"
           }
          ],
          "table": [
           {
            "cells": {
             "fill": {
              "color": "#EBF0F8"
             },
             "line": {
              "color": "white"
             }
            },
            "header": {
             "fill": {
              "color": "#C8D4E3"
             },
             "line": {
              "color": "white"
             }
            },
            "type": "table"
           }
          ]
         },
         "layout": {
          "annotationdefaults": {
           "arrowcolor": "#2a3f5f",
           "arrowhead": 0,
           "arrowwidth": 1
          },
          "autotypenumbers": "strict",
          "coloraxis": {
           "colorbar": {
            "outlinewidth": 0,
            "ticks": ""
           }
          },
          "colorscale": {
           "diverging": [
            [
             0,
             "#8e0152"
            ],
            [
             0.1,
             "#c51b7d"
            ],
            [
             0.2,
             "#de77ae"
            ],
            [
             0.3,
             "#f1b6da"
            ],
            [
             0.4,
             "#fde0ef"
            ],
            [
             0.5,
             "#f7f7f7"
            ],
            [
             0.6,
             "#e6f5d0"
            ],
            [
             0.7,
             "#b8e186"
            ],
            [
             0.8,
             "#7fbc41"
            ],
            [
             0.9,
             "#4d9221"
            ],
            [
             1,
             "#276419"
            ]
           ],
           "sequential": [
            [
             0,
             "#0d0887"
            ],
            [
             0.1111111111111111,
             "#46039f"
            ],
            [
             0.2222222222222222,
             "#7201a8"
            ],
            [
             0.3333333333333333,
             "#9c179e"
            ],
            [
             0.4444444444444444,
             "#bd3786"
            ],
            [
             0.5555555555555556,
             "#d8576b"
            ],
            [
             0.6666666666666666,
             "#ed7953"
            ],
            [
             0.7777777777777778,
             "#fb9f3a"
            ],
            [
             0.8888888888888888,
             "#fdca26"
            ],
            [
             1,
             "#f0f921"
            ]
           ],
           "sequentialminus": [
            [
             0,
             "#0d0887"
            ],
            [
             0.1111111111111111,
             "#46039f"
            ],
            [
             0.2222222222222222,
             "#7201a8"
            ],
            [
             0.3333333333333333,
             "#9c179e"
            ],
            [
             0.4444444444444444,
             "#bd3786"
            ],
            [
             0.5555555555555556,
             "#d8576b"
            ],
            [
             0.6666666666666666,
             "#ed7953"
            ],
            [
             0.7777777777777778,
             "#fb9f3a"
            ],
            [
             0.8888888888888888,
             "#fdca26"
            ],
            [
             1,
             "#f0f921"
            ]
           ]
          },
          "colorway": [
           "#636efa",
           "#EF553B",
           "#00cc96",
           "#ab63fa",
           "#FFA15A",
           "#19d3f3",
           "#FF6692",
           "#B6E880",
           "#FF97FF",
           "#FECB52"
          ],
          "font": {
           "color": "#2a3f5f"
          },
          "geo": {
           "bgcolor": "white",
           "lakecolor": "white",
           "landcolor": "#E5ECF6",
           "showlakes": true,
           "showland": true,
           "subunitcolor": "white"
          },
          "hoverlabel": {
           "align": "left"
          },
          "hovermode": "closest",
          "mapbox": {
           "style": "light"
          },
          "paper_bgcolor": "white",
          "plot_bgcolor": "#E5ECF6",
          "polar": {
           "angularaxis": {
            "gridcolor": "white",
            "linecolor": "white",
            "ticks": ""
           },
           "bgcolor": "#E5ECF6",
           "radialaxis": {
            "gridcolor": "white",
            "linecolor": "white",
            "ticks": ""
           }
          },
          "scene": {
           "xaxis": {
            "backgroundcolor": "#E5ECF6",
            "gridcolor": "white",
            "gridwidth": 2,
            "linecolor": "white",
            "showbackground": true,
            "ticks": "",
            "zerolinecolor": "white"
           },
           "yaxis": {
            "backgroundcolor": "#E5ECF6",
            "gridcolor": "white",
            "gridwidth": 2,
            "linecolor": "white",
            "showbackground": true,
            "ticks": "",
            "zerolinecolor": "white"
           },
           "zaxis": {
            "backgroundcolor": "#E5ECF6",
            "gridcolor": "white",
            "gridwidth": 2,
            "linecolor": "white",
            "showbackground": true,
            "ticks": "",
            "zerolinecolor": "white"
           }
          },
          "shapedefaults": {
           "line": {
            "color": "#2a3f5f"
           }
          },
          "ternary": {
           "aaxis": {
            "gridcolor": "white",
            "linecolor": "white",
            "ticks": ""
           },
           "baxis": {
            "gridcolor": "white",
            "linecolor": "white",
            "ticks": ""
           },
           "bgcolor": "#E5ECF6",
           "caxis": {
            "gridcolor": "white",
            "linecolor": "white",
            "ticks": ""
           }
          },
          "title": {
           "x": 0.05
          },
          "xaxis": {
           "automargin": true,
           "gridcolor": "white",
           "linecolor": "white",
           "ticks": "",
           "title": {
            "standoff": 15
           },
           "zerolinecolor": "white",
           "zerolinewidth": 2
          },
          "yaxis": {
           "automargin": true,
           "gridcolor": "white",
           "linecolor": "white",
           "ticks": "",
           "title": {
            "standoff": 15
           },
           "zerolinecolor": "white",
           "zerolinewidth": 2
          }
         }
        },
        "width": 500
       }
      },
      "text/html": [
       "<div>                            <div id=\"bedc681f-05c3-4745-b2e8-f5d99028feb8\" class=\"plotly-graph-div\" style=\"height:400px; width:500px;\"></div>            <script type=\"text/javascript\">                require([\"plotly\"], function(Plotly) {                    window.PLOTLYENV=window.PLOTLYENV || {};                                    if (document.getElementById(\"bedc681f-05c3-4745-b2e8-f5d99028feb8\")) {                    Plotly.newPlot(                        \"bedc681f-05c3-4745-b2e8-f5d99028feb8\",                        [{\"domain\":{\"x\":[0.0,1.0],\"y\":[0.0,1.0]},\"hovertemplate\":\"Position=%{label}<br>Goals=%{value}<extra></extra>\",\"labels\":[\"Centre-Forward\",\"Centre-Forward\",\"Centre-Forward\",\"Left Winger\",\"Right Winger\",\"Centre-Forward\",\"Attacking Midfield\",\"Left Winger\",\"Left Winger\",\"Central Midfield\",\"Attacking Midfield\",\"Defensive Midfield\",\"Left Winger\",\"Left Winger\",\"Left Winger\",\"Left Winger\",\"Central Midfield\",\"Central Midfield\",\"Centre-Forward\",\"Central Midfield\",\"Attacking Midfield\",\"Right-Back\",\"Centre-Back\",\"Centre-Back\",\"Central Midfield\",\"Second Striker\",\"Left-Back\",\"Right-Back\",\"Defensive Midfield\",\"Defensive Midfield\",\"Left Winger\",\"Right Winger\",\"Centre-Back\",\"Attacking Midfield\",\"Central Midfield\",\"Attacking Midfield\",\"Centre-Back\",\"Right Winger\",\"Central Midfield\",\"Goalkeeper\",\"Defensive Midfield\",\"Attacking Midfield\",\"Left Midfield\",\"Central Midfield\",\"Goalkeeper\",\"Central Midfield\",\"Left-Back\",\"Left Winger\",\"Centre-Back\",\"Centre-Forward\",\"Centre-Forward\",\"Centre-Back\",\"Centre-Back\",\"Defensive Midfield\",\"Centre-Back\",\"Defensive Midfield\",\"Centre-Back\",\"Left Winger\",\"Central Midfield\",\"Goalkeeper\",\"Goalkeeper\",\"Central Midfield\",\"Centre-Forward\",\"Central Midfield\",\"Centre-Forward\",\"Central Midfield\",\"Central Midfield\",\"Right Winger\",\"Defensive Midfield\",\"Right-Back\",\"Centre-Forward\",\"Centre-Back\",\"Central Midfield\",\"Goalkeeper\",\"Centre-Back\",\"Attacking Midfield\",\"Right Winger\",\"Centre-Back\",\"Right Winger\",\"Left Winger\",\"Centre-Forward\",\"Left-Back\",\"Right Winger\",\"Attacking Midfield\",\"Attacking Midfield\",\"Left-Back\",\"Right Winger\",\"Goalkeeper\",\"Second Striker\",\"Attacking Midfield\",\"Centre-Back\",\"Second Striker\",\"Centre-Back\",\"Left Winger\",\"Centre-Back\",\"Attacking Midfield\",\"Right-Back\",\"Central Midfield\",\"Central Midfield\",\"Left Winger\",\"Centre-Back\",\"Centre-Back\",\"Right Winger\",\"Centre-Forward\",\"Central Midfield\",\"Centre-Back\",\"Centre-Back\",\"Centre-Forward\",\"Left Winger\",\"Centre-Forward\",\"Defensive Midfield\",\"Central Midfield\",\"Attacking Midfield\",\"Left Winger\",\"Defensive Midfield\",\"Defensive Midfield\",\"Left-Back\",\"Right Winger\",\"Left-Back\",\"Centre-Back\",\"Right-Back\",\"Centre-Back\",\"Centre-Forward\",\"Centre-Back\",\"Right Winger\",\"Central Midfield\",\"Defensive Midfield\",\"Centre-Forward\",\"Central Midfield\",\"Centre-Back\",\"Attacking Midfield\",\"Centre-Back\",\"Centre-Back\",\"Second Striker\",\"Central Midfield\",\"Defensive Midfield\",\"Attacking Midfield\",\"Centre-Forward\",\"Centre-Forward\",\"Left-Back\",\"Central Midfield\",\"Defensive Midfield\",\"Central Midfield\",\"Left Winger\",\"Centre-Forward\",\"Central Midfield\",\"Central Midfield\",\"Defensive Midfield\",\"Centre-Forward\",\"Left-Back\",\"Attacking Midfield\",\"Centre-Forward\",\"Centre-Forward\",\"Left Winger\",\"Defensive Midfield\",\"Attacking Midfield\",\"Right Winger\",\"Centre-Forward\",\"Defensive Midfield\",\"Right Winger\",\"Left Midfield\",\"Central Midfield\",\"Left Winger\",\"Centre-Forward\",\"Central Midfield\",\"Centre-Back\",\"Centre-Back\",\"Right-Back\",\"Right Winger\",\"Right Winger\",\"Defensive Midfield\",\"Right Winger\",\"Centre-Back\",\"Left-Back\",\"Left Midfield\",\"Defensive Midfield\",\"Left-Back\",\"Centre-Back\",\"Centre-Forward\",\"Right Winger\",\"Centre-Forward\",\"Centre-Back\",\"Centre-Forward\",\"Left-Back\",\"Goalkeeper\",\"Centre-Back\",\"Centre-Forward\",\"Central Midfield\",\"Central Midfield\",\"Centre-Forward\",\"Right Winger\",\"Right Winger\",\"Centre-Back\",\"Centre-Forward\",\"Central Midfield\",\"Left-Back\",\"Centre-Forward\",\"Left Winger\",\"Central Midfield\",\"Centre-Back\",\"Centre-Back\",\"Central Midfield\",\"Right Winger\",\"Left Winger\",\"Central Midfield\",\"Centre-Forward\",\"Goalkeeper\",\"Central Midfield\",\"Right-Back\",\"Central Midfield\",\"Centre-Forward\",\"Right Winger\",\"Attacking Midfield\",\"Centre-Back\",\"Left Winger\",\"Central Midfield\",\"Central Midfield\",\"Centre-Back\",\"Centre-Back\",\"Centre-Back\",\"Centre-Forward\",\"Second Striker\",\"Right-Back\",\"Attacking Midfield\",\"Attacking Midfield\",\"Right Winger\",\"Central Midfield\",\"Left Winger\",\"Centre-Back\",\"Central Midfield\",\"Defensive Midfield\",\"Right Winger\",\"Central Midfield\",\"Right Midfield\",\"Centre-Forward\",\"Centre-Forward\",\"Second Striker\",\"Central Midfield\",\"Central Midfield\",\"Centre-Back\",\"Centre-Back\",\"Defensive Midfield\",\"Attacking Midfield\",\"Centre-Back\",\"Centre-Back\",\"Defensive Midfield\",\"Centre-Back\",\"Left Winger\",\"Central Midfield\",\"Attacking Midfield\",\"Right-Back\",\"Centre-Forward\",\"Right-Back\",\"Centre-Forward\",\"Left-Back\",\"Right-Back\",\"Right Winger\",\"Defensive Midfield\",\"Defensive Midfield\",\"Central Midfield\",\"Right-Back\",\"Centre-Forward\",\"Centre-Back\",\"Left Winger\",\"Right Winger\",\"Centre-Forward\",\"Central Midfield\",\"Defensive Midfield\",\"Left-Back\",\"Central Midfield\",\"Central Midfield\",\"Right Midfield\",\"Right Winger\",\"Centre-Back\",\"Centre-Forward\",\"Centre-Back\",\"Left Midfield\",\"Centre-Back\",\"Left-Back\",\"Right-Back\",\"Left Winger\",\"Centre-Forward\",\"Centre-Back\",\"Right Winger\",\"Centre-Back\",\"Centre-Back\",\"Central Midfield\",\"Centre-Forward\",\"Left Winger\",\"Attacking Midfield\",\"Left Winger\",\"Defensive Midfield\",\"Centre-Back\",\"Right-Back\",\"Centre-Back\",\"Left Winger\",\"Central Midfield\",\"Right Midfield\",\"Right Winger\",\"Left Winger\",\"Left Winger\",\"Central Midfield\",\"Left-Back\",\"Centre-Back\",\"Right Winger\",\"Right-Back\",\"Right Winger\",\"Centre-Forward\",\"Centre-Back\",\"Left-Back\",\"Centre-Back\",\"Left Winger\",\"Attacking Midfield\",\"Centre-Back\",\"Goalkeeper\",\"Centre-Forward\",\"Centre-Back\",\"Centre-Back\",\"Central Midfield\",\"Centre-Back\",\"Right-Back\",\"Goalkeeper\",\"Centre-Back\",\"Central Midfield\",\"Centre-Back\",\"Centre-Back\",\"Right Winger\",\"Right Winger\",\"Central Midfield\",\"Centre-Forward\",\"Left Winger\",\"Centre-Forward\",\"Left Winger\",\"Central Midfield\",\"Right Winger\",\"Attacking Midfield\",\"Centre-Back\",\"Right-Back\",\"Centre-Back\",\"Attacking Midfield\",\"Attacking Midfield\",\"Central Midfield\",\"Defensive Midfield\",\"Second Striker\",\"Left Winger\",\"Left Winger\",\"Right-Back\",\"Right Winger\",\"Central Midfield\",\"Left Winger\",\"Right-Back\",\"Right Winger\",\"Centre-Back\",\"Centre-Forward\",\"Centre-Forward\",\"Central Midfield\",\"Defensive Midfield\",\"Central Midfield\",\"Left Midfield\",\"Attacking Midfield\",\"Right Winger\",\"Defensive Midfield\",\"Left-Back\",\"Left Winger\",\"Centre-Forward\",\"Centre-Forward\",\"Centre-Back\",\"Goalkeeper\",\"Left Winger\",\"Centre-Back\",\"Left-Back\",\"Central Midfield\",\"Centre-Forward\",\"Centre-Back\",\"Defensive Midfield\",\"Centre-Back\",\"Attacking Midfield\",\"Centre-Forward\",\"Central Midfield\",\"Centre-Forward\",\"Defensive Midfield\",\"Centre-Forward\",\"Defensive Midfield\",\"Centre-Forward\",\"Attacking Midfield\",\"Centre-Forward\",\"Attacking Midfield\",\"Defensive Midfield\",\"Right-Back\",\"Centre-Forward\",\"Goalkeeper\",\"Left Winger\",\"Centre-Forward\",\"Central Midfield\",\"Centre-Forward\",\"Attacking Midfield\",\"Centre-Back\",\"Goalkeeper\",\"Defensive Midfield\",\"Right Winger\",\"Right-Back\",\"Left Winger\",\"Centre-Back\",\"Attacking Midfield\",\"Attacking Midfield\",\"Right Winger\",\"Attacking Midfield\",\"Left-Back\",\"Centre-Back\",\"Centre-Back\",\"Centre-Forward\",\"Central Midfield\",\"Defensive Midfield\",\"Attacking Midfield\",\"Right-Back\",\"Attacking Midfield\",\"Central Midfield\",\"Right Midfield\",\"Central Midfield\",\"Centre-Forward\",\"Central Midfield\",\"Centre-Back\",\"Left Midfield\",\"Goalkeeper\",\"Centre-Forward\",\"Left-Back\",\"Centre-Back\",\"Right-Back\",\"Defensive Midfield\",\"Centre-Back\",\"Goalkeeper\",\"Centre-Forward\",\"Central Midfield\",\"Centre-Forward\",\"Left Winger\",\"Goalkeeper\",\"Central Midfield\",\"Centre-Back\",\"Defensive Midfield\",\"Centre-Forward\",\"Right-Back\",\"Attacking Midfield\",\"Defensive Midfield\",\"Left Midfield\",\"Right-Back\",\"Right Winger\",\"Right Winger\",\"Left Winger\",\"Right Winger\",\"Right-Back\",\"Attacking Midfield\",\"Left Winger\",\"Attacking Midfield\",\"Left-Back\",\"Attacking Midfield\",\"Central Midfield\",\"Right Winger\",\"Centre-Back\",\"Right-Back\",\"Central Midfield\",\"Centre-Back\",\"Left-Back\",\"Right Winger\",\"Right-Back\",\"Right Winger\",\"Left Winger\",\"Central Midfield\",\"Centre-Back\",\"Centre-Back\",\"Centre-Back\",\"Central Midfield\",\"Left Midfield\",\"Centre-Back\",\"Right Winger\",\"Central Midfield\",\"Right Winger\",\"Right-Back\",\"Right-Back\",\"Centre-Forward\",\"Defensive Midfield\",\"Right Midfield\",\"Left Winger\",\"Left Winger\",\"Defensive Midfield\",\"Central Midfield\",\"Defensive Midfield\",\"Goalkeeper\",\"Goalkeeper\",\"Defensive Midfield\",\"Right Winger\",\"Centre-Back\",\"Centre-Forward\",\"Attacking Midfield\",\"Second Striker\",\"Goalkeeper\",\"Centre-Back\",\"Centre-Back\"],\"legendgroup\":\"\",\"name\":\"\",\"showlegend\":true,\"values\":[7,13,7,2,15,4,3,3,0,0,5,3,2,3,8,5,0,5,5,0,3,1,0,1,3,1,0,3,3,1,6,3,1,4,4,3,0,8,2,0,0,7,2,0,0,1,0,4,0,9,4,0,0,0,0,1,3,8,0,0,0,0,23,2,2,2,3,2,1,2,2,0,0,0,1,4,4,1,3,9,12,1,1,1,0,0,0,0,6,3,1,5,1,5,2,11,4,2,3,5,3,1,3,3,8,0,1,6,4,4,3,1,2,6,2,1,0,8,0,0,0,0,3,0,1,5,1,5,3,0,1,0,0,3,0,1,2,5,3,3,2,1,0,2,6,2,2,1,5,3,2,11,9,0,0,6,1,8,2,2,3,5,1,2,0,0,0,0,1,1,0,3,0,0,2,2,2,1,1,5,2,0,8,1,0,1,3,1,4,8,5,1,0,2,3,0,3,2,2,1,1,0,5,0,0,3,0,1,0,0,1,3,0,0,2,0,0,1,0,0,4,4,0,2,2,0,2,2,0,0,1,2,2,0,1,4,6,2,1,0,0,1,6,0,2,0,1,0,1,3,0,8,0,2,0,1,4,2,2,0,0,14,0,4,0,0,1,1,0,0,0,0,4,3,3,0,11,1,0,0,6,5,1,9,2,0,0,1,5,2,7,0,0,2,0,4,2,4,2,0,6,0,0,2,9,2,2,3,0,0,0,3,2,0,0,9,1,2,1,0,1,0,1,2,1,0,2,3,0,7,0,14,3,3,8,1,0,1,0,6,4,3,1,4,1,0,0,3,3,7,1,1,0,0,5,1,0,0,1,3,3,1,2,0,3,12,0,0,2,0,2,1,1,0,0,0,2,3,0,4,0,3,2,4,4,15,8,0,2,8,0,0,15,2,4,0,0,0,0,1,0,3,1,1,1,7,4,0,0,0,2,1,0,1,0,0,0,0,0,3,0,0,0,0,2,1,0,0,0,1,0,4,0,4,0,0,2,0,2,2,0,2,0,2,0,0,4,4,0,0,1,2,1,1,1,2,2,0,0,1,0,0,2,0,6,1,4,0,0,0,4,0,1,0,0,5,1,4,7,1,1,3,0,0,1,0,0,0,0,3,0,2,0,1,0,0,3],\"type\":\"pie\"}],                        {\"template\":{\"data\":{\"histogram2dcontour\":[{\"type\":\"histogram2dcontour\",\"colorbar\":{\"outlinewidth\":0,\"ticks\":\"\"},\"colorscale\":[[0.0,\"#0d0887\"],[0.1111111111111111,\"#46039f\"],[0.2222222222222222,\"#7201a8\"],[0.3333333333333333,\"#9c179e\"],[0.4444444444444444,\"#bd3786\"],[0.5555555555555556,\"#d8576b\"],[0.6666666666666666,\"#ed7953\"],[0.7777777777777778,\"#fb9f3a\"],[0.8888888888888888,\"#fdca26\"],[1.0,\"#f0f921\"]]}],\"choropleth\":[{\"type\":\"choropleth\",\"colorbar\":{\"outlinewidth\":0,\"ticks\":\"\"}}],\"histogram2d\":[{\"type\":\"histogram2d\",\"colorbar\":{\"outlinewidth\":0,\"ticks\":\"\"},\"colorscale\":[[0.0,\"#0d0887\"],[0.1111111111111111,\"#46039f\"],[0.2222222222222222,\"#7201a8\"],[0.3333333333333333,\"#9c179e\"],[0.4444444444444444,\"#bd3786\"],[0.5555555555555556,\"#d8576b\"],[0.6666666666666666,\"#ed7953\"],[0.7777777777777778,\"#fb9f3a\"],[0.8888888888888888,\"#fdca26\"],[1.0,\"#f0f921\"]]}],\"heatmap\":[{\"type\":\"heatmap\",\"colorbar\":{\"outlinewidth\":0,\"ticks\":\"\"},\"colorscale\":[[0.0,\"#0d0887\"],[0.1111111111111111,\"#46039f\"],[0.2222222222222222,\"#7201a8\"],[0.3333333333333333,\"#9c179e\"],[0.4444444444444444,\"#bd3786\"],[0.5555555555555556,\"#d8576b\"],[0.6666666666666666,\"#ed7953\"],[0.7777777777777778,\"#fb9f3a\"],[0.8888888888888888,\"#fdca26\"],[1.0,\"#f0f921\"]]}],\"heatmapgl\":[{\"type\":\"heatmapgl\",\"colorbar\":{\"outlinewidth\":0,\"ticks\":\"\"},\"colorscale\":[[0.0,\"#0d0887\"],[0.1111111111111111,\"#46039f\"],[0.2222222222222222,\"#7201a8\"],[0.3333333333333333,\"#9c179e\"],[0.4444444444444444,\"#bd3786\"],[0.5555555555555556,\"#d8576b\"],[0.6666666666666666,\"#ed7953\"],[0.7777777777777778,\"#fb9f3a\"],[0.8888888888888888,\"#fdca26\"],[1.0,\"#f0f921\"]]}],\"contourcarpet\":[{\"type\":\"contourcarpet\",\"colorbar\":{\"outlinewidth\":0,\"ticks\":\"\"}}],\"contour\":[{\"type\":\"contour\",\"colorbar\":{\"outlinewidth\":0,\"ticks\":\"\"},\"colorscale\":[[0.0,\"#0d0887\"],[0.1111111111111111,\"#46039f\"],[0.2222222222222222,\"#7201a8\"],[0.3333333333333333,\"#9c179e\"],[0.4444444444444444,\"#bd3786\"],[0.5555555555555556,\"#d8576b\"],[0.6666666666666666,\"#ed7953\"],[0.7777777777777778,\"#fb9f3a\"],[0.8888888888888888,\"#fdca26\"],[1.0,\"#f0f921\"]]}],\"surface\":[{\"type\":\"surface\",\"colorbar\":{\"outlinewidth\":0,\"ticks\":\"\"},\"colorscale\":[[0.0,\"#0d0887\"],[0.1111111111111111,\"#46039f\"],[0.2222222222222222,\"#7201a8\"],[0.3333333333333333,\"#9c179e\"],[0.4444444444444444,\"#bd3786\"],[0.5555555555555556,\"#d8576b\"],[0.6666666666666666,\"#ed7953\"],[0.7777777777777778,\"#fb9f3a\"],[0.8888888888888888,\"#fdca26\"],[1.0,\"#f0f921\"]]}],\"mesh3d\":[{\"type\":\"mesh3d\",\"colorbar\":{\"outlinewidth\":0,\"ticks\":\"\"}}],\"scatter\":[{\"fillpattern\":{\"fillmode\":\"overlay\",\"size\":10,\"solidity\":0.2},\"type\":\"scatter\"}],\"parcoords\":[{\"type\":\"parcoords\",\"line\":{\"colorbar\":{\"outlinewidth\":0,\"ticks\":\"\"}}}],\"scatterpolargl\":[{\"type\":\"scatterpolargl\",\"marker\":{\"colorbar\":{\"outlinewidth\":0,\"ticks\":\"\"}}}],\"bar\":[{\"error_x\":{\"color\":\"#2a3f5f\"},\"error_y\":{\"color\":\"#2a3f5f\"},\"marker\":{\"line\":{\"color\":\"#E5ECF6\",\"width\":0.5},\"pattern\":{\"fillmode\":\"overlay\",\"size\":10,\"solidity\":0.2}},\"type\":\"bar\"}],\"scattergeo\":[{\"type\":\"scattergeo\",\"marker\":{\"colorbar\":{\"outlinewidth\":0,\"ticks\":\"\"}}}],\"scatterpolar\":[{\"type\":\"scatterpolar\",\"marker\":{\"colorbar\":{\"outlinewidth\":0,\"ticks\":\"\"}}}],\"histogram\":[{\"marker\":{\"pattern\":{\"fillmode\":\"overlay\",\"size\":10,\"solidity\":0.2}},\"type\":\"histogram\"}],\"scattergl\":[{\"type\":\"scattergl\",\"marker\":{\"colorbar\":{\"outlinewidth\":0,\"ticks\":\"\"}}}],\"scatter3d\":[{\"type\":\"scatter3d\",\"line\":{\"colorbar\":{\"outlinewidth\":0,\"ticks\":\"\"}},\"marker\":{\"colorbar\":{\"outlinewidth\":0,\"ticks\":\"\"}}}],\"scattermapbox\":[{\"type\":\"scattermapbox\",\"marker\":{\"colorbar\":{\"outlinewidth\":0,\"ticks\":\"\"}}}],\"scatterternary\":[{\"type\":\"scatterternary\",\"marker\":{\"colorbar\":{\"outlinewidth\":0,\"ticks\":\"\"}}}],\"scattercarpet\":[{\"type\":\"scattercarpet\",\"marker\":{\"colorbar\":{\"outlinewidth\":0,\"ticks\":\"\"}}}],\"carpet\":[{\"aaxis\":{\"endlinecolor\":\"#2a3f5f\",\"gridcolor\":\"white\",\"linecolor\":\"white\",\"minorgridcolor\":\"white\",\"startlinecolor\":\"#2a3f5f\"},\"baxis\":{\"endlinecolor\":\"#2a3f5f\",\"gridcolor\":\"white\",\"linecolor\":\"white\",\"minorgridcolor\":\"white\",\"startlinecolor\":\"#2a3f5f\"},\"type\":\"carpet\"}],\"table\":[{\"cells\":{\"fill\":{\"color\":\"#EBF0F8\"},\"line\":{\"color\":\"white\"}},\"header\":{\"fill\":{\"color\":\"#C8D4E3\"},\"line\":{\"color\":\"white\"}},\"type\":\"table\"}],\"barpolar\":[{\"marker\":{\"line\":{\"color\":\"#E5ECF6\",\"width\":0.5},\"pattern\":{\"fillmode\":\"overlay\",\"size\":10,\"solidity\":0.2}},\"type\":\"barpolar\"}],\"pie\":[{\"automargin\":true,\"type\":\"pie\"}]},\"layout\":{\"autotypenumbers\":\"strict\",\"colorway\":[\"#636efa\",\"#EF553B\",\"#00cc96\",\"#ab63fa\",\"#FFA15A\",\"#19d3f3\",\"#FF6692\",\"#B6E880\",\"#FF97FF\",\"#FECB52\"],\"font\":{\"color\":\"#2a3f5f\"},\"hovermode\":\"closest\",\"hoverlabel\":{\"align\":\"left\"},\"paper_bgcolor\":\"white\",\"plot_bgcolor\":\"#E5ECF6\",\"polar\":{\"bgcolor\":\"#E5ECF6\",\"angularaxis\":{\"gridcolor\":\"white\",\"linecolor\":\"white\",\"ticks\":\"\"},\"radialaxis\":{\"gridcolor\":\"white\",\"linecolor\":\"white\",\"ticks\":\"\"}},\"ternary\":{\"bgcolor\":\"#E5ECF6\",\"aaxis\":{\"gridcolor\":\"white\",\"linecolor\":\"white\",\"ticks\":\"\"},\"baxis\":{\"gridcolor\":\"white\",\"linecolor\":\"white\",\"ticks\":\"\"},\"caxis\":{\"gridcolor\":\"white\",\"linecolor\":\"white\",\"ticks\":\"\"}},\"coloraxis\":{\"colorbar\":{\"outlinewidth\":0,\"ticks\":\"\"}},\"colorscale\":{\"sequential\":[[0.0,\"#0d0887\"],[0.1111111111111111,\"#46039f\"],[0.2222222222222222,\"#7201a8\"],[0.3333333333333333,\"#9c179e\"],[0.4444444444444444,\"#bd3786\"],[0.5555555555555556,\"#d8576b\"],[0.6666666666666666,\"#ed7953\"],[0.7777777777777778,\"#fb9f3a\"],[0.8888888888888888,\"#fdca26\"],[1.0,\"#f0f921\"]],\"sequentialminus\":[[0.0,\"#0d0887\"],[0.1111111111111111,\"#46039f\"],[0.2222222222222222,\"#7201a8\"],[0.3333333333333333,\"#9c179e\"],[0.4444444444444444,\"#bd3786\"],[0.5555555555555556,\"#d8576b\"],[0.6666666666666666,\"#ed7953\"],[0.7777777777777778,\"#fb9f3a\"],[0.8888888888888888,\"#fdca26\"],[1.0,\"#f0f921\"]],\"diverging\":[[0,\"#8e0152\"],[0.1,\"#c51b7d\"],[0.2,\"#de77ae\"],[0.3,\"#f1b6da\"],[0.4,\"#fde0ef\"],[0.5,\"#f7f7f7\"],[0.6,\"#e6f5d0\"],[0.7,\"#b8e186\"],[0.8,\"#7fbc41\"],[0.9,\"#4d9221\"],[1,\"#276419\"]]},\"xaxis\":{\"gridcolor\":\"white\",\"linecolor\":\"white\",\"ticks\":\"\",\"title\":{\"standoff\":15},\"zerolinecolor\":\"white\",\"automargin\":true,\"zerolinewidth\":2},\"yaxis\":{\"gridcolor\":\"white\",\"linecolor\":\"white\",\"ticks\":\"\",\"title\":{\"standoff\":15},\"zerolinecolor\":\"white\",\"automargin\":true,\"zerolinewidth\":2},\"scene\":{\"xaxis\":{\"backgroundcolor\":\"#E5ECF6\",\"gridcolor\":\"white\",\"linecolor\":\"white\",\"showbackground\":true,\"ticks\":\"\",\"zerolinecolor\":\"white\",\"gridwidth\":2},\"yaxis\":{\"backgroundcolor\":\"#E5ECF6\",\"gridcolor\":\"white\",\"linecolor\":\"white\",\"showbackground\":true,\"ticks\":\"\",\"zerolinecolor\":\"white\",\"gridwidth\":2},\"zaxis\":{\"backgroundcolor\":\"#E5ECF6\",\"gridcolor\":\"white\",\"linecolor\":\"white\",\"showbackground\":true,\"ticks\":\"\",\"zerolinecolor\":\"white\",\"gridwidth\":2}},\"shapedefaults\":{\"line\":{\"color\":\"#2a3f5f\"}},\"annotationdefaults\":{\"arrowcolor\":\"#2a3f5f\",\"arrowhead\":0,\"arrowwidth\":1},\"geo\":{\"bgcolor\":\"white\",\"landcolor\":\"#E5ECF6\",\"subunitcolor\":\"white\",\"showland\":true,\"showlakes\":true,\"lakecolor\":\"white\"},\"title\":{\"x\":0.05},\"mapbox\":{\"style\":\"light\"}}},\"legend\":{\"tracegroupgap\":0},\"margin\":{\"t\":60},\"height\":400,\"width\":500},                        {\"responsive\": true}                    ).then(function(){\n",
       "                            \n",
       "var gd = document.getElementById('bedc681f-05c3-4745-b2e8-f5d99028feb8');\n",
       "var x = new MutationObserver(function (mutations, observer) {{\n",
       "        var display = window.getComputedStyle(gd).display;\n",
       "        if (!display || display === 'none') {{\n",
       "            console.log([gd, 'removed!']);\n",
       "            Plotly.purge(gd);\n",
       "            observer.disconnect();\n",
       "        }}\n",
       "}});\n",
       "\n",
       "// Listen for the removal of the full notebook cells\n",
       "var notebookContainer = gd.closest('#notebook-container');\n",
       "if (notebookContainer) {{\n",
       "    x.observe(notebookContainer, {childList: true});\n",
       "}}\n",
       "\n",
       "// Listen for the clearing of the current output cell\n",
       "var outputEl = gd.closest('.output');\n",
       "if (outputEl) {{\n",
       "    x.observe(outputEl, {childList: true});\n",
       "}}\n",
       "\n",
       "                        })                };                });            </script>        </div>"
      ]
     },
     "metadata": {},
     "output_type": "display_data"
    }
   ],
   "source": [
    "px.pie(data, values='Goals' , names='Position',width=500, height=400)"
   ]
  },
  {
   "cell_type": "code",
   "execution_count": 322,
   "id": "2ce8f2d8",
   "metadata": {},
   "outputs": [
    {
     "data": {
      "application/vnd.plotly.v1+json": {
       "config": {
        "plotlyServerURL": "https://plot.ly"
       },
       "data": [
        {
         "domain": {
          "x": [
           0,
           1
          ],
          "y": [
           0,
           1
          ]
         },
         "hovertemplate": "Position=%{label}<br>Assists=%{value}<extra></extra>",
         "labels": [
          "Centre-Forward",
          "Centre-Forward",
          "Centre-Forward",
          "Left Winger",
          "Right Winger",
          "Centre-Forward",
          "Attacking Midfield",
          "Left Winger",
          "Left Winger",
          "Central Midfield",
          "Attacking Midfield",
          "Defensive Midfield",
          "Left Winger",
          "Left Winger",
          "Left Winger",
          "Left Winger",
          "Central Midfield",
          "Central Midfield",
          "Centre-Forward",
          "Central Midfield",
          "Attacking Midfield",
          "Right-Back",
          "Centre-Back",
          "Centre-Back",
          "Central Midfield",
          "Second Striker",
          "Left-Back",
          "Right-Back",
          "Defensive Midfield",
          "Defensive Midfield",
          "Left Winger",
          "Right Winger",
          "Centre-Back",
          "Attacking Midfield",
          "Central Midfield",
          "Attacking Midfield",
          "Centre-Back",
          "Right Winger",
          "Central Midfield",
          "Goalkeeper",
          "Defensive Midfield",
          "Attacking Midfield",
          "Left Midfield",
          "Central Midfield",
          "Goalkeeper",
          "Central Midfield",
          "Left-Back",
          "Left Winger",
          "Centre-Back",
          "Centre-Forward",
          "Centre-Forward",
          "Centre-Back",
          "Centre-Back",
          "Defensive Midfield",
          "Centre-Back",
          "Defensive Midfield",
          "Centre-Back",
          "Left Winger",
          "Central Midfield",
          "Goalkeeper",
          "Goalkeeper",
          "Central Midfield",
          "Centre-Forward",
          "Central Midfield",
          "Centre-Forward",
          "Central Midfield",
          "Central Midfield",
          "Right Winger",
          "Defensive Midfield",
          "Right-Back",
          "Centre-Forward",
          "Centre-Back",
          "Central Midfield",
          "Goalkeeper",
          "Centre-Back",
          "Attacking Midfield",
          "Right Winger",
          "Centre-Back",
          "Right Winger",
          "Left Winger",
          "Centre-Forward",
          "Left-Back",
          "Right Winger",
          "Attacking Midfield",
          "Attacking Midfield",
          "Left-Back",
          "Right Winger",
          "Goalkeeper",
          "Second Striker",
          "Attacking Midfield",
          "Centre-Back",
          "Second Striker",
          "Centre-Back",
          "Left Winger",
          "Centre-Back",
          "Attacking Midfield",
          "Right-Back",
          "Central Midfield",
          "Central Midfield",
          "Left Winger",
          "Centre-Back",
          "Centre-Back",
          "Right Winger",
          "Centre-Forward",
          "Central Midfield",
          "Centre-Back",
          "Centre-Back",
          "Centre-Forward",
          "Left Winger",
          "Centre-Forward",
          "Defensive Midfield",
          "Central Midfield",
          "Attacking Midfield",
          "Left Winger",
          "Defensive Midfield",
          "Defensive Midfield",
          "Left-Back",
          "Right Winger",
          "Left-Back",
          "Centre-Back",
          "Right-Back",
          "Centre-Back",
          "Centre-Forward",
          "Centre-Back",
          "Right Winger",
          "Central Midfield",
          "Defensive Midfield",
          "Centre-Forward",
          "Central Midfield",
          "Centre-Back",
          "Attacking Midfield",
          "Centre-Back",
          "Centre-Back",
          "Second Striker",
          "Central Midfield",
          "Defensive Midfield",
          "Attacking Midfield",
          "Centre-Forward",
          "Centre-Forward",
          "Left-Back",
          "Central Midfield",
          "Defensive Midfield",
          "Central Midfield",
          "Left Winger",
          "Centre-Forward",
          "Central Midfield",
          "Central Midfield",
          "Defensive Midfield",
          "Centre-Forward",
          "Left-Back",
          "Attacking Midfield",
          "Centre-Forward",
          "Centre-Forward",
          "Left Winger",
          "Defensive Midfield",
          "Attacking Midfield",
          "Right Winger",
          "Centre-Forward",
          "Defensive Midfield",
          "Right Winger",
          "Left Midfield",
          "Central Midfield",
          "Left Winger",
          "Centre-Forward",
          "Central Midfield",
          "Centre-Back",
          "Centre-Back",
          "Right-Back",
          "Right Winger",
          "Right Winger",
          "Defensive Midfield",
          "Right Winger",
          "Centre-Back",
          "Left-Back",
          "Left Midfield",
          "Defensive Midfield",
          "Left-Back",
          "Centre-Back",
          "Centre-Forward",
          "Right Winger",
          "Centre-Forward",
          "Centre-Back",
          "Centre-Forward",
          "Left-Back",
          "Goalkeeper",
          "Centre-Back",
          "Centre-Forward",
          "Central Midfield",
          "Central Midfield",
          "Centre-Forward",
          "Right Winger",
          "Right Winger",
          "Centre-Back",
          "Centre-Forward",
          "Central Midfield",
          "Left-Back",
          "Centre-Forward",
          "Left Winger",
          "Central Midfield",
          "Centre-Back",
          "Centre-Back",
          "Central Midfield",
          "Right Winger",
          "Left Winger",
          "Central Midfield",
          "Centre-Forward",
          "Goalkeeper",
          "Central Midfield",
          "Right-Back",
          "Central Midfield",
          "Centre-Forward",
          "Right Winger",
          "Attacking Midfield",
          "Centre-Back",
          "Left Winger",
          "Central Midfield",
          "Central Midfield",
          "Centre-Back",
          "Centre-Back",
          "Centre-Back",
          "Centre-Forward",
          "Second Striker",
          "Right-Back",
          "Attacking Midfield",
          "Attacking Midfield",
          "Right Winger",
          "Central Midfield",
          "Left Winger",
          "Centre-Back",
          "Central Midfield",
          "Defensive Midfield",
          "Right Winger",
          "Central Midfield",
          "Right Midfield",
          "Centre-Forward",
          "Centre-Forward",
          "Second Striker",
          "Central Midfield",
          "Central Midfield",
          "Centre-Back",
          "Centre-Back",
          "Defensive Midfield",
          "Attacking Midfield",
          "Centre-Back",
          "Centre-Back",
          "Defensive Midfield",
          "Centre-Back",
          "Left Winger",
          "Central Midfield",
          "Attacking Midfield",
          "Right-Back",
          "Centre-Forward",
          "Right-Back",
          "Centre-Forward",
          "Left-Back",
          "Right-Back",
          "Right Winger",
          "Defensive Midfield",
          "Defensive Midfield",
          "Central Midfield",
          "Right-Back",
          "Centre-Forward",
          "Centre-Back",
          "Left Winger",
          "Right Winger",
          "Centre-Forward",
          "Central Midfield",
          "Defensive Midfield",
          "Left-Back",
          "Central Midfield",
          "Central Midfield",
          "Right Midfield",
          "Right Winger",
          "Centre-Back",
          "Centre-Forward",
          "Centre-Back",
          "Left Midfield",
          "Centre-Back",
          "Left-Back",
          "Right-Back",
          "Left Winger",
          "Centre-Forward",
          "Centre-Back",
          "Right Winger",
          "Centre-Back",
          "Centre-Back",
          "Central Midfield",
          "Centre-Forward",
          "Left Winger",
          "Attacking Midfield",
          "Left Winger",
          "Defensive Midfield",
          "Centre-Back",
          "Right-Back",
          "Centre-Back",
          "Left Winger",
          "Central Midfield",
          "Right Midfield",
          "Right Winger",
          "Left Winger",
          "Left Winger",
          "Central Midfield",
          "Left-Back",
          "Centre-Back",
          "Right Winger",
          "Right-Back",
          "Right Winger",
          "Centre-Forward",
          "Centre-Back",
          "Left-Back",
          "Centre-Back",
          "Left Winger",
          "Attacking Midfield",
          "Centre-Back",
          "Goalkeeper",
          "Centre-Forward",
          "Centre-Back",
          "Centre-Back",
          "Central Midfield",
          "Centre-Back",
          "Right-Back",
          "Goalkeeper",
          "Centre-Back",
          "Central Midfield",
          "Centre-Back",
          "Centre-Back",
          "Right Winger",
          "Right Winger",
          "Central Midfield",
          "Centre-Forward",
          "Left Winger",
          "Centre-Forward",
          "Left Winger",
          "Central Midfield",
          "Right Winger",
          "Attacking Midfield",
          "Centre-Back",
          "Right-Back",
          "Centre-Back",
          "Attacking Midfield",
          "Attacking Midfield",
          "Central Midfield",
          "Defensive Midfield",
          "Second Striker",
          "Left Winger",
          "Left Winger",
          "Right-Back",
          "Right Winger",
          "Central Midfield",
          "Left Winger",
          "Right-Back",
          "Right Winger",
          "Centre-Back",
          "Centre-Forward",
          "Centre-Forward",
          "Central Midfield",
          "Defensive Midfield",
          "Central Midfield",
          "Left Midfield",
          "Attacking Midfield",
          "Right Winger",
          "Defensive Midfield",
          "Left-Back",
          "Left Winger",
          "Centre-Forward",
          "Centre-Forward",
          "Centre-Back",
          "Goalkeeper",
          "Left Winger",
          "Centre-Back",
          "Left-Back",
          "Central Midfield",
          "Centre-Forward",
          "Centre-Back",
          "Defensive Midfield",
          "Centre-Back",
          "Attacking Midfield",
          "Centre-Forward",
          "Central Midfield",
          "Centre-Forward",
          "Defensive Midfield",
          "Centre-Forward",
          "Defensive Midfield",
          "Centre-Forward",
          "Attacking Midfield",
          "Centre-Forward",
          "Attacking Midfield",
          "Defensive Midfield",
          "Right-Back",
          "Centre-Forward",
          "Goalkeeper",
          "Left Winger",
          "Centre-Forward",
          "Central Midfield",
          "Centre-Forward",
          "Attacking Midfield",
          "Centre-Back",
          "Goalkeeper",
          "Defensive Midfield",
          "Right Winger",
          "Right-Back",
          "Left Winger",
          "Centre-Back",
          "Attacking Midfield",
          "Attacking Midfield",
          "Right Winger",
          "Attacking Midfield",
          "Left-Back",
          "Centre-Back",
          "Centre-Back",
          "Centre-Forward",
          "Central Midfield",
          "Defensive Midfield",
          "Attacking Midfield",
          "Right-Back",
          "Attacking Midfield",
          "Central Midfield",
          "Right Midfield",
          "Central Midfield",
          "Centre-Forward",
          "Central Midfield",
          "Centre-Back",
          "Left Midfield",
          "Goalkeeper",
          "Centre-Forward",
          "Left-Back",
          "Centre-Back",
          "Right-Back",
          "Defensive Midfield",
          "Centre-Back",
          "Goalkeeper",
          "Centre-Forward",
          "Central Midfield",
          "Centre-Forward",
          "Left Winger",
          "Goalkeeper",
          "Central Midfield",
          "Centre-Back",
          "Defensive Midfield",
          "Centre-Forward",
          "Right-Back",
          "Attacking Midfield",
          "Defensive Midfield",
          "Left Midfield",
          "Right-Back",
          "Right Winger",
          "Right Winger",
          "Left Winger",
          "Right Winger",
          "Right-Back",
          "Attacking Midfield",
          "Left Winger",
          "Attacking Midfield",
          "Left-Back",
          "Attacking Midfield",
          "Central Midfield",
          "Right Winger",
          "Centre-Back",
          "Right-Back",
          "Central Midfield",
          "Centre-Back",
          "Left-Back",
          "Right Winger",
          "Right-Back",
          "Right Winger",
          "Left Winger",
          "Central Midfield",
          "Centre-Back",
          "Centre-Back",
          "Centre-Back",
          "Central Midfield",
          "Left Midfield",
          "Centre-Back",
          "Right Winger",
          "Central Midfield",
          "Right Winger",
          "Right-Back",
          "Right-Back",
          "Centre-Forward",
          "Defensive Midfield",
          "Right Midfield",
          "Left Winger",
          "Left Winger",
          "Defensive Midfield",
          "Central Midfield",
          "Defensive Midfield",
          "Goalkeeper",
          "Goalkeeper",
          "Defensive Midfield",
          "Right Winger",
          "Centre-Back",
          "Centre-Forward",
          "Attacking Midfield",
          "Second Striker",
          "Goalkeeper",
          "Centre-Back",
          "Centre-Back"
         ],
         "legendgroup": "",
         "name": "",
         "showlegend": true,
         "type": "pie",
         "values": [
          11,
          4,
          2,
          3,
          6,
          1,
          1,
          3,
          0,
          2,
          8,
          4,
          2,
          0,
          0,
          2,
          0,
          4,
          1,
          0,
          2,
          7,
          2,
          1,
          7,
          2,
          5,
          2,
          3,
          0,
          1,
          2,
          0,
          2,
          4,
          1,
          1,
          4,
          2,
          0,
          1,
          7,
          2,
          1,
          0,
          6,
          2,
          1,
          0,
          2,
          5,
          4,
          1,
          0,
          0,
          1,
          0,
          10,
          7,
          0,
          0,
          1,
          2,
          1,
          1,
          0,
          3,
          1,
          0,
          5,
          1,
          1,
          0,
          0,
          3,
          4,
          1,
          0,
          1,
          7,
          3,
          3,
          0,
          1,
          1,
          0,
          0,
          0,
          4,
          2,
          0,
          1,
          0,
          4,
          1,
          7,
          4,
          0,
          3,
          3,
          0,
          0,
          3,
          0,
          3,
          0,
          0,
          2,
          1,
          1,
          1,
          5,
          1,
          4,
          1,
          0,
          2,
          2,
          1,
          0,
          0,
          0,
          2,
          0,
          2,
          2,
          1,
          1,
          2,
          0,
          1,
          0,
          0,
          3,
          2,
          0,
          2,
          5,
          1,
          0,
          1,
          2,
          1,
          2,
          1,
          4,
          2,
          1,
          2,
          0,
          1,
          2,
          0,
          0,
          2,
          3,
          1,
          6,
          0,
          1,
          2,
          2,
          2,
          0,
          0,
          0,
          0,
          1,
          3,
          1,
          0,
          1,
          1,
          4,
          1,
          2,
          2,
          0,
          0,
          3,
          0,
          1,
          3,
          0,
          0,
          1,
          0,
          1,
          3,
          5,
          0,
          2,
          0,
          0,
          1,
          0,
          3,
          2,
          2,
          0,
          0,
          0,
          5,
          3,
          5,
          2,
          0,
          4,
          3,
          3,
          2,
          5,
          1,
          0,
          3,
          1,
          1,
          0,
          0,
          1,
          1,
          0,
          2,
          1,
          1,
          0,
          1,
          1,
          0,
          1,
          3,
          4,
          3,
          2,
          1,
          4,
          12,
          1,
          0,
          0,
          0,
          0,
          2,
          1,
          0,
          1,
          1,
          0,
          0,
          3,
          0,
          2,
          0,
          2,
          0,
          0,
          0,
          7,
          1,
          1,
          1,
          5,
          0,
          0,
          0,
          0,
          0,
          0,
          0,
          1,
          0,
          0,
          6,
          0,
          5,
          3,
          2,
          0,
          1,
          0,
          3,
          4,
          0,
          1,
          0,
          0,
          1,
          1,
          3,
          1,
          2,
          0,
          0,
          1,
          0,
          6,
          0,
          0,
          0,
          0,
          3,
          0,
          2,
          0,
          2,
          1,
          1,
          1,
          0,
          1,
          0,
          4,
          3,
          1,
          0,
          4,
          0,
          0,
          0,
          0,
          0,
          0,
          0,
          4,
          2,
          0,
          1,
          3,
          1,
          2,
          1,
          8,
          2,
          0,
          3,
          5,
          2,
          1,
          2,
          3,
          2,
          5,
          0,
          6,
          1,
          1,
          0,
          1,
          3,
          8,
          1,
          0,
          0,
          0,
          1,
          1,
          2,
          0,
          0,
          1,
          5,
          0,
          1,
          1,
          0,
          0,
          0,
          0,
          1,
          1,
          3,
          0,
          3,
          0,
          0,
          0,
          1,
          2,
          1,
          0,
          0,
          1,
          0,
          3,
          4,
          6,
          6,
          1,
          2,
          2,
          0,
          0,
          2,
          2,
          4,
          0,
          0,
          0,
          1,
          0,
          3,
          2,
          0,
          2,
          1,
          2,
          2,
          2,
          2,
          0,
          1,
          2,
          0,
          0,
          0,
          0,
          0,
          1,
          1,
          5,
          0,
          0,
          1,
          0,
          1,
          0,
          0,
          0,
          1,
          0,
          0,
          1,
          1,
          0,
          3,
          0,
          1,
          0,
          4,
          0,
          1,
          3,
          0,
          5,
          1,
          0,
          2,
          1,
          1,
          0,
          1,
          2,
          0,
          1,
          3,
          2,
          3,
          2,
          0,
          2,
          0,
          2,
          1,
          0,
          1,
          2,
          2,
          0,
          3,
          0,
          1,
          0,
          0,
          2,
          0,
          0,
          1,
          3,
          6,
          0,
          0,
          4,
          1,
          0,
          1,
          0,
          0,
          0,
          1,
          1,
          0,
          2,
          0,
          3,
          0,
          0,
          1
         ]
        }
       ],
       "layout": {
        "height": 400,
        "legend": {
         "tracegroupgap": 0
        },
        "margin": {
         "t": 60
        },
        "piecolorway": [
         "rgb(103,0,31)",
         "rgb(178,24,43)",
         "rgb(214,96,77)",
         "rgb(244,165,130)",
         "rgb(253,219,199)",
         "rgb(247,247,247)",
         "rgb(209,229,240)",
         "rgb(146,197,222)",
         "rgb(67,147,195)",
         "rgb(33,102,172)",
         "rgb(5,48,97)"
        ],
        "template": {
         "data": {
          "bar": [
           {
            "error_x": {
             "color": "#2a3f5f"
            },
            "error_y": {
             "color": "#2a3f5f"
            },
            "marker": {
             "line": {
              "color": "#E5ECF6",
              "width": 0.5
             },
             "pattern": {
              "fillmode": "overlay",
              "size": 10,
              "solidity": 0.2
             }
            },
            "type": "bar"
           }
          ],
          "barpolar": [
           {
            "marker": {
             "line": {
              "color": "#E5ECF6",
              "width": 0.5
             },
             "pattern": {
              "fillmode": "overlay",
              "size": 10,
              "solidity": 0.2
             }
            },
            "type": "barpolar"
           }
          ],
          "carpet": [
           {
            "aaxis": {
             "endlinecolor": "#2a3f5f",
             "gridcolor": "white",
             "linecolor": "white",
             "minorgridcolor": "white",
             "startlinecolor": "#2a3f5f"
            },
            "baxis": {
             "endlinecolor": "#2a3f5f",
             "gridcolor": "white",
             "linecolor": "white",
             "minorgridcolor": "white",
             "startlinecolor": "#2a3f5f"
            },
            "type": "carpet"
           }
          ],
          "choropleth": [
           {
            "colorbar": {
             "outlinewidth": 0,
             "ticks": ""
            },
            "type": "choropleth"
           }
          ],
          "contour": [
           {
            "colorbar": {
             "outlinewidth": 0,
             "ticks": ""
            },
            "colorscale": [
             [
              0,
              "#0d0887"
             ],
             [
              0.1111111111111111,
              "#46039f"
             ],
             [
              0.2222222222222222,
              "#7201a8"
             ],
             [
              0.3333333333333333,
              "#9c179e"
             ],
             [
              0.4444444444444444,
              "#bd3786"
             ],
             [
              0.5555555555555556,
              "#d8576b"
             ],
             [
              0.6666666666666666,
              "#ed7953"
             ],
             [
              0.7777777777777778,
              "#fb9f3a"
             ],
             [
              0.8888888888888888,
              "#fdca26"
             ],
             [
              1,
              "#f0f921"
             ]
            ],
            "type": "contour"
           }
          ],
          "contourcarpet": [
           {
            "colorbar": {
             "outlinewidth": 0,
             "ticks": ""
            },
            "type": "contourcarpet"
           }
          ],
          "heatmap": [
           {
            "colorbar": {
             "outlinewidth": 0,
             "ticks": ""
            },
            "colorscale": [
             [
              0,
              "#0d0887"
             ],
             [
              0.1111111111111111,
              "#46039f"
             ],
             [
              0.2222222222222222,
              "#7201a8"
             ],
             [
              0.3333333333333333,
              "#9c179e"
             ],
             [
              0.4444444444444444,
              "#bd3786"
             ],
             [
              0.5555555555555556,
              "#d8576b"
             ],
             [
              0.6666666666666666,
              "#ed7953"
             ],
             [
              0.7777777777777778,
              "#fb9f3a"
             ],
             [
              0.8888888888888888,
              "#fdca26"
             ],
             [
              1,
              "#f0f921"
             ]
            ],
            "type": "heatmap"
           }
          ],
          "heatmapgl": [
           {
            "colorbar": {
             "outlinewidth": 0,
             "ticks": ""
            },
            "colorscale": [
             [
              0,
              "#0d0887"
             ],
             [
              0.1111111111111111,
              "#46039f"
             ],
             [
              0.2222222222222222,
              "#7201a8"
             ],
             [
              0.3333333333333333,
              "#9c179e"
             ],
             [
              0.4444444444444444,
              "#bd3786"
             ],
             [
              0.5555555555555556,
              "#d8576b"
             ],
             [
              0.6666666666666666,
              "#ed7953"
             ],
             [
              0.7777777777777778,
              "#fb9f3a"
             ],
             [
              0.8888888888888888,
              "#fdca26"
             ],
             [
              1,
              "#f0f921"
             ]
            ],
            "type": "heatmapgl"
           }
          ],
          "histogram": [
           {
            "marker": {
             "pattern": {
              "fillmode": "overlay",
              "size": 10,
              "solidity": 0.2
             }
            },
            "type": "histogram"
           }
          ],
          "histogram2d": [
           {
            "colorbar": {
             "outlinewidth": 0,
             "ticks": ""
            },
            "colorscale": [
             [
              0,
              "#0d0887"
             ],
             [
              0.1111111111111111,
              "#46039f"
             ],
             [
              0.2222222222222222,
              "#7201a8"
             ],
             [
              0.3333333333333333,
              "#9c179e"
             ],
             [
              0.4444444444444444,
              "#bd3786"
             ],
             [
              0.5555555555555556,
              "#d8576b"
             ],
             [
              0.6666666666666666,
              "#ed7953"
             ],
             [
              0.7777777777777778,
              "#fb9f3a"
             ],
             [
              0.8888888888888888,
              "#fdca26"
             ],
             [
              1,
              "#f0f921"
             ]
            ],
            "type": "histogram2d"
           }
          ],
          "histogram2dcontour": [
           {
            "colorbar": {
             "outlinewidth": 0,
             "ticks": ""
            },
            "colorscale": [
             [
              0,
              "#0d0887"
             ],
             [
              0.1111111111111111,
              "#46039f"
             ],
             [
              0.2222222222222222,
              "#7201a8"
             ],
             [
              0.3333333333333333,
              "#9c179e"
             ],
             [
              0.4444444444444444,
              "#bd3786"
             ],
             [
              0.5555555555555556,
              "#d8576b"
             ],
             [
              0.6666666666666666,
              "#ed7953"
             ],
             [
              0.7777777777777778,
              "#fb9f3a"
             ],
             [
              0.8888888888888888,
              "#fdca26"
             ],
             [
              1,
              "#f0f921"
             ]
            ],
            "type": "histogram2dcontour"
           }
          ],
          "mesh3d": [
           {
            "colorbar": {
             "outlinewidth": 0,
             "ticks": ""
            },
            "type": "mesh3d"
           }
          ],
          "parcoords": [
           {
            "line": {
             "colorbar": {
              "outlinewidth": 0,
              "ticks": ""
             }
            },
            "type": "parcoords"
           }
          ],
          "pie": [
           {
            "automargin": true,
            "type": "pie"
           }
          ],
          "scatter": [
           {
            "fillpattern": {
             "fillmode": "overlay",
             "size": 10,
             "solidity": 0.2
            },
            "type": "scatter"
           }
          ],
          "scatter3d": [
           {
            "line": {
             "colorbar": {
              "outlinewidth": 0,
              "ticks": ""
             }
            },
            "marker": {
             "colorbar": {
              "outlinewidth": 0,
              "ticks": ""
             }
            },
            "type": "scatter3d"
           }
          ],
          "scattercarpet": [
           {
            "marker": {
             "colorbar": {
              "outlinewidth": 0,
              "ticks": ""
             }
            },
            "type": "scattercarpet"
           }
          ],
          "scattergeo": [
           {
            "marker": {
             "colorbar": {
              "outlinewidth": 0,
              "ticks": ""
             }
            },
            "type": "scattergeo"
           }
          ],
          "scattergl": [
           {
            "marker": {
             "colorbar": {
              "outlinewidth": 0,
              "ticks": ""
             }
            },
            "type": "scattergl"
           }
          ],
          "scattermapbox": [
           {
            "marker": {
             "colorbar": {
              "outlinewidth": 0,
              "ticks": ""
             }
            },
            "type": "scattermapbox"
           }
          ],
          "scatterpolar": [
           {
            "marker": {
             "colorbar": {
              "outlinewidth": 0,
              "ticks": ""
             }
            },
            "type": "scatterpolar"
           }
          ],
          "scatterpolargl": [
           {
            "marker": {
             "colorbar": {
              "outlinewidth": 0,
              "ticks": ""
             }
            },
            "type": "scatterpolargl"
           }
          ],
          "scatterternary": [
           {
            "marker": {
             "colorbar": {
              "outlinewidth": 0,
              "ticks": ""
             }
            },
            "type": "scatterternary"
           }
          ],
          "surface": [
           {
            "colorbar": {
             "outlinewidth": 0,
             "ticks": ""
            },
            "colorscale": [
             [
              0,
              "#0d0887"
             ],
             [
              0.1111111111111111,
              "#46039f"
             ],
             [
              0.2222222222222222,
              "#7201a8"
             ],
             [
              0.3333333333333333,
              "#9c179e"
             ],
             [
              0.4444444444444444,
              "#bd3786"
             ],
             [
              0.5555555555555556,
              "#d8576b"
             ],
             [
              0.6666666666666666,
              "#ed7953"
             ],
             [
              0.7777777777777778,
              "#fb9f3a"
             ],
             [
              0.8888888888888888,
              "#fdca26"
             ],
             [
              1,
              "#f0f921"
             ]
            ],
            "type": "surface"
           }
          ],
          "table": [
           {
            "cells": {
             "fill": {
              "color": "#EBF0F8"
             },
             "line": {
              "color": "white"
             }
            },
            "header": {
             "fill": {
              "color": "#C8D4E3"
             },
             "line": {
              "color": "white"
             }
            },
            "type": "table"
           }
          ]
         },
         "layout": {
          "annotationdefaults": {
           "arrowcolor": "#2a3f5f",
           "arrowhead": 0,
           "arrowwidth": 1
          },
          "autotypenumbers": "strict",
          "coloraxis": {
           "colorbar": {
            "outlinewidth": 0,
            "ticks": ""
           }
          },
          "colorscale": {
           "diverging": [
            [
             0,
             "#8e0152"
            ],
            [
             0.1,
             "#c51b7d"
            ],
            [
             0.2,
             "#de77ae"
            ],
            [
             0.3,
             "#f1b6da"
            ],
            [
             0.4,
             "#fde0ef"
            ],
            [
             0.5,
             "#f7f7f7"
            ],
            [
             0.6,
             "#e6f5d0"
            ],
            [
             0.7,
             "#b8e186"
            ],
            [
             0.8,
             "#7fbc41"
            ],
            [
             0.9,
             "#4d9221"
            ],
            [
             1,
             "#276419"
            ]
           ],
           "sequential": [
            [
             0,
             "#0d0887"
            ],
            [
             0.1111111111111111,
             "#46039f"
            ],
            [
             0.2222222222222222,
             "#7201a8"
            ],
            [
             0.3333333333333333,
             "#9c179e"
            ],
            [
             0.4444444444444444,
             "#bd3786"
            ],
            [
             0.5555555555555556,
             "#d8576b"
            ],
            [
             0.6666666666666666,
             "#ed7953"
            ],
            [
             0.7777777777777778,
             "#fb9f3a"
            ],
            [
             0.8888888888888888,
             "#fdca26"
            ],
            [
             1,
             "#f0f921"
            ]
           ],
           "sequentialminus": [
            [
             0,
             "#0d0887"
            ],
            [
             0.1111111111111111,
             "#46039f"
            ],
            [
             0.2222222222222222,
             "#7201a8"
            ],
            [
             0.3333333333333333,
             "#9c179e"
            ],
            [
             0.4444444444444444,
             "#bd3786"
            ],
            [
             0.5555555555555556,
             "#d8576b"
            ],
            [
             0.6666666666666666,
             "#ed7953"
            ],
            [
             0.7777777777777778,
             "#fb9f3a"
            ],
            [
             0.8888888888888888,
             "#fdca26"
            ],
            [
             1,
             "#f0f921"
            ]
           ]
          },
          "colorway": [
           "#636efa",
           "#EF553B",
           "#00cc96",
           "#ab63fa",
           "#FFA15A",
           "#19d3f3",
           "#FF6692",
           "#B6E880",
           "#FF97FF",
           "#FECB52"
          ],
          "font": {
           "color": "#2a3f5f"
          },
          "geo": {
           "bgcolor": "white",
           "lakecolor": "white",
           "landcolor": "#E5ECF6",
           "showlakes": true,
           "showland": true,
           "subunitcolor": "white"
          },
          "hoverlabel": {
           "align": "left"
          },
          "hovermode": "closest",
          "mapbox": {
           "style": "light"
          },
          "paper_bgcolor": "white",
          "plot_bgcolor": "#E5ECF6",
          "polar": {
           "angularaxis": {
            "gridcolor": "white",
            "linecolor": "white",
            "ticks": ""
           },
           "bgcolor": "#E5ECF6",
           "radialaxis": {
            "gridcolor": "white",
            "linecolor": "white",
            "ticks": ""
           }
          },
          "scene": {
           "xaxis": {
            "backgroundcolor": "#E5ECF6",
            "gridcolor": "white",
            "gridwidth": 2,
            "linecolor": "white",
            "showbackground": true,
            "ticks": "",
            "zerolinecolor": "white"
           },
           "yaxis": {
            "backgroundcolor": "#E5ECF6",
            "gridcolor": "white",
            "gridwidth": 2,
            "linecolor": "white",
            "showbackground": true,
            "ticks": "",
            "zerolinecolor": "white"
           },
           "zaxis": {
            "backgroundcolor": "#E5ECF6",
            "gridcolor": "white",
            "gridwidth": 2,
            "linecolor": "white",
            "showbackground": true,
            "ticks": "",
            "zerolinecolor": "white"
           }
          },
          "shapedefaults": {
           "line": {
            "color": "#2a3f5f"
           }
          },
          "ternary": {
           "aaxis": {
            "gridcolor": "white",
            "linecolor": "white",
            "ticks": ""
           },
           "baxis": {
            "gridcolor": "white",
            "linecolor": "white",
            "ticks": ""
           },
           "bgcolor": "#E5ECF6",
           "caxis": {
            "gridcolor": "white",
            "linecolor": "white",
            "ticks": ""
           }
          },
          "title": {
           "x": 0.05
          },
          "xaxis": {
           "automargin": true,
           "gridcolor": "white",
           "linecolor": "white",
           "ticks": "",
           "title": {
            "standoff": 15
           },
           "zerolinecolor": "white",
           "zerolinewidth": 2
          },
          "yaxis": {
           "automargin": true,
           "gridcolor": "white",
           "linecolor": "white",
           "ticks": "",
           "title": {
            "standoff": 15
           },
           "zerolinecolor": "white",
           "zerolinewidth": 2
          }
         }
        },
        "width": 500
       }
      },
      "text/html": [
       "<div>                            <div id=\"9812bdd9-102d-4517-a24b-e18e7eb9da2b\" class=\"plotly-graph-div\" style=\"height:400px; width:500px;\"></div>            <script type=\"text/javascript\">                require([\"plotly\"], function(Plotly) {                    window.PLOTLYENV=window.PLOTLYENV || {};                                    if (document.getElementById(\"9812bdd9-102d-4517-a24b-e18e7eb9da2b\")) {                    Plotly.newPlot(                        \"9812bdd9-102d-4517-a24b-e18e7eb9da2b\",                        [{\"domain\":{\"x\":[0.0,1.0],\"y\":[0.0,1.0]},\"hovertemplate\":\"Position=%{label}<br>Assists=%{value}<extra></extra>\",\"labels\":[\"Centre-Forward\",\"Centre-Forward\",\"Centre-Forward\",\"Left Winger\",\"Right Winger\",\"Centre-Forward\",\"Attacking Midfield\",\"Left Winger\",\"Left Winger\",\"Central Midfield\",\"Attacking Midfield\",\"Defensive Midfield\",\"Left Winger\",\"Left Winger\",\"Left Winger\",\"Left Winger\",\"Central Midfield\",\"Central Midfield\",\"Centre-Forward\",\"Central Midfield\",\"Attacking Midfield\",\"Right-Back\",\"Centre-Back\",\"Centre-Back\",\"Central Midfield\",\"Second Striker\",\"Left-Back\",\"Right-Back\",\"Defensive Midfield\",\"Defensive Midfield\",\"Left Winger\",\"Right Winger\",\"Centre-Back\",\"Attacking Midfield\",\"Central Midfield\",\"Attacking Midfield\",\"Centre-Back\",\"Right Winger\",\"Central Midfield\",\"Goalkeeper\",\"Defensive Midfield\",\"Attacking Midfield\",\"Left Midfield\",\"Central Midfield\",\"Goalkeeper\",\"Central Midfield\",\"Left-Back\",\"Left Winger\",\"Centre-Back\",\"Centre-Forward\",\"Centre-Forward\",\"Centre-Back\",\"Centre-Back\",\"Defensive Midfield\",\"Centre-Back\",\"Defensive Midfield\",\"Centre-Back\",\"Left Winger\",\"Central Midfield\",\"Goalkeeper\",\"Goalkeeper\",\"Central Midfield\",\"Centre-Forward\",\"Central Midfield\",\"Centre-Forward\",\"Central Midfield\",\"Central Midfield\",\"Right Winger\",\"Defensive Midfield\",\"Right-Back\",\"Centre-Forward\",\"Centre-Back\",\"Central Midfield\",\"Goalkeeper\",\"Centre-Back\",\"Attacking Midfield\",\"Right Winger\",\"Centre-Back\",\"Right Winger\",\"Left Winger\",\"Centre-Forward\",\"Left-Back\",\"Right Winger\",\"Attacking Midfield\",\"Attacking Midfield\",\"Left-Back\",\"Right Winger\",\"Goalkeeper\",\"Second Striker\",\"Attacking Midfield\",\"Centre-Back\",\"Second Striker\",\"Centre-Back\",\"Left Winger\",\"Centre-Back\",\"Attacking Midfield\",\"Right-Back\",\"Central Midfield\",\"Central Midfield\",\"Left Winger\",\"Centre-Back\",\"Centre-Back\",\"Right Winger\",\"Centre-Forward\",\"Central Midfield\",\"Centre-Back\",\"Centre-Back\",\"Centre-Forward\",\"Left Winger\",\"Centre-Forward\",\"Defensive Midfield\",\"Central Midfield\",\"Attacking Midfield\",\"Left Winger\",\"Defensive Midfield\",\"Defensive Midfield\",\"Left-Back\",\"Right Winger\",\"Left-Back\",\"Centre-Back\",\"Right-Back\",\"Centre-Back\",\"Centre-Forward\",\"Centre-Back\",\"Right Winger\",\"Central Midfield\",\"Defensive Midfield\",\"Centre-Forward\",\"Central Midfield\",\"Centre-Back\",\"Attacking Midfield\",\"Centre-Back\",\"Centre-Back\",\"Second Striker\",\"Central Midfield\",\"Defensive Midfield\",\"Attacking Midfield\",\"Centre-Forward\",\"Centre-Forward\",\"Left-Back\",\"Central Midfield\",\"Defensive Midfield\",\"Central Midfield\",\"Left Winger\",\"Centre-Forward\",\"Central Midfield\",\"Central Midfield\",\"Defensive Midfield\",\"Centre-Forward\",\"Left-Back\",\"Attacking Midfield\",\"Centre-Forward\",\"Centre-Forward\",\"Left Winger\",\"Defensive Midfield\",\"Attacking Midfield\",\"Right Winger\",\"Centre-Forward\",\"Defensive Midfield\",\"Right Winger\",\"Left Midfield\",\"Central Midfield\",\"Left Winger\",\"Centre-Forward\",\"Central Midfield\",\"Centre-Back\",\"Centre-Back\",\"Right-Back\",\"Right Winger\",\"Right Winger\",\"Defensive Midfield\",\"Right Winger\",\"Centre-Back\",\"Left-Back\",\"Left Midfield\",\"Defensive Midfield\",\"Left-Back\",\"Centre-Back\",\"Centre-Forward\",\"Right Winger\",\"Centre-Forward\",\"Centre-Back\",\"Centre-Forward\",\"Left-Back\",\"Goalkeeper\",\"Centre-Back\",\"Centre-Forward\",\"Central Midfield\",\"Central Midfield\",\"Centre-Forward\",\"Right Winger\",\"Right Winger\",\"Centre-Back\",\"Centre-Forward\",\"Central Midfield\",\"Left-Back\",\"Centre-Forward\",\"Left Winger\",\"Central Midfield\",\"Centre-Back\",\"Centre-Back\",\"Central Midfield\",\"Right Winger\",\"Left Winger\",\"Central Midfield\",\"Centre-Forward\",\"Goalkeeper\",\"Central Midfield\",\"Right-Back\",\"Central Midfield\",\"Centre-Forward\",\"Right Winger\",\"Attacking Midfield\",\"Centre-Back\",\"Left Winger\",\"Central Midfield\",\"Central Midfield\",\"Centre-Back\",\"Centre-Back\",\"Centre-Back\",\"Centre-Forward\",\"Second Striker\",\"Right-Back\",\"Attacking Midfield\",\"Attacking Midfield\",\"Right Winger\",\"Central Midfield\",\"Left Winger\",\"Centre-Back\",\"Central Midfield\",\"Defensive Midfield\",\"Right Winger\",\"Central Midfield\",\"Right Midfield\",\"Centre-Forward\",\"Centre-Forward\",\"Second Striker\",\"Central Midfield\",\"Central Midfield\",\"Centre-Back\",\"Centre-Back\",\"Defensive Midfield\",\"Attacking Midfield\",\"Centre-Back\",\"Centre-Back\",\"Defensive Midfield\",\"Centre-Back\",\"Left Winger\",\"Central Midfield\",\"Attacking Midfield\",\"Right-Back\",\"Centre-Forward\",\"Right-Back\",\"Centre-Forward\",\"Left-Back\",\"Right-Back\",\"Right Winger\",\"Defensive Midfield\",\"Defensive Midfield\",\"Central Midfield\",\"Right-Back\",\"Centre-Forward\",\"Centre-Back\",\"Left Winger\",\"Right Winger\",\"Centre-Forward\",\"Central Midfield\",\"Defensive Midfield\",\"Left-Back\",\"Central Midfield\",\"Central Midfield\",\"Right Midfield\",\"Right Winger\",\"Centre-Back\",\"Centre-Forward\",\"Centre-Back\",\"Left Midfield\",\"Centre-Back\",\"Left-Back\",\"Right-Back\",\"Left Winger\",\"Centre-Forward\",\"Centre-Back\",\"Right Winger\",\"Centre-Back\",\"Centre-Back\",\"Central Midfield\",\"Centre-Forward\",\"Left Winger\",\"Attacking Midfield\",\"Left Winger\",\"Defensive Midfield\",\"Centre-Back\",\"Right-Back\",\"Centre-Back\",\"Left Winger\",\"Central Midfield\",\"Right Midfield\",\"Right Winger\",\"Left Winger\",\"Left Winger\",\"Central Midfield\",\"Left-Back\",\"Centre-Back\",\"Right Winger\",\"Right-Back\",\"Right Winger\",\"Centre-Forward\",\"Centre-Back\",\"Left-Back\",\"Centre-Back\",\"Left Winger\",\"Attacking Midfield\",\"Centre-Back\",\"Goalkeeper\",\"Centre-Forward\",\"Centre-Back\",\"Centre-Back\",\"Central Midfield\",\"Centre-Back\",\"Right-Back\",\"Goalkeeper\",\"Centre-Back\",\"Central Midfield\",\"Centre-Back\",\"Centre-Back\",\"Right Winger\",\"Right Winger\",\"Central Midfield\",\"Centre-Forward\",\"Left Winger\",\"Centre-Forward\",\"Left Winger\",\"Central Midfield\",\"Right Winger\",\"Attacking Midfield\",\"Centre-Back\",\"Right-Back\",\"Centre-Back\",\"Attacking Midfield\",\"Attacking Midfield\",\"Central Midfield\",\"Defensive Midfield\",\"Second Striker\",\"Left Winger\",\"Left Winger\",\"Right-Back\",\"Right Winger\",\"Central Midfield\",\"Left Winger\",\"Right-Back\",\"Right Winger\",\"Centre-Back\",\"Centre-Forward\",\"Centre-Forward\",\"Central Midfield\",\"Defensive Midfield\",\"Central Midfield\",\"Left Midfield\",\"Attacking Midfield\",\"Right Winger\",\"Defensive Midfield\",\"Left-Back\",\"Left Winger\",\"Centre-Forward\",\"Centre-Forward\",\"Centre-Back\",\"Goalkeeper\",\"Left Winger\",\"Centre-Back\",\"Left-Back\",\"Central Midfield\",\"Centre-Forward\",\"Centre-Back\",\"Defensive Midfield\",\"Centre-Back\",\"Attacking Midfield\",\"Centre-Forward\",\"Central Midfield\",\"Centre-Forward\",\"Defensive Midfield\",\"Centre-Forward\",\"Defensive Midfield\",\"Centre-Forward\",\"Attacking Midfield\",\"Centre-Forward\",\"Attacking Midfield\",\"Defensive Midfield\",\"Right-Back\",\"Centre-Forward\",\"Goalkeeper\",\"Left Winger\",\"Centre-Forward\",\"Central Midfield\",\"Centre-Forward\",\"Attacking Midfield\",\"Centre-Back\",\"Goalkeeper\",\"Defensive Midfield\",\"Right Winger\",\"Right-Back\",\"Left Winger\",\"Centre-Back\",\"Attacking Midfield\",\"Attacking Midfield\",\"Right Winger\",\"Attacking Midfield\",\"Left-Back\",\"Centre-Back\",\"Centre-Back\",\"Centre-Forward\",\"Central Midfield\",\"Defensive Midfield\",\"Attacking Midfield\",\"Right-Back\",\"Attacking Midfield\",\"Central Midfield\",\"Right Midfield\",\"Central Midfield\",\"Centre-Forward\",\"Central Midfield\",\"Centre-Back\",\"Left Midfield\",\"Goalkeeper\",\"Centre-Forward\",\"Left-Back\",\"Centre-Back\",\"Right-Back\",\"Defensive Midfield\",\"Centre-Back\",\"Goalkeeper\",\"Centre-Forward\",\"Central Midfield\",\"Centre-Forward\",\"Left Winger\",\"Goalkeeper\",\"Central Midfield\",\"Centre-Back\",\"Defensive Midfield\",\"Centre-Forward\",\"Right-Back\",\"Attacking Midfield\",\"Defensive Midfield\",\"Left Midfield\",\"Right-Back\",\"Right Winger\",\"Right Winger\",\"Left Winger\",\"Right Winger\",\"Right-Back\",\"Attacking Midfield\",\"Left Winger\",\"Attacking Midfield\",\"Left-Back\",\"Attacking Midfield\",\"Central Midfield\",\"Right Winger\",\"Centre-Back\",\"Right-Back\",\"Central Midfield\",\"Centre-Back\",\"Left-Back\",\"Right Winger\",\"Right-Back\",\"Right Winger\",\"Left Winger\",\"Central Midfield\",\"Centre-Back\",\"Centre-Back\",\"Centre-Back\",\"Central Midfield\",\"Left Midfield\",\"Centre-Back\",\"Right Winger\",\"Central Midfield\",\"Right Winger\",\"Right-Back\",\"Right-Back\",\"Centre-Forward\",\"Defensive Midfield\",\"Right Midfield\",\"Left Winger\",\"Left Winger\",\"Defensive Midfield\",\"Central Midfield\",\"Defensive Midfield\",\"Goalkeeper\",\"Goalkeeper\",\"Defensive Midfield\",\"Right Winger\",\"Centre-Back\",\"Centre-Forward\",\"Attacking Midfield\",\"Second Striker\",\"Goalkeeper\",\"Centre-Back\",\"Centre-Back\"],\"legendgroup\":\"\",\"name\":\"\",\"showlegend\":true,\"values\":[11,4,2,3,6,1,1,3,0,2,8,4,2,0,0,2,0,4,1,0,2,7,2,1,7,2,5,2,3,0,1,2,0,2,4,1,1,4,2,0,1,7,2,1,0,6,2,1,0,2,5,4,1,0,0,1,0,10,7,0,0,1,2,1,1,0,3,1,0,5,1,1,0,0,3,4,1,0,1,7,3,3,0,1,1,0,0,0,4,2,0,1,0,4,1,7,4,0,3,3,0,0,3,0,3,0,0,2,1,1,1,5,1,4,1,0,2,2,1,0,0,0,2,0,2,2,1,1,2,0,1,0,0,3,2,0,2,5,1,0,1,2,1,2,1,4,2,1,2,0,1,2,0,0,2,3,1,6,0,1,2,2,2,0,0,0,0,1,3,1,0,1,1,4,1,2,2,0,0,3,0,1,3,0,0,1,0,1,3,5,0,2,0,0,1,0,3,2,2,0,0,0,5,3,5,2,0,4,3,3,2,5,1,0,3,1,1,0,0,1,1,0,2,1,1,0,1,1,0,1,3,4,3,2,1,4,12,1,0,0,0,0,2,1,0,1,1,0,0,3,0,2,0,2,0,0,0,7,1,1,1,5,0,0,0,0,0,0,0,1,0,0,6,0,5,3,2,0,1,0,3,4,0,1,0,0,1,1,3,1,2,0,0,1,0,6,0,0,0,0,3,0,2,0,2,1,1,1,0,1,0,4,3,1,0,4,0,0,0,0,0,0,0,4,2,0,1,3,1,2,1,8,2,0,3,5,2,1,2,3,2,5,0,6,1,1,0,1,3,8,1,0,0,0,1,1,2,0,0,1,5,0,1,1,0,0,0,0,1,1,3,0,3,0,0,0,1,2,1,0,0,1,0,3,4,6,6,1,2,2,0,0,2,2,4,0,0,0,1,0,3,2,0,2,1,2,2,2,2,0,1,2,0,0,0,0,0,1,1,5,0,0,1,0,1,0,0,0,1,0,0,1,1,0,3,0,1,0,4,0,1,3,0,5,1,0,2,1,1,0,1,2,0,1,3,2,3,2,0,2,0,2,1,0,1,2,2,0,3,0,1,0,0,2,0,0,1,3,6,0,0,4,1,0,1,0,0,0,1,1,0,2,0,3,0,0,1],\"type\":\"pie\"}],                        {\"template\":{\"data\":{\"histogram2dcontour\":[{\"type\":\"histogram2dcontour\",\"colorbar\":{\"outlinewidth\":0,\"ticks\":\"\"},\"colorscale\":[[0.0,\"#0d0887\"],[0.1111111111111111,\"#46039f\"],[0.2222222222222222,\"#7201a8\"],[0.3333333333333333,\"#9c179e\"],[0.4444444444444444,\"#bd3786\"],[0.5555555555555556,\"#d8576b\"],[0.6666666666666666,\"#ed7953\"],[0.7777777777777778,\"#fb9f3a\"],[0.8888888888888888,\"#fdca26\"],[1.0,\"#f0f921\"]]}],\"choropleth\":[{\"type\":\"choropleth\",\"colorbar\":{\"outlinewidth\":0,\"ticks\":\"\"}}],\"histogram2d\":[{\"type\":\"histogram2d\",\"colorbar\":{\"outlinewidth\":0,\"ticks\":\"\"},\"colorscale\":[[0.0,\"#0d0887\"],[0.1111111111111111,\"#46039f\"],[0.2222222222222222,\"#7201a8\"],[0.3333333333333333,\"#9c179e\"],[0.4444444444444444,\"#bd3786\"],[0.5555555555555556,\"#d8576b\"],[0.6666666666666666,\"#ed7953\"],[0.7777777777777778,\"#fb9f3a\"],[0.8888888888888888,\"#fdca26\"],[1.0,\"#f0f921\"]]}],\"heatmap\":[{\"type\":\"heatmap\",\"colorbar\":{\"outlinewidth\":0,\"ticks\":\"\"},\"colorscale\":[[0.0,\"#0d0887\"],[0.1111111111111111,\"#46039f\"],[0.2222222222222222,\"#7201a8\"],[0.3333333333333333,\"#9c179e\"],[0.4444444444444444,\"#bd3786\"],[0.5555555555555556,\"#d8576b\"],[0.6666666666666666,\"#ed7953\"],[0.7777777777777778,\"#fb9f3a\"],[0.8888888888888888,\"#fdca26\"],[1.0,\"#f0f921\"]]}],\"heatmapgl\":[{\"type\":\"heatmapgl\",\"colorbar\":{\"outlinewidth\":0,\"ticks\":\"\"},\"colorscale\":[[0.0,\"#0d0887\"],[0.1111111111111111,\"#46039f\"],[0.2222222222222222,\"#7201a8\"],[0.3333333333333333,\"#9c179e\"],[0.4444444444444444,\"#bd3786\"],[0.5555555555555556,\"#d8576b\"],[0.6666666666666666,\"#ed7953\"],[0.7777777777777778,\"#fb9f3a\"],[0.8888888888888888,\"#fdca26\"],[1.0,\"#f0f921\"]]}],\"contourcarpet\":[{\"type\":\"contourcarpet\",\"colorbar\":{\"outlinewidth\":0,\"ticks\":\"\"}}],\"contour\":[{\"type\":\"contour\",\"colorbar\":{\"outlinewidth\":0,\"ticks\":\"\"},\"colorscale\":[[0.0,\"#0d0887\"],[0.1111111111111111,\"#46039f\"],[0.2222222222222222,\"#7201a8\"],[0.3333333333333333,\"#9c179e\"],[0.4444444444444444,\"#bd3786\"],[0.5555555555555556,\"#d8576b\"],[0.6666666666666666,\"#ed7953\"],[0.7777777777777778,\"#fb9f3a\"],[0.8888888888888888,\"#fdca26\"],[1.0,\"#f0f921\"]]}],\"surface\":[{\"type\":\"surface\",\"colorbar\":{\"outlinewidth\":0,\"ticks\":\"\"},\"colorscale\":[[0.0,\"#0d0887\"],[0.1111111111111111,\"#46039f\"],[0.2222222222222222,\"#7201a8\"],[0.3333333333333333,\"#9c179e\"],[0.4444444444444444,\"#bd3786\"],[0.5555555555555556,\"#d8576b\"],[0.6666666666666666,\"#ed7953\"],[0.7777777777777778,\"#fb9f3a\"],[0.8888888888888888,\"#fdca26\"],[1.0,\"#f0f921\"]]}],\"mesh3d\":[{\"type\":\"mesh3d\",\"colorbar\":{\"outlinewidth\":0,\"ticks\":\"\"}}],\"scatter\":[{\"fillpattern\":{\"fillmode\":\"overlay\",\"size\":10,\"solidity\":0.2},\"type\":\"scatter\"}],\"parcoords\":[{\"type\":\"parcoords\",\"line\":{\"colorbar\":{\"outlinewidth\":0,\"ticks\":\"\"}}}],\"scatterpolargl\":[{\"type\":\"scatterpolargl\",\"marker\":{\"colorbar\":{\"outlinewidth\":0,\"ticks\":\"\"}}}],\"bar\":[{\"error_x\":{\"color\":\"#2a3f5f\"},\"error_y\":{\"color\":\"#2a3f5f\"},\"marker\":{\"line\":{\"color\":\"#E5ECF6\",\"width\":0.5},\"pattern\":{\"fillmode\":\"overlay\",\"size\":10,\"solidity\":0.2}},\"type\":\"bar\"}],\"scattergeo\":[{\"type\":\"scattergeo\",\"marker\":{\"colorbar\":{\"outlinewidth\":0,\"ticks\":\"\"}}}],\"scatterpolar\":[{\"type\":\"scatterpolar\",\"marker\":{\"colorbar\":{\"outlinewidth\":0,\"ticks\":\"\"}}}],\"histogram\":[{\"marker\":{\"pattern\":{\"fillmode\":\"overlay\",\"size\":10,\"solidity\":0.2}},\"type\":\"histogram\"}],\"scattergl\":[{\"type\":\"scattergl\",\"marker\":{\"colorbar\":{\"outlinewidth\":0,\"ticks\":\"\"}}}],\"scatter3d\":[{\"type\":\"scatter3d\",\"line\":{\"colorbar\":{\"outlinewidth\":0,\"ticks\":\"\"}},\"marker\":{\"colorbar\":{\"outlinewidth\":0,\"ticks\":\"\"}}}],\"scattermapbox\":[{\"type\":\"scattermapbox\",\"marker\":{\"colorbar\":{\"outlinewidth\":0,\"ticks\":\"\"}}}],\"scatterternary\":[{\"type\":\"scatterternary\",\"marker\":{\"colorbar\":{\"outlinewidth\":0,\"ticks\":\"\"}}}],\"scattercarpet\":[{\"type\":\"scattercarpet\",\"marker\":{\"colorbar\":{\"outlinewidth\":0,\"ticks\":\"\"}}}],\"carpet\":[{\"aaxis\":{\"endlinecolor\":\"#2a3f5f\",\"gridcolor\":\"white\",\"linecolor\":\"white\",\"minorgridcolor\":\"white\",\"startlinecolor\":\"#2a3f5f\"},\"baxis\":{\"endlinecolor\":\"#2a3f5f\",\"gridcolor\":\"white\",\"linecolor\":\"white\",\"minorgridcolor\":\"white\",\"startlinecolor\":\"#2a3f5f\"},\"type\":\"carpet\"}],\"table\":[{\"cells\":{\"fill\":{\"color\":\"#EBF0F8\"},\"line\":{\"color\":\"white\"}},\"header\":{\"fill\":{\"color\":\"#C8D4E3\"},\"line\":{\"color\":\"white\"}},\"type\":\"table\"}],\"barpolar\":[{\"marker\":{\"line\":{\"color\":\"#E5ECF6\",\"width\":0.5},\"pattern\":{\"fillmode\":\"overlay\",\"size\":10,\"solidity\":0.2}},\"type\":\"barpolar\"}],\"pie\":[{\"automargin\":true,\"type\":\"pie\"}]},\"layout\":{\"autotypenumbers\":\"strict\",\"colorway\":[\"#636efa\",\"#EF553B\",\"#00cc96\",\"#ab63fa\",\"#FFA15A\",\"#19d3f3\",\"#FF6692\",\"#B6E880\",\"#FF97FF\",\"#FECB52\"],\"font\":{\"color\":\"#2a3f5f\"},\"hovermode\":\"closest\",\"hoverlabel\":{\"align\":\"left\"},\"paper_bgcolor\":\"white\",\"plot_bgcolor\":\"#E5ECF6\",\"polar\":{\"bgcolor\":\"#E5ECF6\",\"angularaxis\":{\"gridcolor\":\"white\",\"linecolor\":\"white\",\"ticks\":\"\"},\"radialaxis\":{\"gridcolor\":\"white\",\"linecolor\":\"white\",\"ticks\":\"\"}},\"ternary\":{\"bgcolor\":\"#E5ECF6\",\"aaxis\":{\"gridcolor\":\"white\",\"linecolor\":\"white\",\"ticks\":\"\"},\"baxis\":{\"gridcolor\":\"white\",\"linecolor\":\"white\",\"ticks\":\"\"},\"caxis\":{\"gridcolor\":\"white\",\"linecolor\":\"white\",\"ticks\":\"\"}},\"coloraxis\":{\"colorbar\":{\"outlinewidth\":0,\"ticks\":\"\"}},\"colorscale\":{\"sequential\":[[0.0,\"#0d0887\"],[0.1111111111111111,\"#46039f\"],[0.2222222222222222,\"#7201a8\"],[0.3333333333333333,\"#9c179e\"],[0.4444444444444444,\"#bd3786\"],[0.5555555555555556,\"#d8576b\"],[0.6666666666666666,\"#ed7953\"],[0.7777777777777778,\"#fb9f3a\"],[0.8888888888888888,\"#fdca26\"],[1.0,\"#f0f921\"]],\"sequentialminus\":[[0.0,\"#0d0887\"],[0.1111111111111111,\"#46039f\"],[0.2222222222222222,\"#7201a8\"],[0.3333333333333333,\"#9c179e\"],[0.4444444444444444,\"#bd3786\"],[0.5555555555555556,\"#d8576b\"],[0.6666666666666666,\"#ed7953\"],[0.7777777777777778,\"#fb9f3a\"],[0.8888888888888888,\"#fdca26\"],[1.0,\"#f0f921\"]],\"diverging\":[[0,\"#8e0152\"],[0.1,\"#c51b7d\"],[0.2,\"#de77ae\"],[0.3,\"#f1b6da\"],[0.4,\"#fde0ef\"],[0.5,\"#f7f7f7\"],[0.6,\"#e6f5d0\"],[0.7,\"#b8e186\"],[0.8,\"#7fbc41\"],[0.9,\"#4d9221\"],[1,\"#276419\"]]},\"xaxis\":{\"gridcolor\":\"white\",\"linecolor\":\"white\",\"ticks\":\"\",\"title\":{\"standoff\":15},\"zerolinecolor\":\"white\",\"automargin\":true,\"zerolinewidth\":2},\"yaxis\":{\"gridcolor\":\"white\",\"linecolor\":\"white\",\"ticks\":\"\",\"title\":{\"standoff\":15},\"zerolinecolor\":\"white\",\"automargin\":true,\"zerolinewidth\":2},\"scene\":{\"xaxis\":{\"backgroundcolor\":\"#E5ECF6\",\"gridcolor\":\"white\",\"linecolor\":\"white\",\"showbackground\":true,\"ticks\":\"\",\"zerolinecolor\":\"white\",\"gridwidth\":2},\"yaxis\":{\"backgroundcolor\":\"#E5ECF6\",\"gridcolor\":\"white\",\"linecolor\":\"white\",\"showbackground\":true,\"ticks\":\"\",\"zerolinecolor\":\"white\",\"gridwidth\":2},\"zaxis\":{\"backgroundcolor\":\"#E5ECF6\",\"gridcolor\":\"white\",\"linecolor\":\"white\",\"showbackground\":true,\"ticks\":\"\",\"zerolinecolor\":\"white\",\"gridwidth\":2}},\"shapedefaults\":{\"line\":{\"color\":\"#2a3f5f\"}},\"annotationdefaults\":{\"arrowcolor\":\"#2a3f5f\",\"arrowhead\":0,\"arrowwidth\":1},\"geo\":{\"bgcolor\":\"white\",\"landcolor\":\"#E5ECF6\",\"subunitcolor\":\"white\",\"showland\":true,\"showlakes\":true,\"lakecolor\":\"white\"},\"title\":{\"x\":0.05},\"mapbox\":{\"style\":\"light\"}}},\"legend\":{\"tracegroupgap\":0},\"margin\":{\"t\":60},\"piecolorway\":[\"rgb(103,0,31)\",\"rgb(178,24,43)\",\"rgb(214,96,77)\",\"rgb(244,165,130)\",\"rgb(253,219,199)\",\"rgb(247,247,247)\",\"rgb(209,229,240)\",\"rgb(146,197,222)\",\"rgb(67,147,195)\",\"rgb(33,102,172)\",\"rgb(5,48,97)\"],\"height\":400,\"width\":500},                        {\"responsive\": true}                    ).then(function(){\n",
       "                            \n",
       "var gd = document.getElementById('9812bdd9-102d-4517-a24b-e18e7eb9da2b');\n",
       "var x = new MutationObserver(function (mutations, observer) {{\n",
       "        var display = window.getComputedStyle(gd).display;\n",
       "        if (!display || display === 'none') {{\n",
       "            console.log([gd, 'removed!']);\n",
       "            Plotly.purge(gd);\n",
       "            observer.disconnect();\n",
       "        }}\n",
       "}});\n",
       "\n",
       "// Listen for the removal of the full notebook cells\n",
       "var notebookContainer = gd.closest('#notebook-container');\n",
       "if (notebookContainer) {{\n",
       "    x.observe(notebookContainer, {childList: true});\n",
       "}}\n",
       "\n",
       "// Listen for the clearing of the current output cell\n",
       "var outputEl = gd.closest('.output');\n",
       "if (outputEl) {{\n",
       "    x.observe(outputEl, {childList: true});\n",
       "}}\n",
       "\n",
       "                        })                };                });            </script>        </div>"
      ]
     },
     "metadata": {},
     "output_type": "display_data"
    }
   ],
   "source": [
    "px.pie(data, values='Assists' , names='Position',\n",
    "       color_discrete_sequence=px.colors.sequential.RdBu, width=500, height=400)"
   ]
  },
  {
   "cell_type": "code",
   "execution_count": 70,
   "id": "0c7d2b5a",
   "metadata": {},
   "outputs": [],
   "source": [
    "top_seven=data['Markey Value In Millions(£)'].sort_values(ascending=False).nlargest(7)"
   ]
  },
  {
   "cell_type": "code",
   "execution_count": 323,
   "id": "d292542c",
   "metadata": {},
   "outputs": [
    {
     "data": {
      "application/vnd.plotly.v1+json": {
       "config": {
        "plotlyServerURL": "https://plot.ly"
       },
       "data": [
        {
         "hovertemplate": "Position=%{x}<br>Markey Value In Millions(£)=%{y}<br>Assists=%{marker.size}<br>Yellow Cards=%{marker.color}<extra></extra>",
         "legendgroup": "",
         "marker": {
          "color": [
           3,
           1,
           2,
           1,
           1,
           0,
           1,
           3,
           0,
           2,
           3,
           1,
           0,
           0,
           1,
           1,
           0,
           0,
           3,
           1,
           0,
           1,
           3,
           2,
           4,
           3,
           1,
           2,
           4,
           2,
           1,
           0,
           1,
           0,
           3,
           3,
           1,
           0,
           0,
           0,
           4,
           2,
           1,
           0,
           2,
           3,
           2,
           0,
           0,
           2,
           0,
           5,
           2,
           2,
           4,
           2,
           2,
           2,
           4,
           1,
           0,
           3,
           0,
           5,
           4,
           1,
           2,
           0,
           1,
           4,
           1,
           0,
           4,
           1,
           1,
           0,
           2,
           1,
           0,
           3,
           2,
           2,
           0,
           1,
           0,
           2,
           0,
           2,
           1,
           0,
           3,
           1,
           1,
           0,
           2,
           0,
           2,
           2,
           2,
           2,
           3,
           3,
           1,
           0,
           2,
           2,
           4,
           1,
           1,
           2,
           0,
           1,
           0,
           7,
           2,
           4,
           5,
           0,
           4,
           1,
           2,
           0,
           1,
           1,
           3,
           2,
           1,
           2,
           4,
           1,
           1,
           4,
           3,
           2,
           2,
           2,
           2,
           0,
           3,
           1,
           0,
           3,
           0,
           3,
           0,
           2,
           1,
           1,
           4,
           0,
           2,
           2,
           0,
           0,
           2,
           3,
           2,
           1,
           5,
           2,
           2,
           0,
           1,
           1,
           2,
           0,
           5,
           0,
           0,
           1,
           1,
           0,
           4,
           2,
           2,
           2,
           2,
           1,
           0,
           1,
           0,
           3,
           1,
           3,
           1,
           4,
           1,
           2,
           5,
           2,
           3,
           0,
           2,
           2,
           0,
           0,
           2,
           1,
           2,
           0,
           1,
           1,
           4,
           3,
           2,
           2,
           1,
           0,
           1,
           1,
           1,
           1,
           0,
           2,
           1,
           3,
           2,
           5,
           0,
           4,
           4,
           2,
           2,
           1,
           3,
           0,
           4,
           2,
           0,
           0,
           1,
           1,
           2,
           1,
           0,
           5,
           0,
           0,
           1,
           6,
           3,
           4,
           0,
           2,
           2,
           2,
           3,
           0,
           1,
           2,
           0,
           0,
           0,
           1,
           2,
           1,
           1,
           3,
           4,
           1,
           2,
           2,
           0,
           0,
           0,
           0,
           0,
           0,
           0,
           6,
           0,
           0,
           1,
           2,
           3,
           3,
           3,
           2,
           0,
           1,
           1,
           4,
           1,
           2,
           2,
           0,
           2,
           3,
           2,
           0,
           1,
           4,
           3,
           2,
           1,
           7,
           0,
           3,
           4,
           3,
           0,
           0,
           1,
           1,
           1,
           2,
           0,
           0,
           1,
           2,
           1,
           1,
           5,
           1,
           1,
           1,
           5,
           2,
           2,
           0,
           0,
           1,
           1,
           3,
           0,
           2,
           2,
           2,
           0,
           2,
           1,
           0,
           0,
           1,
           4,
           5,
           1,
           3,
           1,
           2,
           3,
           1,
           3,
           2,
           0,
           2,
           5,
           0,
           2,
           2,
           2,
           0,
           1,
           0,
           0,
           0,
           2,
           0,
           2,
           2,
           1,
           1,
           1,
           1,
           0,
           2,
           3,
           0,
           0,
           2,
           1,
           4,
           1,
           0,
           2,
           0,
           0,
           1,
           1,
           3,
           0,
           0,
           5,
           2,
           0,
           1,
           4,
           2,
           5,
           2,
           1,
           1,
           3,
           1,
           0,
           0,
           3,
           0,
           3,
           1,
           1,
           1,
           1,
           1,
           3,
           4,
           3,
           2,
           2,
           0,
           0,
           0,
           5,
           0,
           1,
           0,
           0,
           3,
           2,
           1,
           3,
           1,
           2,
           1,
           1,
           1,
           2,
           4,
           1,
           2,
           1,
           0,
           1,
           3,
           0,
           0,
           4,
           1,
           4,
           0,
           0,
           0,
           2,
           1,
           4,
           0,
           5,
           0,
           2,
           1,
           0,
           1,
           1,
           1,
           1,
           1,
           1,
           2,
           2,
           2,
           3,
           1,
           0,
           1,
           0,
           4,
           3,
           3,
           2,
           4,
           1,
           0,
           3,
           2,
           1,
           0,
           2,
           1,
           5,
           0,
           2,
           3,
           0,
           0,
           0,
           5,
           0,
           0,
           2,
           0,
           2,
           0,
           0,
           0,
           0,
           2,
           4
          ],
          "coloraxis": "coloraxis",
          "size": [
           11,
           4,
           2,
           3,
           6,
           1,
           1,
           3,
           0,
           2,
           8,
           4,
           2,
           0,
           0,
           2,
           0,
           4,
           1,
           0,
           2,
           7,
           2,
           1,
           7,
           2,
           5,
           2,
           3,
           0,
           1,
           2,
           0,
           2,
           4,
           1,
           1,
           4,
           2,
           0,
           1,
           7,
           2,
           1,
           0,
           6,
           2,
           1,
           0,
           2,
           5,
           4,
           1,
           0,
           0,
           1,
           0,
           10,
           7,
           0,
           0,
           1,
           2,
           1,
           1,
           0,
           3,
           1,
           0,
           5,
           1,
           1,
           0,
           0,
           3,
           4,
           1,
           0,
           1,
           7,
           3,
           3,
           0,
           1,
           1,
           0,
           0,
           0,
           4,
           2,
           0,
           1,
           0,
           4,
           1,
           7,
           4,
           0,
           3,
           3,
           0,
           0,
           3,
           0,
           3,
           0,
           0,
           2,
           1,
           1,
           1,
           5,
           1,
           4,
           1,
           0,
           2,
           2,
           1,
           0,
           0,
           0,
           2,
           0,
           2,
           2,
           1,
           1,
           2,
           0,
           1,
           0,
           0,
           3,
           2,
           0,
           2,
           5,
           1,
           0,
           1,
           2,
           1,
           2,
           1,
           4,
           2,
           1,
           2,
           0,
           1,
           2,
           0,
           0,
           2,
           3,
           1,
           6,
           0,
           1,
           2,
           2,
           2,
           0,
           0,
           0,
           0,
           1,
           3,
           1,
           0,
           1,
           1,
           4,
           1,
           2,
           2,
           0,
           0,
           3,
           0,
           1,
           3,
           0,
           0,
           1,
           0,
           1,
           3,
           5,
           0,
           2,
           0,
           0,
           1,
           0,
           3,
           2,
           2,
           0,
           0,
           0,
           5,
           3,
           5,
           2,
           0,
           4,
           3,
           3,
           2,
           5,
           1,
           0,
           3,
           1,
           1,
           0,
           0,
           1,
           1,
           0,
           2,
           1,
           1,
           0,
           1,
           1,
           0,
           1,
           3,
           4,
           3,
           2,
           1,
           4,
           12,
           1,
           0,
           0,
           0,
           0,
           2,
           1,
           0,
           1,
           1,
           0,
           0,
           3,
           0,
           2,
           0,
           2,
           0,
           0,
           0,
           7,
           1,
           1,
           1,
           5,
           0,
           0,
           0,
           0,
           0,
           0,
           0,
           1,
           0,
           0,
           6,
           0,
           5,
           3,
           2,
           0,
           1,
           0,
           3,
           4,
           0,
           1,
           0,
           0,
           1,
           1,
           3,
           1,
           2,
           0,
           0,
           1,
           0,
           6,
           0,
           0,
           0,
           0,
           3,
           0,
           2,
           0,
           2,
           1,
           1,
           1,
           0,
           1,
           0,
           4,
           3,
           1,
           0,
           4,
           0,
           0,
           0,
           0,
           0,
           0,
           0,
           4,
           2,
           0,
           1,
           3,
           1,
           2,
           1,
           8,
           2,
           0,
           3,
           5,
           2,
           1,
           2,
           3,
           2,
           5,
           0,
           6,
           1,
           1,
           0,
           1,
           3,
           8,
           1,
           0,
           0,
           0,
           1,
           1,
           2,
           0,
           0,
           1,
           5,
           0,
           1,
           1,
           0,
           0,
           0,
           0,
           1,
           1,
           3,
           0,
           3,
           0,
           0,
           0,
           1,
           2,
           1,
           0,
           0,
           1,
           0,
           3,
           4,
           6,
           6,
           1,
           2,
           2,
           0,
           0,
           2,
           2,
           4,
           0,
           0,
           0,
           1,
           0,
           3,
           2,
           0,
           2,
           1,
           2,
           2,
           2,
           2,
           0,
           1,
           2,
           0,
           0,
           0,
           0,
           0,
           1,
           1,
           5,
           0,
           0,
           1,
           0,
           1,
           0,
           0,
           0,
           1,
           0,
           0,
           1,
           1,
           0,
           3,
           0,
           1,
           0,
           4,
           0,
           1,
           3,
           0,
           5,
           1,
           0,
           2,
           1,
           1,
           0,
           1,
           2,
           0,
           1,
           3,
           2,
           3,
           2,
           0,
           2,
           0,
           2,
           1,
           0,
           1,
           2,
           2,
           0,
           3,
           0,
           1,
           0,
           0,
           2,
           0,
           0,
           1,
           3,
           6,
           0,
           0,
           4,
           1,
           0,
           1,
           0,
           0,
           0,
           1,
           1,
           0,
           2,
           0,
           3,
           0,
           0,
           1
          ],
          "sizemode": "area",
          "sizeref": 0.03,
          "symbol": "circle"
         },
         "mode": "markers",
         "name": "",
         "orientation": "v",
         "showlegend": false,
         "type": "scatter",
         "x": [
          "Centre-Forward",
          "Centre-Forward",
          "Centre-Forward",
          "Left Winger",
          "Right Winger",
          "Centre-Forward",
          "Attacking Midfield",
          "Left Winger",
          "Left Winger",
          "Central Midfield",
          "Attacking Midfield",
          "Defensive Midfield",
          "Left Winger",
          "Left Winger",
          "Left Winger",
          "Left Winger",
          "Central Midfield",
          "Central Midfield",
          "Centre-Forward",
          "Central Midfield",
          "Attacking Midfield",
          "Right-Back",
          "Centre-Back",
          "Centre-Back",
          "Central Midfield",
          "Second Striker",
          "Left-Back",
          "Right-Back",
          "Defensive Midfield",
          "Defensive Midfield",
          "Left Winger",
          "Right Winger",
          "Centre-Back",
          "Attacking Midfield",
          "Central Midfield",
          "Attacking Midfield",
          "Centre-Back",
          "Right Winger",
          "Central Midfield",
          "Goalkeeper",
          "Defensive Midfield",
          "Attacking Midfield",
          "Left Midfield",
          "Central Midfield",
          "Goalkeeper",
          "Central Midfield",
          "Left-Back",
          "Left Winger",
          "Centre-Back",
          "Centre-Forward",
          "Centre-Forward",
          "Centre-Back",
          "Centre-Back",
          "Defensive Midfield",
          "Centre-Back",
          "Defensive Midfield",
          "Centre-Back",
          "Left Winger",
          "Central Midfield",
          "Goalkeeper",
          "Goalkeeper",
          "Central Midfield",
          "Centre-Forward",
          "Central Midfield",
          "Centre-Forward",
          "Central Midfield",
          "Central Midfield",
          "Right Winger",
          "Defensive Midfield",
          "Right-Back",
          "Centre-Forward",
          "Centre-Back",
          "Central Midfield",
          "Goalkeeper",
          "Centre-Back",
          "Attacking Midfield",
          "Right Winger",
          "Centre-Back",
          "Right Winger",
          "Left Winger",
          "Centre-Forward",
          "Left-Back",
          "Right Winger",
          "Attacking Midfield",
          "Attacking Midfield",
          "Left-Back",
          "Right Winger",
          "Goalkeeper",
          "Second Striker",
          "Attacking Midfield",
          "Centre-Back",
          "Second Striker",
          "Centre-Back",
          "Left Winger",
          "Centre-Back",
          "Attacking Midfield",
          "Right-Back",
          "Central Midfield",
          "Central Midfield",
          "Left Winger",
          "Centre-Back",
          "Centre-Back",
          "Right Winger",
          "Centre-Forward",
          "Central Midfield",
          "Centre-Back",
          "Centre-Back",
          "Centre-Forward",
          "Left Winger",
          "Centre-Forward",
          "Defensive Midfield",
          "Central Midfield",
          "Attacking Midfield",
          "Left Winger",
          "Defensive Midfield",
          "Defensive Midfield",
          "Left-Back",
          "Right Winger",
          "Left-Back",
          "Centre-Back",
          "Right-Back",
          "Centre-Back",
          "Centre-Forward",
          "Centre-Back",
          "Right Winger",
          "Central Midfield",
          "Defensive Midfield",
          "Centre-Forward",
          "Central Midfield",
          "Centre-Back",
          "Attacking Midfield",
          "Centre-Back",
          "Centre-Back",
          "Second Striker",
          "Central Midfield",
          "Defensive Midfield",
          "Attacking Midfield",
          "Centre-Forward",
          "Centre-Forward",
          "Left-Back",
          "Central Midfield",
          "Defensive Midfield",
          "Central Midfield",
          "Left Winger",
          "Centre-Forward",
          "Central Midfield",
          "Central Midfield",
          "Defensive Midfield",
          "Centre-Forward",
          "Left-Back",
          "Attacking Midfield",
          "Centre-Forward",
          "Centre-Forward",
          "Left Winger",
          "Defensive Midfield",
          "Attacking Midfield",
          "Right Winger",
          "Centre-Forward",
          "Defensive Midfield",
          "Right Winger",
          "Left Midfield",
          "Central Midfield",
          "Left Winger",
          "Centre-Forward",
          "Central Midfield",
          "Centre-Back",
          "Centre-Back",
          "Right-Back",
          "Right Winger",
          "Right Winger",
          "Defensive Midfield",
          "Right Winger",
          "Centre-Back",
          "Left-Back",
          "Left Midfield",
          "Defensive Midfield",
          "Left-Back",
          "Centre-Back",
          "Centre-Forward",
          "Right Winger",
          "Centre-Forward",
          "Centre-Back",
          "Centre-Forward",
          "Left-Back",
          "Goalkeeper",
          "Centre-Back",
          "Centre-Forward",
          "Central Midfield",
          "Central Midfield",
          "Centre-Forward",
          "Right Winger",
          "Right Winger",
          "Centre-Back",
          "Centre-Forward",
          "Central Midfield",
          "Left-Back",
          "Centre-Forward",
          "Left Winger",
          "Central Midfield",
          "Centre-Back",
          "Centre-Back",
          "Central Midfield",
          "Right Winger",
          "Left Winger",
          "Central Midfield",
          "Centre-Forward",
          "Goalkeeper",
          "Central Midfield",
          "Right-Back",
          "Central Midfield",
          "Centre-Forward",
          "Right Winger",
          "Attacking Midfield",
          "Centre-Back",
          "Left Winger",
          "Central Midfield",
          "Central Midfield",
          "Centre-Back",
          "Centre-Back",
          "Centre-Back",
          "Centre-Forward",
          "Second Striker",
          "Right-Back",
          "Attacking Midfield",
          "Attacking Midfield",
          "Right Winger",
          "Central Midfield",
          "Left Winger",
          "Centre-Back",
          "Central Midfield",
          "Defensive Midfield",
          "Right Winger",
          "Central Midfield",
          "Right Midfield",
          "Centre-Forward",
          "Centre-Forward",
          "Second Striker",
          "Central Midfield",
          "Central Midfield",
          "Centre-Back",
          "Centre-Back",
          "Defensive Midfield",
          "Attacking Midfield",
          "Centre-Back",
          "Centre-Back",
          "Defensive Midfield",
          "Centre-Back",
          "Left Winger",
          "Central Midfield",
          "Attacking Midfield",
          "Right-Back",
          "Centre-Forward",
          "Right-Back",
          "Centre-Forward",
          "Left-Back",
          "Right-Back",
          "Right Winger",
          "Defensive Midfield",
          "Defensive Midfield",
          "Central Midfield",
          "Right-Back",
          "Centre-Forward",
          "Centre-Back",
          "Left Winger",
          "Right Winger",
          "Centre-Forward",
          "Central Midfield",
          "Defensive Midfield",
          "Left-Back",
          "Central Midfield",
          "Central Midfield",
          "Right Midfield",
          "Right Winger",
          "Centre-Back",
          "Centre-Forward",
          "Centre-Back",
          "Left Midfield",
          "Centre-Back",
          "Left-Back",
          "Right-Back",
          "Left Winger",
          "Centre-Forward",
          "Centre-Back",
          "Right Winger",
          "Centre-Back",
          "Centre-Back",
          "Central Midfield",
          "Centre-Forward",
          "Left Winger",
          "Attacking Midfield",
          "Left Winger",
          "Defensive Midfield",
          "Centre-Back",
          "Right-Back",
          "Centre-Back",
          "Left Winger",
          "Central Midfield",
          "Right Midfield",
          "Right Winger",
          "Left Winger",
          "Left Winger",
          "Central Midfield",
          "Left-Back",
          "Centre-Back",
          "Right Winger",
          "Right-Back",
          "Right Winger",
          "Centre-Forward",
          "Centre-Back",
          "Left-Back",
          "Centre-Back",
          "Left Winger",
          "Attacking Midfield",
          "Centre-Back",
          "Goalkeeper",
          "Centre-Forward",
          "Centre-Back",
          "Centre-Back",
          "Central Midfield",
          "Centre-Back",
          "Right-Back",
          "Goalkeeper",
          "Centre-Back",
          "Central Midfield",
          "Centre-Back",
          "Centre-Back",
          "Right Winger",
          "Right Winger",
          "Central Midfield",
          "Centre-Forward",
          "Left Winger",
          "Centre-Forward",
          "Left Winger",
          "Central Midfield",
          "Right Winger",
          "Attacking Midfield",
          "Centre-Back",
          "Right-Back",
          "Centre-Back",
          "Attacking Midfield",
          "Attacking Midfield",
          "Central Midfield",
          "Defensive Midfield",
          "Second Striker",
          "Left Winger",
          "Left Winger",
          "Right-Back",
          "Right Winger",
          "Central Midfield",
          "Left Winger",
          "Right-Back",
          "Right Winger",
          "Centre-Back",
          "Centre-Forward",
          "Centre-Forward",
          "Central Midfield",
          "Defensive Midfield",
          "Central Midfield",
          "Left Midfield",
          "Attacking Midfield",
          "Right Winger",
          "Defensive Midfield",
          "Left-Back",
          "Left Winger",
          "Centre-Forward",
          "Centre-Forward",
          "Centre-Back",
          "Goalkeeper",
          "Left Winger",
          "Centre-Back",
          "Left-Back",
          "Central Midfield",
          "Centre-Forward",
          "Centre-Back",
          "Defensive Midfield",
          "Centre-Back",
          "Attacking Midfield",
          "Centre-Forward",
          "Central Midfield",
          "Centre-Forward",
          "Defensive Midfield",
          "Centre-Forward",
          "Defensive Midfield",
          "Centre-Forward",
          "Attacking Midfield",
          "Centre-Forward",
          "Attacking Midfield",
          "Defensive Midfield",
          "Right-Back",
          "Centre-Forward",
          "Goalkeeper",
          "Left Winger",
          "Centre-Forward",
          "Central Midfield",
          "Centre-Forward",
          "Attacking Midfield",
          "Centre-Back",
          "Goalkeeper",
          "Defensive Midfield",
          "Right Winger",
          "Right-Back",
          "Left Winger",
          "Centre-Back",
          "Attacking Midfield",
          "Attacking Midfield",
          "Right Winger",
          "Attacking Midfield",
          "Left-Back",
          "Centre-Back",
          "Centre-Back",
          "Centre-Forward",
          "Central Midfield",
          "Defensive Midfield",
          "Attacking Midfield",
          "Right-Back",
          "Attacking Midfield",
          "Central Midfield",
          "Right Midfield",
          "Central Midfield",
          "Centre-Forward",
          "Central Midfield",
          "Centre-Back",
          "Left Midfield",
          "Goalkeeper",
          "Centre-Forward",
          "Left-Back",
          "Centre-Back",
          "Right-Back",
          "Defensive Midfield",
          "Centre-Back",
          "Goalkeeper",
          "Centre-Forward",
          "Central Midfield",
          "Centre-Forward",
          "Left Winger",
          "Goalkeeper",
          "Central Midfield",
          "Centre-Back",
          "Defensive Midfield",
          "Centre-Forward",
          "Right-Back",
          "Attacking Midfield",
          "Defensive Midfield",
          "Left Midfield",
          "Right-Back",
          "Right Winger",
          "Right Winger",
          "Left Winger",
          "Right Winger",
          "Right-Back",
          "Attacking Midfield",
          "Left Winger",
          "Attacking Midfield",
          "Left-Back",
          "Attacking Midfield",
          "Central Midfield",
          "Right Winger",
          "Centre-Back",
          "Right-Back",
          "Central Midfield",
          "Centre-Back",
          "Left-Back",
          "Right Winger",
          "Right-Back",
          "Right Winger",
          "Left Winger",
          "Central Midfield",
          "Centre-Back",
          "Centre-Back",
          "Centre-Back",
          "Central Midfield",
          "Left Midfield",
          "Centre-Back",
          "Right Winger",
          "Central Midfield",
          "Right Winger",
          "Right-Back",
          "Right-Back",
          "Centre-Forward",
          "Defensive Midfield",
          "Right Midfield",
          "Left Winger",
          "Left Winger",
          "Defensive Midfield",
          "Central Midfield",
          "Defensive Midfield",
          "Goalkeeper",
          "Goalkeeper",
          "Defensive Midfield",
          "Right Winger",
          "Centre-Back",
          "Centre-Forward",
          "Attacking Midfield",
          "Second Striker",
          "Goalkeeper",
          "Centre-Back",
          "Centre-Back"
         ],
         "xaxis": "x",
         "y": [
          144,
          135,
          108,
          90,
          90,
          90,
          90,
          90,
          81,
          81,
          81,
          81,
          81,
          76.5,
          76.5,
          76.5,
          72,
          72,
          72,
          72,
          67.5,
          67.5,
          67.5,
          67.5,
          63,
          63,
          63,
          63,
          63,
          63,
          63,
          63,
          63,
          63,
          63,
          63,
          63,
          63,
          63,
          63,
          63,
          58.5,
          58.5,
          58.5,
          58.5,
          58.5,
          58.5,
          54,
          54,
          54,
          54,
          54,
          54,
          54,
          54,
          54,
          54,
          54,
          54,
          54,
          54,
          54,
          54,
          49.5,
          49.5,
          49.5,
          49.5,
          49.5,
          49.5,
          49.5,
          49.5,
          49.5,
          49.5,
          49.5,
          49.5,
          45,
          45,
          45,
          45,
          45,
          45,
          45,
          45,
          45,
          45,
          45,
          45,
          45,
          45,
          45,
          45,
          45,
          45,
          43.2,
          43.2,
          42.3,
          40.5,
          40.5,
          40.5,
          40.5,
          40.5,
          40.5,
          40.5,
          40.5,
          40.5,
          40.5,
          40.5,
          40.5,
          40.5,
          40.5,
          40.5,
          40.5,
          37.8,
          37.8,
          37.8,
          37.8,
          37.8,
          37.8,
          36,
          36,
          36,
          36,
          36,
          36,
          36,
          36,
          36,
          36,
          36,
          36,
          36,
          36,
          36,
          36,
          36,
          36,
          36,
          36,
          36,
          36,
          36,
          36,
          36,
          36,
          36,
          36,
          36,
          34.2,
          34.2,
          34.2,
          34.2,
          34.2,
          31.5,
          31.5,
          31.5,
          31.5,
          31.5,
          31.5,
          31.5,
          31.5,
          31.5,
          31.5,
          31.5,
          31.5,
          31.5,
          31.5,
          31.5,
          31.5,
          31.5,
          31.5,
          31.5,
          31.5,
          31.5,
          31.5,
          31.5,
          31.5,
          31.5,
          31.5,
          31.5,
          31.5,
          31.5,
          31.5,
          31.5,
          31.5,
          31.5,
          31.5,
          31.5,
          29.7,
          29.7,
          29.7,
          28.8,
          28.8,
          28.8,
          28.8,
          28.8,
          28.8,
          28.8,
          28.8,
          28.8,
          28.8,
          28.8,
          28.8,
          27,
          27,
          27,
          27,
          27,
          27,
          27,
          27,
          27,
          27,
          27,
          27,
          27,
          27,
          27,
          27,
          27,
          27,
          27,
          27,
          27,
          27,
          27,
          27,
          27,
          27,
          27,
          27,
          27,
          27,
          27,
          27,
          27,
          27,
          27,
          27,
          27,
          25.2,
          25.2,
          25.2,
          25.2,
          25.2,
          25.2,
          25.2,
          25.2,
          25.2,
          25.2,
          25.2,
          25.2,
          25.2,
          25.2,
          25.2,
          25.2,
          25.2,
          24.3,
          24.3,
          24.3,
          24.3,
          24.3,
          24.3,
          24.3,
          24.3,
          23.4,
          23.4,
          23.4,
          23.4,
          23.4,
          22.5,
          22.5,
          22.5,
          22.5,
          22.5,
          22.5,
          22.5,
          22.5,
          22.5,
          22.5,
          22.5,
          22.5,
          22.5,
          22.5,
          22.5,
          22.5,
          22.5,
          22.5,
          22.5,
          22.5,
          22.5,
          22.5,
          22.5,
          22.5,
          22.5,
          22.5,
          22.5,
          22.5,
          22.5,
          22.5,
          22.5,
          22.5,
          22.5,
          22.5,
          22.5,
          22.5,
          22.5,
          22.5,
          22.5,
          22.5,
          22.5,
          22.5,
          22.5,
          22.5,
          22.5,
          22.5,
          22.5,
          22.5,
          22.5,
          22.5,
          22.5,
          22.5,
          22.5,
          22.5,
          22.5,
          22.5,
          22.5,
          22.5,
          22.5,
          22.5,
          22.5,
          22.5,
          22.5,
          21.6,
          21.6,
          21.6,
          21.6,
          21.6,
          21.6,
          20.7,
          20.7,
          20.7,
          20.7,
          20.7,
          20.7,
          19.8,
          19.8,
          19.8,
          19.8,
          19.8,
          19.8,
          19.8,
          19.8,
          19.8,
          19.8,
          19.8,
          19.8,
          19.8,
          19.8,
          19.8,
          19.8,
          19.8,
          19.8,
          19.8,
          19.8,
          19.8,
          19.8,
          19.8,
          19.8,
          19.8,
          19.8,
          19.8,
          19.8,
          19.8,
          19.8,
          19.8,
          19.8,
          19.8,
          19.8,
          19.8,
          19.8,
          19.8,
          19.8,
          18.9,
          18.9,
          18,
          18,
          18,
          18,
          18,
          18,
          18,
          18,
          18,
          18,
          18,
          18,
          18,
          18,
          18,
          18,
          18,
          18,
          18,
          18,
          18,
          18,
          18,
          18,
          18,
          18,
          18,
          18,
          18,
          18,
          18,
          18,
          18,
          18,
          18,
          18,
          18,
          18,
          18,
          18,
          18,
          18,
          18,
          18,
          18,
          18,
          18,
          18,
          18,
          18,
          18,
          18,
          18,
          18,
          18,
          18,
          18,
          18,
          18,
          18,
          18,
          18,
          18,
          18,
          18,
          18,
          18,
          18,
          18,
          18,
          18,
          18,
          18,
          17.1,
          17.1,
          17.1,
          16.2,
          16.2,
          16.2,
          16.2,
          16.2,
          16.2,
          16.2,
          16.2,
          16.2,
          16.2,
          16.2,
          16.2,
          16.2,
          16.2,
          16.2,
          16.2,
          16.2,
          16.2,
          16.2,
          16.2,
          16.2,
          16.2,
          16.2,
          16.2,
          16.2,
          16.2,
          16.2,
          16.2,
          16.2,
          16.2,
          16.2,
          16.2,
          16.2,
          16.2,
          16.2,
          16.2,
          16.2
         ],
         "yaxis": "y"
        }
       ],
       "layout": {
        "coloraxis": {
         "colorbar": {
          "title": {
           "text": "Yellow Cards"
          }
         },
         "colorscale": [
          [
           0,
           "#0d0887"
          ],
          [
           0.1111111111111111,
           "#46039f"
          ],
          [
           0.2222222222222222,
           "#7201a8"
          ],
          [
           0.3333333333333333,
           "#9c179e"
          ],
          [
           0.4444444444444444,
           "#bd3786"
          ],
          [
           0.5555555555555556,
           "#d8576b"
          ],
          [
           0.6666666666666666,
           "#ed7953"
          ],
          [
           0.7777777777777778,
           "#fb9f3a"
          ],
          [
           0.8888888888888888,
           "#fdca26"
          ],
          [
           1,
           "#f0f921"
          ]
         ]
        },
        "height": 400,
        "legend": {
         "itemsizing": "constant",
         "tracegroupgap": 0
        },
        "margin": {
         "t": 60
        },
        "template": {
         "data": {
          "bar": [
           {
            "error_x": {
             "color": "#2a3f5f"
            },
            "error_y": {
             "color": "#2a3f5f"
            },
            "marker": {
             "line": {
              "color": "#E5ECF6",
              "width": 0.5
             },
             "pattern": {
              "fillmode": "overlay",
              "size": 10,
              "solidity": 0.2
             }
            },
            "type": "bar"
           }
          ],
          "barpolar": [
           {
            "marker": {
             "line": {
              "color": "#E5ECF6",
              "width": 0.5
             },
             "pattern": {
              "fillmode": "overlay",
              "size": 10,
              "solidity": 0.2
             }
            },
            "type": "barpolar"
           }
          ],
          "carpet": [
           {
            "aaxis": {
             "endlinecolor": "#2a3f5f",
             "gridcolor": "white",
             "linecolor": "white",
             "minorgridcolor": "white",
             "startlinecolor": "#2a3f5f"
            },
            "baxis": {
             "endlinecolor": "#2a3f5f",
             "gridcolor": "white",
             "linecolor": "white",
             "minorgridcolor": "white",
             "startlinecolor": "#2a3f5f"
            },
            "type": "carpet"
           }
          ],
          "choropleth": [
           {
            "colorbar": {
             "outlinewidth": 0,
             "ticks": ""
            },
            "type": "choropleth"
           }
          ],
          "contour": [
           {
            "colorbar": {
             "outlinewidth": 0,
             "ticks": ""
            },
            "colorscale": [
             [
              0,
              "#0d0887"
             ],
             [
              0.1111111111111111,
              "#46039f"
             ],
             [
              0.2222222222222222,
              "#7201a8"
             ],
             [
              0.3333333333333333,
              "#9c179e"
             ],
             [
              0.4444444444444444,
              "#bd3786"
             ],
             [
              0.5555555555555556,
              "#d8576b"
             ],
             [
              0.6666666666666666,
              "#ed7953"
             ],
             [
              0.7777777777777778,
              "#fb9f3a"
             ],
             [
              0.8888888888888888,
              "#fdca26"
             ],
             [
              1,
              "#f0f921"
             ]
            ],
            "type": "contour"
           }
          ],
          "contourcarpet": [
           {
            "colorbar": {
             "outlinewidth": 0,
             "ticks": ""
            },
            "type": "contourcarpet"
           }
          ],
          "heatmap": [
           {
            "colorbar": {
             "outlinewidth": 0,
             "ticks": ""
            },
            "colorscale": [
             [
              0,
              "#0d0887"
             ],
             [
              0.1111111111111111,
              "#46039f"
             ],
             [
              0.2222222222222222,
              "#7201a8"
             ],
             [
              0.3333333333333333,
              "#9c179e"
             ],
             [
              0.4444444444444444,
              "#bd3786"
             ],
             [
              0.5555555555555556,
              "#d8576b"
             ],
             [
              0.6666666666666666,
              "#ed7953"
             ],
             [
              0.7777777777777778,
              "#fb9f3a"
             ],
             [
              0.8888888888888888,
              "#fdca26"
             ],
             [
              1,
              "#f0f921"
             ]
            ],
            "type": "heatmap"
           }
          ],
          "heatmapgl": [
           {
            "colorbar": {
             "outlinewidth": 0,
             "ticks": ""
            },
            "colorscale": [
             [
              0,
              "#0d0887"
             ],
             [
              0.1111111111111111,
              "#46039f"
             ],
             [
              0.2222222222222222,
              "#7201a8"
             ],
             [
              0.3333333333333333,
              "#9c179e"
             ],
             [
              0.4444444444444444,
              "#bd3786"
             ],
             [
              0.5555555555555556,
              "#d8576b"
             ],
             [
              0.6666666666666666,
              "#ed7953"
             ],
             [
              0.7777777777777778,
              "#fb9f3a"
             ],
             [
              0.8888888888888888,
              "#fdca26"
             ],
             [
              1,
              "#f0f921"
             ]
            ],
            "type": "heatmapgl"
           }
          ],
          "histogram": [
           {
            "marker": {
             "pattern": {
              "fillmode": "overlay",
              "size": 10,
              "solidity": 0.2
             }
            },
            "type": "histogram"
           }
          ],
          "histogram2d": [
           {
            "colorbar": {
             "outlinewidth": 0,
             "ticks": ""
            },
            "colorscale": [
             [
              0,
              "#0d0887"
             ],
             [
              0.1111111111111111,
              "#46039f"
             ],
             [
              0.2222222222222222,
              "#7201a8"
             ],
             [
              0.3333333333333333,
              "#9c179e"
             ],
             [
              0.4444444444444444,
              "#bd3786"
             ],
             [
              0.5555555555555556,
              "#d8576b"
             ],
             [
              0.6666666666666666,
              "#ed7953"
             ],
             [
              0.7777777777777778,
              "#fb9f3a"
             ],
             [
              0.8888888888888888,
              "#fdca26"
             ],
             [
              1,
              "#f0f921"
             ]
            ],
            "type": "histogram2d"
           }
          ],
          "histogram2dcontour": [
           {
            "colorbar": {
             "outlinewidth": 0,
             "ticks": ""
            },
            "colorscale": [
             [
              0,
              "#0d0887"
             ],
             [
              0.1111111111111111,
              "#46039f"
             ],
             [
              0.2222222222222222,
              "#7201a8"
             ],
             [
              0.3333333333333333,
              "#9c179e"
             ],
             [
              0.4444444444444444,
              "#bd3786"
             ],
             [
              0.5555555555555556,
              "#d8576b"
             ],
             [
              0.6666666666666666,
              "#ed7953"
             ],
             [
              0.7777777777777778,
              "#fb9f3a"
             ],
             [
              0.8888888888888888,
              "#fdca26"
             ],
             [
              1,
              "#f0f921"
             ]
            ],
            "type": "histogram2dcontour"
           }
          ],
          "mesh3d": [
           {
            "colorbar": {
             "outlinewidth": 0,
             "ticks": ""
            },
            "type": "mesh3d"
           }
          ],
          "parcoords": [
           {
            "line": {
             "colorbar": {
              "outlinewidth": 0,
              "ticks": ""
             }
            },
            "type": "parcoords"
           }
          ],
          "pie": [
           {
            "automargin": true,
            "type": "pie"
           }
          ],
          "scatter": [
           {
            "fillpattern": {
             "fillmode": "overlay",
             "size": 10,
             "solidity": 0.2
            },
            "type": "scatter"
           }
          ],
          "scatter3d": [
           {
            "line": {
             "colorbar": {
              "outlinewidth": 0,
              "ticks": ""
             }
            },
            "marker": {
             "colorbar": {
              "outlinewidth": 0,
              "ticks": ""
             }
            },
            "type": "scatter3d"
           }
          ],
          "scattercarpet": [
           {
            "marker": {
             "colorbar": {
              "outlinewidth": 0,
              "ticks": ""
             }
            },
            "type": "scattercarpet"
           }
          ],
          "scattergeo": [
           {
            "marker": {
             "colorbar": {
              "outlinewidth": 0,
              "ticks": ""
             }
            },
            "type": "scattergeo"
           }
          ],
          "scattergl": [
           {
            "marker": {
             "colorbar": {
              "outlinewidth": 0,
              "ticks": ""
             }
            },
            "type": "scattergl"
           }
          ],
          "scattermapbox": [
           {
            "marker": {
             "colorbar": {
              "outlinewidth": 0,
              "ticks": ""
             }
            },
            "type": "scattermapbox"
           }
          ],
          "scatterpolar": [
           {
            "marker": {
             "colorbar": {
              "outlinewidth": 0,
              "ticks": ""
             }
            },
            "type": "scatterpolar"
           }
          ],
          "scatterpolargl": [
           {
            "marker": {
             "colorbar": {
              "outlinewidth": 0,
              "ticks": ""
             }
            },
            "type": "scatterpolargl"
           }
          ],
          "scatterternary": [
           {
            "marker": {
             "colorbar": {
              "outlinewidth": 0,
              "ticks": ""
             }
            },
            "type": "scatterternary"
           }
          ],
          "surface": [
           {
            "colorbar": {
             "outlinewidth": 0,
             "ticks": ""
            },
            "colorscale": [
             [
              0,
              "#0d0887"
             ],
             [
              0.1111111111111111,
              "#46039f"
             ],
             [
              0.2222222222222222,
              "#7201a8"
             ],
             [
              0.3333333333333333,
              "#9c179e"
             ],
             [
              0.4444444444444444,
              "#bd3786"
             ],
             [
              0.5555555555555556,
              "#d8576b"
             ],
             [
              0.6666666666666666,
              "#ed7953"
             ],
             [
              0.7777777777777778,
              "#fb9f3a"
             ],
             [
              0.8888888888888888,
              "#fdca26"
             ],
             [
              1,
              "#f0f921"
             ]
            ],
            "type": "surface"
           }
          ],
          "table": [
           {
            "cells": {
             "fill": {
              "color": "#EBF0F8"
             },
             "line": {
              "color": "white"
             }
            },
            "header": {
             "fill": {
              "color": "#C8D4E3"
             },
             "line": {
              "color": "white"
             }
            },
            "type": "table"
           }
          ]
         },
         "layout": {
          "annotationdefaults": {
           "arrowcolor": "#2a3f5f",
           "arrowhead": 0,
           "arrowwidth": 1
          },
          "autotypenumbers": "strict",
          "coloraxis": {
           "colorbar": {
            "outlinewidth": 0,
            "ticks": ""
           }
          },
          "colorscale": {
           "diverging": [
            [
             0,
             "#8e0152"
            ],
            [
             0.1,
             "#c51b7d"
            ],
            [
             0.2,
             "#de77ae"
            ],
            [
             0.3,
             "#f1b6da"
            ],
            [
             0.4,
             "#fde0ef"
            ],
            [
             0.5,
             "#f7f7f7"
            ],
            [
             0.6,
             "#e6f5d0"
            ],
            [
             0.7,
             "#b8e186"
            ],
            [
             0.8,
             "#7fbc41"
            ],
            [
             0.9,
             "#4d9221"
            ],
            [
             1,
             "#276419"
            ]
           ],
           "sequential": [
            [
             0,
             "#0d0887"
            ],
            [
             0.1111111111111111,
             "#46039f"
            ],
            [
             0.2222222222222222,
             "#7201a8"
            ],
            [
             0.3333333333333333,
             "#9c179e"
            ],
            [
             0.4444444444444444,
             "#bd3786"
            ],
            [
             0.5555555555555556,
             "#d8576b"
            ],
            [
             0.6666666666666666,
             "#ed7953"
            ],
            [
             0.7777777777777778,
             "#fb9f3a"
            ],
            [
             0.8888888888888888,
             "#fdca26"
            ],
            [
             1,
             "#f0f921"
            ]
           ],
           "sequentialminus": [
            [
             0,
             "#0d0887"
            ],
            [
             0.1111111111111111,
             "#46039f"
            ],
            [
             0.2222222222222222,
             "#7201a8"
            ],
            [
             0.3333333333333333,
             "#9c179e"
            ],
            [
             0.4444444444444444,
             "#bd3786"
            ],
            [
             0.5555555555555556,
             "#d8576b"
            ],
            [
             0.6666666666666666,
             "#ed7953"
            ],
            [
             0.7777777777777778,
             "#fb9f3a"
            ],
            [
             0.8888888888888888,
             "#fdca26"
            ],
            [
             1,
             "#f0f921"
            ]
           ]
          },
          "colorway": [
           "#636efa",
           "#EF553B",
           "#00cc96",
           "#ab63fa",
           "#FFA15A",
           "#19d3f3",
           "#FF6692",
           "#B6E880",
           "#FF97FF",
           "#FECB52"
          ],
          "font": {
           "color": "#2a3f5f"
          },
          "geo": {
           "bgcolor": "white",
           "lakecolor": "white",
           "landcolor": "#E5ECF6",
           "showlakes": true,
           "showland": true,
           "subunitcolor": "white"
          },
          "hoverlabel": {
           "align": "left"
          },
          "hovermode": "closest",
          "mapbox": {
           "style": "light"
          },
          "paper_bgcolor": "white",
          "plot_bgcolor": "#E5ECF6",
          "polar": {
           "angularaxis": {
            "gridcolor": "white",
            "linecolor": "white",
            "ticks": ""
           },
           "bgcolor": "#E5ECF6",
           "radialaxis": {
            "gridcolor": "white",
            "linecolor": "white",
            "ticks": ""
           }
          },
          "scene": {
           "xaxis": {
            "backgroundcolor": "#E5ECF6",
            "gridcolor": "white",
            "gridwidth": 2,
            "linecolor": "white",
            "showbackground": true,
            "ticks": "",
            "zerolinecolor": "white"
           },
           "yaxis": {
            "backgroundcolor": "#E5ECF6",
            "gridcolor": "white",
            "gridwidth": 2,
            "linecolor": "white",
            "showbackground": true,
            "ticks": "",
            "zerolinecolor": "white"
           },
           "zaxis": {
            "backgroundcolor": "#E5ECF6",
            "gridcolor": "white",
            "gridwidth": 2,
            "linecolor": "white",
            "showbackground": true,
            "ticks": "",
            "zerolinecolor": "white"
           }
          },
          "shapedefaults": {
           "line": {
            "color": "#2a3f5f"
           }
          },
          "ternary": {
           "aaxis": {
            "gridcolor": "white",
            "linecolor": "white",
            "ticks": ""
           },
           "baxis": {
            "gridcolor": "white",
            "linecolor": "white",
            "ticks": ""
           },
           "bgcolor": "#E5ECF6",
           "caxis": {
            "gridcolor": "white",
            "linecolor": "white",
            "ticks": ""
           }
          },
          "title": {
           "x": 0.05
          },
          "xaxis": {
           "automargin": true,
           "gridcolor": "white",
           "linecolor": "white",
           "ticks": "",
           "title": {
            "standoff": 15
           },
           "zerolinecolor": "white",
           "zerolinewidth": 2
          },
          "yaxis": {
           "automargin": true,
           "gridcolor": "white",
           "linecolor": "white",
           "ticks": "",
           "title": {
            "standoff": 15
           },
           "zerolinecolor": "white",
           "zerolinewidth": 2
          }
         }
        },
        "width": 500,
        "xaxis": {
         "anchor": "y",
         "domain": [
          0,
          1
         ],
         "title": {
          "text": "Position"
         }
        },
        "yaxis": {
         "anchor": "x",
         "domain": [
          0,
          1
         ],
         "title": {
          "text": "Markey Value In Millions(£)"
         }
        }
       }
      },
      "text/html": [
       "<div>                            <div id=\"205acf7d-5f26-4622-b0ac-10c8ff549aa0\" class=\"plotly-graph-div\" style=\"height:400px; width:500px;\"></div>            <script type=\"text/javascript\">                require([\"plotly\"], function(Plotly) {                    window.PLOTLYENV=window.PLOTLYENV || {};                                    if (document.getElementById(\"205acf7d-5f26-4622-b0ac-10c8ff549aa0\")) {                    Plotly.newPlot(                        \"205acf7d-5f26-4622-b0ac-10c8ff549aa0\",                        [{\"hovertemplate\":\"Position=%{x}<br>Markey Value In Millions(\\u00a3)=%{y}<br>Assists=%{marker.size}<br>Yellow Cards=%{marker.color}<extra></extra>\",\"legendgroup\":\"\",\"marker\":{\"color\":[3,1,2,1,1,0,1,3,0,2,3,1,0,0,1,1,0,0,3,1,0,1,3,2,4,3,1,2,4,2,1,0,1,0,3,3,1,0,0,0,4,2,1,0,2,3,2,0,0,2,0,5,2,2,4,2,2,2,4,1,0,3,0,5,4,1,2,0,1,4,1,0,4,1,1,0,2,1,0,3,2,2,0,1,0,2,0,2,1,0,3,1,1,0,2,0,2,2,2,2,3,3,1,0,2,2,4,1,1,2,0,1,0,7,2,4,5,0,4,1,2,0,1,1,3,2,1,2,4,1,1,4,3,2,2,2,2,0,3,1,0,3,0,3,0,2,1,1,4,0,2,2,0,0,2,3,2,1,5,2,2,0,1,1,2,0,5,0,0,1,1,0,4,2,2,2,2,1,0,1,0,3,1,3,1,4,1,2,5,2,3,0,2,2,0,0,2,1,2,0,1,1,4,3,2,2,1,0,1,1,1,1,0,2,1,3,2,5,0,4,4,2,2,1,3,0,4,2,0,0,1,1,2,1,0,5,0,0,1,6,3,4,0,2,2,2,3,0,1,2,0,0,0,1,2,1,1,3,4,1,2,2,0,0,0,0,0,0,0,6,0,0,1,2,3,3,3,2,0,1,1,4,1,2,2,0,2,3,2,0,1,4,3,2,1,7,0,3,4,3,0,0,1,1,1,2,0,0,1,2,1,1,5,1,1,1,5,2,2,0,0,1,1,3,0,2,2,2,0,2,1,0,0,1,4,5,1,3,1,2,3,1,3,2,0,2,5,0,2,2,2,0,1,0,0,0,2,0,2,2,1,1,1,1,0,2,3,0,0,2,1,4,1,0,2,0,0,1,1,3,0,0,5,2,0,1,4,2,5,2,1,1,3,1,0,0,3,0,3,1,1,1,1,1,3,4,3,2,2,0,0,0,5,0,1,0,0,3,2,1,3,1,2,1,1,1,2,4,1,2,1,0,1,3,0,0,4,1,4,0,0,0,2,1,4,0,5,0,2,1,0,1,1,1,1,1,1,2,2,2,3,1,0,1,0,4,3,3,2,4,1,0,3,2,1,0,2,1,5,0,2,3,0,0,0,5,0,0,2,0,2,0,0,0,0,2,4],\"coloraxis\":\"coloraxis\",\"size\":[11,4,2,3,6,1,1,3,0,2,8,4,2,0,0,2,0,4,1,0,2,7,2,1,7,2,5,2,3,0,1,2,0,2,4,1,1,4,2,0,1,7,2,1,0,6,2,1,0,2,5,4,1,0,0,1,0,10,7,0,0,1,2,1,1,0,3,1,0,5,1,1,0,0,3,4,1,0,1,7,3,3,0,1,1,0,0,0,4,2,0,1,0,4,1,7,4,0,3,3,0,0,3,0,3,0,0,2,1,1,1,5,1,4,1,0,2,2,1,0,0,0,2,0,2,2,1,1,2,0,1,0,0,3,2,0,2,5,1,0,1,2,1,2,1,4,2,1,2,0,1,2,0,0,2,3,1,6,0,1,2,2,2,0,0,0,0,1,3,1,0,1,1,4,1,2,2,0,0,3,0,1,3,0,0,1,0,1,3,5,0,2,0,0,1,0,3,2,2,0,0,0,5,3,5,2,0,4,3,3,2,5,1,0,3,1,1,0,0,1,1,0,2,1,1,0,1,1,0,1,3,4,3,2,1,4,12,1,0,0,0,0,2,1,0,1,1,0,0,3,0,2,0,2,0,0,0,7,1,1,1,5,0,0,0,0,0,0,0,1,0,0,6,0,5,3,2,0,1,0,3,4,0,1,0,0,1,1,3,1,2,0,0,1,0,6,0,0,0,0,3,0,2,0,2,1,1,1,0,1,0,4,3,1,0,4,0,0,0,0,0,0,0,4,2,0,1,3,1,2,1,8,2,0,3,5,2,1,2,3,2,5,0,6,1,1,0,1,3,8,1,0,0,0,1,1,2,0,0,1,5,0,1,1,0,0,0,0,1,1,3,0,3,0,0,0,1,2,1,0,0,1,0,3,4,6,6,1,2,2,0,0,2,2,4,0,0,0,1,0,3,2,0,2,1,2,2,2,2,0,1,2,0,0,0,0,0,1,1,5,0,0,1,0,1,0,0,0,1,0,0,1,1,0,3,0,1,0,4,0,1,3,0,5,1,0,2,1,1,0,1,2,0,1,3,2,3,2,0,2,0,2,1,0,1,2,2,0,3,0,1,0,0,2,0,0,1,3,6,0,0,4,1,0,1,0,0,0,1,1,0,2,0,3,0,0,1],\"sizemode\":\"area\",\"sizeref\":0.03,\"symbol\":\"circle\"},\"mode\":\"markers\",\"name\":\"\",\"orientation\":\"v\",\"showlegend\":false,\"x\":[\"Centre-Forward\",\"Centre-Forward\",\"Centre-Forward\",\"Left Winger\",\"Right Winger\",\"Centre-Forward\",\"Attacking Midfield\",\"Left Winger\",\"Left Winger\",\"Central Midfield\",\"Attacking Midfield\",\"Defensive Midfield\",\"Left Winger\",\"Left Winger\",\"Left Winger\",\"Left Winger\",\"Central Midfield\",\"Central Midfield\",\"Centre-Forward\",\"Central Midfield\",\"Attacking Midfield\",\"Right-Back\",\"Centre-Back\",\"Centre-Back\",\"Central Midfield\",\"Second Striker\",\"Left-Back\",\"Right-Back\",\"Defensive Midfield\",\"Defensive Midfield\",\"Left Winger\",\"Right Winger\",\"Centre-Back\",\"Attacking Midfield\",\"Central Midfield\",\"Attacking Midfield\",\"Centre-Back\",\"Right Winger\",\"Central Midfield\",\"Goalkeeper\",\"Defensive Midfield\",\"Attacking Midfield\",\"Left Midfield\",\"Central Midfield\",\"Goalkeeper\",\"Central Midfield\",\"Left-Back\",\"Left Winger\",\"Centre-Back\",\"Centre-Forward\",\"Centre-Forward\",\"Centre-Back\",\"Centre-Back\",\"Defensive Midfield\",\"Centre-Back\",\"Defensive Midfield\",\"Centre-Back\",\"Left Winger\",\"Central Midfield\",\"Goalkeeper\",\"Goalkeeper\",\"Central Midfield\",\"Centre-Forward\",\"Central Midfield\",\"Centre-Forward\",\"Central Midfield\",\"Central Midfield\",\"Right Winger\",\"Defensive Midfield\",\"Right-Back\",\"Centre-Forward\",\"Centre-Back\",\"Central Midfield\",\"Goalkeeper\",\"Centre-Back\",\"Attacking Midfield\",\"Right Winger\",\"Centre-Back\",\"Right Winger\",\"Left Winger\",\"Centre-Forward\",\"Left-Back\",\"Right Winger\",\"Attacking Midfield\",\"Attacking Midfield\",\"Left-Back\",\"Right Winger\",\"Goalkeeper\",\"Second Striker\",\"Attacking Midfield\",\"Centre-Back\",\"Second Striker\",\"Centre-Back\",\"Left Winger\",\"Centre-Back\",\"Attacking Midfield\",\"Right-Back\",\"Central Midfield\",\"Central Midfield\",\"Left Winger\",\"Centre-Back\",\"Centre-Back\",\"Right Winger\",\"Centre-Forward\",\"Central Midfield\",\"Centre-Back\",\"Centre-Back\",\"Centre-Forward\",\"Left Winger\",\"Centre-Forward\",\"Defensive Midfield\",\"Central Midfield\",\"Attacking Midfield\",\"Left Winger\",\"Defensive Midfield\",\"Defensive Midfield\",\"Left-Back\",\"Right Winger\",\"Left-Back\",\"Centre-Back\",\"Right-Back\",\"Centre-Back\",\"Centre-Forward\",\"Centre-Back\",\"Right Winger\",\"Central Midfield\",\"Defensive Midfield\",\"Centre-Forward\",\"Central Midfield\",\"Centre-Back\",\"Attacking Midfield\",\"Centre-Back\",\"Centre-Back\",\"Second Striker\",\"Central Midfield\",\"Defensive Midfield\",\"Attacking Midfield\",\"Centre-Forward\",\"Centre-Forward\",\"Left-Back\",\"Central Midfield\",\"Defensive Midfield\",\"Central Midfield\",\"Left Winger\",\"Centre-Forward\",\"Central Midfield\",\"Central Midfield\",\"Defensive Midfield\",\"Centre-Forward\",\"Left-Back\",\"Attacking Midfield\",\"Centre-Forward\",\"Centre-Forward\",\"Left Winger\",\"Defensive Midfield\",\"Attacking Midfield\",\"Right Winger\",\"Centre-Forward\",\"Defensive Midfield\",\"Right Winger\",\"Left Midfield\",\"Central Midfield\",\"Left Winger\",\"Centre-Forward\",\"Central Midfield\",\"Centre-Back\",\"Centre-Back\",\"Right-Back\",\"Right Winger\",\"Right Winger\",\"Defensive Midfield\",\"Right Winger\",\"Centre-Back\",\"Left-Back\",\"Left Midfield\",\"Defensive Midfield\",\"Left-Back\",\"Centre-Back\",\"Centre-Forward\",\"Right Winger\",\"Centre-Forward\",\"Centre-Back\",\"Centre-Forward\",\"Left-Back\",\"Goalkeeper\",\"Centre-Back\",\"Centre-Forward\",\"Central Midfield\",\"Central Midfield\",\"Centre-Forward\",\"Right Winger\",\"Right Winger\",\"Centre-Back\",\"Centre-Forward\",\"Central Midfield\",\"Left-Back\",\"Centre-Forward\",\"Left Winger\",\"Central Midfield\",\"Centre-Back\",\"Centre-Back\",\"Central Midfield\",\"Right Winger\",\"Left Winger\",\"Central Midfield\",\"Centre-Forward\",\"Goalkeeper\",\"Central Midfield\",\"Right-Back\",\"Central Midfield\",\"Centre-Forward\",\"Right Winger\",\"Attacking Midfield\",\"Centre-Back\",\"Left Winger\",\"Central Midfield\",\"Central Midfield\",\"Centre-Back\",\"Centre-Back\",\"Centre-Back\",\"Centre-Forward\",\"Second Striker\",\"Right-Back\",\"Attacking Midfield\",\"Attacking Midfield\",\"Right Winger\",\"Central Midfield\",\"Left Winger\",\"Centre-Back\",\"Central Midfield\",\"Defensive Midfield\",\"Right Winger\",\"Central Midfield\",\"Right Midfield\",\"Centre-Forward\",\"Centre-Forward\",\"Second Striker\",\"Central Midfield\",\"Central Midfield\",\"Centre-Back\",\"Centre-Back\",\"Defensive Midfield\",\"Attacking Midfield\",\"Centre-Back\",\"Centre-Back\",\"Defensive Midfield\",\"Centre-Back\",\"Left Winger\",\"Central Midfield\",\"Attacking Midfield\",\"Right-Back\",\"Centre-Forward\",\"Right-Back\",\"Centre-Forward\",\"Left-Back\",\"Right-Back\",\"Right Winger\",\"Defensive Midfield\",\"Defensive Midfield\",\"Central Midfield\",\"Right-Back\",\"Centre-Forward\",\"Centre-Back\",\"Left Winger\",\"Right Winger\",\"Centre-Forward\",\"Central Midfield\",\"Defensive Midfield\",\"Left-Back\",\"Central Midfield\",\"Central Midfield\",\"Right Midfield\",\"Right Winger\",\"Centre-Back\",\"Centre-Forward\",\"Centre-Back\",\"Left Midfield\",\"Centre-Back\",\"Left-Back\",\"Right-Back\",\"Left Winger\",\"Centre-Forward\",\"Centre-Back\",\"Right Winger\",\"Centre-Back\",\"Centre-Back\",\"Central Midfield\",\"Centre-Forward\",\"Left Winger\",\"Attacking Midfield\",\"Left Winger\",\"Defensive Midfield\",\"Centre-Back\",\"Right-Back\",\"Centre-Back\",\"Left Winger\",\"Central Midfield\",\"Right Midfield\",\"Right Winger\",\"Left Winger\",\"Left Winger\",\"Central Midfield\",\"Left-Back\",\"Centre-Back\",\"Right Winger\",\"Right-Back\",\"Right Winger\",\"Centre-Forward\",\"Centre-Back\",\"Left-Back\",\"Centre-Back\",\"Left Winger\",\"Attacking Midfield\",\"Centre-Back\",\"Goalkeeper\",\"Centre-Forward\",\"Centre-Back\",\"Centre-Back\",\"Central Midfield\",\"Centre-Back\",\"Right-Back\",\"Goalkeeper\",\"Centre-Back\",\"Central Midfield\",\"Centre-Back\",\"Centre-Back\",\"Right Winger\",\"Right Winger\",\"Central Midfield\",\"Centre-Forward\",\"Left Winger\",\"Centre-Forward\",\"Left Winger\",\"Central Midfield\",\"Right Winger\",\"Attacking Midfield\",\"Centre-Back\",\"Right-Back\",\"Centre-Back\",\"Attacking Midfield\",\"Attacking Midfield\",\"Central Midfield\",\"Defensive Midfield\",\"Second Striker\",\"Left Winger\",\"Left Winger\",\"Right-Back\",\"Right Winger\",\"Central Midfield\",\"Left Winger\",\"Right-Back\",\"Right Winger\",\"Centre-Back\",\"Centre-Forward\",\"Centre-Forward\",\"Central Midfield\",\"Defensive Midfield\",\"Central Midfield\",\"Left Midfield\",\"Attacking Midfield\",\"Right Winger\",\"Defensive Midfield\",\"Left-Back\",\"Left Winger\",\"Centre-Forward\",\"Centre-Forward\",\"Centre-Back\",\"Goalkeeper\",\"Left Winger\",\"Centre-Back\",\"Left-Back\",\"Central Midfield\",\"Centre-Forward\",\"Centre-Back\",\"Defensive Midfield\",\"Centre-Back\",\"Attacking Midfield\",\"Centre-Forward\",\"Central Midfield\",\"Centre-Forward\",\"Defensive Midfield\",\"Centre-Forward\",\"Defensive Midfield\",\"Centre-Forward\",\"Attacking Midfield\",\"Centre-Forward\",\"Attacking Midfield\",\"Defensive Midfield\",\"Right-Back\",\"Centre-Forward\",\"Goalkeeper\",\"Left Winger\",\"Centre-Forward\",\"Central Midfield\",\"Centre-Forward\",\"Attacking Midfield\",\"Centre-Back\",\"Goalkeeper\",\"Defensive Midfield\",\"Right Winger\",\"Right-Back\",\"Left Winger\",\"Centre-Back\",\"Attacking Midfield\",\"Attacking Midfield\",\"Right Winger\",\"Attacking Midfield\",\"Left-Back\",\"Centre-Back\",\"Centre-Back\",\"Centre-Forward\",\"Central Midfield\",\"Defensive Midfield\",\"Attacking Midfield\",\"Right-Back\",\"Attacking Midfield\",\"Central Midfield\",\"Right Midfield\",\"Central Midfield\",\"Centre-Forward\",\"Central Midfield\",\"Centre-Back\",\"Left Midfield\",\"Goalkeeper\",\"Centre-Forward\",\"Left-Back\",\"Centre-Back\",\"Right-Back\",\"Defensive Midfield\",\"Centre-Back\",\"Goalkeeper\",\"Centre-Forward\",\"Central Midfield\",\"Centre-Forward\",\"Left Winger\",\"Goalkeeper\",\"Central Midfield\",\"Centre-Back\",\"Defensive Midfield\",\"Centre-Forward\",\"Right-Back\",\"Attacking Midfield\",\"Defensive Midfield\",\"Left Midfield\",\"Right-Back\",\"Right Winger\",\"Right Winger\",\"Left Winger\",\"Right Winger\",\"Right-Back\",\"Attacking Midfield\",\"Left Winger\",\"Attacking Midfield\",\"Left-Back\",\"Attacking Midfield\",\"Central Midfield\",\"Right Winger\",\"Centre-Back\",\"Right-Back\",\"Central Midfield\",\"Centre-Back\",\"Left-Back\",\"Right Winger\",\"Right-Back\",\"Right Winger\",\"Left Winger\",\"Central Midfield\",\"Centre-Back\",\"Centre-Back\",\"Centre-Back\",\"Central Midfield\",\"Left Midfield\",\"Centre-Back\",\"Right Winger\",\"Central Midfield\",\"Right Winger\",\"Right-Back\",\"Right-Back\",\"Centre-Forward\",\"Defensive Midfield\",\"Right Midfield\",\"Left Winger\",\"Left Winger\",\"Defensive Midfield\",\"Central Midfield\",\"Defensive Midfield\",\"Goalkeeper\",\"Goalkeeper\",\"Defensive Midfield\",\"Right Winger\",\"Centre-Back\",\"Centre-Forward\",\"Attacking Midfield\",\"Second Striker\",\"Goalkeeper\",\"Centre-Back\",\"Centre-Back\"],\"xaxis\":\"x\",\"y\":[144.0,135.0,108.0,90.0,90.0,90.0,90.0,90.0,81.0,81.0,81.0,81.0,81.0,76.5,76.5,76.5,72.0,72.0,72.0,72.0,67.5,67.5,67.5,67.5,63.0,63.0,63.0,63.0,63.0,63.0,63.0,63.0,63.0,63.0,63.0,63.0,63.0,63.0,63.0,63.0,63.0,58.5,58.5,58.5,58.5,58.5,58.5,54.0,54.0,54.0,54.0,54.0,54.0,54.0,54.0,54.0,54.0,54.0,54.0,54.0,54.0,54.0,54.0,49.5,49.5,49.5,49.5,49.5,49.5,49.5,49.5,49.5,49.5,49.5,49.5,45.0,45.0,45.0,45.0,45.0,45.0,45.0,45.0,45.0,45.0,45.0,45.0,45.0,45.0,45.0,45.0,45.0,45.0,43.2,43.2,42.3,40.5,40.5,40.5,40.5,40.5,40.5,40.5,40.5,40.5,40.5,40.5,40.5,40.5,40.5,40.5,40.5,37.8,37.8,37.8,37.8,37.8,37.8,36.0,36.0,36.0,36.0,36.0,36.0,36.0,36.0,36.0,36.0,36.0,36.0,36.0,36.0,36.0,36.0,36.0,36.0,36.0,36.0,36.0,36.0,36.0,36.0,36.0,36.0,36.0,36.0,36.0,34.2,34.2,34.2,34.2,34.2,31.5,31.5,31.5,31.5,31.5,31.5,31.5,31.5,31.5,31.5,31.5,31.5,31.5,31.5,31.5,31.5,31.5,31.5,31.5,31.5,31.5,31.5,31.5,31.5,31.5,31.5,31.5,31.5,31.5,31.5,31.5,31.5,31.5,31.5,31.5,29.7,29.7,29.7,28.8,28.8,28.8,28.8,28.8,28.8,28.8,28.8,28.8,28.8,28.8,28.8,27.0,27.0,27.0,27.0,27.0,27.0,27.0,27.0,27.0,27.0,27.0,27.0,27.0,27.0,27.0,27.0,27.0,27.0,27.0,27.0,27.0,27.0,27.0,27.0,27.0,27.0,27.0,27.0,27.0,27.0,27.0,27.0,27.0,27.0,27.0,27.0,27.0,25.2,25.2,25.2,25.2,25.2,25.2,25.2,25.2,25.2,25.2,25.2,25.2,25.2,25.2,25.2,25.2,25.2,24.3,24.3,24.3,24.3,24.3,24.3,24.3,24.3,23.4,23.4,23.4,23.4,23.4,22.5,22.5,22.5,22.5,22.5,22.5,22.5,22.5,22.5,22.5,22.5,22.5,22.5,22.5,22.5,22.5,22.5,22.5,22.5,22.5,22.5,22.5,22.5,22.5,22.5,22.5,22.5,22.5,22.5,22.5,22.5,22.5,22.5,22.5,22.5,22.5,22.5,22.5,22.5,22.5,22.5,22.5,22.5,22.5,22.5,22.5,22.5,22.5,22.5,22.5,22.5,22.5,22.5,22.5,22.5,22.5,22.5,22.5,22.5,22.5,22.5,22.5,22.5,21.6,21.6,21.6,21.6,21.6,21.6,20.7,20.7,20.7,20.7,20.7,20.7,19.8,19.8,19.8,19.8,19.8,19.8,19.8,19.8,19.8,19.8,19.8,19.8,19.8,19.8,19.8,19.8,19.8,19.8,19.8,19.8,19.8,19.8,19.8,19.8,19.8,19.8,19.8,19.8,19.8,19.8,19.8,19.8,19.8,19.8,19.8,19.8,19.8,19.8,18.9,18.9,18.0,18.0,18.0,18.0,18.0,18.0,18.0,18.0,18.0,18.0,18.0,18.0,18.0,18.0,18.0,18.0,18.0,18.0,18.0,18.0,18.0,18.0,18.0,18.0,18.0,18.0,18.0,18.0,18.0,18.0,18.0,18.0,18.0,18.0,18.0,18.0,18.0,18.0,18.0,18.0,18.0,18.0,18.0,18.0,18.0,18.0,18.0,18.0,18.0,18.0,18.0,18.0,18.0,18.0,18.0,18.0,18.0,18.0,18.0,18.0,18.0,18.0,18.0,18.0,18.0,18.0,18.0,18.0,18.0,18.0,18.0,18.0,18.0,17.1,17.1,17.1,16.2,16.2,16.2,16.2,16.2,16.2,16.2,16.2,16.2,16.2,16.2,16.2,16.2,16.2,16.2,16.2,16.2,16.2,16.2,16.2,16.2,16.2,16.2,16.2,16.2,16.2,16.2,16.2,16.2,16.2,16.2,16.2,16.2,16.2,16.2,16.2,16.2],\"yaxis\":\"y\",\"type\":\"scatter\"}],                        {\"template\":{\"data\":{\"histogram2dcontour\":[{\"type\":\"histogram2dcontour\",\"colorbar\":{\"outlinewidth\":0,\"ticks\":\"\"},\"colorscale\":[[0.0,\"#0d0887\"],[0.1111111111111111,\"#46039f\"],[0.2222222222222222,\"#7201a8\"],[0.3333333333333333,\"#9c179e\"],[0.4444444444444444,\"#bd3786\"],[0.5555555555555556,\"#d8576b\"],[0.6666666666666666,\"#ed7953\"],[0.7777777777777778,\"#fb9f3a\"],[0.8888888888888888,\"#fdca26\"],[1.0,\"#f0f921\"]]}],\"choropleth\":[{\"type\":\"choropleth\",\"colorbar\":{\"outlinewidth\":0,\"ticks\":\"\"}}],\"histogram2d\":[{\"type\":\"histogram2d\",\"colorbar\":{\"outlinewidth\":0,\"ticks\":\"\"},\"colorscale\":[[0.0,\"#0d0887\"],[0.1111111111111111,\"#46039f\"],[0.2222222222222222,\"#7201a8\"],[0.3333333333333333,\"#9c179e\"],[0.4444444444444444,\"#bd3786\"],[0.5555555555555556,\"#d8576b\"],[0.6666666666666666,\"#ed7953\"],[0.7777777777777778,\"#fb9f3a\"],[0.8888888888888888,\"#fdca26\"],[1.0,\"#f0f921\"]]}],\"heatmap\":[{\"type\":\"heatmap\",\"colorbar\":{\"outlinewidth\":0,\"ticks\":\"\"},\"colorscale\":[[0.0,\"#0d0887\"],[0.1111111111111111,\"#46039f\"],[0.2222222222222222,\"#7201a8\"],[0.3333333333333333,\"#9c179e\"],[0.4444444444444444,\"#bd3786\"],[0.5555555555555556,\"#d8576b\"],[0.6666666666666666,\"#ed7953\"],[0.7777777777777778,\"#fb9f3a\"],[0.8888888888888888,\"#fdca26\"],[1.0,\"#f0f921\"]]}],\"heatmapgl\":[{\"type\":\"heatmapgl\",\"colorbar\":{\"outlinewidth\":0,\"ticks\":\"\"},\"colorscale\":[[0.0,\"#0d0887\"],[0.1111111111111111,\"#46039f\"],[0.2222222222222222,\"#7201a8\"],[0.3333333333333333,\"#9c179e\"],[0.4444444444444444,\"#bd3786\"],[0.5555555555555556,\"#d8576b\"],[0.6666666666666666,\"#ed7953\"],[0.7777777777777778,\"#fb9f3a\"],[0.8888888888888888,\"#fdca26\"],[1.0,\"#f0f921\"]]}],\"contourcarpet\":[{\"type\":\"contourcarpet\",\"colorbar\":{\"outlinewidth\":0,\"ticks\":\"\"}}],\"contour\":[{\"type\":\"contour\",\"colorbar\":{\"outlinewidth\":0,\"ticks\":\"\"},\"colorscale\":[[0.0,\"#0d0887\"],[0.1111111111111111,\"#46039f\"],[0.2222222222222222,\"#7201a8\"],[0.3333333333333333,\"#9c179e\"],[0.4444444444444444,\"#bd3786\"],[0.5555555555555556,\"#d8576b\"],[0.6666666666666666,\"#ed7953\"],[0.7777777777777778,\"#fb9f3a\"],[0.8888888888888888,\"#fdca26\"],[1.0,\"#f0f921\"]]}],\"surface\":[{\"type\":\"surface\",\"colorbar\":{\"outlinewidth\":0,\"ticks\":\"\"},\"colorscale\":[[0.0,\"#0d0887\"],[0.1111111111111111,\"#46039f\"],[0.2222222222222222,\"#7201a8\"],[0.3333333333333333,\"#9c179e\"],[0.4444444444444444,\"#bd3786\"],[0.5555555555555556,\"#d8576b\"],[0.6666666666666666,\"#ed7953\"],[0.7777777777777778,\"#fb9f3a\"],[0.8888888888888888,\"#fdca26\"],[1.0,\"#f0f921\"]]}],\"mesh3d\":[{\"type\":\"mesh3d\",\"colorbar\":{\"outlinewidth\":0,\"ticks\":\"\"}}],\"scatter\":[{\"fillpattern\":{\"fillmode\":\"overlay\",\"size\":10,\"solidity\":0.2},\"type\":\"scatter\"}],\"parcoords\":[{\"type\":\"parcoords\",\"line\":{\"colorbar\":{\"outlinewidth\":0,\"ticks\":\"\"}}}],\"scatterpolargl\":[{\"type\":\"scatterpolargl\",\"marker\":{\"colorbar\":{\"outlinewidth\":0,\"ticks\":\"\"}}}],\"bar\":[{\"error_x\":{\"color\":\"#2a3f5f\"},\"error_y\":{\"color\":\"#2a3f5f\"},\"marker\":{\"line\":{\"color\":\"#E5ECF6\",\"width\":0.5},\"pattern\":{\"fillmode\":\"overlay\",\"size\":10,\"solidity\":0.2}},\"type\":\"bar\"}],\"scattergeo\":[{\"type\":\"scattergeo\",\"marker\":{\"colorbar\":{\"outlinewidth\":0,\"ticks\":\"\"}}}],\"scatterpolar\":[{\"type\":\"scatterpolar\",\"marker\":{\"colorbar\":{\"outlinewidth\":0,\"ticks\":\"\"}}}],\"histogram\":[{\"marker\":{\"pattern\":{\"fillmode\":\"overlay\",\"size\":10,\"solidity\":0.2}},\"type\":\"histogram\"}],\"scattergl\":[{\"type\":\"scattergl\",\"marker\":{\"colorbar\":{\"outlinewidth\":0,\"ticks\":\"\"}}}],\"scatter3d\":[{\"type\":\"scatter3d\",\"line\":{\"colorbar\":{\"outlinewidth\":0,\"ticks\":\"\"}},\"marker\":{\"colorbar\":{\"outlinewidth\":0,\"ticks\":\"\"}}}],\"scattermapbox\":[{\"type\":\"scattermapbox\",\"marker\":{\"colorbar\":{\"outlinewidth\":0,\"ticks\":\"\"}}}],\"scatterternary\":[{\"type\":\"scatterternary\",\"marker\":{\"colorbar\":{\"outlinewidth\":0,\"ticks\":\"\"}}}],\"scattercarpet\":[{\"type\":\"scattercarpet\",\"marker\":{\"colorbar\":{\"outlinewidth\":0,\"ticks\":\"\"}}}],\"carpet\":[{\"aaxis\":{\"endlinecolor\":\"#2a3f5f\",\"gridcolor\":\"white\",\"linecolor\":\"white\",\"minorgridcolor\":\"white\",\"startlinecolor\":\"#2a3f5f\"},\"baxis\":{\"endlinecolor\":\"#2a3f5f\",\"gridcolor\":\"white\",\"linecolor\":\"white\",\"minorgridcolor\":\"white\",\"startlinecolor\":\"#2a3f5f\"},\"type\":\"carpet\"}],\"table\":[{\"cells\":{\"fill\":{\"color\":\"#EBF0F8\"},\"line\":{\"color\":\"white\"}},\"header\":{\"fill\":{\"color\":\"#C8D4E3\"},\"line\":{\"color\":\"white\"}},\"type\":\"table\"}],\"barpolar\":[{\"marker\":{\"line\":{\"color\":\"#E5ECF6\",\"width\":0.5},\"pattern\":{\"fillmode\":\"overlay\",\"size\":10,\"solidity\":0.2}},\"type\":\"barpolar\"}],\"pie\":[{\"automargin\":true,\"type\":\"pie\"}]},\"layout\":{\"autotypenumbers\":\"strict\",\"colorway\":[\"#636efa\",\"#EF553B\",\"#00cc96\",\"#ab63fa\",\"#FFA15A\",\"#19d3f3\",\"#FF6692\",\"#B6E880\",\"#FF97FF\",\"#FECB52\"],\"font\":{\"color\":\"#2a3f5f\"},\"hovermode\":\"closest\",\"hoverlabel\":{\"align\":\"left\"},\"paper_bgcolor\":\"white\",\"plot_bgcolor\":\"#E5ECF6\",\"polar\":{\"bgcolor\":\"#E5ECF6\",\"angularaxis\":{\"gridcolor\":\"white\",\"linecolor\":\"white\",\"ticks\":\"\"},\"radialaxis\":{\"gridcolor\":\"white\",\"linecolor\":\"white\",\"ticks\":\"\"}},\"ternary\":{\"bgcolor\":\"#E5ECF6\",\"aaxis\":{\"gridcolor\":\"white\",\"linecolor\":\"white\",\"ticks\":\"\"},\"baxis\":{\"gridcolor\":\"white\",\"linecolor\":\"white\",\"ticks\":\"\"},\"caxis\":{\"gridcolor\":\"white\",\"linecolor\":\"white\",\"ticks\":\"\"}},\"coloraxis\":{\"colorbar\":{\"outlinewidth\":0,\"ticks\":\"\"}},\"colorscale\":{\"sequential\":[[0.0,\"#0d0887\"],[0.1111111111111111,\"#46039f\"],[0.2222222222222222,\"#7201a8\"],[0.3333333333333333,\"#9c179e\"],[0.4444444444444444,\"#bd3786\"],[0.5555555555555556,\"#d8576b\"],[0.6666666666666666,\"#ed7953\"],[0.7777777777777778,\"#fb9f3a\"],[0.8888888888888888,\"#fdca26\"],[1.0,\"#f0f921\"]],\"sequentialminus\":[[0.0,\"#0d0887\"],[0.1111111111111111,\"#46039f\"],[0.2222222222222222,\"#7201a8\"],[0.3333333333333333,\"#9c179e\"],[0.4444444444444444,\"#bd3786\"],[0.5555555555555556,\"#d8576b\"],[0.6666666666666666,\"#ed7953\"],[0.7777777777777778,\"#fb9f3a\"],[0.8888888888888888,\"#fdca26\"],[1.0,\"#f0f921\"]],\"diverging\":[[0,\"#8e0152\"],[0.1,\"#c51b7d\"],[0.2,\"#de77ae\"],[0.3,\"#f1b6da\"],[0.4,\"#fde0ef\"],[0.5,\"#f7f7f7\"],[0.6,\"#e6f5d0\"],[0.7,\"#b8e186\"],[0.8,\"#7fbc41\"],[0.9,\"#4d9221\"],[1,\"#276419\"]]},\"xaxis\":{\"gridcolor\":\"white\",\"linecolor\":\"white\",\"ticks\":\"\",\"title\":{\"standoff\":15},\"zerolinecolor\":\"white\",\"automargin\":true,\"zerolinewidth\":2},\"yaxis\":{\"gridcolor\":\"white\",\"linecolor\":\"white\",\"ticks\":\"\",\"title\":{\"standoff\":15},\"zerolinecolor\":\"white\",\"automargin\":true,\"zerolinewidth\":2},\"scene\":{\"xaxis\":{\"backgroundcolor\":\"#E5ECF6\",\"gridcolor\":\"white\",\"linecolor\":\"white\",\"showbackground\":true,\"ticks\":\"\",\"zerolinecolor\":\"white\",\"gridwidth\":2},\"yaxis\":{\"backgroundcolor\":\"#E5ECF6\",\"gridcolor\":\"white\",\"linecolor\":\"white\",\"showbackground\":true,\"ticks\":\"\",\"zerolinecolor\":\"white\",\"gridwidth\":2},\"zaxis\":{\"backgroundcolor\":\"#E5ECF6\",\"gridcolor\":\"white\",\"linecolor\":\"white\",\"showbackground\":true,\"ticks\":\"\",\"zerolinecolor\":\"white\",\"gridwidth\":2}},\"shapedefaults\":{\"line\":{\"color\":\"#2a3f5f\"}},\"annotationdefaults\":{\"arrowcolor\":\"#2a3f5f\",\"arrowhead\":0,\"arrowwidth\":1},\"geo\":{\"bgcolor\":\"white\",\"landcolor\":\"#E5ECF6\",\"subunitcolor\":\"white\",\"showland\":true,\"showlakes\":true,\"lakecolor\":\"white\"},\"title\":{\"x\":0.05},\"mapbox\":{\"style\":\"light\"}}},\"xaxis\":{\"anchor\":\"y\",\"domain\":[0.0,1.0],\"title\":{\"text\":\"Position\"}},\"yaxis\":{\"anchor\":\"x\",\"domain\":[0.0,1.0],\"title\":{\"text\":\"Markey Value In Millions(\\u00a3)\"}},\"coloraxis\":{\"colorbar\":{\"title\":{\"text\":\"Yellow Cards\"}},\"colorscale\":[[0.0,\"#0d0887\"],[0.1111111111111111,\"#46039f\"],[0.2222222222222222,\"#7201a8\"],[0.3333333333333333,\"#9c179e\"],[0.4444444444444444,\"#bd3786\"],[0.5555555555555556,\"#d8576b\"],[0.6666666666666666,\"#ed7953\"],[0.7777777777777778,\"#fb9f3a\"],[0.8888888888888888,\"#fdca26\"],[1.0,\"#f0f921\"]]},\"legend\":{\"tracegroupgap\":0,\"itemsizing\":\"constant\"},\"margin\":{\"t\":60},\"height\":400,\"width\":500},                        {\"responsive\": true}                    ).then(function(){\n",
       "                            \n",
       "var gd = document.getElementById('205acf7d-5f26-4622-b0ac-10c8ff549aa0');\n",
       "var x = new MutationObserver(function (mutations, observer) {{\n",
       "        var display = window.getComputedStyle(gd).display;\n",
       "        if (!display || display === 'none') {{\n",
       "            console.log([gd, 'removed!']);\n",
       "            Plotly.purge(gd);\n",
       "            observer.disconnect();\n",
       "        }}\n",
       "}});\n",
       "\n",
       "// Listen for the removal of the full notebook cells\n",
       "var notebookContainer = gd.closest('#notebook-container');\n",
       "if (notebookContainer) {{\n",
       "    x.observe(notebookContainer, {childList: true});\n",
       "}}\n",
       "\n",
       "// Listen for the clearing of the current output cell\n",
       "var outputEl = gd.closest('.output');\n",
       "if (outputEl) {{\n",
       "    x.observe(outputEl, {childList: true});\n",
       "}}\n",
       "\n",
       "                        })                };                });            </script>        </div>"
      ]
     },
     "metadata": {},
     "output_type": "display_data"
    }
   ],
   "source": [
    "px.scatter(data,x='Position' , y='Markey Value In Millions(£)',size='Assists',\n",
    "           color='Yellow Cards',width=500, height=400)"
   ]
  },
  {
   "cell_type": "code",
   "execution_count": 324,
   "id": "5c0f5565",
   "metadata": {},
   "outputs": [
    {
     "data": {
      "application/vnd.plotly.v1+json": {
       "config": {
        "plotlyServerURL": "https://plot.ly"
       },
       "data": [
        {
         "alignmentgroup": "True",
         "hovertemplate": "Age=%{x}<br>Number Of Substitute Out=%{y}<br>Red Cards=%{marker.color}<extra></extra>",
         "legendgroup": "",
         "marker": {
          "color": [
           0,
           0,
           0,
           0,
           0,
           0,
           0,
           0,
           0,
           0,
           0,
           0,
           0,
           0,
           0,
           0,
           0,
           0,
           0,
           0,
           0,
           0,
           0,
           0,
           0,
           0,
           0,
           1,
           0,
           0,
           0,
           0,
           0,
           0,
           0,
           0,
           0,
           0,
           0,
           0,
           0,
           0,
           0,
           0,
           0,
           0,
           0,
           0,
           0,
           1,
           0,
           0,
           0,
           0,
           0,
           0,
           0,
           0,
           1,
           0,
           0,
           0,
           0,
           0,
           0,
           0,
           0,
           0,
           0,
           0,
           0,
           0,
           0,
           0,
           0,
           0,
           0,
           0,
           0,
           0,
           0,
           0,
           0,
           0,
           0,
           0,
           0,
           0,
           0,
           0,
           0,
           1,
           0,
           0,
           1,
           0,
           1,
           0,
           0,
           0,
           0,
           0,
           0,
           0,
           0,
           0,
           1,
           0,
           0,
           0,
           0,
           0,
           0,
           0,
           0,
           0,
           0,
           0,
           0,
           0,
           1,
           0,
           0,
           0,
           0,
           0,
           0,
           0,
           0,
           0,
           0,
           0,
           0,
           0,
           0,
           0,
           0,
           0,
           0,
           0,
           0,
           0,
           0,
           0,
           0,
           0,
           0,
           0,
           0,
           0,
           0,
           0,
           0,
           0,
           0,
           0,
           0,
           0,
           0,
           0,
           0,
           0,
           0,
           1,
           0,
           0,
           0,
           1,
           0,
           0,
           0,
           0,
           1,
           0,
           0,
           0,
           0,
           0,
           0,
           0,
           0,
           0,
           0,
           0,
           0,
           0,
           0,
           0,
           0,
           0,
           0,
           0,
           0,
           0,
           0,
           0,
           0,
           0,
           1,
           0,
           0,
           0,
           0,
           0,
           0,
           0,
           0,
           0,
           0,
           0,
           0,
           0,
           0,
           0,
           0,
           0,
           0,
           0,
           0,
           0,
           0,
           0,
           0,
           0,
           0,
           0,
           0,
           0,
           0,
           0,
           0,
           0,
           0,
           0,
           0,
           0,
           0,
           0,
           0,
           0,
           1,
           0,
           0,
           0,
           0,
           0,
           0,
           0,
           0,
           1,
           0,
           0,
           0,
           0,
           0,
           0,
           0,
           0,
           0,
           0,
           0,
           0,
           0,
           0,
           0,
           0,
           0,
           0,
           0,
           1,
           0,
           0,
           0,
           0,
           0,
           0,
           0,
           0,
           0,
           0,
           0,
           0,
           0,
           0,
           0,
           1,
           0,
           0,
           0,
           0,
           0,
           0,
           0,
           0,
           0,
           0,
           0,
           0,
           0,
           0,
           0,
           0,
           0,
           0,
           0,
           0,
           0,
           0,
           0,
           0,
           0,
           0,
           1,
           0,
           0,
           1,
           0,
           0,
           0,
           0,
           0,
           0,
           0,
           0,
           0,
           0,
           0,
           0,
           0,
           0,
           0,
           0,
           0,
           0,
           0,
           0,
           0,
           0,
           0,
           0,
           0,
           0,
           0,
           0,
           0,
           0,
           0,
           0,
           0,
           0,
           0,
           0,
           0,
           0,
           0,
           0,
           0,
           0,
           0,
           0,
           0,
           0,
           0,
           0,
           0,
           0,
           0,
           0,
           0,
           0,
           0,
           0,
           0,
           0,
           0,
           0,
           0,
           0,
           0,
           0,
           1,
           0,
           0,
           0,
           0,
           0,
           0,
           0,
           0,
           0,
           0,
           0,
           0,
           0,
           0,
           0,
           1,
           0,
           0,
           0,
           0,
           0,
           0,
           0,
           0,
           0,
           0,
           0,
           0,
           1,
           0,
           0,
           0,
           0,
           0,
           0,
           0,
           0,
           0,
           0,
           0,
           0,
           0,
           0,
           0,
           0,
           0,
           0,
           0,
           0,
           0,
           0,
           0,
           0,
           0,
           0,
           0,
           0,
           0,
           0,
           0,
           0,
           0,
           0,
           0,
           0,
           0,
           0,
           0,
           0,
           0,
           0,
           0,
           0,
           0,
           0,
           0,
           0,
           0,
           0,
           0,
           0,
           0,
           0,
           0,
           0,
           0,
           0,
           0,
           1,
           0,
           0,
           0,
           0,
           0,
           0,
           0,
           0,
           0,
           0,
           0,
           0,
           0,
           0,
           0,
           0,
           0,
           0,
           0,
           0,
           0,
           0,
           0,
           1,
           0,
           0,
           0
          ],
          "coloraxis": "coloraxis",
          "pattern": {
           "shape": ""
          }
         },
         "name": "",
         "offsetgroup": "",
         "orientation": "v",
         "showlegend": false,
         "textposition": "auto",
         "type": "bar",
         "x": [
          22,
          21,
          28,
          26,
          29,
          28,
          30,
          29,
          21,
          24,
          27,
          26,
          26,
          24,
          29,
          29,
          18,
          21,
          24,
          26,
          22,
          23,
          24,
          27,
          18,
          22,
          21,
          23,
          22,
          25,
          24,
          24,
          22,
          22,
          26,
          27,
          28,
          26,
          26,
          28,
          29,
          18,
          20,
          23,
          22,
          24,
          27,
          19,
          23,
          22,
          24,
          23,
          22,
          24,
          26,
          28,
          26,
          25,
          28,
          29,
          29,
          29,
          33,
          19,
          24,
          24,
          24,
          25,
          30,
          27,
          25,
          30,
          29,
          29,
          29,
          18,
          20,
          24,
          21,
          21,
          21,
          24,
          23,
          24,
          23,
          26,
          24,
          28,
          28,
          27,
          28,
          30,
          29,
          30,
          30,
          24,
          21,
          24,
          25,
          24,
          28,
          25,
          26,
          24,
          25,
          25,
          27,
          27,
          29,
          29,
          29,
          27,
          19,
          22,
          26,
          24,
          26,
          30,
          19,
          22,
          23,
          20,
          24,
          23,
          22,
          24,
          25,
          22,
          25,
          24,
          22,
          23,
          26,
          26,
          27,
          28,
          26,
          26,
          29,
          27,
          26,
          29,
          26,
          28,
          30,
          29,
          31,
          23,
          24,
          24,
          28,
          31,
          21,
          21,
          23,
          24,
          21,
          21,
          21,
          20,
          23,
          23,
          24,
          21,
          25,
          22,
          23,
          25,
          26,
          24,
          24,
          25,
          26,
          24,
          27,
          23,
          26,
          25,
          25,
          27,
          27,
          26,
          31,
          28,
          29,
          28,
          28,
          19,
          28,
          30,
          24,
          21,
          25,
          25,
          26,
          24,
          25,
          28,
          27,
          26,
          27,
          27,
          19,
          20,
          24,
          22,
          29,
          20,
          21,
          24,
          22,
          24,
          24,
          26,
          24,
          27,
          24,
          25,
          24,
          28,
          29,
          27,
          28,
          25,
          28,
          25,
          27,
          27,
          27,
          26,
          26,
          28,
          27,
          28,
          30,
          29,
          32,
          31,
          31,
          20,
          21,
          21,
          21,
          22,
          21,
          22,
          23,
          24,
          24,
          25,
          25,
          25,
          28,
          30,
          24,
          31,
          23,
          21,
          24,
          24,
          25,
          27,
          27,
          28,
          19,
          25,
          24,
          27,
          28,
          17,
          18,
          23,
          21,
          22,
          19,
          23,
          24,
          22,
          23,
          22,
          21,
          20,
          23,
          23,
          24,
          24,
          25,
          25,
          22,
          25,
          24,
          26,
          25,
          24,
          23,
          22,
          23,
          23,
          23,
          25,
          26,
          24,
          24,
          26,
          24,
          24,
          26,
          27,
          25,
          25,
          25,
          24,
          28,
          25,
          26,
          26,
          29,
          30,
          29,
          29,
          29,
          27,
          28,
          28,
          28,
          30,
          29,
          29,
          30,
          32,
          30,
          33,
          23,
          23,
          28,
          26,
          27,
          28,
          20,
          18,
          22,
          26,
          30,
          30,
          20,
          21,
          21,
          24,
          22,
          22,
          24,
          21,
          21,
          24,
          23,
          25,
          27,
          22,
          23,
          22,
          24,
          23,
          26,
          24,
          24,
          27,
          25,
          24,
          25,
          25,
          26,
          28,
          28,
          27,
          27,
          28,
          28,
          29,
          30,
          29,
          29,
          30,
          26,
          27,
          20,
          21,
          21,
          19,
          22,
          22,
          21,
          21,
          19,
          23,
          23,
          23,
          20,
          23,
          22,
          22,
          23,
          22,
          21,
          21,
          24,
          21,
          25,
          25,
          24,
          25,
          25,
          24,
          22,
          24,
          23,
          23,
          25,
          25,
          24,
          25,
          26,
          27,
          23,
          24,
          23,
          28,
          26,
          24,
          25,
          28,
          27,
          25,
          28,
          25,
          24,
          26,
          26,
          26,
          26,
          27,
          26,
          25,
          27,
          29,
          30,
          26,
          29,
          30,
          29,
          31,
          30,
          28,
          29,
          30,
          30,
          31,
          33,
          19,
          24,
          27,
          21,
          20,
          19,
          21,
          19,
          20,
          24,
          20,
          24,
          24,
          24,
          21,
          23,
          22,
          23,
          24,
          24,
          24,
          24,
          23,
          27,
          25,
          24,
          25,
          23,
          26,
          26,
          23,
          28,
          26,
          26,
          24,
          27,
          28,
          24,
          25,
          27
         ],
         "xaxis": "x",
         "y": [
          8,
          1,
          2,
          8,
          3,
          2,
          6,
          3,
          5,
          2,
          5,
          3,
          2,
          3,
          3,
          4,
          2,
          3,
          12,
          2,
          3,
          3,
          0,
          0,
          6,
          4,
          6,
          1,
          2,
          2,
          6,
          6,
          1,
          5,
          7,
          6,
          1,
          10,
          7,
          0,
          2,
          8,
          7,
          4,
          0,
          8,
          2,
          4,
          0,
          6,
          4,
          2,
          6,
          0,
          1,
          2,
          0,
          11,
          4,
          0,
          0,
          4,
          5,
          5,
          2,
          3,
          3,
          5,
          7,
          1,
          2,
          0,
          5,
          0,
          0,
          4,
          8,
          0,
          5,
          6,
          1,
          1,
          1,
          9,
          4,
          2,
          0,
          0,
          5,
          11,
          1,
          6,
          3,
          13,
          0,
          7,
          1,
          5,
          4,
          8,
          1,
          1,
          9,
          2,
          4,
          4,
          2,
          2,
          0,
          8,
          4,
          3,
          5,
          8,
          2,
          1,
          2,
          3,
          4,
          0,
          0,
          0,
          4,
          1,
          10,
          5,
          0,
          11,
          3,
          1,
          4,
          1,
          2,
          7,
          6,
          3,
          6,
          10,
          1,
          3,
          2,
          6,
          2,
          7,
          4,
          8,
          3,
          4,
          7,
          1,
          7,
          7,
          9,
          0,
          3,
          4,
          1,
          6,
          4,
          5,
          6,
          6,
          2,
          3,
          1,
          0,
          1,
          3,
          0,
          6,
          4,
          5,
          9,
          3,
          4,
          4,
          2,
          1,
          2,
          4,
          3,
          5,
          11,
          1,
          0,
          0,
          2,
          6,
          8,
          6,
          3,
          7,
          0,
          0,
          7,
          2,
          0,
          5,
          2,
          0,
          1,
          2,
          14,
          5,
          7,
          1,
          1,
          4,
          6,
          8,
          11,
          10,
          7,
          0,
          1,
          11,
          4,
          0,
          0,
          0,
          3,
          3,
          3,
          3,
          12,
          3,
          1,
          5,
          0,
          6,
          0,
          10,
          9,
          3,
          4,
          9,
          11,
          6,
          2,
          2,
          2,
          3,
          6,
          0,
          1,
          4,
          4,
          1,
          4,
          8,
          0,
          9,
          4,
          1,
          0,
          3,
          1,
          7,
          0,
          3,
          1,
          7,
          1,
          4,
          3,
          0,
          4,
          2,
          0,
          11,
          0,
          0,
          9,
          0,
          8,
          4,
          11,
          0,
          3,
          1,
          7,
          8,
          1,
          9,
          0,
          1,
          2,
          3,
          9,
          4,
          7,
          4,
          1,
          2,
          2,
          7,
          3,
          7,
          10,
          5,
          8,
          1,
          3,
          1,
          8,
          2,
          3,
          4,
          0,
          3,
          1,
          11,
          9,
          1,
          0,
          4,
          0,
          0,
          3,
          0,
          4,
          0,
          1,
          0,
          0,
          0,
          8,
          9,
          2,
          4,
          5,
          4,
          4,
          7,
          9,
          13,
          0,
          0,
          1,
          7,
          9,
          9,
          1,
          2,
          3,
          3,
          1,
          1,
          5,
          11,
          3,
          7,
          1,
          0,
          3,
          4,
          1,
          6,
          1,
          7,
          7,
          4,
          0,
          5,
          4,
          11,
          0,
          0,
          5,
          0,
          7,
          6,
          1,
          1,
          1,
          1,
          1,
          5,
          2,
          3,
          2,
          3,
          5,
          5,
          11,
          4,
          10,
          4,
          6,
          8,
          0,
          4,
          20,
          3,
          8,
          2,
          3,
          0,
          2,
          0,
          1,
          11,
          0,
          4,
          4,
          11,
          4,
          7,
          0,
          0,
          4,
          8,
          4,
          6,
          2,
          0,
          1,
          1,
          5,
          4,
          2,
          0,
          2,
          1,
          1,
          2,
          0,
          1,
          1,
          4,
          0,
          1,
          1,
          2,
          5,
          0,
          0,
          1,
          3,
          3,
          0,
          7,
          1,
          2,
          1,
          1,
          3,
          7,
          9,
          6,
          1,
          5,
          4,
          3,
          7,
          4,
          6,
          3,
          3,
          0,
          5,
          3,
          0,
          2,
          15,
          7,
          13,
          1,
          5,
          2,
          3,
          3,
          4,
          7,
          1,
          5,
          1,
          5,
          7,
          1,
          4,
          6,
          6,
          6,
          1,
          7,
          0,
          1,
          4,
          16,
          1,
          2,
          0,
          5,
          0,
          2,
          1
         ],
         "yaxis": "y"
        }
       ],
       "layout": {
        "barmode": "relative",
        "coloraxis": {
         "colorbar": {
          "title": {
           "text": "Red Cards"
          }
         },
         "colorscale": [
          [
           0,
           "#0d0887"
          ],
          [
           0.1111111111111111,
           "#46039f"
          ],
          [
           0.2222222222222222,
           "#7201a8"
          ],
          [
           0.3333333333333333,
           "#9c179e"
          ],
          [
           0.4444444444444444,
           "#bd3786"
          ],
          [
           0.5555555555555556,
           "#d8576b"
          ],
          [
           0.6666666666666666,
           "#ed7953"
          ],
          [
           0.7777777777777778,
           "#fb9f3a"
          ],
          [
           0.8888888888888888,
           "#fdca26"
          ],
          [
           1,
           "#f0f921"
          ]
         ]
        },
        "height": 400,
        "legend": {
         "tracegroupgap": 0
        },
        "margin": {
         "t": 60
        },
        "template": {
         "data": {
          "bar": [
           {
            "error_x": {
             "color": "#2a3f5f"
            },
            "error_y": {
             "color": "#2a3f5f"
            },
            "marker": {
             "line": {
              "color": "#E5ECF6",
              "width": 0.5
             },
             "pattern": {
              "fillmode": "overlay",
              "size": 10,
              "solidity": 0.2
             }
            },
            "type": "bar"
           }
          ],
          "barpolar": [
           {
            "marker": {
             "line": {
              "color": "#E5ECF6",
              "width": 0.5
             },
             "pattern": {
              "fillmode": "overlay",
              "size": 10,
              "solidity": 0.2
             }
            },
            "type": "barpolar"
           }
          ],
          "carpet": [
           {
            "aaxis": {
             "endlinecolor": "#2a3f5f",
             "gridcolor": "white",
             "linecolor": "white",
             "minorgridcolor": "white",
             "startlinecolor": "#2a3f5f"
            },
            "baxis": {
             "endlinecolor": "#2a3f5f",
             "gridcolor": "white",
             "linecolor": "white",
             "minorgridcolor": "white",
             "startlinecolor": "#2a3f5f"
            },
            "type": "carpet"
           }
          ],
          "choropleth": [
           {
            "colorbar": {
             "outlinewidth": 0,
             "ticks": ""
            },
            "type": "choropleth"
           }
          ],
          "contour": [
           {
            "colorbar": {
             "outlinewidth": 0,
             "ticks": ""
            },
            "colorscale": [
             [
              0,
              "#0d0887"
             ],
             [
              0.1111111111111111,
              "#46039f"
             ],
             [
              0.2222222222222222,
              "#7201a8"
             ],
             [
              0.3333333333333333,
              "#9c179e"
             ],
             [
              0.4444444444444444,
              "#bd3786"
             ],
             [
              0.5555555555555556,
              "#d8576b"
             ],
             [
              0.6666666666666666,
              "#ed7953"
             ],
             [
              0.7777777777777778,
              "#fb9f3a"
             ],
             [
              0.8888888888888888,
              "#fdca26"
             ],
             [
              1,
              "#f0f921"
             ]
            ],
            "type": "contour"
           }
          ],
          "contourcarpet": [
           {
            "colorbar": {
             "outlinewidth": 0,
             "ticks": ""
            },
            "type": "contourcarpet"
           }
          ],
          "heatmap": [
           {
            "colorbar": {
             "outlinewidth": 0,
             "ticks": ""
            },
            "colorscale": [
             [
              0,
              "#0d0887"
             ],
             [
              0.1111111111111111,
              "#46039f"
             ],
             [
              0.2222222222222222,
              "#7201a8"
             ],
             [
              0.3333333333333333,
              "#9c179e"
             ],
             [
              0.4444444444444444,
              "#bd3786"
             ],
             [
              0.5555555555555556,
              "#d8576b"
             ],
             [
              0.6666666666666666,
              "#ed7953"
             ],
             [
              0.7777777777777778,
              "#fb9f3a"
             ],
             [
              0.8888888888888888,
              "#fdca26"
             ],
             [
              1,
              "#f0f921"
             ]
            ],
            "type": "heatmap"
           }
          ],
          "heatmapgl": [
           {
            "colorbar": {
             "outlinewidth": 0,
             "ticks": ""
            },
            "colorscale": [
             [
              0,
              "#0d0887"
             ],
             [
              0.1111111111111111,
              "#46039f"
             ],
             [
              0.2222222222222222,
              "#7201a8"
             ],
             [
              0.3333333333333333,
              "#9c179e"
             ],
             [
              0.4444444444444444,
              "#bd3786"
             ],
             [
              0.5555555555555556,
              "#d8576b"
             ],
             [
              0.6666666666666666,
              "#ed7953"
             ],
             [
              0.7777777777777778,
              "#fb9f3a"
             ],
             [
              0.8888888888888888,
              "#fdca26"
             ],
             [
              1,
              "#f0f921"
             ]
            ],
            "type": "heatmapgl"
           }
          ],
          "histogram": [
           {
            "marker": {
             "pattern": {
              "fillmode": "overlay",
              "size": 10,
              "solidity": 0.2
             }
            },
            "type": "histogram"
           }
          ],
          "histogram2d": [
           {
            "colorbar": {
             "outlinewidth": 0,
             "ticks": ""
            },
            "colorscale": [
             [
              0,
              "#0d0887"
             ],
             [
              0.1111111111111111,
              "#46039f"
             ],
             [
              0.2222222222222222,
              "#7201a8"
             ],
             [
              0.3333333333333333,
              "#9c179e"
             ],
             [
              0.4444444444444444,
              "#bd3786"
             ],
             [
              0.5555555555555556,
              "#d8576b"
             ],
             [
              0.6666666666666666,
              "#ed7953"
             ],
             [
              0.7777777777777778,
              "#fb9f3a"
             ],
             [
              0.8888888888888888,
              "#fdca26"
             ],
             [
              1,
              "#f0f921"
             ]
            ],
            "type": "histogram2d"
           }
          ],
          "histogram2dcontour": [
           {
            "colorbar": {
             "outlinewidth": 0,
             "ticks": ""
            },
            "colorscale": [
             [
              0,
              "#0d0887"
             ],
             [
              0.1111111111111111,
              "#46039f"
             ],
             [
              0.2222222222222222,
              "#7201a8"
             ],
             [
              0.3333333333333333,
              "#9c179e"
             ],
             [
              0.4444444444444444,
              "#bd3786"
             ],
             [
              0.5555555555555556,
              "#d8576b"
             ],
             [
              0.6666666666666666,
              "#ed7953"
             ],
             [
              0.7777777777777778,
              "#fb9f3a"
             ],
             [
              0.8888888888888888,
              "#fdca26"
             ],
             [
              1,
              "#f0f921"
             ]
            ],
            "type": "histogram2dcontour"
           }
          ],
          "mesh3d": [
           {
            "colorbar": {
             "outlinewidth": 0,
             "ticks": ""
            },
            "type": "mesh3d"
           }
          ],
          "parcoords": [
           {
            "line": {
             "colorbar": {
              "outlinewidth": 0,
              "ticks": ""
             }
            },
            "type": "parcoords"
           }
          ],
          "pie": [
           {
            "automargin": true,
            "type": "pie"
           }
          ],
          "scatter": [
           {
            "fillpattern": {
             "fillmode": "overlay",
             "size": 10,
             "solidity": 0.2
            },
            "type": "scatter"
           }
          ],
          "scatter3d": [
           {
            "line": {
             "colorbar": {
              "outlinewidth": 0,
              "ticks": ""
             }
            },
            "marker": {
             "colorbar": {
              "outlinewidth": 0,
              "ticks": ""
             }
            },
            "type": "scatter3d"
           }
          ],
          "scattercarpet": [
           {
            "marker": {
             "colorbar": {
              "outlinewidth": 0,
              "ticks": ""
             }
            },
            "type": "scattercarpet"
           }
          ],
          "scattergeo": [
           {
            "marker": {
             "colorbar": {
              "outlinewidth": 0,
              "ticks": ""
             }
            },
            "type": "scattergeo"
           }
          ],
          "scattergl": [
           {
            "marker": {
             "colorbar": {
              "outlinewidth": 0,
              "ticks": ""
             }
            },
            "type": "scattergl"
           }
          ],
          "scattermapbox": [
           {
            "marker": {
             "colorbar": {
              "outlinewidth": 0,
              "ticks": ""
             }
            },
            "type": "scattermapbox"
           }
          ],
          "scatterpolar": [
           {
            "marker": {
             "colorbar": {
              "outlinewidth": 0,
              "ticks": ""
             }
            },
            "type": "scatterpolar"
           }
          ],
          "scatterpolargl": [
           {
            "marker": {
             "colorbar": {
              "outlinewidth": 0,
              "ticks": ""
             }
            },
            "type": "scatterpolargl"
           }
          ],
          "scatterternary": [
           {
            "marker": {
             "colorbar": {
              "outlinewidth": 0,
              "ticks": ""
             }
            },
            "type": "scatterternary"
           }
          ],
          "surface": [
           {
            "colorbar": {
             "outlinewidth": 0,
             "ticks": ""
            },
            "colorscale": [
             [
              0,
              "#0d0887"
             ],
             [
              0.1111111111111111,
              "#46039f"
             ],
             [
              0.2222222222222222,
              "#7201a8"
             ],
             [
              0.3333333333333333,
              "#9c179e"
             ],
             [
              0.4444444444444444,
              "#bd3786"
             ],
             [
              0.5555555555555556,
              "#d8576b"
             ],
             [
              0.6666666666666666,
              "#ed7953"
             ],
             [
              0.7777777777777778,
              "#fb9f3a"
             ],
             [
              0.8888888888888888,
              "#fdca26"
             ],
             [
              1,
              "#f0f921"
             ]
            ],
            "type": "surface"
           }
          ],
          "table": [
           {
            "cells": {
             "fill": {
              "color": "#EBF0F8"
             },
             "line": {
              "color": "white"
             }
            },
            "header": {
             "fill": {
              "color": "#C8D4E3"
             },
             "line": {
              "color": "white"
             }
            },
            "type": "table"
           }
          ]
         },
         "layout": {
          "annotationdefaults": {
           "arrowcolor": "#2a3f5f",
           "arrowhead": 0,
           "arrowwidth": 1
          },
          "autotypenumbers": "strict",
          "coloraxis": {
           "colorbar": {
            "outlinewidth": 0,
            "ticks": ""
           }
          },
          "colorscale": {
           "diverging": [
            [
             0,
             "#8e0152"
            ],
            [
             0.1,
             "#c51b7d"
            ],
            [
             0.2,
             "#de77ae"
            ],
            [
             0.3,
             "#f1b6da"
            ],
            [
             0.4,
             "#fde0ef"
            ],
            [
             0.5,
             "#f7f7f7"
            ],
            [
             0.6,
             "#e6f5d0"
            ],
            [
             0.7,
             "#b8e186"
            ],
            [
             0.8,
             "#7fbc41"
            ],
            [
             0.9,
             "#4d9221"
            ],
            [
             1,
             "#276419"
            ]
           ],
           "sequential": [
            [
             0,
             "#0d0887"
            ],
            [
             0.1111111111111111,
             "#46039f"
            ],
            [
             0.2222222222222222,
             "#7201a8"
            ],
            [
             0.3333333333333333,
             "#9c179e"
            ],
            [
             0.4444444444444444,
             "#bd3786"
            ],
            [
             0.5555555555555556,
             "#d8576b"
            ],
            [
             0.6666666666666666,
             "#ed7953"
            ],
            [
             0.7777777777777778,
             "#fb9f3a"
            ],
            [
             0.8888888888888888,
             "#fdca26"
            ],
            [
             1,
             "#f0f921"
            ]
           ],
           "sequentialminus": [
            [
             0,
             "#0d0887"
            ],
            [
             0.1111111111111111,
             "#46039f"
            ],
            [
             0.2222222222222222,
             "#7201a8"
            ],
            [
             0.3333333333333333,
             "#9c179e"
            ],
            [
             0.4444444444444444,
             "#bd3786"
            ],
            [
             0.5555555555555556,
             "#d8576b"
            ],
            [
             0.6666666666666666,
             "#ed7953"
            ],
            [
             0.7777777777777778,
             "#fb9f3a"
            ],
            [
             0.8888888888888888,
             "#fdca26"
            ],
            [
             1,
             "#f0f921"
            ]
           ]
          },
          "colorway": [
           "#636efa",
           "#EF553B",
           "#00cc96",
           "#ab63fa",
           "#FFA15A",
           "#19d3f3",
           "#FF6692",
           "#B6E880",
           "#FF97FF",
           "#FECB52"
          ],
          "font": {
           "color": "#2a3f5f"
          },
          "geo": {
           "bgcolor": "white",
           "lakecolor": "white",
           "landcolor": "#E5ECF6",
           "showlakes": true,
           "showland": true,
           "subunitcolor": "white"
          },
          "hoverlabel": {
           "align": "left"
          },
          "hovermode": "closest",
          "mapbox": {
           "style": "light"
          },
          "paper_bgcolor": "white",
          "plot_bgcolor": "#E5ECF6",
          "polar": {
           "angularaxis": {
            "gridcolor": "white",
            "linecolor": "white",
            "ticks": ""
           },
           "bgcolor": "#E5ECF6",
           "radialaxis": {
            "gridcolor": "white",
            "linecolor": "white",
            "ticks": ""
           }
          },
          "scene": {
           "xaxis": {
            "backgroundcolor": "#E5ECF6",
            "gridcolor": "white",
            "gridwidth": 2,
            "linecolor": "white",
            "showbackground": true,
            "ticks": "",
            "zerolinecolor": "white"
           },
           "yaxis": {
            "backgroundcolor": "#E5ECF6",
            "gridcolor": "white",
            "gridwidth": 2,
            "linecolor": "white",
            "showbackground": true,
            "ticks": "",
            "zerolinecolor": "white"
           },
           "zaxis": {
            "backgroundcolor": "#E5ECF6",
            "gridcolor": "white",
            "gridwidth": 2,
            "linecolor": "white",
            "showbackground": true,
            "ticks": "",
            "zerolinecolor": "white"
           }
          },
          "shapedefaults": {
           "line": {
            "color": "#2a3f5f"
           }
          },
          "ternary": {
           "aaxis": {
            "gridcolor": "white",
            "linecolor": "white",
            "ticks": ""
           },
           "baxis": {
            "gridcolor": "white",
            "linecolor": "white",
            "ticks": ""
           },
           "bgcolor": "#E5ECF6",
           "caxis": {
            "gridcolor": "white",
            "linecolor": "white",
            "ticks": ""
           }
          },
          "title": {
           "x": 0.05
          },
          "xaxis": {
           "automargin": true,
           "gridcolor": "white",
           "linecolor": "white",
           "ticks": "",
           "title": {
            "standoff": 15
           },
           "zerolinecolor": "white",
           "zerolinewidth": 2
          },
          "yaxis": {
           "automargin": true,
           "gridcolor": "white",
           "linecolor": "white",
           "ticks": "",
           "title": {
            "standoff": 15
           },
           "zerolinecolor": "white",
           "zerolinewidth": 2
          }
         }
        },
        "width": 500,
        "xaxis": {
         "anchor": "y",
         "domain": [
          0,
          1
         ],
         "title": {
          "text": "Age"
         }
        },
        "yaxis": {
         "anchor": "x",
         "domain": [
          0,
          1
         ],
         "title": {
          "text": "Number Of Substitute Out"
         }
        }
       }
      },
      "text/html": [
       "<div>                            <div id=\"b4c15ef0-6bd3-4e26-b484-8363f6aba160\" class=\"plotly-graph-div\" style=\"height:400px; width:500px;\"></div>            <script type=\"text/javascript\">                require([\"plotly\"], function(Plotly) {                    window.PLOTLYENV=window.PLOTLYENV || {};                                    if (document.getElementById(\"b4c15ef0-6bd3-4e26-b484-8363f6aba160\")) {                    Plotly.newPlot(                        \"b4c15ef0-6bd3-4e26-b484-8363f6aba160\",                        [{\"alignmentgroup\":\"True\",\"hovertemplate\":\"Age=%{x}<br>Number Of Substitute Out=%{y}<br>Red Cards=%{marker.color}<extra></extra>\",\"legendgroup\":\"\",\"marker\":{\"color\":[0,0,0,0,0,0,0,0,0,0,0,0,0,0,0,0,0,0,0,0,0,0,0,0,0,0,0,1,0,0,0,0,0,0,0,0,0,0,0,0,0,0,0,0,0,0,0,0,0,1,0,0,0,0,0,0,0,0,1,0,0,0,0,0,0,0,0,0,0,0,0,0,0,0,0,0,0,0,0,0,0,0,0,0,0,0,0,0,0,0,0,1,0,0,1,0,1,0,0,0,0,0,0,0,0,0,1,0,0,0,0,0,0,0,0,0,0,0,0,0,1,0,0,0,0,0,0,0,0,0,0,0,0,0,0,0,0,0,0,0,0,0,0,0,0,0,0,0,0,0,0,0,0,0,0,0,0,0,0,0,0,0,0,1,0,0,0,1,0,0,0,0,1,0,0,0,0,0,0,0,0,0,0,0,0,0,0,0,0,0,0,0,0,0,0,0,0,0,1,0,0,0,0,0,0,0,0,0,0,0,0,0,0,0,0,0,0,0,0,0,0,0,0,0,0,0,0,0,0,0,0,0,0,0,0,0,0,0,0,0,1,0,0,0,0,0,0,0,0,1,0,0,0,0,0,0,0,0,0,0,0,0,0,0,0,0,0,0,0,1,0,0,0,0,0,0,0,0,0,0,0,0,0,0,0,1,0,0,0,0,0,0,0,0,0,0,0,0,0,0,0,0,0,0,0,0,0,0,0,0,0,0,1,0,0,1,0,0,0,0,0,0,0,0,0,0,0,0,0,0,0,0,0,0,0,0,0,0,0,0,0,0,0,0,0,0,0,0,0,0,0,0,0,0,0,0,0,0,0,0,0,0,0,0,0,0,0,0,0,0,0,0,0,0,0,0,0,0,0,0,1,0,0,0,0,0,0,0,0,0,0,0,0,0,0,0,1,0,0,0,0,0,0,0,0,0,0,0,0,1,0,0,0,0,0,0,0,0,0,0,0,0,0,0,0,0,0,0,0,0,0,0,0,0,0,0,0,0,0,0,0,0,0,0,0,0,0,0,0,0,0,0,0,0,0,0,0,0,0,0,0,0,0,0,0,0,0,0,0,1,0,0,0,0,0,0,0,0,0,0,0,0,0,0,0,0,0,0,0,0,0,0,0,1,0,0,0],\"coloraxis\":\"coloraxis\",\"pattern\":{\"shape\":\"\"}},\"name\":\"\",\"offsetgroup\":\"\",\"orientation\":\"v\",\"showlegend\":false,\"textposition\":\"auto\",\"x\":[22,21,28,26,29,28,30,29,21,24,27,26,26,24,29,29,18,21,24,26,22,23,24,27,18,22,21,23,22,25,24,24,22,22,26,27,28,26,26,28,29,18,20,23,22,24,27,19,23,22,24,23,22,24,26,28,26,25,28,29,29,29,33,19,24,24,24,25,30,27,25,30,29,29,29,18,20,24,21,21,21,24,23,24,23,26,24,28,28,27,28,30,29,30,30,24,21,24,25,24,28,25,26,24,25,25,27,27,29,29,29,27,19,22,26,24,26,30,19,22,23,20,24,23,22,24,25,22,25,24,22,23,26,26,27,28,26,26,29,27,26,29,26,28,30,29,31,23,24,24,28,31,21,21,23,24,21,21,21,20,23,23,24,21,25,22,23,25,26,24,24,25,26,24,27,23,26,25,25,27,27,26,31,28,29,28,28,19,28,30,24,21,25,25,26,24,25,28,27,26,27,27,19,20,24,22,29,20,21,24,22,24,24,26,24,27,24,25,24,28,29,27,28,25,28,25,27,27,27,26,26,28,27,28,30,29,32,31,31,20,21,21,21,22,21,22,23,24,24,25,25,25,28,30,24,31,23,21,24,24,25,27,27,28,19,25,24,27,28,17,18,23,21,22,19,23,24,22,23,22,21,20,23,23,24,24,25,25,22,25,24,26,25,24,23,22,23,23,23,25,26,24,24,26,24,24,26,27,25,25,25,24,28,25,26,26,29,30,29,29,29,27,28,28,28,30,29,29,30,32,30,33,23,23,28,26,27,28,20,18,22,26,30,30,20,21,21,24,22,22,24,21,21,24,23,25,27,22,23,22,24,23,26,24,24,27,25,24,25,25,26,28,28,27,27,28,28,29,30,29,29,30,26,27,20,21,21,19,22,22,21,21,19,23,23,23,20,23,22,22,23,22,21,21,24,21,25,25,24,25,25,24,22,24,23,23,25,25,24,25,26,27,23,24,23,28,26,24,25,28,27,25,28,25,24,26,26,26,26,27,26,25,27,29,30,26,29,30,29,31,30,28,29,30,30,31,33,19,24,27,21,20,19,21,19,20,24,20,24,24,24,21,23,22,23,24,24,24,24,23,27,25,24,25,23,26,26,23,28,26,26,24,27,28,24,25,27],\"xaxis\":\"x\",\"y\":[8,1,2,8,3,2,6,3,5,2,5,3,2,3,3,4,2,3,12,2,3,3,0,0,6,4,6,1,2,2,6,6,1,5,7,6,1,10,7,0,2,8,7,4,0,8,2,4,0,6,4,2,6,0,1,2,0,11,4,0,0,4,5,5,2,3,3,5,7,1,2,0,5,0,0,4,8,0,5,6,1,1,1,9,4,2,0,0,5,11,1,6,3,13,0,7,1,5,4,8,1,1,9,2,4,4,2,2,0,8,4,3,5,8,2,1,2,3,4,0,0,0,4,1,10,5,0,11,3,1,4,1,2,7,6,3,6,10,1,3,2,6,2,7,4,8,3,4,7,1,7,7,9,0,3,4,1,6,4,5,6,6,2,3,1,0,1,3,0,6,4,5,9,3,4,4,2,1,2,4,3,5,11,1,0,0,2,6,8,6,3,7,0,0,7,2,0,5,2,0,1,2,14,5,7,1,1,4,6,8,11,10,7,0,1,11,4,0,0,0,3,3,3,3,12,3,1,5,0,6,0,10,9,3,4,9,11,6,2,2,2,3,6,0,1,4,4,1,4,8,0,9,4,1,0,3,1,7,0,3,1,7,1,4,3,0,4,2,0,11,0,0,9,0,8,4,11,0,3,1,7,8,1,9,0,1,2,3,9,4,7,4,1,2,2,7,3,7,10,5,8,1,3,1,8,2,3,4,0,3,1,11,9,1,0,4,0,0,3,0,4,0,1,0,0,0,8,9,2,4,5,4,4,7,9,13,0,0,1,7,9,9,1,2,3,3,1,1,5,11,3,7,1,0,3,4,1,6,1,7,7,4,0,5,4,11,0,0,5,0,7,6,1,1,1,1,1,5,2,3,2,3,5,5,11,4,10,4,6,8,0,4,20,3,8,2,3,0,2,0,1,11,0,4,4,11,4,7,0,0,4,8,4,6,2,0,1,1,5,4,2,0,2,1,1,2,0,1,1,4,0,1,1,2,5,0,0,1,3,3,0,7,1,2,1,1,3,7,9,6,1,5,4,3,7,4,6,3,3,0,5,3,0,2,15,7,13,1,5,2,3,3,4,7,1,5,1,5,7,1,4,6,6,6,1,7,0,1,4,16,1,2,0,5,0,2,1],\"yaxis\":\"y\",\"type\":\"bar\"}],                        {\"template\":{\"data\":{\"histogram2dcontour\":[{\"type\":\"histogram2dcontour\",\"colorbar\":{\"outlinewidth\":0,\"ticks\":\"\"},\"colorscale\":[[0.0,\"#0d0887\"],[0.1111111111111111,\"#46039f\"],[0.2222222222222222,\"#7201a8\"],[0.3333333333333333,\"#9c179e\"],[0.4444444444444444,\"#bd3786\"],[0.5555555555555556,\"#d8576b\"],[0.6666666666666666,\"#ed7953\"],[0.7777777777777778,\"#fb9f3a\"],[0.8888888888888888,\"#fdca26\"],[1.0,\"#f0f921\"]]}],\"choropleth\":[{\"type\":\"choropleth\",\"colorbar\":{\"outlinewidth\":0,\"ticks\":\"\"}}],\"histogram2d\":[{\"type\":\"histogram2d\",\"colorbar\":{\"outlinewidth\":0,\"ticks\":\"\"},\"colorscale\":[[0.0,\"#0d0887\"],[0.1111111111111111,\"#46039f\"],[0.2222222222222222,\"#7201a8\"],[0.3333333333333333,\"#9c179e\"],[0.4444444444444444,\"#bd3786\"],[0.5555555555555556,\"#d8576b\"],[0.6666666666666666,\"#ed7953\"],[0.7777777777777778,\"#fb9f3a\"],[0.8888888888888888,\"#fdca26\"],[1.0,\"#f0f921\"]]}],\"heatmap\":[{\"type\":\"heatmap\",\"colorbar\":{\"outlinewidth\":0,\"ticks\":\"\"},\"colorscale\":[[0.0,\"#0d0887\"],[0.1111111111111111,\"#46039f\"],[0.2222222222222222,\"#7201a8\"],[0.3333333333333333,\"#9c179e\"],[0.4444444444444444,\"#bd3786\"],[0.5555555555555556,\"#d8576b\"],[0.6666666666666666,\"#ed7953\"],[0.7777777777777778,\"#fb9f3a\"],[0.8888888888888888,\"#fdca26\"],[1.0,\"#f0f921\"]]}],\"heatmapgl\":[{\"type\":\"heatmapgl\",\"colorbar\":{\"outlinewidth\":0,\"ticks\":\"\"},\"colorscale\":[[0.0,\"#0d0887\"],[0.1111111111111111,\"#46039f\"],[0.2222222222222222,\"#7201a8\"],[0.3333333333333333,\"#9c179e\"],[0.4444444444444444,\"#bd3786\"],[0.5555555555555556,\"#d8576b\"],[0.6666666666666666,\"#ed7953\"],[0.7777777777777778,\"#fb9f3a\"],[0.8888888888888888,\"#fdca26\"],[1.0,\"#f0f921\"]]}],\"contourcarpet\":[{\"type\":\"contourcarpet\",\"colorbar\":{\"outlinewidth\":0,\"ticks\":\"\"}}],\"contour\":[{\"type\":\"contour\",\"colorbar\":{\"outlinewidth\":0,\"ticks\":\"\"},\"colorscale\":[[0.0,\"#0d0887\"],[0.1111111111111111,\"#46039f\"],[0.2222222222222222,\"#7201a8\"],[0.3333333333333333,\"#9c179e\"],[0.4444444444444444,\"#bd3786\"],[0.5555555555555556,\"#d8576b\"],[0.6666666666666666,\"#ed7953\"],[0.7777777777777778,\"#fb9f3a\"],[0.8888888888888888,\"#fdca26\"],[1.0,\"#f0f921\"]]}],\"surface\":[{\"type\":\"surface\",\"colorbar\":{\"outlinewidth\":0,\"ticks\":\"\"},\"colorscale\":[[0.0,\"#0d0887\"],[0.1111111111111111,\"#46039f\"],[0.2222222222222222,\"#7201a8\"],[0.3333333333333333,\"#9c179e\"],[0.4444444444444444,\"#bd3786\"],[0.5555555555555556,\"#d8576b\"],[0.6666666666666666,\"#ed7953\"],[0.7777777777777778,\"#fb9f3a\"],[0.8888888888888888,\"#fdca26\"],[1.0,\"#f0f921\"]]}],\"mesh3d\":[{\"type\":\"mesh3d\",\"colorbar\":{\"outlinewidth\":0,\"ticks\":\"\"}}],\"scatter\":[{\"fillpattern\":{\"fillmode\":\"overlay\",\"size\":10,\"solidity\":0.2},\"type\":\"scatter\"}],\"parcoords\":[{\"type\":\"parcoords\",\"line\":{\"colorbar\":{\"outlinewidth\":0,\"ticks\":\"\"}}}],\"scatterpolargl\":[{\"type\":\"scatterpolargl\",\"marker\":{\"colorbar\":{\"outlinewidth\":0,\"ticks\":\"\"}}}],\"bar\":[{\"error_x\":{\"color\":\"#2a3f5f\"},\"error_y\":{\"color\":\"#2a3f5f\"},\"marker\":{\"line\":{\"color\":\"#E5ECF6\",\"width\":0.5},\"pattern\":{\"fillmode\":\"overlay\",\"size\":10,\"solidity\":0.2}},\"type\":\"bar\"}],\"scattergeo\":[{\"type\":\"scattergeo\",\"marker\":{\"colorbar\":{\"outlinewidth\":0,\"ticks\":\"\"}}}],\"scatterpolar\":[{\"type\":\"scatterpolar\",\"marker\":{\"colorbar\":{\"outlinewidth\":0,\"ticks\":\"\"}}}],\"histogram\":[{\"marker\":{\"pattern\":{\"fillmode\":\"overlay\",\"size\":10,\"solidity\":0.2}},\"type\":\"histogram\"}],\"scattergl\":[{\"type\":\"scattergl\",\"marker\":{\"colorbar\":{\"outlinewidth\":0,\"ticks\":\"\"}}}],\"scatter3d\":[{\"type\":\"scatter3d\",\"line\":{\"colorbar\":{\"outlinewidth\":0,\"ticks\":\"\"}},\"marker\":{\"colorbar\":{\"outlinewidth\":0,\"ticks\":\"\"}}}],\"scattermapbox\":[{\"type\":\"scattermapbox\",\"marker\":{\"colorbar\":{\"outlinewidth\":0,\"ticks\":\"\"}}}],\"scatterternary\":[{\"type\":\"scatterternary\",\"marker\":{\"colorbar\":{\"outlinewidth\":0,\"ticks\":\"\"}}}],\"scattercarpet\":[{\"type\":\"scattercarpet\",\"marker\":{\"colorbar\":{\"outlinewidth\":0,\"ticks\":\"\"}}}],\"carpet\":[{\"aaxis\":{\"endlinecolor\":\"#2a3f5f\",\"gridcolor\":\"white\",\"linecolor\":\"white\",\"minorgridcolor\":\"white\",\"startlinecolor\":\"#2a3f5f\"},\"baxis\":{\"endlinecolor\":\"#2a3f5f\",\"gridcolor\":\"white\",\"linecolor\":\"white\",\"minorgridcolor\":\"white\",\"startlinecolor\":\"#2a3f5f\"},\"type\":\"carpet\"}],\"table\":[{\"cells\":{\"fill\":{\"color\":\"#EBF0F8\"},\"line\":{\"color\":\"white\"}},\"header\":{\"fill\":{\"color\":\"#C8D4E3\"},\"line\":{\"color\":\"white\"}},\"type\":\"table\"}],\"barpolar\":[{\"marker\":{\"line\":{\"color\":\"#E5ECF6\",\"width\":0.5},\"pattern\":{\"fillmode\":\"overlay\",\"size\":10,\"solidity\":0.2}},\"type\":\"barpolar\"}],\"pie\":[{\"automargin\":true,\"type\":\"pie\"}]},\"layout\":{\"autotypenumbers\":\"strict\",\"colorway\":[\"#636efa\",\"#EF553B\",\"#00cc96\",\"#ab63fa\",\"#FFA15A\",\"#19d3f3\",\"#FF6692\",\"#B6E880\",\"#FF97FF\",\"#FECB52\"],\"font\":{\"color\":\"#2a3f5f\"},\"hovermode\":\"closest\",\"hoverlabel\":{\"align\":\"left\"},\"paper_bgcolor\":\"white\",\"plot_bgcolor\":\"#E5ECF6\",\"polar\":{\"bgcolor\":\"#E5ECF6\",\"angularaxis\":{\"gridcolor\":\"white\",\"linecolor\":\"white\",\"ticks\":\"\"},\"radialaxis\":{\"gridcolor\":\"white\",\"linecolor\":\"white\",\"ticks\":\"\"}},\"ternary\":{\"bgcolor\":\"#E5ECF6\",\"aaxis\":{\"gridcolor\":\"white\",\"linecolor\":\"white\",\"ticks\":\"\"},\"baxis\":{\"gridcolor\":\"white\",\"linecolor\":\"white\",\"ticks\":\"\"},\"caxis\":{\"gridcolor\":\"white\",\"linecolor\":\"white\",\"ticks\":\"\"}},\"coloraxis\":{\"colorbar\":{\"outlinewidth\":0,\"ticks\":\"\"}},\"colorscale\":{\"sequential\":[[0.0,\"#0d0887\"],[0.1111111111111111,\"#46039f\"],[0.2222222222222222,\"#7201a8\"],[0.3333333333333333,\"#9c179e\"],[0.4444444444444444,\"#bd3786\"],[0.5555555555555556,\"#d8576b\"],[0.6666666666666666,\"#ed7953\"],[0.7777777777777778,\"#fb9f3a\"],[0.8888888888888888,\"#fdca26\"],[1.0,\"#f0f921\"]],\"sequentialminus\":[[0.0,\"#0d0887\"],[0.1111111111111111,\"#46039f\"],[0.2222222222222222,\"#7201a8\"],[0.3333333333333333,\"#9c179e\"],[0.4444444444444444,\"#bd3786\"],[0.5555555555555556,\"#d8576b\"],[0.6666666666666666,\"#ed7953\"],[0.7777777777777778,\"#fb9f3a\"],[0.8888888888888888,\"#fdca26\"],[1.0,\"#f0f921\"]],\"diverging\":[[0,\"#8e0152\"],[0.1,\"#c51b7d\"],[0.2,\"#de77ae\"],[0.3,\"#f1b6da\"],[0.4,\"#fde0ef\"],[0.5,\"#f7f7f7\"],[0.6,\"#e6f5d0\"],[0.7,\"#b8e186\"],[0.8,\"#7fbc41\"],[0.9,\"#4d9221\"],[1,\"#276419\"]]},\"xaxis\":{\"gridcolor\":\"white\",\"linecolor\":\"white\",\"ticks\":\"\",\"title\":{\"standoff\":15},\"zerolinecolor\":\"white\",\"automargin\":true,\"zerolinewidth\":2},\"yaxis\":{\"gridcolor\":\"white\",\"linecolor\":\"white\",\"ticks\":\"\",\"title\":{\"standoff\":15},\"zerolinecolor\":\"white\",\"automargin\":true,\"zerolinewidth\":2},\"scene\":{\"xaxis\":{\"backgroundcolor\":\"#E5ECF6\",\"gridcolor\":\"white\",\"linecolor\":\"white\",\"showbackground\":true,\"ticks\":\"\",\"zerolinecolor\":\"white\",\"gridwidth\":2},\"yaxis\":{\"backgroundcolor\":\"#E5ECF6\",\"gridcolor\":\"white\",\"linecolor\":\"white\",\"showbackground\":true,\"ticks\":\"\",\"zerolinecolor\":\"white\",\"gridwidth\":2},\"zaxis\":{\"backgroundcolor\":\"#E5ECF6\",\"gridcolor\":\"white\",\"linecolor\":\"white\",\"showbackground\":true,\"ticks\":\"\",\"zerolinecolor\":\"white\",\"gridwidth\":2}},\"shapedefaults\":{\"line\":{\"color\":\"#2a3f5f\"}},\"annotationdefaults\":{\"arrowcolor\":\"#2a3f5f\",\"arrowhead\":0,\"arrowwidth\":1},\"geo\":{\"bgcolor\":\"white\",\"landcolor\":\"#E5ECF6\",\"subunitcolor\":\"white\",\"showland\":true,\"showlakes\":true,\"lakecolor\":\"white\"},\"title\":{\"x\":0.05},\"mapbox\":{\"style\":\"light\"}}},\"xaxis\":{\"anchor\":\"y\",\"domain\":[0.0,1.0],\"title\":{\"text\":\"Age\"}},\"yaxis\":{\"anchor\":\"x\",\"domain\":[0.0,1.0],\"title\":{\"text\":\"Number Of Substitute Out\"}},\"coloraxis\":{\"colorbar\":{\"title\":{\"text\":\"Red Cards\"}},\"colorscale\":[[0.0,\"#0d0887\"],[0.1111111111111111,\"#46039f\"],[0.2222222222222222,\"#7201a8\"],[0.3333333333333333,\"#9c179e\"],[0.4444444444444444,\"#bd3786\"],[0.5555555555555556,\"#d8576b\"],[0.6666666666666666,\"#ed7953\"],[0.7777777777777778,\"#fb9f3a\"],[0.8888888888888888,\"#fdca26\"],[1.0,\"#f0f921\"]]},\"legend\":{\"tracegroupgap\":0},\"margin\":{\"t\":60},\"barmode\":\"relative\",\"height\":400,\"width\":500},                        {\"responsive\": true}                    ).then(function(){\n",
       "                            \n",
       "var gd = document.getElementById('b4c15ef0-6bd3-4e26-b484-8363f6aba160');\n",
       "var x = new MutationObserver(function (mutations, observer) {{\n",
       "        var display = window.getComputedStyle(gd).display;\n",
       "        if (!display || display === 'none') {{\n",
       "            console.log([gd, 'removed!']);\n",
       "            Plotly.purge(gd);\n",
       "            observer.disconnect();\n",
       "        }}\n",
       "}});\n",
       "\n",
       "// Listen for the removal of the full notebook cells\n",
       "var notebookContainer = gd.closest('#notebook-container');\n",
       "if (notebookContainer) {{\n",
       "    x.observe(notebookContainer, {childList: true});\n",
       "}}\n",
       "\n",
       "// Listen for the clearing of the current output cell\n",
       "var outputEl = gd.closest('.output');\n",
       "if (outputEl) {{\n",
       "    x.observe(outputEl, {childList: true});\n",
       "}}\n",
       "\n",
       "                        })                };                });            </script>        </div>"
      ]
     },
     "metadata": {},
     "output_type": "display_data"
    }
   ],
   "source": [
    "px.bar(data , x='Age',y='Number Of Substitute Out',color='Red Cards',width=500, height=400)"
   ]
  },
  {
   "cell_type": "code",
   "execution_count": 85,
   "id": "070666c6",
   "metadata": {},
   "outputs": [
    {
     "data": {
      "text/html": [
       "<div>\n",
       "<style scoped>\n",
       "    .dataframe tbody tr th:only-of-type {\n",
       "        vertical-align: middle;\n",
       "    }\n",
       "\n",
       "    .dataframe tbody tr th {\n",
       "        vertical-align: top;\n",
       "    }\n",
       "\n",
       "    .dataframe thead th {\n",
       "        text-align: right;\n",
       "    }\n",
       "</style>\n",
       "<table border=\"1\" class=\"dataframe\">\n",
       "  <thead>\n",
       "    <tr style=\"text-align: right;\">\n",
       "      <th></th>\n",
       "      <th>Name</th>\n",
       "      <th>Position</th>\n",
       "      <th>Age</th>\n",
       "      <th>Markey Value In Millions(£)</th>\n",
       "      <th>Country</th>\n",
       "      <th>Club</th>\n",
       "      <th>Matches</th>\n",
       "      <th>Goals</th>\n",
       "      <th>Own Goals</th>\n",
       "      <th>Assists</th>\n",
       "      <th>Yellow Cards</th>\n",
       "      <th>Second Yellow Cards</th>\n",
       "      <th>Red Cards</th>\n",
       "      <th>Number Of Substitute In</th>\n",
       "      <th>Number Of Substitute Out</th>\n",
       "    </tr>\n",
       "  </thead>\n",
       "  <tbody>\n",
       "    <tr>\n",
       "      <th>258</th>\n",
       "      <td>Ismaïla Sarr</td>\n",
       "      <td>Right Winger</td>\n",
       "      <td>23</td>\n",
       "      <td>24.3</td>\n",
       "      <td>Senegal</td>\n",
       "      <td>Watford FC</td>\n",
       "      <td>11</td>\n",
       "      <td>4</td>\n",
       "      <td>0</td>\n",
       "      <td>0</td>\n",
       "      <td>1</td>\n",
       "      <td>0</td>\n",
       "      <td>0</td>\n",
       "      <td>0</td>\n",
       "      <td>1</td>\n",
       "    </tr>\n",
       "  </tbody>\n",
       "</table>\n",
       "</div>"
      ],
      "text/plain": [
       "             Name      Position  Age  Markey Value In Millions(£)  Country  \\\n",
       "258  Ismaïla Sarr  Right Winger   23                         24.3  Senegal   \n",
       "\n",
       "           Club  Matches  Goals  Own Goals  Assists  Yellow Cards  \\\n",
       "258  Watford FC       11      4          0        0             1   \n",
       "\n",
       "     Second Yellow Cards  Red Cards  Number Of Substitute In  \\\n",
       "258                    0          0                        0   \n",
       "\n",
       "     Number Of Substitute Out  \n",
       "258                         1  "
      ]
     },
     "execution_count": 85,
     "metadata": {},
     "output_type": "execute_result"
    }
   ],
   "source": [
    "data.sample()"
   ]
  },
  {
   "cell_type": "code",
   "execution_count": 167,
   "id": "0803b622",
   "metadata": {},
   "outputs": [],
   "source": [
    "top_seven=data.groupby('Club')['Markey Value In Millions(£)'].max().sort_values(ascending=False).nlargest(7)"
   ]
  },
  {
   "cell_type": "code",
   "execution_count": 168,
   "id": "462b89d6",
   "metadata": {},
   "outputs": [
    {
     "data": {
      "text/plain": [
       "Club\n",
       "Paris Saint-Germain    144.0\n",
       "Borussia Dortmund      135.0\n",
       "Tottenham Hotspur      108.0\n",
       "Chelsea FC              90.0\n",
       "Manchester City         90.0\n",
       "Liverpool FC            90.0\n",
       "FC Barcelona            81.0\n",
       "Name: Markey Value In Millions(£), dtype: float64"
      ]
     },
     "execution_count": 168,
     "metadata": {},
     "output_type": "execute_result"
    }
   ],
   "source": [
    "top_seven"
   ]
  },
  {
   "cell_type": "code",
   "execution_count": 328,
   "id": "0f7c2180",
   "metadata": {},
   "outputs": [
    {
     "data": {
      "application/vnd.plotly.v1+json": {
       "config": {
        "plotlyServerURL": "https://plot.ly"
       },
       "data": [
        {
         "hovertemplate": "Age=%{x}<br>Markey Value In Millions(£)=%{y}<br>Goals=%{marker.size}<br>Red Cards=%{marker.color}<extra></extra>",
         "legendgroup": "",
         "marker": {
          "color": [
           0,
           0,
           0,
           0,
           0,
           0,
           0,
           0,
           0,
           0,
           0,
           0,
           0,
           0,
           0,
           0,
           0,
           0,
           0,
           0,
           0,
           0,
           0,
           0,
           0,
           0,
           0,
           1,
           0,
           0,
           0,
           0,
           0,
           0,
           0,
           0,
           0,
           0,
           0,
           0,
           0,
           0,
           0,
           0,
           0,
           0,
           0,
           0,
           0,
           1,
           0,
           0,
           0,
           0,
           0,
           0,
           0,
           0,
           1,
           0,
           0,
           0,
           0,
           0,
           0,
           0,
           0,
           0,
           0,
           0,
           0,
           0,
           0,
           0,
           0,
           0,
           0,
           0,
           0,
           0,
           0,
           0,
           0,
           0,
           0,
           0,
           0,
           0,
           0,
           0,
           0,
           1,
           0,
           0,
           1,
           0,
           1,
           0,
           0,
           0,
           0,
           0,
           0,
           0,
           0,
           0,
           1,
           0,
           0,
           0,
           0,
           0,
           0,
           0,
           0,
           0,
           0,
           0,
           0,
           0,
           1,
           0,
           0,
           0,
           0,
           0,
           0,
           0,
           0,
           0,
           0,
           0,
           0,
           0,
           0,
           0,
           0,
           0,
           0,
           0,
           0,
           0,
           0,
           0,
           0,
           0,
           0,
           0,
           0,
           0,
           0,
           0,
           0,
           0,
           0,
           0,
           0,
           0,
           0,
           0,
           0,
           0,
           0,
           1,
           0,
           0,
           0,
           1,
           0,
           0,
           0,
           0,
           1,
           0,
           0,
           0,
           0,
           0,
           0,
           0,
           0,
           0,
           0,
           0,
           0,
           0,
           0,
           0,
           0,
           0,
           0,
           0,
           0,
           0,
           0,
           0,
           0,
           0,
           1,
           0,
           0,
           0,
           0,
           0,
           0,
           0,
           0,
           0,
           0,
           0,
           0,
           0,
           0,
           0,
           0,
           0,
           0,
           0,
           0,
           0,
           0,
           0,
           0,
           0,
           0,
           0,
           0,
           0,
           0,
           0,
           0,
           0,
           0,
           0,
           0,
           0,
           0,
           0,
           0,
           0,
           1,
           0,
           0,
           0,
           0,
           0,
           0,
           0,
           0,
           1,
           0,
           0,
           0,
           0,
           0,
           0,
           0,
           0,
           0,
           0,
           0,
           0,
           0,
           0,
           0,
           0,
           0,
           0,
           0,
           1,
           0,
           0,
           0,
           0,
           0,
           0,
           0,
           0,
           0,
           0,
           0,
           0,
           0,
           0,
           0,
           1,
           0,
           0,
           0,
           0,
           0,
           0,
           0,
           0,
           0,
           0,
           0,
           0,
           0,
           0,
           0,
           0,
           0,
           0,
           0,
           0,
           0,
           0,
           0,
           0,
           0,
           0,
           1,
           0,
           0,
           1,
           0,
           0,
           0,
           0,
           0,
           0,
           0,
           0,
           0,
           0,
           0,
           0,
           0,
           0,
           0,
           0,
           0,
           0,
           0,
           0,
           0,
           0,
           0,
           0,
           0,
           0,
           0,
           0,
           0,
           0,
           0,
           0,
           0,
           0,
           0,
           0,
           0,
           0,
           0,
           0,
           0,
           0,
           0,
           0,
           0,
           0,
           0,
           0,
           0,
           0,
           0,
           0,
           0,
           0,
           0,
           0,
           0,
           0,
           0,
           0,
           0,
           0,
           0,
           0,
           1,
           0,
           0,
           0,
           0,
           0,
           0,
           0,
           0,
           0,
           0,
           0,
           0,
           0,
           0,
           0,
           1,
           0,
           0,
           0,
           0,
           0,
           0,
           0,
           0,
           0,
           0,
           0,
           0,
           1,
           0,
           0,
           0,
           0,
           0,
           0,
           0,
           0,
           0,
           0,
           0,
           0,
           0,
           0,
           0,
           0,
           0,
           0,
           0,
           0,
           0,
           0,
           0,
           0,
           0,
           0,
           0,
           0,
           0,
           0,
           0,
           0,
           0,
           0,
           0,
           0,
           0,
           0,
           0,
           0,
           0,
           0,
           0,
           0,
           0,
           0,
           0,
           0,
           0,
           0,
           0,
           0,
           0,
           0,
           0,
           0,
           0,
           0,
           0,
           1,
           0,
           0,
           0,
           0,
           0,
           0,
           0,
           0,
           0,
           0,
           0,
           0,
           0,
           0,
           0,
           0,
           0,
           0,
           0,
           0,
           0,
           0,
           0,
           1,
           0,
           0,
           0
          ],
          "coloraxis": "coloraxis",
          "size": [
           7,
           13,
           7,
           2,
           15,
           4,
           3,
           3,
           0,
           0,
           5,
           3,
           2,
           3,
           8,
           5,
           0,
           5,
           5,
           0,
           3,
           1,
           0,
           1,
           3,
           1,
           0,
           3,
           3,
           1,
           6,
           3,
           1,
           4,
           4,
           3,
           0,
           8,
           2,
           0,
           0,
           7,
           2,
           0,
           0,
           1,
           0,
           4,
           0,
           9,
           4,
           0,
           0,
           0,
           0,
           1,
           3,
           8,
           0,
           0,
           0,
           0,
           23,
           2,
           2,
           2,
           3,
           2,
           1,
           2,
           2,
           0,
           0,
           0,
           1,
           4,
           4,
           1,
           3,
           9,
           12,
           1,
           1,
           1,
           0,
           0,
           0,
           0,
           6,
           3,
           1,
           5,
           1,
           5,
           2,
           11,
           4,
           2,
           3,
           5,
           3,
           1,
           3,
           3,
           8,
           0,
           1,
           6,
           4,
           4,
           3,
           1,
           2,
           6,
           2,
           1,
           0,
           8,
           0,
           0,
           0,
           0,
           3,
           0,
           1,
           5,
           1,
           5,
           3,
           0,
           1,
           0,
           0,
           3,
           0,
           1,
           2,
           5,
           3,
           3,
           2,
           1,
           0,
           2,
           6,
           2,
           2,
           1,
           5,
           3,
           2,
           11,
           9,
           0,
           0,
           6,
           1,
           8,
           2,
           2,
           3,
           5,
           1,
           2,
           0,
           0,
           0,
           0,
           1,
           1,
           0,
           3,
           0,
           0,
           2,
           2,
           2,
           1,
           1,
           5,
           2,
           0,
           8,
           1,
           0,
           1,
           3,
           1,
           4,
           8,
           5,
           1,
           0,
           2,
           3,
           0,
           3,
           2,
           2,
           1,
           1,
           0,
           5,
           0,
           0,
           3,
           0,
           1,
           0,
           0,
           1,
           3,
           0,
           0,
           2,
           0,
           0,
           1,
           0,
           0,
           4,
           4,
           0,
           2,
           2,
           0,
           2,
           2,
           0,
           0,
           1,
           2,
           2,
           0,
           1,
           4,
           6,
           2,
           1,
           0,
           0,
           1,
           6,
           0,
           2,
           0,
           1,
           0,
           1,
           3,
           0,
           8,
           0,
           2,
           0,
           1,
           4,
           2,
           2,
           0,
           0,
           14,
           0,
           4,
           0,
           0,
           1,
           1,
           0,
           0,
           0,
           0,
           4,
           3,
           3,
           0,
           11,
           1,
           0,
           0,
           6,
           5,
           1,
           9,
           2,
           0,
           0,
           1,
           5,
           2,
           7,
           0,
           0,
           2,
           0,
           4,
           2,
           4,
           2,
           0,
           6,
           0,
           0,
           2,
           9,
           2,
           2,
           3,
           0,
           0,
           0,
           3,
           2,
           0,
           0,
           9,
           1,
           2,
           1,
           0,
           1,
           0,
           1,
           2,
           1,
           0,
           2,
           3,
           0,
           7,
           0,
           14,
           3,
           3,
           8,
           1,
           0,
           1,
           0,
           6,
           4,
           3,
           1,
           4,
           1,
           0,
           0,
           3,
           3,
           7,
           1,
           1,
           0,
           0,
           5,
           1,
           0,
           0,
           1,
           3,
           3,
           1,
           2,
           0,
           3,
           12,
           0,
           0,
           2,
           0,
           2,
           1,
           1,
           0,
           0,
           0,
           2,
           3,
           0,
           4,
           0,
           3,
           2,
           4,
           4,
           15,
           8,
           0,
           2,
           8,
           0,
           0,
           15,
           2,
           4,
           0,
           0,
           0,
           0,
           1,
           0,
           3,
           1,
           1,
           1,
           7,
           4,
           0,
           0,
           0,
           2,
           1,
           0,
           1,
           0,
           0,
           0,
           0,
           0,
           3,
           0,
           0,
           0,
           0,
           2,
           1,
           0,
           0,
           0,
           1,
           0,
           4,
           0,
           4,
           0,
           0,
           2,
           0,
           2,
           2,
           0,
           2,
           0,
           2,
           0,
           0,
           4,
           4,
           0,
           0,
           1,
           2,
           1,
           1,
           1,
           2,
           2,
           0,
           0,
           1,
           0,
           0,
           2,
           0,
           6,
           1,
           4,
           0,
           0,
           0,
           4,
           0,
           1,
           0,
           0,
           5,
           1,
           4,
           7,
           1,
           1,
           3,
           0,
           0,
           1,
           0,
           0,
           0,
           0,
           3,
           0,
           2,
           0,
           1,
           0,
           0,
           3
          ],
          "sizemode": "area",
          "sizeref": 0.0575,
          "symbol": "circle"
         },
         "mode": "markers",
         "name": "",
         "orientation": "v",
         "showlegend": false,
         "type": "scatter",
         "x": [
          22,
          21,
          28,
          26,
          29,
          28,
          30,
          29,
          21,
          24,
          27,
          26,
          26,
          24,
          29,
          29,
          18,
          21,
          24,
          26,
          22,
          23,
          24,
          27,
          18,
          22,
          21,
          23,
          22,
          25,
          24,
          24,
          22,
          22,
          26,
          27,
          28,
          26,
          26,
          28,
          29,
          18,
          20,
          23,
          22,
          24,
          27,
          19,
          23,
          22,
          24,
          23,
          22,
          24,
          26,
          28,
          26,
          25,
          28,
          29,
          29,
          29,
          33,
          19,
          24,
          24,
          24,
          25,
          30,
          27,
          25,
          30,
          29,
          29,
          29,
          18,
          20,
          24,
          21,
          21,
          21,
          24,
          23,
          24,
          23,
          26,
          24,
          28,
          28,
          27,
          28,
          30,
          29,
          30,
          30,
          24,
          21,
          24,
          25,
          24,
          28,
          25,
          26,
          24,
          25,
          25,
          27,
          27,
          29,
          29,
          29,
          27,
          19,
          22,
          26,
          24,
          26,
          30,
          19,
          22,
          23,
          20,
          24,
          23,
          22,
          24,
          25,
          22,
          25,
          24,
          22,
          23,
          26,
          26,
          27,
          28,
          26,
          26,
          29,
          27,
          26,
          29,
          26,
          28,
          30,
          29,
          31,
          23,
          24,
          24,
          28,
          31,
          21,
          21,
          23,
          24,
          21,
          21,
          21,
          20,
          23,
          23,
          24,
          21,
          25,
          22,
          23,
          25,
          26,
          24,
          24,
          25,
          26,
          24,
          27,
          23,
          26,
          25,
          25,
          27,
          27,
          26,
          31,
          28,
          29,
          28,
          28,
          19,
          28,
          30,
          24,
          21,
          25,
          25,
          26,
          24,
          25,
          28,
          27,
          26,
          27,
          27,
          19,
          20,
          24,
          22,
          29,
          20,
          21,
          24,
          22,
          24,
          24,
          26,
          24,
          27,
          24,
          25,
          24,
          28,
          29,
          27,
          28,
          25,
          28,
          25,
          27,
          27,
          27,
          26,
          26,
          28,
          27,
          28,
          30,
          29,
          32,
          31,
          31,
          20,
          21,
          21,
          21,
          22,
          21,
          22,
          23,
          24,
          24,
          25,
          25,
          25,
          28,
          30,
          24,
          31,
          23,
          21,
          24,
          24,
          25,
          27,
          27,
          28,
          19,
          25,
          24,
          27,
          28,
          17,
          18,
          23,
          21,
          22,
          19,
          23,
          24,
          22,
          23,
          22,
          21,
          20,
          23,
          23,
          24,
          24,
          25,
          25,
          22,
          25,
          24,
          26,
          25,
          24,
          23,
          22,
          23,
          23,
          23,
          25,
          26,
          24,
          24,
          26,
          24,
          24,
          26,
          27,
          25,
          25,
          25,
          24,
          28,
          25,
          26,
          26,
          29,
          30,
          29,
          29,
          29,
          27,
          28,
          28,
          28,
          30,
          29,
          29,
          30,
          32,
          30,
          33,
          23,
          23,
          28,
          26,
          27,
          28,
          20,
          18,
          22,
          26,
          30,
          30,
          20,
          21,
          21,
          24,
          22,
          22,
          24,
          21,
          21,
          24,
          23,
          25,
          27,
          22,
          23,
          22,
          24,
          23,
          26,
          24,
          24,
          27,
          25,
          24,
          25,
          25,
          26,
          28,
          28,
          27,
          27,
          28,
          28,
          29,
          30,
          29,
          29,
          30,
          26,
          27,
          20,
          21,
          21,
          19,
          22,
          22,
          21,
          21,
          19,
          23,
          23,
          23,
          20,
          23,
          22,
          22,
          23,
          22,
          21,
          21,
          24,
          21,
          25,
          25,
          24,
          25,
          25,
          24,
          22,
          24,
          23,
          23,
          25,
          25,
          24,
          25,
          26,
          27,
          23,
          24,
          23,
          28,
          26,
          24,
          25,
          28,
          27,
          25,
          28,
          25,
          24,
          26,
          26,
          26,
          26,
          27,
          26,
          25,
          27,
          29,
          30,
          26,
          29,
          30,
          29,
          31,
          30,
          28,
          29,
          30,
          30,
          31,
          33,
          19,
          24,
          27,
          21,
          20,
          19,
          21,
          19,
          20,
          24,
          20,
          24,
          24,
          24,
          21,
          23,
          22,
          23,
          24,
          24,
          24,
          24,
          23,
          27,
          25,
          24,
          25,
          23,
          26,
          26,
          23,
          28,
          26,
          26,
          24,
          27,
          28,
          24,
          25,
          27
         ],
         "xaxis": "x",
         "y": [
          144,
          135,
          108,
          90,
          90,
          90,
          90,
          90,
          81,
          81,
          81,
          81,
          81,
          76.5,
          76.5,
          76.5,
          72,
          72,
          72,
          72,
          67.5,
          67.5,
          67.5,
          67.5,
          63,
          63,
          63,
          63,
          63,
          63,
          63,
          63,
          63,
          63,
          63,
          63,
          63,
          63,
          63,
          63,
          63,
          58.5,
          58.5,
          58.5,
          58.5,
          58.5,
          58.5,
          54,
          54,
          54,
          54,
          54,
          54,
          54,
          54,
          54,
          54,
          54,
          54,
          54,
          54,
          54,
          54,
          49.5,
          49.5,
          49.5,
          49.5,
          49.5,
          49.5,
          49.5,
          49.5,
          49.5,
          49.5,
          49.5,
          49.5,
          45,
          45,
          45,
          45,
          45,
          45,
          45,
          45,
          45,
          45,
          45,
          45,
          45,
          45,
          45,
          45,
          45,
          45,
          43.2,
          43.2,
          42.3,
          40.5,
          40.5,
          40.5,
          40.5,
          40.5,
          40.5,
          40.5,
          40.5,
          40.5,
          40.5,
          40.5,
          40.5,
          40.5,
          40.5,
          40.5,
          40.5,
          37.8,
          37.8,
          37.8,
          37.8,
          37.8,
          37.8,
          36,
          36,
          36,
          36,
          36,
          36,
          36,
          36,
          36,
          36,
          36,
          36,
          36,
          36,
          36,
          36,
          36,
          36,
          36,
          36,
          36,
          36,
          36,
          36,
          36,
          36,
          36,
          36,
          36,
          34.2,
          34.2,
          34.2,
          34.2,
          34.2,
          31.5,
          31.5,
          31.5,
          31.5,
          31.5,
          31.5,
          31.5,
          31.5,
          31.5,
          31.5,
          31.5,
          31.5,
          31.5,
          31.5,
          31.5,
          31.5,
          31.5,
          31.5,
          31.5,
          31.5,
          31.5,
          31.5,
          31.5,
          31.5,
          31.5,
          31.5,
          31.5,
          31.5,
          31.5,
          31.5,
          31.5,
          31.5,
          31.5,
          31.5,
          31.5,
          29.7,
          29.7,
          29.7,
          28.8,
          28.8,
          28.8,
          28.8,
          28.8,
          28.8,
          28.8,
          28.8,
          28.8,
          28.8,
          28.8,
          28.8,
          27,
          27,
          27,
          27,
          27,
          27,
          27,
          27,
          27,
          27,
          27,
          27,
          27,
          27,
          27,
          27,
          27,
          27,
          27,
          27,
          27,
          27,
          27,
          27,
          27,
          27,
          27,
          27,
          27,
          27,
          27,
          27,
          27,
          27,
          27,
          27,
          27,
          25.2,
          25.2,
          25.2,
          25.2,
          25.2,
          25.2,
          25.2,
          25.2,
          25.2,
          25.2,
          25.2,
          25.2,
          25.2,
          25.2,
          25.2,
          25.2,
          25.2,
          24.3,
          24.3,
          24.3,
          24.3,
          24.3,
          24.3,
          24.3,
          24.3,
          23.4,
          23.4,
          23.4,
          23.4,
          23.4,
          22.5,
          22.5,
          22.5,
          22.5,
          22.5,
          22.5,
          22.5,
          22.5,
          22.5,
          22.5,
          22.5,
          22.5,
          22.5,
          22.5,
          22.5,
          22.5,
          22.5,
          22.5,
          22.5,
          22.5,
          22.5,
          22.5,
          22.5,
          22.5,
          22.5,
          22.5,
          22.5,
          22.5,
          22.5,
          22.5,
          22.5,
          22.5,
          22.5,
          22.5,
          22.5,
          22.5,
          22.5,
          22.5,
          22.5,
          22.5,
          22.5,
          22.5,
          22.5,
          22.5,
          22.5,
          22.5,
          22.5,
          22.5,
          22.5,
          22.5,
          22.5,
          22.5,
          22.5,
          22.5,
          22.5,
          22.5,
          22.5,
          22.5,
          22.5,
          22.5,
          22.5,
          22.5,
          22.5,
          21.6,
          21.6,
          21.6,
          21.6,
          21.6,
          21.6,
          20.7,
          20.7,
          20.7,
          20.7,
          20.7,
          20.7,
          19.8,
          19.8,
          19.8,
          19.8,
          19.8,
          19.8,
          19.8,
          19.8,
          19.8,
          19.8,
          19.8,
          19.8,
          19.8,
          19.8,
          19.8,
          19.8,
          19.8,
          19.8,
          19.8,
          19.8,
          19.8,
          19.8,
          19.8,
          19.8,
          19.8,
          19.8,
          19.8,
          19.8,
          19.8,
          19.8,
          19.8,
          19.8,
          19.8,
          19.8,
          19.8,
          19.8,
          19.8,
          19.8,
          18.9,
          18.9,
          18,
          18,
          18,
          18,
          18,
          18,
          18,
          18,
          18,
          18,
          18,
          18,
          18,
          18,
          18,
          18,
          18,
          18,
          18,
          18,
          18,
          18,
          18,
          18,
          18,
          18,
          18,
          18,
          18,
          18,
          18,
          18,
          18,
          18,
          18,
          18,
          18,
          18,
          18,
          18,
          18,
          18,
          18,
          18,
          18,
          18,
          18,
          18,
          18,
          18,
          18,
          18,
          18,
          18,
          18,
          18,
          18,
          18,
          18,
          18,
          18,
          18,
          18,
          18,
          18,
          18,
          18,
          18,
          18,
          18,
          18,
          18,
          18,
          17.1,
          17.1,
          17.1,
          16.2,
          16.2,
          16.2,
          16.2,
          16.2,
          16.2,
          16.2,
          16.2,
          16.2,
          16.2,
          16.2,
          16.2,
          16.2,
          16.2,
          16.2,
          16.2,
          16.2,
          16.2,
          16.2,
          16.2,
          16.2,
          16.2,
          16.2,
          16.2,
          16.2,
          16.2,
          16.2,
          16.2,
          16.2,
          16.2,
          16.2,
          16.2,
          16.2,
          16.2,
          16.2,
          16.2,
          16.2
         ],
         "yaxis": "y"
        }
       ],
       "layout": {
        "coloraxis": {
         "colorbar": {
          "title": {
           "text": "Red Cards"
          }
         },
         "colorscale": [
          [
           0,
           "#0d0887"
          ],
          [
           0.1111111111111111,
           "#46039f"
          ],
          [
           0.2222222222222222,
           "#7201a8"
          ],
          [
           0.3333333333333333,
           "#9c179e"
          ],
          [
           0.4444444444444444,
           "#bd3786"
          ],
          [
           0.5555555555555556,
           "#d8576b"
          ],
          [
           0.6666666666666666,
           "#ed7953"
          ],
          [
           0.7777777777777778,
           "#fb9f3a"
          ],
          [
           0.8888888888888888,
           "#fdca26"
          ],
          [
           1,
           "#f0f921"
          ]
         ]
        },
        "height": 400,
        "legend": {
         "itemsizing": "constant",
         "tracegroupgap": 0
        },
        "margin": {
         "t": 60
        },
        "template": {
         "data": {
          "bar": [
           {
            "error_x": {
             "color": "#2a3f5f"
            },
            "error_y": {
             "color": "#2a3f5f"
            },
            "marker": {
             "line": {
              "color": "#E5ECF6",
              "width": 0.5
             },
             "pattern": {
              "fillmode": "overlay",
              "size": 10,
              "solidity": 0.2
             }
            },
            "type": "bar"
           }
          ],
          "barpolar": [
           {
            "marker": {
             "line": {
              "color": "#E5ECF6",
              "width": 0.5
             },
             "pattern": {
              "fillmode": "overlay",
              "size": 10,
              "solidity": 0.2
             }
            },
            "type": "barpolar"
           }
          ],
          "carpet": [
           {
            "aaxis": {
             "endlinecolor": "#2a3f5f",
             "gridcolor": "white",
             "linecolor": "white",
             "minorgridcolor": "white",
             "startlinecolor": "#2a3f5f"
            },
            "baxis": {
             "endlinecolor": "#2a3f5f",
             "gridcolor": "white",
             "linecolor": "white",
             "minorgridcolor": "white",
             "startlinecolor": "#2a3f5f"
            },
            "type": "carpet"
           }
          ],
          "choropleth": [
           {
            "colorbar": {
             "outlinewidth": 0,
             "ticks": ""
            },
            "type": "choropleth"
           }
          ],
          "contour": [
           {
            "colorbar": {
             "outlinewidth": 0,
             "ticks": ""
            },
            "colorscale": [
             [
              0,
              "#0d0887"
             ],
             [
              0.1111111111111111,
              "#46039f"
             ],
             [
              0.2222222222222222,
              "#7201a8"
             ],
             [
              0.3333333333333333,
              "#9c179e"
             ],
             [
              0.4444444444444444,
              "#bd3786"
             ],
             [
              0.5555555555555556,
              "#d8576b"
             ],
             [
              0.6666666666666666,
              "#ed7953"
             ],
             [
              0.7777777777777778,
              "#fb9f3a"
             ],
             [
              0.8888888888888888,
              "#fdca26"
             ],
             [
              1,
              "#f0f921"
             ]
            ],
            "type": "contour"
           }
          ],
          "contourcarpet": [
           {
            "colorbar": {
             "outlinewidth": 0,
             "ticks": ""
            },
            "type": "contourcarpet"
           }
          ],
          "heatmap": [
           {
            "colorbar": {
             "outlinewidth": 0,
             "ticks": ""
            },
            "colorscale": [
             [
              0,
              "#0d0887"
             ],
             [
              0.1111111111111111,
              "#46039f"
             ],
             [
              0.2222222222222222,
              "#7201a8"
             ],
             [
              0.3333333333333333,
              "#9c179e"
             ],
             [
              0.4444444444444444,
              "#bd3786"
             ],
             [
              0.5555555555555556,
              "#d8576b"
             ],
             [
              0.6666666666666666,
              "#ed7953"
             ],
             [
              0.7777777777777778,
              "#fb9f3a"
             ],
             [
              0.8888888888888888,
              "#fdca26"
             ],
             [
              1,
              "#f0f921"
             ]
            ],
            "type": "heatmap"
           }
          ],
          "heatmapgl": [
           {
            "colorbar": {
             "outlinewidth": 0,
             "ticks": ""
            },
            "colorscale": [
             [
              0,
              "#0d0887"
             ],
             [
              0.1111111111111111,
              "#46039f"
             ],
             [
              0.2222222222222222,
              "#7201a8"
             ],
             [
              0.3333333333333333,
              "#9c179e"
             ],
             [
              0.4444444444444444,
              "#bd3786"
             ],
             [
              0.5555555555555556,
              "#d8576b"
             ],
             [
              0.6666666666666666,
              "#ed7953"
             ],
             [
              0.7777777777777778,
              "#fb9f3a"
             ],
             [
              0.8888888888888888,
              "#fdca26"
             ],
             [
              1,
              "#f0f921"
             ]
            ],
            "type": "heatmapgl"
           }
          ],
          "histogram": [
           {
            "marker": {
             "pattern": {
              "fillmode": "overlay",
              "size": 10,
              "solidity": 0.2
             }
            },
            "type": "histogram"
           }
          ],
          "histogram2d": [
           {
            "colorbar": {
             "outlinewidth": 0,
             "ticks": ""
            },
            "colorscale": [
             [
              0,
              "#0d0887"
             ],
             [
              0.1111111111111111,
              "#46039f"
             ],
             [
              0.2222222222222222,
              "#7201a8"
             ],
             [
              0.3333333333333333,
              "#9c179e"
             ],
             [
              0.4444444444444444,
              "#bd3786"
             ],
             [
              0.5555555555555556,
              "#d8576b"
             ],
             [
              0.6666666666666666,
              "#ed7953"
             ],
             [
              0.7777777777777778,
              "#fb9f3a"
             ],
             [
              0.8888888888888888,
              "#fdca26"
             ],
             [
              1,
              "#f0f921"
             ]
            ],
            "type": "histogram2d"
           }
          ],
          "histogram2dcontour": [
           {
            "colorbar": {
             "outlinewidth": 0,
             "ticks": ""
            },
            "colorscale": [
             [
              0,
              "#0d0887"
             ],
             [
              0.1111111111111111,
              "#46039f"
             ],
             [
              0.2222222222222222,
              "#7201a8"
             ],
             [
              0.3333333333333333,
              "#9c179e"
             ],
             [
              0.4444444444444444,
              "#bd3786"
             ],
             [
              0.5555555555555556,
              "#d8576b"
             ],
             [
              0.6666666666666666,
              "#ed7953"
             ],
             [
              0.7777777777777778,
              "#fb9f3a"
             ],
             [
              0.8888888888888888,
              "#fdca26"
             ],
             [
              1,
              "#f0f921"
             ]
            ],
            "type": "histogram2dcontour"
           }
          ],
          "mesh3d": [
           {
            "colorbar": {
             "outlinewidth": 0,
             "ticks": ""
            },
            "type": "mesh3d"
           }
          ],
          "parcoords": [
           {
            "line": {
             "colorbar": {
              "outlinewidth": 0,
              "ticks": ""
             }
            },
            "type": "parcoords"
           }
          ],
          "pie": [
           {
            "automargin": true,
            "type": "pie"
           }
          ],
          "scatter": [
           {
            "fillpattern": {
             "fillmode": "overlay",
             "size": 10,
             "solidity": 0.2
            },
            "type": "scatter"
           }
          ],
          "scatter3d": [
           {
            "line": {
             "colorbar": {
              "outlinewidth": 0,
              "ticks": ""
             }
            },
            "marker": {
             "colorbar": {
              "outlinewidth": 0,
              "ticks": ""
             }
            },
            "type": "scatter3d"
           }
          ],
          "scattercarpet": [
           {
            "marker": {
             "colorbar": {
              "outlinewidth": 0,
              "ticks": ""
             }
            },
            "type": "scattercarpet"
           }
          ],
          "scattergeo": [
           {
            "marker": {
             "colorbar": {
              "outlinewidth": 0,
              "ticks": ""
             }
            },
            "type": "scattergeo"
           }
          ],
          "scattergl": [
           {
            "marker": {
             "colorbar": {
              "outlinewidth": 0,
              "ticks": ""
             }
            },
            "type": "scattergl"
           }
          ],
          "scattermapbox": [
           {
            "marker": {
             "colorbar": {
              "outlinewidth": 0,
              "ticks": ""
             }
            },
            "type": "scattermapbox"
           }
          ],
          "scatterpolar": [
           {
            "marker": {
             "colorbar": {
              "outlinewidth": 0,
              "ticks": ""
             }
            },
            "type": "scatterpolar"
           }
          ],
          "scatterpolargl": [
           {
            "marker": {
             "colorbar": {
              "outlinewidth": 0,
              "ticks": ""
             }
            },
            "type": "scatterpolargl"
           }
          ],
          "scatterternary": [
           {
            "marker": {
             "colorbar": {
              "outlinewidth": 0,
              "ticks": ""
             }
            },
            "type": "scatterternary"
           }
          ],
          "surface": [
           {
            "colorbar": {
             "outlinewidth": 0,
             "ticks": ""
            },
            "colorscale": [
             [
              0,
              "#0d0887"
             ],
             [
              0.1111111111111111,
              "#46039f"
             ],
             [
              0.2222222222222222,
              "#7201a8"
             ],
             [
              0.3333333333333333,
              "#9c179e"
             ],
             [
              0.4444444444444444,
              "#bd3786"
             ],
             [
              0.5555555555555556,
              "#d8576b"
             ],
             [
              0.6666666666666666,
              "#ed7953"
             ],
             [
              0.7777777777777778,
              "#fb9f3a"
             ],
             [
              0.8888888888888888,
              "#fdca26"
             ],
             [
              1,
              "#f0f921"
             ]
            ],
            "type": "surface"
           }
          ],
          "table": [
           {
            "cells": {
             "fill": {
              "color": "#EBF0F8"
             },
             "line": {
              "color": "white"
             }
            },
            "header": {
             "fill": {
              "color": "#C8D4E3"
             },
             "line": {
              "color": "white"
             }
            },
            "type": "table"
           }
          ]
         },
         "layout": {
          "annotationdefaults": {
           "arrowcolor": "#2a3f5f",
           "arrowhead": 0,
           "arrowwidth": 1
          },
          "autotypenumbers": "strict",
          "coloraxis": {
           "colorbar": {
            "outlinewidth": 0,
            "ticks": ""
           }
          },
          "colorscale": {
           "diverging": [
            [
             0,
             "#8e0152"
            ],
            [
             0.1,
             "#c51b7d"
            ],
            [
             0.2,
             "#de77ae"
            ],
            [
             0.3,
             "#f1b6da"
            ],
            [
             0.4,
             "#fde0ef"
            ],
            [
             0.5,
             "#f7f7f7"
            ],
            [
             0.6,
             "#e6f5d0"
            ],
            [
             0.7,
             "#b8e186"
            ],
            [
             0.8,
             "#7fbc41"
            ],
            [
             0.9,
             "#4d9221"
            ],
            [
             1,
             "#276419"
            ]
           ],
           "sequential": [
            [
             0,
             "#0d0887"
            ],
            [
             0.1111111111111111,
             "#46039f"
            ],
            [
             0.2222222222222222,
             "#7201a8"
            ],
            [
             0.3333333333333333,
             "#9c179e"
            ],
            [
             0.4444444444444444,
             "#bd3786"
            ],
            [
             0.5555555555555556,
             "#d8576b"
            ],
            [
             0.6666666666666666,
             "#ed7953"
            ],
            [
             0.7777777777777778,
             "#fb9f3a"
            ],
            [
             0.8888888888888888,
             "#fdca26"
            ],
            [
             1,
             "#f0f921"
            ]
           ],
           "sequentialminus": [
            [
             0,
             "#0d0887"
            ],
            [
             0.1111111111111111,
             "#46039f"
            ],
            [
             0.2222222222222222,
             "#7201a8"
            ],
            [
             0.3333333333333333,
             "#9c179e"
            ],
            [
             0.4444444444444444,
             "#bd3786"
            ],
            [
             0.5555555555555556,
             "#d8576b"
            ],
            [
             0.6666666666666666,
             "#ed7953"
            ],
            [
             0.7777777777777778,
             "#fb9f3a"
            ],
            [
             0.8888888888888888,
             "#fdca26"
            ],
            [
             1,
             "#f0f921"
            ]
           ]
          },
          "colorway": [
           "#636efa",
           "#EF553B",
           "#00cc96",
           "#ab63fa",
           "#FFA15A",
           "#19d3f3",
           "#FF6692",
           "#B6E880",
           "#FF97FF",
           "#FECB52"
          ],
          "font": {
           "color": "#2a3f5f"
          },
          "geo": {
           "bgcolor": "white",
           "lakecolor": "white",
           "landcolor": "#E5ECF6",
           "showlakes": true,
           "showland": true,
           "subunitcolor": "white"
          },
          "hoverlabel": {
           "align": "left"
          },
          "hovermode": "closest",
          "mapbox": {
           "style": "light"
          },
          "paper_bgcolor": "white",
          "plot_bgcolor": "#E5ECF6",
          "polar": {
           "angularaxis": {
            "gridcolor": "white",
            "linecolor": "white",
            "ticks": ""
           },
           "bgcolor": "#E5ECF6",
           "radialaxis": {
            "gridcolor": "white",
            "linecolor": "white",
            "ticks": ""
           }
          },
          "scene": {
           "xaxis": {
            "backgroundcolor": "#E5ECF6",
            "gridcolor": "white",
            "gridwidth": 2,
            "linecolor": "white",
            "showbackground": true,
            "ticks": "",
            "zerolinecolor": "white"
           },
           "yaxis": {
            "backgroundcolor": "#E5ECF6",
            "gridcolor": "white",
            "gridwidth": 2,
            "linecolor": "white",
            "showbackground": true,
            "ticks": "",
            "zerolinecolor": "white"
           },
           "zaxis": {
            "backgroundcolor": "#E5ECF6",
            "gridcolor": "white",
            "gridwidth": 2,
            "linecolor": "white",
            "showbackground": true,
            "ticks": "",
            "zerolinecolor": "white"
           }
          },
          "shapedefaults": {
           "line": {
            "color": "#2a3f5f"
           }
          },
          "ternary": {
           "aaxis": {
            "gridcolor": "white",
            "linecolor": "white",
            "ticks": ""
           },
           "baxis": {
            "gridcolor": "white",
            "linecolor": "white",
            "ticks": ""
           },
           "bgcolor": "#E5ECF6",
           "caxis": {
            "gridcolor": "white",
            "linecolor": "white",
            "ticks": ""
           }
          },
          "title": {
           "x": 0.05
          },
          "xaxis": {
           "automargin": true,
           "gridcolor": "white",
           "linecolor": "white",
           "ticks": "",
           "title": {
            "standoff": 15
           },
           "zerolinecolor": "white",
           "zerolinewidth": 2
          },
          "yaxis": {
           "automargin": true,
           "gridcolor": "white",
           "linecolor": "white",
           "ticks": "",
           "title": {
            "standoff": 15
           },
           "zerolinecolor": "white",
           "zerolinewidth": 2
          }
         }
        },
        "width": 500,
        "xaxis": {
         "anchor": "y",
         "domain": [
          0,
          1
         ],
         "title": {
          "text": "Age"
         }
        },
        "yaxis": {
         "anchor": "x",
         "domain": [
          0,
          1
         ],
         "title": {
          "text": "Markey Value In Millions(£)"
         }
        }
       }
      },
      "text/html": [
       "<div>                            <div id=\"6b344918-7f1b-435e-b80a-d13c0ccc17f1\" class=\"plotly-graph-div\" style=\"height:400px; width:500px;\"></div>            <script type=\"text/javascript\">                require([\"plotly\"], function(Plotly) {                    window.PLOTLYENV=window.PLOTLYENV || {};                                    if (document.getElementById(\"6b344918-7f1b-435e-b80a-d13c0ccc17f1\")) {                    Plotly.newPlot(                        \"6b344918-7f1b-435e-b80a-d13c0ccc17f1\",                        [{\"hovertemplate\":\"Age=%{x}<br>Markey Value In Millions(\\u00a3)=%{y}<br>Goals=%{marker.size}<br>Red Cards=%{marker.color}<extra></extra>\",\"legendgroup\":\"\",\"marker\":{\"color\":[0,0,0,0,0,0,0,0,0,0,0,0,0,0,0,0,0,0,0,0,0,0,0,0,0,0,0,1,0,0,0,0,0,0,0,0,0,0,0,0,0,0,0,0,0,0,0,0,0,1,0,0,0,0,0,0,0,0,1,0,0,0,0,0,0,0,0,0,0,0,0,0,0,0,0,0,0,0,0,0,0,0,0,0,0,0,0,0,0,0,0,1,0,0,1,0,1,0,0,0,0,0,0,0,0,0,1,0,0,0,0,0,0,0,0,0,0,0,0,0,1,0,0,0,0,0,0,0,0,0,0,0,0,0,0,0,0,0,0,0,0,0,0,0,0,0,0,0,0,0,0,0,0,0,0,0,0,0,0,0,0,0,0,1,0,0,0,1,0,0,0,0,1,0,0,0,0,0,0,0,0,0,0,0,0,0,0,0,0,0,0,0,0,0,0,0,0,0,1,0,0,0,0,0,0,0,0,0,0,0,0,0,0,0,0,0,0,0,0,0,0,0,0,0,0,0,0,0,0,0,0,0,0,0,0,0,0,0,0,0,1,0,0,0,0,0,0,0,0,1,0,0,0,0,0,0,0,0,0,0,0,0,0,0,0,0,0,0,0,1,0,0,0,0,0,0,0,0,0,0,0,0,0,0,0,1,0,0,0,0,0,0,0,0,0,0,0,0,0,0,0,0,0,0,0,0,0,0,0,0,0,0,1,0,0,1,0,0,0,0,0,0,0,0,0,0,0,0,0,0,0,0,0,0,0,0,0,0,0,0,0,0,0,0,0,0,0,0,0,0,0,0,0,0,0,0,0,0,0,0,0,0,0,0,0,0,0,0,0,0,0,0,0,0,0,0,0,0,0,0,1,0,0,0,0,0,0,0,0,0,0,0,0,0,0,0,1,0,0,0,0,0,0,0,0,0,0,0,0,1,0,0,0,0,0,0,0,0,0,0,0,0,0,0,0,0,0,0,0,0,0,0,0,0,0,0,0,0,0,0,0,0,0,0,0,0,0,0,0,0,0,0,0,0,0,0,0,0,0,0,0,0,0,0,0,0,0,0,0,1,0,0,0,0,0,0,0,0,0,0,0,0,0,0,0,0,0,0,0,0,0,0,0,1,0,0,0],\"coloraxis\":\"coloraxis\",\"size\":[7,13,7,2,15,4,3,3,0,0,5,3,2,3,8,5,0,5,5,0,3,1,0,1,3,1,0,3,3,1,6,3,1,4,4,3,0,8,2,0,0,7,2,0,0,1,0,4,0,9,4,0,0,0,0,1,3,8,0,0,0,0,23,2,2,2,3,2,1,2,2,0,0,0,1,4,4,1,3,9,12,1,1,1,0,0,0,0,6,3,1,5,1,5,2,11,4,2,3,5,3,1,3,3,8,0,1,6,4,4,3,1,2,6,2,1,0,8,0,0,0,0,3,0,1,5,1,5,3,0,1,0,0,3,0,1,2,5,3,3,2,1,0,2,6,2,2,1,5,3,2,11,9,0,0,6,1,8,2,2,3,5,1,2,0,0,0,0,1,1,0,3,0,0,2,2,2,1,1,5,2,0,8,1,0,1,3,1,4,8,5,1,0,2,3,0,3,2,2,1,1,0,5,0,0,3,0,1,0,0,1,3,0,0,2,0,0,1,0,0,4,4,0,2,2,0,2,2,0,0,1,2,2,0,1,4,6,2,1,0,0,1,6,0,2,0,1,0,1,3,0,8,0,2,0,1,4,2,2,0,0,14,0,4,0,0,1,1,0,0,0,0,4,3,3,0,11,1,0,0,6,5,1,9,2,0,0,1,5,2,7,0,0,2,0,4,2,4,2,0,6,0,0,2,9,2,2,3,0,0,0,3,2,0,0,9,1,2,1,0,1,0,1,2,1,0,2,3,0,7,0,14,3,3,8,1,0,1,0,6,4,3,1,4,1,0,0,3,3,7,1,1,0,0,5,1,0,0,1,3,3,1,2,0,3,12,0,0,2,0,2,1,1,0,0,0,2,3,0,4,0,3,2,4,4,15,8,0,2,8,0,0,15,2,4,0,0,0,0,1,0,3,1,1,1,7,4,0,0,0,2,1,0,1,0,0,0,0,0,3,0,0,0,0,2,1,0,0,0,1,0,4,0,4,0,0,2,0,2,2,0,2,0,2,0,0,4,4,0,0,1,2,1,1,1,2,2,0,0,1,0,0,2,0,6,1,4,0,0,0,4,0,1,0,0,5,1,4,7,1,1,3,0,0,1,0,0,0,0,3,0,2,0,1,0,0,3],\"sizemode\":\"area\",\"sizeref\":0.0575,\"symbol\":\"circle\"},\"mode\":\"markers\",\"name\":\"\",\"orientation\":\"v\",\"showlegend\":false,\"x\":[22,21,28,26,29,28,30,29,21,24,27,26,26,24,29,29,18,21,24,26,22,23,24,27,18,22,21,23,22,25,24,24,22,22,26,27,28,26,26,28,29,18,20,23,22,24,27,19,23,22,24,23,22,24,26,28,26,25,28,29,29,29,33,19,24,24,24,25,30,27,25,30,29,29,29,18,20,24,21,21,21,24,23,24,23,26,24,28,28,27,28,30,29,30,30,24,21,24,25,24,28,25,26,24,25,25,27,27,29,29,29,27,19,22,26,24,26,30,19,22,23,20,24,23,22,24,25,22,25,24,22,23,26,26,27,28,26,26,29,27,26,29,26,28,30,29,31,23,24,24,28,31,21,21,23,24,21,21,21,20,23,23,24,21,25,22,23,25,26,24,24,25,26,24,27,23,26,25,25,27,27,26,31,28,29,28,28,19,28,30,24,21,25,25,26,24,25,28,27,26,27,27,19,20,24,22,29,20,21,24,22,24,24,26,24,27,24,25,24,28,29,27,28,25,28,25,27,27,27,26,26,28,27,28,30,29,32,31,31,20,21,21,21,22,21,22,23,24,24,25,25,25,28,30,24,31,23,21,24,24,25,27,27,28,19,25,24,27,28,17,18,23,21,22,19,23,24,22,23,22,21,20,23,23,24,24,25,25,22,25,24,26,25,24,23,22,23,23,23,25,26,24,24,26,24,24,26,27,25,25,25,24,28,25,26,26,29,30,29,29,29,27,28,28,28,30,29,29,30,32,30,33,23,23,28,26,27,28,20,18,22,26,30,30,20,21,21,24,22,22,24,21,21,24,23,25,27,22,23,22,24,23,26,24,24,27,25,24,25,25,26,28,28,27,27,28,28,29,30,29,29,30,26,27,20,21,21,19,22,22,21,21,19,23,23,23,20,23,22,22,23,22,21,21,24,21,25,25,24,25,25,24,22,24,23,23,25,25,24,25,26,27,23,24,23,28,26,24,25,28,27,25,28,25,24,26,26,26,26,27,26,25,27,29,30,26,29,30,29,31,30,28,29,30,30,31,33,19,24,27,21,20,19,21,19,20,24,20,24,24,24,21,23,22,23,24,24,24,24,23,27,25,24,25,23,26,26,23,28,26,26,24,27,28,24,25,27],\"xaxis\":\"x\",\"y\":[144.0,135.0,108.0,90.0,90.0,90.0,90.0,90.0,81.0,81.0,81.0,81.0,81.0,76.5,76.5,76.5,72.0,72.0,72.0,72.0,67.5,67.5,67.5,67.5,63.0,63.0,63.0,63.0,63.0,63.0,63.0,63.0,63.0,63.0,63.0,63.0,63.0,63.0,63.0,63.0,63.0,58.5,58.5,58.5,58.5,58.5,58.5,54.0,54.0,54.0,54.0,54.0,54.0,54.0,54.0,54.0,54.0,54.0,54.0,54.0,54.0,54.0,54.0,49.5,49.5,49.5,49.5,49.5,49.5,49.5,49.5,49.5,49.5,49.5,49.5,45.0,45.0,45.0,45.0,45.0,45.0,45.0,45.0,45.0,45.0,45.0,45.0,45.0,45.0,45.0,45.0,45.0,45.0,43.2,43.2,42.3,40.5,40.5,40.5,40.5,40.5,40.5,40.5,40.5,40.5,40.5,40.5,40.5,40.5,40.5,40.5,40.5,37.8,37.8,37.8,37.8,37.8,37.8,36.0,36.0,36.0,36.0,36.0,36.0,36.0,36.0,36.0,36.0,36.0,36.0,36.0,36.0,36.0,36.0,36.0,36.0,36.0,36.0,36.0,36.0,36.0,36.0,36.0,36.0,36.0,36.0,36.0,34.2,34.2,34.2,34.2,34.2,31.5,31.5,31.5,31.5,31.5,31.5,31.5,31.5,31.5,31.5,31.5,31.5,31.5,31.5,31.5,31.5,31.5,31.5,31.5,31.5,31.5,31.5,31.5,31.5,31.5,31.5,31.5,31.5,31.5,31.5,31.5,31.5,31.5,31.5,31.5,29.7,29.7,29.7,28.8,28.8,28.8,28.8,28.8,28.8,28.8,28.8,28.8,28.8,28.8,28.8,27.0,27.0,27.0,27.0,27.0,27.0,27.0,27.0,27.0,27.0,27.0,27.0,27.0,27.0,27.0,27.0,27.0,27.0,27.0,27.0,27.0,27.0,27.0,27.0,27.0,27.0,27.0,27.0,27.0,27.0,27.0,27.0,27.0,27.0,27.0,27.0,27.0,25.2,25.2,25.2,25.2,25.2,25.2,25.2,25.2,25.2,25.2,25.2,25.2,25.2,25.2,25.2,25.2,25.2,24.3,24.3,24.3,24.3,24.3,24.3,24.3,24.3,23.4,23.4,23.4,23.4,23.4,22.5,22.5,22.5,22.5,22.5,22.5,22.5,22.5,22.5,22.5,22.5,22.5,22.5,22.5,22.5,22.5,22.5,22.5,22.5,22.5,22.5,22.5,22.5,22.5,22.5,22.5,22.5,22.5,22.5,22.5,22.5,22.5,22.5,22.5,22.5,22.5,22.5,22.5,22.5,22.5,22.5,22.5,22.5,22.5,22.5,22.5,22.5,22.5,22.5,22.5,22.5,22.5,22.5,22.5,22.5,22.5,22.5,22.5,22.5,22.5,22.5,22.5,22.5,21.6,21.6,21.6,21.6,21.6,21.6,20.7,20.7,20.7,20.7,20.7,20.7,19.8,19.8,19.8,19.8,19.8,19.8,19.8,19.8,19.8,19.8,19.8,19.8,19.8,19.8,19.8,19.8,19.8,19.8,19.8,19.8,19.8,19.8,19.8,19.8,19.8,19.8,19.8,19.8,19.8,19.8,19.8,19.8,19.8,19.8,19.8,19.8,19.8,19.8,18.9,18.9,18.0,18.0,18.0,18.0,18.0,18.0,18.0,18.0,18.0,18.0,18.0,18.0,18.0,18.0,18.0,18.0,18.0,18.0,18.0,18.0,18.0,18.0,18.0,18.0,18.0,18.0,18.0,18.0,18.0,18.0,18.0,18.0,18.0,18.0,18.0,18.0,18.0,18.0,18.0,18.0,18.0,18.0,18.0,18.0,18.0,18.0,18.0,18.0,18.0,18.0,18.0,18.0,18.0,18.0,18.0,18.0,18.0,18.0,18.0,18.0,18.0,18.0,18.0,18.0,18.0,18.0,18.0,18.0,18.0,18.0,18.0,18.0,18.0,17.1,17.1,17.1,16.2,16.2,16.2,16.2,16.2,16.2,16.2,16.2,16.2,16.2,16.2,16.2,16.2,16.2,16.2,16.2,16.2,16.2,16.2,16.2,16.2,16.2,16.2,16.2,16.2,16.2,16.2,16.2,16.2,16.2,16.2,16.2,16.2,16.2,16.2,16.2,16.2],\"yaxis\":\"y\",\"type\":\"scatter\"}],                        {\"template\":{\"data\":{\"histogram2dcontour\":[{\"type\":\"histogram2dcontour\",\"colorbar\":{\"outlinewidth\":0,\"ticks\":\"\"},\"colorscale\":[[0.0,\"#0d0887\"],[0.1111111111111111,\"#46039f\"],[0.2222222222222222,\"#7201a8\"],[0.3333333333333333,\"#9c179e\"],[0.4444444444444444,\"#bd3786\"],[0.5555555555555556,\"#d8576b\"],[0.6666666666666666,\"#ed7953\"],[0.7777777777777778,\"#fb9f3a\"],[0.8888888888888888,\"#fdca26\"],[1.0,\"#f0f921\"]]}],\"choropleth\":[{\"type\":\"choropleth\",\"colorbar\":{\"outlinewidth\":0,\"ticks\":\"\"}}],\"histogram2d\":[{\"type\":\"histogram2d\",\"colorbar\":{\"outlinewidth\":0,\"ticks\":\"\"},\"colorscale\":[[0.0,\"#0d0887\"],[0.1111111111111111,\"#46039f\"],[0.2222222222222222,\"#7201a8\"],[0.3333333333333333,\"#9c179e\"],[0.4444444444444444,\"#bd3786\"],[0.5555555555555556,\"#d8576b\"],[0.6666666666666666,\"#ed7953\"],[0.7777777777777778,\"#fb9f3a\"],[0.8888888888888888,\"#fdca26\"],[1.0,\"#f0f921\"]]}],\"heatmap\":[{\"type\":\"heatmap\",\"colorbar\":{\"outlinewidth\":0,\"ticks\":\"\"},\"colorscale\":[[0.0,\"#0d0887\"],[0.1111111111111111,\"#46039f\"],[0.2222222222222222,\"#7201a8\"],[0.3333333333333333,\"#9c179e\"],[0.4444444444444444,\"#bd3786\"],[0.5555555555555556,\"#d8576b\"],[0.6666666666666666,\"#ed7953\"],[0.7777777777777778,\"#fb9f3a\"],[0.8888888888888888,\"#fdca26\"],[1.0,\"#f0f921\"]]}],\"heatmapgl\":[{\"type\":\"heatmapgl\",\"colorbar\":{\"outlinewidth\":0,\"ticks\":\"\"},\"colorscale\":[[0.0,\"#0d0887\"],[0.1111111111111111,\"#46039f\"],[0.2222222222222222,\"#7201a8\"],[0.3333333333333333,\"#9c179e\"],[0.4444444444444444,\"#bd3786\"],[0.5555555555555556,\"#d8576b\"],[0.6666666666666666,\"#ed7953\"],[0.7777777777777778,\"#fb9f3a\"],[0.8888888888888888,\"#fdca26\"],[1.0,\"#f0f921\"]]}],\"contourcarpet\":[{\"type\":\"contourcarpet\",\"colorbar\":{\"outlinewidth\":0,\"ticks\":\"\"}}],\"contour\":[{\"type\":\"contour\",\"colorbar\":{\"outlinewidth\":0,\"ticks\":\"\"},\"colorscale\":[[0.0,\"#0d0887\"],[0.1111111111111111,\"#46039f\"],[0.2222222222222222,\"#7201a8\"],[0.3333333333333333,\"#9c179e\"],[0.4444444444444444,\"#bd3786\"],[0.5555555555555556,\"#d8576b\"],[0.6666666666666666,\"#ed7953\"],[0.7777777777777778,\"#fb9f3a\"],[0.8888888888888888,\"#fdca26\"],[1.0,\"#f0f921\"]]}],\"surface\":[{\"type\":\"surface\",\"colorbar\":{\"outlinewidth\":0,\"ticks\":\"\"},\"colorscale\":[[0.0,\"#0d0887\"],[0.1111111111111111,\"#46039f\"],[0.2222222222222222,\"#7201a8\"],[0.3333333333333333,\"#9c179e\"],[0.4444444444444444,\"#bd3786\"],[0.5555555555555556,\"#d8576b\"],[0.6666666666666666,\"#ed7953\"],[0.7777777777777778,\"#fb9f3a\"],[0.8888888888888888,\"#fdca26\"],[1.0,\"#f0f921\"]]}],\"mesh3d\":[{\"type\":\"mesh3d\",\"colorbar\":{\"outlinewidth\":0,\"ticks\":\"\"}}],\"scatter\":[{\"fillpattern\":{\"fillmode\":\"overlay\",\"size\":10,\"solidity\":0.2},\"type\":\"scatter\"}],\"parcoords\":[{\"type\":\"parcoords\",\"line\":{\"colorbar\":{\"outlinewidth\":0,\"ticks\":\"\"}}}],\"scatterpolargl\":[{\"type\":\"scatterpolargl\",\"marker\":{\"colorbar\":{\"outlinewidth\":0,\"ticks\":\"\"}}}],\"bar\":[{\"error_x\":{\"color\":\"#2a3f5f\"},\"error_y\":{\"color\":\"#2a3f5f\"},\"marker\":{\"line\":{\"color\":\"#E5ECF6\",\"width\":0.5},\"pattern\":{\"fillmode\":\"overlay\",\"size\":10,\"solidity\":0.2}},\"type\":\"bar\"}],\"scattergeo\":[{\"type\":\"scattergeo\",\"marker\":{\"colorbar\":{\"outlinewidth\":0,\"ticks\":\"\"}}}],\"scatterpolar\":[{\"type\":\"scatterpolar\",\"marker\":{\"colorbar\":{\"outlinewidth\":0,\"ticks\":\"\"}}}],\"histogram\":[{\"marker\":{\"pattern\":{\"fillmode\":\"overlay\",\"size\":10,\"solidity\":0.2}},\"type\":\"histogram\"}],\"scattergl\":[{\"type\":\"scattergl\",\"marker\":{\"colorbar\":{\"outlinewidth\":0,\"ticks\":\"\"}}}],\"scatter3d\":[{\"type\":\"scatter3d\",\"line\":{\"colorbar\":{\"outlinewidth\":0,\"ticks\":\"\"}},\"marker\":{\"colorbar\":{\"outlinewidth\":0,\"ticks\":\"\"}}}],\"scattermapbox\":[{\"type\":\"scattermapbox\",\"marker\":{\"colorbar\":{\"outlinewidth\":0,\"ticks\":\"\"}}}],\"scatterternary\":[{\"type\":\"scatterternary\",\"marker\":{\"colorbar\":{\"outlinewidth\":0,\"ticks\":\"\"}}}],\"scattercarpet\":[{\"type\":\"scattercarpet\",\"marker\":{\"colorbar\":{\"outlinewidth\":0,\"ticks\":\"\"}}}],\"carpet\":[{\"aaxis\":{\"endlinecolor\":\"#2a3f5f\",\"gridcolor\":\"white\",\"linecolor\":\"white\",\"minorgridcolor\":\"white\",\"startlinecolor\":\"#2a3f5f\"},\"baxis\":{\"endlinecolor\":\"#2a3f5f\",\"gridcolor\":\"white\",\"linecolor\":\"white\",\"minorgridcolor\":\"white\",\"startlinecolor\":\"#2a3f5f\"},\"type\":\"carpet\"}],\"table\":[{\"cells\":{\"fill\":{\"color\":\"#EBF0F8\"},\"line\":{\"color\":\"white\"}},\"header\":{\"fill\":{\"color\":\"#C8D4E3\"},\"line\":{\"color\":\"white\"}},\"type\":\"table\"}],\"barpolar\":[{\"marker\":{\"line\":{\"color\":\"#E5ECF6\",\"width\":0.5},\"pattern\":{\"fillmode\":\"overlay\",\"size\":10,\"solidity\":0.2}},\"type\":\"barpolar\"}],\"pie\":[{\"automargin\":true,\"type\":\"pie\"}]},\"layout\":{\"autotypenumbers\":\"strict\",\"colorway\":[\"#636efa\",\"#EF553B\",\"#00cc96\",\"#ab63fa\",\"#FFA15A\",\"#19d3f3\",\"#FF6692\",\"#B6E880\",\"#FF97FF\",\"#FECB52\"],\"font\":{\"color\":\"#2a3f5f\"},\"hovermode\":\"closest\",\"hoverlabel\":{\"align\":\"left\"},\"paper_bgcolor\":\"white\",\"plot_bgcolor\":\"#E5ECF6\",\"polar\":{\"bgcolor\":\"#E5ECF6\",\"angularaxis\":{\"gridcolor\":\"white\",\"linecolor\":\"white\",\"ticks\":\"\"},\"radialaxis\":{\"gridcolor\":\"white\",\"linecolor\":\"white\",\"ticks\":\"\"}},\"ternary\":{\"bgcolor\":\"#E5ECF6\",\"aaxis\":{\"gridcolor\":\"white\",\"linecolor\":\"white\",\"ticks\":\"\"},\"baxis\":{\"gridcolor\":\"white\",\"linecolor\":\"white\",\"ticks\":\"\"},\"caxis\":{\"gridcolor\":\"white\",\"linecolor\":\"white\",\"ticks\":\"\"}},\"coloraxis\":{\"colorbar\":{\"outlinewidth\":0,\"ticks\":\"\"}},\"colorscale\":{\"sequential\":[[0.0,\"#0d0887\"],[0.1111111111111111,\"#46039f\"],[0.2222222222222222,\"#7201a8\"],[0.3333333333333333,\"#9c179e\"],[0.4444444444444444,\"#bd3786\"],[0.5555555555555556,\"#d8576b\"],[0.6666666666666666,\"#ed7953\"],[0.7777777777777778,\"#fb9f3a\"],[0.8888888888888888,\"#fdca26\"],[1.0,\"#f0f921\"]],\"sequentialminus\":[[0.0,\"#0d0887\"],[0.1111111111111111,\"#46039f\"],[0.2222222222222222,\"#7201a8\"],[0.3333333333333333,\"#9c179e\"],[0.4444444444444444,\"#bd3786\"],[0.5555555555555556,\"#d8576b\"],[0.6666666666666666,\"#ed7953\"],[0.7777777777777778,\"#fb9f3a\"],[0.8888888888888888,\"#fdca26\"],[1.0,\"#f0f921\"]],\"diverging\":[[0,\"#8e0152\"],[0.1,\"#c51b7d\"],[0.2,\"#de77ae\"],[0.3,\"#f1b6da\"],[0.4,\"#fde0ef\"],[0.5,\"#f7f7f7\"],[0.6,\"#e6f5d0\"],[0.7,\"#b8e186\"],[0.8,\"#7fbc41\"],[0.9,\"#4d9221\"],[1,\"#276419\"]]},\"xaxis\":{\"gridcolor\":\"white\",\"linecolor\":\"white\",\"ticks\":\"\",\"title\":{\"standoff\":15},\"zerolinecolor\":\"white\",\"automargin\":true,\"zerolinewidth\":2},\"yaxis\":{\"gridcolor\":\"white\",\"linecolor\":\"white\",\"ticks\":\"\",\"title\":{\"standoff\":15},\"zerolinecolor\":\"white\",\"automargin\":true,\"zerolinewidth\":2},\"scene\":{\"xaxis\":{\"backgroundcolor\":\"#E5ECF6\",\"gridcolor\":\"white\",\"linecolor\":\"white\",\"showbackground\":true,\"ticks\":\"\",\"zerolinecolor\":\"white\",\"gridwidth\":2},\"yaxis\":{\"backgroundcolor\":\"#E5ECF6\",\"gridcolor\":\"white\",\"linecolor\":\"white\",\"showbackground\":true,\"ticks\":\"\",\"zerolinecolor\":\"white\",\"gridwidth\":2},\"zaxis\":{\"backgroundcolor\":\"#E5ECF6\",\"gridcolor\":\"white\",\"linecolor\":\"white\",\"showbackground\":true,\"ticks\":\"\",\"zerolinecolor\":\"white\",\"gridwidth\":2}},\"shapedefaults\":{\"line\":{\"color\":\"#2a3f5f\"}},\"annotationdefaults\":{\"arrowcolor\":\"#2a3f5f\",\"arrowhead\":0,\"arrowwidth\":1},\"geo\":{\"bgcolor\":\"white\",\"landcolor\":\"#E5ECF6\",\"subunitcolor\":\"white\",\"showland\":true,\"showlakes\":true,\"lakecolor\":\"white\"},\"title\":{\"x\":0.05},\"mapbox\":{\"style\":\"light\"}}},\"xaxis\":{\"anchor\":\"y\",\"domain\":[0.0,1.0],\"title\":{\"text\":\"Age\"}},\"yaxis\":{\"anchor\":\"x\",\"domain\":[0.0,1.0],\"title\":{\"text\":\"Markey Value In Millions(\\u00a3)\"}},\"coloraxis\":{\"colorbar\":{\"title\":{\"text\":\"Red Cards\"}},\"colorscale\":[[0.0,\"#0d0887\"],[0.1111111111111111,\"#46039f\"],[0.2222222222222222,\"#7201a8\"],[0.3333333333333333,\"#9c179e\"],[0.4444444444444444,\"#bd3786\"],[0.5555555555555556,\"#d8576b\"],[0.6666666666666666,\"#ed7953\"],[0.7777777777777778,\"#fb9f3a\"],[0.8888888888888888,\"#fdca26\"],[1.0,\"#f0f921\"]]},\"legend\":{\"tracegroupgap\":0,\"itemsizing\":\"constant\"},\"margin\":{\"t\":60},\"height\":400,\"width\":500},                        {\"responsive\": true}                    ).then(function(){\n",
       "                            \n",
       "var gd = document.getElementById('6b344918-7f1b-435e-b80a-d13c0ccc17f1');\n",
       "var x = new MutationObserver(function (mutations, observer) {{\n",
       "        var display = window.getComputedStyle(gd).display;\n",
       "        if (!display || display === 'none') {{\n",
       "            console.log([gd, 'removed!']);\n",
       "            Plotly.purge(gd);\n",
       "            observer.disconnect();\n",
       "        }}\n",
       "}});\n",
       "\n",
       "// Listen for the removal of the full notebook cells\n",
       "var notebookContainer = gd.closest('#notebook-container');\n",
       "if (notebookContainer) {{\n",
       "    x.observe(notebookContainer, {childList: true});\n",
       "}}\n",
       "\n",
       "// Listen for the clearing of the current output cell\n",
       "var outputEl = gd.closest('.output');\n",
       "if (outputEl) {{\n",
       "    x.observe(outputEl, {childList: true});\n",
       "}}\n",
       "\n",
       "                        })                };                });            </script>        </div>"
      ]
     },
     "metadata": {},
     "output_type": "display_data"
    }
   ],
   "source": [
    "px.scatter(data,x='Age' , y='Markey Value In Millions(£)',size='Goals',\n",
    "           color='Red Cards',width=500, height=400)"
   ]
  },
  {
   "cell_type": "code",
   "execution_count": 326,
   "id": "e2848131",
   "metadata": {},
   "outputs": [
    {
     "data": {
      "application/vnd.plotly.v1+json": {
       "config": {
        "plotlyServerURL": "https://plot.ly"
       },
       "data": [
        {
         "alignmentgroup": "True",
         "hovertemplate": "Red Cards=0<br>Position=%{x}<br>Assists=%{y}<extra></extra>",
         "legendgroup": "0",
         "marker": {
          "color": "#636efa"
         },
         "name": "0",
         "notched": false,
         "offsetgroup": "0",
         "orientation": "v",
         "showlegend": true,
         "type": "box",
         "x": [
          "Centre-Forward",
          "Centre-Forward",
          "Centre-Forward",
          "Left Winger",
          "Right Winger",
          "Centre-Forward",
          "Attacking Midfield",
          "Left Winger",
          "Left Winger",
          "Central Midfield",
          "Attacking Midfield",
          "Defensive Midfield",
          "Left Winger",
          "Left Winger",
          "Left Winger",
          "Left Winger",
          "Central Midfield",
          "Central Midfield",
          "Centre-Forward",
          "Central Midfield",
          "Attacking Midfield",
          "Right-Back",
          "Centre-Back",
          "Centre-Back",
          "Central Midfield",
          "Second Striker",
          "Left-Back",
          "Defensive Midfield",
          "Defensive Midfield",
          "Left Winger",
          "Right Winger",
          "Centre-Back",
          "Attacking Midfield",
          "Central Midfield",
          "Attacking Midfield",
          "Centre-Back",
          "Right Winger",
          "Central Midfield",
          "Goalkeeper",
          "Defensive Midfield",
          "Attacking Midfield",
          "Left Midfield",
          "Central Midfield",
          "Goalkeeper",
          "Central Midfield",
          "Left-Back",
          "Left Winger",
          "Centre-Back",
          "Centre-Forward",
          "Centre-Back",
          "Centre-Back",
          "Defensive Midfield",
          "Centre-Back",
          "Defensive Midfield",
          "Centre-Back",
          "Left Winger",
          "Goalkeeper",
          "Goalkeeper",
          "Central Midfield",
          "Centre-Forward",
          "Central Midfield",
          "Centre-Forward",
          "Central Midfield",
          "Central Midfield",
          "Right Winger",
          "Defensive Midfield",
          "Right-Back",
          "Centre-Forward",
          "Centre-Back",
          "Central Midfield",
          "Goalkeeper",
          "Centre-Back",
          "Attacking Midfield",
          "Right Winger",
          "Centre-Back",
          "Right Winger",
          "Left Winger",
          "Centre-Forward",
          "Left-Back",
          "Right Winger",
          "Attacking Midfield",
          "Attacking Midfield",
          "Left-Back",
          "Right Winger",
          "Goalkeeper",
          "Second Striker",
          "Attacking Midfield",
          "Centre-Back",
          "Centre-Back",
          "Left Winger",
          "Attacking Midfield",
          "Central Midfield",
          "Central Midfield",
          "Left Winger",
          "Centre-Back",
          "Centre-Back",
          "Right Winger",
          "Centre-Forward",
          "Central Midfield",
          "Centre-Back",
          "Centre-Forward",
          "Left Winger",
          "Centre-Forward",
          "Defensive Midfield",
          "Central Midfield",
          "Attacking Midfield",
          "Left Winger",
          "Defensive Midfield",
          "Defensive Midfield",
          "Left-Back",
          "Right Winger",
          "Left-Back",
          "Centre-Back",
          "Centre-Back",
          "Centre-Forward",
          "Centre-Back",
          "Right Winger",
          "Central Midfield",
          "Defensive Midfield",
          "Centre-Forward",
          "Central Midfield",
          "Centre-Back",
          "Attacking Midfield",
          "Centre-Back",
          "Centre-Back",
          "Second Striker",
          "Central Midfield",
          "Defensive Midfield",
          "Attacking Midfield",
          "Centre-Forward",
          "Centre-Forward",
          "Left-Back",
          "Central Midfield",
          "Defensive Midfield",
          "Central Midfield",
          "Left Winger",
          "Centre-Forward",
          "Central Midfield",
          "Central Midfield",
          "Defensive Midfield",
          "Centre-Forward",
          "Left-Back",
          "Attacking Midfield",
          "Centre-Forward",
          "Centre-Forward",
          "Left Winger",
          "Defensive Midfield",
          "Attacking Midfield",
          "Right Winger",
          "Centre-Forward",
          "Defensive Midfield",
          "Right Winger",
          "Left Midfield",
          "Central Midfield",
          "Left Winger",
          "Central Midfield",
          "Centre-Back",
          "Centre-Back",
          "Right Winger",
          "Right Winger",
          "Defensive Midfield",
          "Right Winger",
          "Left-Back",
          "Left Midfield",
          "Defensive Midfield",
          "Left-Back",
          "Centre-Back",
          "Centre-Forward",
          "Right Winger",
          "Centre-Forward",
          "Centre-Back",
          "Centre-Forward",
          "Left-Back",
          "Goalkeeper",
          "Centre-Back",
          "Centre-Forward",
          "Central Midfield",
          "Central Midfield",
          "Centre-Forward",
          "Right Winger",
          "Right Winger",
          "Centre-Back",
          "Centre-Forward",
          "Central Midfield",
          "Left-Back",
          "Centre-Forward",
          "Left Winger",
          "Centre-Back",
          "Centre-Back",
          "Central Midfield",
          "Right Winger",
          "Left Winger",
          "Central Midfield",
          "Centre-Forward",
          "Goalkeeper",
          "Central Midfield",
          "Right-Back",
          "Central Midfield",
          "Centre-Forward",
          "Right Winger",
          "Attacking Midfield",
          "Centre-Back",
          "Left Winger",
          "Central Midfield",
          "Central Midfield",
          "Centre-Back",
          "Centre-Back",
          "Centre-Back",
          "Centre-Forward",
          "Second Striker",
          "Right-Back",
          "Attacking Midfield",
          "Attacking Midfield",
          "Right Winger",
          "Central Midfield",
          "Left Winger",
          "Centre-Back",
          "Central Midfield",
          "Defensive Midfield",
          "Right Winger",
          "Central Midfield",
          "Right Midfield",
          "Centre-Forward",
          "Centre-Forward",
          "Second Striker",
          "Central Midfield",
          "Central Midfield",
          "Centre-Back",
          "Defensive Midfield",
          "Attacking Midfield",
          "Centre-Back",
          "Centre-Back",
          "Defensive Midfield",
          "Centre-Back",
          "Left Winger",
          "Central Midfield",
          "Right-Back",
          "Centre-Forward",
          "Right-Back",
          "Centre-Forward",
          "Left-Back",
          "Right-Back",
          "Right Winger",
          "Defensive Midfield",
          "Defensive Midfield",
          "Central Midfield",
          "Right-Back",
          "Centre-Forward",
          "Centre-Back",
          "Left Winger",
          "Right Winger",
          "Centre-Forward",
          "Central Midfield",
          "Defensive Midfield",
          "Left-Back",
          "Central Midfield",
          "Right Midfield",
          "Right Winger",
          "Centre-Back",
          "Centre-Forward",
          "Centre-Back",
          "Left Midfield",
          "Centre-Back",
          "Left-Back",
          "Right-Back",
          "Left Winger",
          "Centre-Forward",
          "Centre-Back",
          "Right Winger",
          "Centre-Back",
          "Central Midfield",
          "Centre-Forward",
          "Left Winger",
          "Attacking Midfield",
          "Left Winger",
          "Defensive Midfield",
          "Centre-Back",
          "Right-Back",
          "Centre-Back",
          "Left Winger",
          "Central Midfield",
          "Right Midfield",
          "Right Winger",
          "Left Winger",
          "Left Winger",
          "Central Midfield",
          "Left-Back",
          "Centre-Back",
          "Right Winger",
          "Right-Back",
          "Right Winger",
          "Centre-Forward",
          "Centre-Back",
          "Left-Back",
          "Centre-Back",
          "Left Winger",
          "Centre-Back",
          "Goalkeeper",
          "Centre-Back",
          "Centre-Back",
          "Central Midfield",
          "Centre-Back",
          "Right-Back",
          "Goalkeeper",
          "Centre-Back",
          "Central Midfield",
          "Centre-Back",
          "Centre-Back",
          "Right Winger",
          "Right Winger",
          "Central Midfield",
          "Centre-Forward",
          "Left Winger",
          "Centre-Forward",
          "Left Winger",
          "Central Midfield",
          "Right Winger",
          "Attacking Midfield",
          "Centre-Back",
          "Right-Back",
          "Centre-Back",
          "Attacking Midfield",
          "Attacking Midfield",
          "Central Midfield",
          "Defensive Midfield",
          "Second Striker",
          "Left Winger",
          "Left Winger",
          "Right-Back",
          "Right Winger",
          "Central Midfield",
          "Left Winger",
          "Right-Back",
          "Right Winger",
          "Centre-Back",
          "Centre-Forward",
          "Centre-Forward",
          "Central Midfield",
          "Defensive Midfield",
          "Central Midfield",
          "Left Midfield",
          "Attacking Midfield",
          "Right Winger",
          "Defensive Midfield",
          "Left-Back",
          "Left Winger",
          "Centre-Forward",
          "Centre-Forward",
          "Centre-Back",
          "Goalkeeper",
          "Left Winger",
          "Centre-Back",
          "Left-Back",
          "Central Midfield",
          "Centre-Forward",
          "Centre-Back",
          "Defensive Midfield",
          "Centre-Back",
          "Attacking Midfield",
          "Centre-Forward",
          "Central Midfield",
          "Centre-Forward",
          "Centre-Forward",
          "Defensive Midfield",
          "Centre-Forward",
          "Attacking Midfield",
          "Centre-Forward",
          "Attacking Midfield",
          "Defensive Midfield",
          "Right-Back",
          "Centre-Forward",
          "Goalkeeper",
          "Left Winger",
          "Centre-Forward",
          "Central Midfield",
          "Centre-Forward",
          "Attacking Midfield",
          "Goalkeeper",
          "Defensive Midfield",
          "Right Winger",
          "Right-Back",
          "Left Winger",
          "Centre-Back",
          "Attacking Midfield",
          "Attacking Midfield",
          "Right Winger",
          "Attacking Midfield",
          "Left-Back",
          "Centre-Back",
          "Centre-Forward",
          "Central Midfield",
          "Defensive Midfield",
          "Attacking Midfield",
          "Right-Back",
          "Attacking Midfield",
          "Central Midfield",
          "Right Midfield",
          "Central Midfield",
          "Centre-Forward",
          "Central Midfield",
          "Centre-Back",
          "Left Midfield",
          "Goalkeeper",
          "Centre-Forward",
          "Left-Back",
          "Centre-Back",
          "Right-Back",
          "Defensive Midfield",
          "Centre-Back",
          "Goalkeeper",
          "Centre-Forward",
          "Central Midfield",
          "Centre-Forward",
          "Left Winger",
          "Goalkeeper",
          "Central Midfield",
          "Centre-Back",
          "Defensive Midfield",
          "Centre-Forward",
          "Right-Back",
          "Attacking Midfield",
          "Defensive Midfield",
          "Left Midfield",
          "Right-Back",
          "Right Winger",
          "Right Winger",
          "Left Winger",
          "Right Winger",
          "Right-Back",
          "Attacking Midfield",
          "Left Winger",
          "Attacking Midfield",
          "Left-Back",
          "Attacking Midfield",
          "Central Midfield",
          "Right Winger",
          "Centre-Back",
          "Right-Back",
          "Central Midfield",
          "Centre-Back",
          "Left-Back",
          "Right Winger",
          "Right-Back",
          "Right Winger",
          "Left Winger",
          "Central Midfield",
          "Centre-Back",
          "Centre-Back",
          "Central Midfield",
          "Left Midfield",
          "Centre-Back",
          "Right Winger",
          "Central Midfield",
          "Right Winger",
          "Right-Back",
          "Right-Back",
          "Centre-Forward",
          "Defensive Midfield",
          "Right Midfield",
          "Left Winger",
          "Left Winger",
          "Defensive Midfield",
          "Central Midfield",
          "Defensive Midfield",
          "Goalkeeper",
          "Goalkeeper",
          "Defensive Midfield",
          "Right Winger",
          "Centre-Back",
          "Centre-Forward",
          "Attacking Midfield",
          "Goalkeeper",
          "Centre-Back",
          "Centre-Back"
         ],
         "x0": " ",
         "xaxis": "x",
         "y": [
          11,
          4,
          2,
          3,
          6,
          1,
          1,
          3,
          0,
          2,
          8,
          4,
          2,
          0,
          0,
          2,
          0,
          4,
          1,
          0,
          2,
          7,
          2,
          1,
          7,
          2,
          5,
          3,
          0,
          1,
          2,
          0,
          2,
          4,
          1,
          1,
          4,
          2,
          0,
          1,
          7,
          2,
          1,
          0,
          6,
          2,
          1,
          0,
          5,
          4,
          1,
          0,
          0,
          1,
          0,
          10,
          0,
          0,
          1,
          2,
          1,
          1,
          0,
          3,
          1,
          0,
          5,
          1,
          1,
          0,
          0,
          3,
          4,
          1,
          0,
          1,
          7,
          3,
          3,
          0,
          1,
          1,
          0,
          0,
          0,
          4,
          2,
          0,
          0,
          4,
          7,
          0,
          3,
          3,
          0,
          0,
          3,
          0,
          3,
          0,
          2,
          1,
          1,
          1,
          5,
          1,
          4,
          1,
          0,
          2,
          2,
          1,
          0,
          0,
          2,
          0,
          2,
          2,
          1,
          1,
          2,
          0,
          1,
          0,
          0,
          3,
          2,
          0,
          2,
          5,
          1,
          0,
          1,
          2,
          1,
          2,
          1,
          4,
          2,
          1,
          2,
          0,
          1,
          2,
          0,
          0,
          2,
          3,
          1,
          6,
          0,
          1,
          2,
          2,
          2,
          0,
          0,
          0,
          3,
          1,
          0,
          1,
          4,
          1,
          2,
          2,
          0,
          0,
          3,
          0,
          1,
          3,
          0,
          0,
          1,
          0,
          1,
          3,
          5,
          0,
          2,
          0,
          0,
          1,
          0,
          3,
          2,
          0,
          0,
          0,
          5,
          3,
          5,
          2,
          0,
          4,
          3,
          3,
          2,
          5,
          1,
          0,
          3,
          1,
          1,
          0,
          0,
          1,
          1,
          0,
          2,
          1,
          1,
          0,
          1,
          1,
          0,
          1,
          3,
          4,
          3,
          2,
          1,
          4,
          12,
          1,
          0,
          0,
          0,
          2,
          1,
          0,
          1,
          1,
          0,
          0,
          0,
          2,
          0,
          2,
          0,
          0,
          0,
          7,
          1,
          1,
          1,
          5,
          0,
          0,
          0,
          0,
          0,
          0,
          0,
          0,
          0,
          6,
          0,
          5,
          3,
          2,
          0,
          1,
          0,
          3,
          4,
          0,
          1,
          0,
          1,
          1,
          3,
          1,
          2,
          0,
          0,
          1,
          0,
          6,
          0,
          0,
          0,
          0,
          3,
          0,
          2,
          0,
          2,
          1,
          1,
          1,
          0,
          1,
          0,
          4,
          1,
          0,
          0,
          0,
          0,
          0,
          0,
          0,
          0,
          4,
          2,
          0,
          1,
          3,
          1,
          2,
          1,
          8,
          2,
          0,
          3,
          5,
          2,
          1,
          2,
          3,
          2,
          5,
          0,
          6,
          1,
          1,
          0,
          1,
          3,
          8,
          1,
          0,
          0,
          0,
          1,
          1,
          2,
          0,
          0,
          1,
          5,
          0,
          1,
          1,
          0,
          0,
          0,
          0,
          1,
          1,
          3,
          0,
          3,
          0,
          0,
          0,
          1,
          2,
          1,
          0,
          1,
          0,
          3,
          4,
          6,
          6,
          1,
          2,
          2,
          0,
          0,
          2,
          2,
          4,
          0,
          0,
          1,
          0,
          3,
          2,
          0,
          2,
          1,
          2,
          2,
          2,
          2,
          1,
          2,
          0,
          0,
          0,
          0,
          0,
          1,
          1,
          5,
          0,
          0,
          1,
          0,
          1,
          0,
          0,
          0,
          1,
          0,
          0,
          1,
          1,
          0,
          3,
          0,
          1,
          0,
          4,
          0,
          1,
          3,
          0,
          5,
          1,
          0,
          2,
          1,
          1,
          0,
          1,
          2,
          0,
          1,
          3,
          2,
          3,
          2,
          0,
          2,
          0,
          2,
          1,
          0,
          1,
          2,
          2,
          0,
          3,
          1,
          0,
          0,
          2,
          0,
          0,
          1,
          3,
          6,
          0,
          0,
          4,
          1,
          0,
          1,
          0,
          0,
          0,
          1,
          1,
          0,
          2,
          0,
          0,
          0,
          1
         ],
         "y0": " ",
         "yaxis": "y"
        },
        {
         "alignmentgroup": "True",
         "hovertemplate": "Red Cards=1<br>Position=%{x}<br>Assists=%{y}<extra></extra>",
         "legendgroup": "1",
         "marker": {
          "color": "#EF553B"
         },
         "name": "1",
         "notched": false,
         "offsetgroup": "1",
         "orientation": "v",
         "showlegend": true,
         "type": "box",
         "x": [
          "Right-Back",
          "Centre-Forward",
          "Central Midfield",
          "Second Striker",
          "Centre-Back",
          "Right-Back",
          "Centre-Back",
          "Right-Back",
          "Centre-Forward",
          "Right-Back",
          "Centre-Back",
          "Central Midfield",
          "Centre-Back",
          "Attacking Midfield",
          "Central Midfield",
          "Centre-Back",
          "Attacking Midfield",
          "Centre-Forward",
          "Defensive Midfield",
          "Centre-Back",
          "Centre-Back",
          "Centre-Back",
          "Second Striker"
         ],
         "x0": " ",
         "xaxis": "x",
         "y": [
          2,
          2,
          7,
          1,
          1,
          4,
          0,
          0,
          0,
          1,
          1,
          2,
          0,
          3,
          1,
          0,
          3,
          4,
          0,
          0,
          0,
          0,
          3
         ],
         "y0": " ",
         "yaxis": "y"
        }
       ],
       "layout": {
        "boxmode": "group",
        "height": 400,
        "legend": {
         "title": {
          "text": "Red Cards"
         },
         "tracegroupgap": 0
        },
        "margin": {
         "t": 60
        },
        "template": {
         "data": {
          "bar": [
           {
            "error_x": {
             "color": "#2a3f5f"
            },
            "error_y": {
             "color": "#2a3f5f"
            },
            "marker": {
             "line": {
              "color": "#E5ECF6",
              "width": 0.5
             },
             "pattern": {
              "fillmode": "overlay",
              "size": 10,
              "solidity": 0.2
             }
            },
            "type": "bar"
           }
          ],
          "barpolar": [
           {
            "marker": {
             "line": {
              "color": "#E5ECF6",
              "width": 0.5
             },
             "pattern": {
              "fillmode": "overlay",
              "size": 10,
              "solidity": 0.2
             }
            },
            "type": "barpolar"
           }
          ],
          "carpet": [
           {
            "aaxis": {
             "endlinecolor": "#2a3f5f",
             "gridcolor": "white",
             "linecolor": "white",
             "minorgridcolor": "white",
             "startlinecolor": "#2a3f5f"
            },
            "baxis": {
             "endlinecolor": "#2a3f5f",
             "gridcolor": "white",
             "linecolor": "white",
             "minorgridcolor": "white",
             "startlinecolor": "#2a3f5f"
            },
            "type": "carpet"
           }
          ],
          "choropleth": [
           {
            "colorbar": {
             "outlinewidth": 0,
             "ticks": ""
            },
            "type": "choropleth"
           }
          ],
          "contour": [
           {
            "colorbar": {
             "outlinewidth": 0,
             "ticks": ""
            },
            "colorscale": [
             [
              0,
              "#0d0887"
             ],
             [
              0.1111111111111111,
              "#46039f"
             ],
             [
              0.2222222222222222,
              "#7201a8"
             ],
             [
              0.3333333333333333,
              "#9c179e"
             ],
             [
              0.4444444444444444,
              "#bd3786"
             ],
             [
              0.5555555555555556,
              "#d8576b"
             ],
             [
              0.6666666666666666,
              "#ed7953"
             ],
             [
              0.7777777777777778,
              "#fb9f3a"
             ],
             [
              0.8888888888888888,
              "#fdca26"
             ],
             [
              1,
              "#f0f921"
             ]
            ],
            "type": "contour"
           }
          ],
          "contourcarpet": [
           {
            "colorbar": {
             "outlinewidth": 0,
             "ticks": ""
            },
            "type": "contourcarpet"
           }
          ],
          "heatmap": [
           {
            "colorbar": {
             "outlinewidth": 0,
             "ticks": ""
            },
            "colorscale": [
             [
              0,
              "#0d0887"
             ],
             [
              0.1111111111111111,
              "#46039f"
             ],
             [
              0.2222222222222222,
              "#7201a8"
             ],
             [
              0.3333333333333333,
              "#9c179e"
             ],
             [
              0.4444444444444444,
              "#bd3786"
             ],
             [
              0.5555555555555556,
              "#d8576b"
             ],
             [
              0.6666666666666666,
              "#ed7953"
             ],
             [
              0.7777777777777778,
              "#fb9f3a"
             ],
             [
              0.8888888888888888,
              "#fdca26"
             ],
             [
              1,
              "#f0f921"
             ]
            ],
            "type": "heatmap"
           }
          ],
          "heatmapgl": [
           {
            "colorbar": {
             "outlinewidth": 0,
             "ticks": ""
            },
            "colorscale": [
             [
              0,
              "#0d0887"
             ],
             [
              0.1111111111111111,
              "#46039f"
             ],
             [
              0.2222222222222222,
              "#7201a8"
             ],
             [
              0.3333333333333333,
              "#9c179e"
             ],
             [
              0.4444444444444444,
              "#bd3786"
             ],
             [
              0.5555555555555556,
              "#d8576b"
             ],
             [
              0.6666666666666666,
              "#ed7953"
             ],
             [
              0.7777777777777778,
              "#fb9f3a"
             ],
             [
              0.8888888888888888,
              "#fdca26"
             ],
             [
              1,
              "#f0f921"
             ]
            ],
            "type": "heatmapgl"
           }
          ],
          "histogram": [
           {
            "marker": {
             "pattern": {
              "fillmode": "overlay",
              "size": 10,
              "solidity": 0.2
             }
            },
            "type": "histogram"
           }
          ],
          "histogram2d": [
           {
            "colorbar": {
             "outlinewidth": 0,
             "ticks": ""
            },
            "colorscale": [
             [
              0,
              "#0d0887"
             ],
             [
              0.1111111111111111,
              "#46039f"
             ],
             [
              0.2222222222222222,
              "#7201a8"
             ],
             [
              0.3333333333333333,
              "#9c179e"
             ],
             [
              0.4444444444444444,
              "#bd3786"
             ],
             [
              0.5555555555555556,
              "#d8576b"
             ],
             [
              0.6666666666666666,
              "#ed7953"
             ],
             [
              0.7777777777777778,
              "#fb9f3a"
             ],
             [
              0.8888888888888888,
              "#fdca26"
             ],
             [
              1,
              "#f0f921"
             ]
            ],
            "type": "histogram2d"
           }
          ],
          "histogram2dcontour": [
           {
            "colorbar": {
             "outlinewidth": 0,
             "ticks": ""
            },
            "colorscale": [
             [
              0,
              "#0d0887"
             ],
             [
              0.1111111111111111,
              "#46039f"
             ],
             [
              0.2222222222222222,
              "#7201a8"
             ],
             [
              0.3333333333333333,
              "#9c179e"
             ],
             [
              0.4444444444444444,
              "#bd3786"
             ],
             [
              0.5555555555555556,
              "#d8576b"
             ],
             [
              0.6666666666666666,
              "#ed7953"
             ],
             [
              0.7777777777777778,
              "#fb9f3a"
             ],
             [
              0.8888888888888888,
              "#fdca26"
             ],
             [
              1,
              "#f0f921"
             ]
            ],
            "type": "histogram2dcontour"
           }
          ],
          "mesh3d": [
           {
            "colorbar": {
             "outlinewidth": 0,
             "ticks": ""
            },
            "type": "mesh3d"
           }
          ],
          "parcoords": [
           {
            "line": {
             "colorbar": {
              "outlinewidth": 0,
              "ticks": ""
             }
            },
            "type": "parcoords"
           }
          ],
          "pie": [
           {
            "automargin": true,
            "type": "pie"
           }
          ],
          "scatter": [
           {
            "fillpattern": {
             "fillmode": "overlay",
             "size": 10,
             "solidity": 0.2
            },
            "type": "scatter"
           }
          ],
          "scatter3d": [
           {
            "line": {
             "colorbar": {
              "outlinewidth": 0,
              "ticks": ""
             }
            },
            "marker": {
             "colorbar": {
              "outlinewidth": 0,
              "ticks": ""
             }
            },
            "type": "scatter3d"
           }
          ],
          "scattercarpet": [
           {
            "marker": {
             "colorbar": {
              "outlinewidth": 0,
              "ticks": ""
             }
            },
            "type": "scattercarpet"
           }
          ],
          "scattergeo": [
           {
            "marker": {
             "colorbar": {
              "outlinewidth": 0,
              "ticks": ""
             }
            },
            "type": "scattergeo"
           }
          ],
          "scattergl": [
           {
            "marker": {
             "colorbar": {
              "outlinewidth": 0,
              "ticks": ""
             }
            },
            "type": "scattergl"
           }
          ],
          "scattermapbox": [
           {
            "marker": {
             "colorbar": {
              "outlinewidth": 0,
              "ticks": ""
             }
            },
            "type": "scattermapbox"
           }
          ],
          "scatterpolar": [
           {
            "marker": {
             "colorbar": {
              "outlinewidth": 0,
              "ticks": ""
             }
            },
            "type": "scatterpolar"
           }
          ],
          "scatterpolargl": [
           {
            "marker": {
             "colorbar": {
              "outlinewidth": 0,
              "ticks": ""
             }
            },
            "type": "scatterpolargl"
           }
          ],
          "scatterternary": [
           {
            "marker": {
             "colorbar": {
              "outlinewidth": 0,
              "ticks": ""
             }
            },
            "type": "scatterternary"
           }
          ],
          "surface": [
           {
            "colorbar": {
             "outlinewidth": 0,
             "ticks": ""
            },
            "colorscale": [
             [
              0,
              "#0d0887"
             ],
             [
              0.1111111111111111,
              "#46039f"
             ],
             [
              0.2222222222222222,
              "#7201a8"
             ],
             [
              0.3333333333333333,
              "#9c179e"
             ],
             [
              0.4444444444444444,
              "#bd3786"
             ],
             [
              0.5555555555555556,
              "#d8576b"
             ],
             [
              0.6666666666666666,
              "#ed7953"
             ],
             [
              0.7777777777777778,
              "#fb9f3a"
             ],
             [
              0.8888888888888888,
              "#fdca26"
             ],
             [
              1,
              "#f0f921"
             ]
            ],
            "type": "surface"
           }
          ],
          "table": [
           {
            "cells": {
             "fill": {
              "color": "#EBF0F8"
             },
             "line": {
              "color": "white"
             }
            },
            "header": {
             "fill": {
              "color": "#C8D4E3"
             },
             "line": {
              "color": "white"
             }
            },
            "type": "table"
           }
          ]
         },
         "layout": {
          "annotationdefaults": {
           "arrowcolor": "#2a3f5f",
           "arrowhead": 0,
           "arrowwidth": 1
          },
          "autotypenumbers": "strict",
          "coloraxis": {
           "colorbar": {
            "outlinewidth": 0,
            "ticks": ""
           }
          },
          "colorscale": {
           "diverging": [
            [
             0,
             "#8e0152"
            ],
            [
             0.1,
             "#c51b7d"
            ],
            [
             0.2,
             "#de77ae"
            ],
            [
             0.3,
             "#f1b6da"
            ],
            [
             0.4,
             "#fde0ef"
            ],
            [
             0.5,
             "#f7f7f7"
            ],
            [
             0.6,
             "#e6f5d0"
            ],
            [
             0.7,
             "#b8e186"
            ],
            [
             0.8,
             "#7fbc41"
            ],
            [
             0.9,
             "#4d9221"
            ],
            [
             1,
             "#276419"
            ]
           ],
           "sequential": [
            [
             0,
             "#0d0887"
            ],
            [
             0.1111111111111111,
             "#46039f"
            ],
            [
             0.2222222222222222,
             "#7201a8"
            ],
            [
             0.3333333333333333,
             "#9c179e"
            ],
            [
             0.4444444444444444,
             "#bd3786"
            ],
            [
             0.5555555555555556,
             "#d8576b"
            ],
            [
             0.6666666666666666,
             "#ed7953"
            ],
            [
             0.7777777777777778,
             "#fb9f3a"
            ],
            [
             0.8888888888888888,
             "#fdca26"
            ],
            [
             1,
             "#f0f921"
            ]
           ],
           "sequentialminus": [
            [
             0,
             "#0d0887"
            ],
            [
             0.1111111111111111,
             "#46039f"
            ],
            [
             0.2222222222222222,
             "#7201a8"
            ],
            [
             0.3333333333333333,
             "#9c179e"
            ],
            [
             0.4444444444444444,
             "#bd3786"
            ],
            [
             0.5555555555555556,
             "#d8576b"
            ],
            [
             0.6666666666666666,
             "#ed7953"
            ],
            [
             0.7777777777777778,
             "#fb9f3a"
            ],
            [
             0.8888888888888888,
             "#fdca26"
            ],
            [
             1,
             "#f0f921"
            ]
           ]
          },
          "colorway": [
           "#636efa",
           "#EF553B",
           "#00cc96",
           "#ab63fa",
           "#FFA15A",
           "#19d3f3",
           "#FF6692",
           "#B6E880",
           "#FF97FF",
           "#FECB52"
          ],
          "font": {
           "color": "#2a3f5f"
          },
          "geo": {
           "bgcolor": "white",
           "lakecolor": "white",
           "landcolor": "#E5ECF6",
           "showlakes": true,
           "showland": true,
           "subunitcolor": "white"
          },
          "hoverlabel": {
           "align": "left"
          },
          "hovermode": "closest",
          "mapbox": {
           "style": "light"
          },
          "paper_bgcolor": "white",
          "plot_bgcolor": "#E5ECF6",
          "polar": {
           "angularaxis": {
            "gridcolor": "white",
            "linecolor": "white",
            "ticks": ""
           },
           "bgcolor": "#E5ECF6",
           "radialaxis": {
            "gridcolor": "white",
            "linecolor": "white",
            "ticks": ""
           }
          },
          "scene": {
           "xaxis": {
            "backgroundcolor": "#E5ECF6",
            "gridcolor": "white",
            "gridwidth": 2,
            "linecolor": "white",
            "showbackground": true,
            "ticks": "",
            "zerolinecolor": "white"
           },
           "yaxis": {
            "backgroundcolor": "#E5ECF6",
            "gridcolor": "white",
            "gridwidth": 2,
            "linecolor": "white",
            "showbackground": true,
            "ticks": "",
            "zerolinecolor": "white"
           },
           "zaxis": {
            "backgroundcolor": "#E5ECF6",
            "gridcolor": "white",
            "gridwidth": 2,
            "linecolor": "white",
            "showbackground": true,
            "ticks": "",
            "zerolinecolor": "white"
           }
          },
          "shapedefaults": {
           "line": {
            "color": "#2a3f5f"
           }
          },
          "ternary": {
           "aaxis": {
            "gridcolor": "white",
            "linecolor": "white",
            "ticks": ""
           },
           "baxis": {
            "gridcolor": "white",
            "linecolor": "white",
            "ticks": ""
           },
           "bgcolor": "#E5ECF6",
           "caxis": {
            "gridcolor": "white",
            "linecolor": "white",
            "ticks": ""
           }
          },
          "title": {
           "x": 0.05
          },
          "xaxis": {
           "automargin": true,
           "gridcolor": "white",
           "linecolor": "white",
           "ticks": "",
           "title": {
            "standoff": 15
           },
           "zerolinecolor": "white",
           "zerolinewidth": 2
          },
          "yaxis": {
           "automargin": true,
           "gridcolor": "white",
           "linecolor": "white",
           "ticks": "",
           "title": {
            "standoff": 15
           },
           "zerolinecolor": "white",
           "zerolinewidth": 2
          }
         }
        },
        "width": 500,
        "xaxis": {
         "anchor": "y",
         "domain": [
          0,
          1
         ],
         "title": {
          "text": "Position"
         }
        },
        "yaxis": {
         "anchor": "x",
         "domain": [
          0,
          1
         ],
         "title": {
          "text": "Assists"
         }
        }
       }
      },
      "text/html": [
       "<div>                            <div id=\"b1b0c8c6-cede-4d64-a584-d028dd446996\" class=\"plotly-graph-div\" style=\"height:400px; width:500px;\"></div>            <script type=\"text/javascript\">                require([\"plotly\"], function(Plotly) {                    window.PLOTLYENV=window.PLOTLYENV || {};                                    if (document.getElementById(\"b1b0c8c6-cede-4d64-a584-d028dd446996\")) {                    Plotly.newPlot(                        \"b1b0c8c6-cede-4d64-a584-d028dd446996\",                        [{\"alignmentgroup\":\"True\",\"hovertemplate\":\"Red Cards=0<br>Position=%{x}<br>Assists=%{y}<extra></extra>\",\"legendgroup\":\"0\",\"marker\":{\"color\":\"#636efa\"},\"name\":\"0\",\"notched\":false,\"offsetgroup\":\"0\",\"orientation\":\"v\",\"showlegend\":true,\"x\":[\"Centre-Forward\",\"Centre-Forward\",\"Centre-Forward\",\"Left Winger\",\"Right Winger\",\"Centre-Forward\",\"Attacking Midfield\",\"Left Winger\",\"Left Winger\",\"Central Midfield\",\"Attacking Midfield\",\"Defensive Midfield\",\"Left Winger\",\"Left Winger\",\"Left Winger\",\"Left Winger\",\"Central Midfield\",\"Central Midfield\",\"Centre-Forward\",\"Central Midfield\",\"Attacking Midfield\",\"Right-Back\",\"Centre-Back\",\"Centre-Back\",\"Central Midfield\",\"Second Striker\",\"Left-Back\",\"Defensive Midfield\",\"Defensive Midfield\",\"Left Winger\",\"Right Winger\",\"Centre-Back\",\"Attacking Midfield\",\"Central Midfield\",\"Attacking Midfield\",\"Centre-Back\",\"Right Winger\",\"Central Midfield\",\"Goalkeeper\",\"Defensive Midfield\",\"Attacking Midfield\",\"Left Midfield\",\"Central Midfield\",\"Goalkeeper\",\"Central Midfield\",\"Left-Back\",\"Left Winger\",\"Centre-Back\",\"Centre-Forward\",\"Centre-Back\",\"Centre-Back\",\"Defensive Midfield\",\"Centre-Back\",\"Defensive Midfield\",\"Centre-Back\",\"Left Winger\",\"Goalkeeper\",\"Goalkeeper\",\"Central Midfield\",\"Centre-Forward\",\"Central Midfield\",\"Centre-Forward\",\"Central Midfield\",\"Central Midfield\",\"Right Winger\",\"Defensive Midfield\",\"Right-Back\",\"Centre-Forward\",\"Centre-Back\",\"Central Midfield\",\"Goalkeeper\",\"Centre-Back\",\"Attacking Midfield\",\"Right Winger\",\"Centre-Back\",\"Right Winger\",\"Left Winger\",\"Centre-Forward\",\"Left-Back\",\"Right Winger\",\"Attacking Midfield\",\"Attacking Midfield\",\"Left-Back\",\"Right Winger\",\"Goalkeeper\",\"Second Striker\",\"Attacking Midfield\",\"Centre-Back\",\"Centre-Back\",\"Left Winger\",\"Attacking Midfield\",\"Central Midfield\",\"Central Midfield\",\"Left Winger\",\"Centre-Back\",\"Centre-Back\",\"Right Winger\",\"Centre-Forward\",\"Central Midfield\",\"Centre-Back\",\"Centre-Forward\",\"Left Winger\",\"Centre-Forward\",\"Defensive Midfield\",\"Central Midfield\",\"Attacking Midfield\",\"Left Winger\",\"Defensive Midfield\",\"Defensive Midfield\",\"Left-Back\",\"Right Winger\",\"Left-Back\",\"Centre-Back\",\"Centre-Back\",\"Centre-Forward\",\"Centre-Back\",\"Right Winger\",\"Central Midfield\",\"Defensive Midfield\",\"Centre-Forward\",\"Central Midfield\",\"Centre-Back\",\"Attacking Midfield\",\"Centre-Back\",\"Centre-Back\",\"Second Striker\",\"Central Midfield\",\"Defensive Midfield\",\"Attacking Midfield\",\"Centre-Forward\",\"Centre-Forward\",\"Left-Back\",\"Central Midfield\",\"Defensive Midfield\",\"Central Midfield\",\"Left Winger\",\"Centre-Forward\",\"Central Midfield\",\"Central Midfield\",\"Defensive Midfield\",\"Centre-Forward\",\"Left-Back\",\"Attacking Midfield\",\"Centre-Forward\",\"Centre-Forward\",\"Left Winger\",\"Defensive Midfield\",\"Attacking Midfield\",\"Right Winger\",\"Centre-Forward\",\"Defensive Midfield\",\"Right Winger\",\"Left Midfield\",\"Central Midfield\",\"Left Winger\",\"Central Midfield\",\"Centre-Back\",\"Centre-Back\",\"Right Winger\",\"Right Winger\",\"Defensive Midfield\",\"Right Winger\",\"Left-Back\",\"Left Midfield\",\"Defensive Midfield\",\"Left-Back\",\"Centre-Back\",\"Centre-Forward\",\"Right Winger\",\"Centre-Forward\",\"Centre-Back\",\"Centre-Forward\",\"Left-Back\",\"Goalkeeper\",\"Centre-Back\",\"Centre-Forward\",\"Central Midfield\",\"Central Midfield\",\"Centre-Forward\",\"Right Winger\",\"Right Winger\",\"Centre-Back\",\"Centre-Forward\",\"Central Midfield\",\"Left-Back\",\"Centre-Forward\",\"Left Winger\",\"Centre-Back\",\"Centre-Back\",\"Central Midfield\",\"Right Winger\",\"Left Winger\",\"Central Midfield\",\"Centre-Forward\",\"Goalkeeper\",\"Central Midfield\",\"Right-Back\",\"Central Midfield\",\"Centre-Forward\",\"Right Winger\",\"Attacking Midfield\",\"Centre-Back\",\"Left Winger\",\"Central Midfield\",\"Central Midfield\",\"Centre-Back\",\"Centre-Back\",\"Centre-Back\",\"Centre-Forward\",\"Second Striker\",\"Right-Back\",\"Attacking Midfield\",\"Attacking Midfield\",\"Right Winger\",\"Central Midfield\",\"Left Winger\",\"Centre-Back\",\"Central Midfield\",\"Defensive Midfield\",\"Right Winger\",\"Central Midfield\",\"Right Midfield\",\"Centre-Forward\",\"Centre-Forward\",\"Second Striker\",\"Central Midfield\",\"Central Midfield\",\"Centre-Back\",\"Defensive Midfield\",\"Attacking Midfield\",\"Centre-Back\",\"Centre-Back\",\"Defensive Midfield\",\"Centre-Back\",\"Left Winger\",\"Central Midfield\",\"Right-Back\",\"Centre-Forward\",\"Right-Back\",\"Centre-Forward\",\"Left-Back\",\"Right-Back\",\"Right Winger\",\"Defensive Midfield\",\"Defensive Midfield\",\"Central Midfield\",\"Right-Back\",\"Centre-Forward\",\"Centre-Back\",\"Left Winger\",\"Right Winger\",\"Centre-Forward\",\"Central Midfield\",\"Defensive Midfield\",\"Left-Back\",\"Central Midfield\",\"Right Midfield\",\"Right Winger\",\"Centre-Back\",\"Centre-Forward\",\"Centre-Back\",\"Left Midfield\",\"Centre-Back\",\"Left-Back\",\"Right-Back\",\"Left Winger\",\"Centre-Forward\",\"Centre-Back\",\"Right Winger\",\"Centre-Back\",\"Central Midfield\",\"Centre-Forward\",\"Left Winger\",\"Attacking Midfield\",\"Left Winger\",\"Defensive Midfield\",\"Centre-Back\",\"Right-Back\",\"Centre-Back\",\"Left Winger\",\"Central Midfield\",\"Right Midfield\",\"Right Winger\",\"Left Winger\",\"Left Winger\",\"Central Midfield\",\"Left-Back\",\"Centre-Back\",\"Right Winger\",\"Right-Back\",\"Right Winger\",\"Centre-Forward\",\"Centre-Back\",\"Left-Back\",\"Centre-Back\",\"Left Winger\",\"Centre-Back\",\"Goalkeeper\",\"Centre-Back\",\"Centre-Back\",\"Central Midfield\",\"Centre-Back\",\"Right-Back\",\"Goalkeeper\",\"Centre-Back\",\"Central Midfield\",\"Centre-Back\",\"Centre-Back\",\"Right Winger\",\"Right Winger\",\"Central Midfield\",\"Centre-Forward\",\"Left Winger\",\"Centre-Forward\",\"Left Winger\",\"Central Midfield\",\"Right Winger\",\"Attacking Midfield\",\"Centre-Back\",\"Right-Back\",\"Centre-Back\",\"Attacking Midfield\",\"Attacking Midfield\",\"Central Midfield\",\"Defensive Midfield\",\"Second Striker\",\"Left Winger\",\"Left Winger\",\"Right-Back\",\"Right Winger\",\"Central Midfield\",\"Left Winger\",\"Right-Back\",\"Right Winger\",\"Centre-Back\",\"Centre-Forward\",\"Centre-Forward\",\"Central Midfield\",\"Defensive Midfield\",\"Central Midfield\",\"Left Midfield\",\"Attacking Midfield\",\"Right Winger\",\"Defensive Midfield\",\"Left-Back\",\"Left Winger\",\"Centre-Forward\",\"Centre-Forward\",\"Centre-Back\",\"Goalkeeper\",\"Left Winger\",\"Centre-Back\",\"Left-Back\",\"Central Midfield\",\"Centre-Forward\",\"Centre-Back\",\"Defensive Midfield\",\"Centre-Back\",\"Attacking Midfield\",\"Centre-Forward\",\"Central Midfield\",\"Centre-Forward\",\"Centre-Forward\",\"Defensive Midfield\",\"Centre-Forward\",\"Attacking Midfield\",\"Centre-Forward\",\"Attacking Midfield\",\"Defensive Midfield\",\"Right-Back\",\"Centre-Forward\",\"Goalkeeper\",\"Left Winger\",\"Centre-Forward\",\"Central Midfield\",\"Centre-Forward\",\"Attacking Midfield\",\"Goalkeeper\",\"Defensive Midfield\",\"Right Winger\",\"Right-Back\",\"Left Winger\",\"Centre-Back\",\"Attacking Midfield\",\"Attacking Midfield\",\"Right Winger\",\"Attacking Midfield\",\"Left-Back\",\"Centre-Back\",\"Centre-Forward\",\"Central Midfield\",\"Defensive Midfield\",\"Attacking Midfield\",\"Right-Back\",\"Attacking Midfield\",\"Central Midfield\",\"Right Midfield\",\"Central Midfield\",\"Centre-Forward\",\"Central Midfield\",\"Centre-Back\",\"Left Midfield\",\"Goalkeeper\",\"Centre-Forward\",\"Left-Back\",\"Centre-Back\",\"Right-Back\",\"Defensive Midfield\",\"Centre-Back\",\"Goalkeeper\",\"Centre-Forward\",\"Central Midfield\",\"Centre-Forward\",\"Left Winger\",\"Goalkeeper\",\"Central Midfield\",\"Centre-Back\",\"Defensive Midfield\",\"Centre-Forward\",\"Right-Back\",\"Attacking Midfield\",\"Defensive Midfield\",\"Left Midfield\",\"Right-Back\",\"Right Winger\",\"Right Winger\",\"Left Winger\",\"Right Winger\",\"Right-Back\",\"Attacking Midfield\",\"Left Winger\",\"Attacking Midfield\",\"Left-Back\",\"Attacking Midfield\",\"Central Midfield\",\"Right Winger\",\"Centre-Back\",\"Right-Back\",\"Central Midfield\",\"Centre-Back\",\"Left-Back\",\"Right Winger\",\"Right-Back\",\"Right Winger\",\"Left Winger\",\"Central Midfield\",\"Centre-Back\",\"Centre-Back\",\"Central Midfield\",\"Left Midfield\",\"Centre-Back\",\"Right Winger\",\"Central Midfield\",\"Right Winger\",\"Right-Back\",\"Right-Back\",\"Centre-Forward\",\"Defensive Midfield\",\"Right Midfield\",\"Left Winger\",\"Left Winger\",\"Defensive Midfield\",\"Central Midfield\",\"Defensive Midfield\",\"Goalkeeper\",\"Goalkeeper\",\"Defensive Midfield\",\"Right Winger\",\"Centre-Back\",\"Centre-Forward\",\"Attacking Midfield\",\"Goalkeeper\",\"Centre-Back\",\"Centre-Back\"],\"x0\":\" \",\"xaxis\":\"x\",\"y\":[11,4,2,3,6,1,1,3,0,2,8,4,2,0,0,2,0,4,1,0,2,7,2,1,7,2,5,3,0,1,2,0,2,4,1,1,4,2,0,1,7,2,1,0,6,2,1,0,5,4,1,0,0,1,0,10,0,0,1,2,1,1,0,3,1,0,5,1,1,0,0,3,4,1,0,1,7,3,3,0,1,1,0,0,0,4,2,0,0,4,7,0,3,3,0,0,3,0,3,0,2,1,1,1,5,1,4,1,0,2,2,1,0,0,2,0,2,2,1,1,2,0,1,0,0,3,2,0,2,5,1,0,1,2,1,2,1,4,2,1,2,0,1,2,0,0,2,3,1,6,0,1,2,2,2,0,0,0,3,1,0,1,4,1,2,2,0,0,3,0,1,3,0,0,1,0,1,3,5,0,2,0,0,1,0,3,2,0,0,0,5,3,5,2,0,4,3,3,2,5,1,0,3,1,1,0,0,1,1,0,2,1,1,0,1,1,0,1,3,4,3,2,1,4,12,1,0,0,0,2,1,0,1,1,0,0,0,2,0,2,0,0,0,7,1,1,1,5,0,0,0,0,0,0,0,0,0,6,0,5,3,2,0,1,0,3,4,0,1,0,1,1,3,1,2,0,0,1,0,6,0,0,0,0,3,0,2,0,2,1,1,1,0,1,0,4,1,0,0,0,0,0,0,0,0,4,2,0,1,3,1,2,1,8,2,0,3,5,2,1,2,3,2,5,0,6,1,1,0,1,3,8,1,0,0,0,1,1,2,0,0,1,5,0,1,1,0,0,0,0,1,1,3,0,3,0,0,0,1,2,1,0,1,0,3,4,6,6,1,2,2,0,0,2,2,4,0,0,1,0,3,2,0,2,1,2,2,2,2,1,2,0,0,0,0,0,1,1,5,0,0,1,0,1,0,0,0,1,0,0,1,1,0,3,0,1,0,4,0,1,3,0,5,1,0,2,1,1,0,1,2,0,1,3,2,3,2,0,2,0,2,1,0,1,2,2,0,3,1,0,0,2,0,0,1,3,6,0,0,4,1,0,1,0,0,0,1,1,0,2,0,0,0,1],\"y0\":\" \",\"yaxis\":\"y\",\"type\":\"box\"},{\"alignmentgroup\":\"True\",\"hovertemplate\":\"Red Cards=1<br>Position=%{x}<br>Assists=%{y}<extra></extra>\",\"legendgroup\":\"1\",\"marker\":{\"color\":\"#EF553B\"},\"name\":\"1\",\"notched\":false,\"offsetgroup\":\"1\",\"orientation\":\"v\",\"showlegend\":true,\"x\":[\"Right-Back\",\"Centre-Forward\",\"Central Midfield\",\"Second Striker\",\"Centre-Back\",\"Right-Back\",\"Centre-Back\",\"Right-Back\",\"Centre-Forward\",\"Right-Back\",\"Centre-Back\",\"Central Midfield\",\"Centre-Back\",\"Attacking Midfield\",\"Central Midfield\",\"Centre-Back\",\"Attacking Midfield\",\"Centre-Forward\",\"Defensive Midfield\",\"Centre-Back\",\"Centre-Back\",\"Centre-Back\",\"Second Striker\"],\"x0\":\" \",\"xaxis\":\"x\",\"y\":[2,2,7,1,1,4,0,0,0,1,1,2,0,3,1,0,3,4,0,0,0,0,3],\"y0\":\" \",\"yaxis\":\"y\",\"type\":\"box\"}],                        {\"template\":{\"data\":{\"histogram2dcontour\":[{\"type\":\"histogram2dcontour\",\"colorbar\":{\"outlinewidth\":0,\"ticks\":\"\"},\"colorscale\":[[0.0,\"#0d0887\"],[0.1111111111111111,\"#46039f\"],[0.2222222222222222,\"#7201a8\"],[0.3333333333333333,\"#9c179e\"],[0.4444444444444444,\"#bd3786\"],[0.5555555555555556,\"#d8576b\"],[0.6666666666666666,\"#ed7953\"],[0.7777777777777778,\"#fb9f3a\"],[0.8888888888888888,\"#fdca26\"],[1.0,\"#f0f921\"]]}],\"choropleth\":[{\"type\":\"choropleth\",\"colorbar\":{\"outlinewidth\":0,\"ticks\":\"\"}}],\"histogram2d\":[{\"type\":\"histogram2d\",\"colorbar\":{\"outlinewidth\":0,\"ticks\":\"\"},\"colorscale\":[[0.0,\"#0d0887\"],[0.1111111111111111,\"#46039f\"],[0.2222222222222222,\"#7201a8\"],[0.3333333333333333,\"#9c179e\"],[0.4444444444444444,\"#bd3786\"],[0.5555555555555556,\"#d8576b\"],[0.6666666666666666,\"#ed7953\"],[0.7777777777777778,\"#fb9f3a\"],[0.8888888888888888,\"#fdca26\"],[1.0,\"#f0f921\"]]}],\"heatmap\":[{\"type\":\"heatmap\",\"colorbar\":{\"outlinewidth\":0,\"ticks\":\"\"},\"colorscale\":[[0.0,\"#0d0887\"],[0.1111111111111111,\"#46039f\"],[0.2222222222222222,\"#7201a8\"],[0.3333333333333333,\"#9c179e\"],[0.4444444444444444,\"#bd3786\"],[0.5555555555555556,\"#d8576b\"],[0.6666666666666666,\"#ed7953\"],[0.7777777777777778,\"#fb9f3a\"],[0.8888888888888888,\"#fdca26\"],[1.0,\"#f0f921\"]]}],\"heatmapgl\":[{\"type\":\"heatmapgl\",\"colorbar\":{\"outlinewidth\":0,\"ticks\":\"\"},\"colorscale\":[[0.0,\"#0d0887\"],[0.1111111111111111,\"#46039f\"],[0.2222222222222222,\"#7201a8\"],[0.3333333333333333,\"#9c179e\"],[0.4444444444444444,\"#bd3786\"],[0.5555555555555556,\"#d8576b\"],[0.6666666666666666,\"#ed7953\"],[0.7777777777777778,\"#fb9f3a\"],[0.8888888888888888,\"#fdca26\"],[1.0,\"#f0f921\"]]}],\"contourcarpet\":[{\"type\":\"contourcarpet\",\"colorbar\":{\"outlinewidth\":0,\"ticks\":\"\"}}],\"contour\":[{\"type\":\"contour\",\"colorbar\":{\"outlinewidth\":0,\"ticks\":\"\"},\"colorscale\":[[0.0,\"#0d0887\"],[0.1111111111111111,\"#46039f\"],[0.2222222222222222,\"#7201a8\"],[0.3333333333333333,\"#9c179e\"],[0.4444444444444444,\"#bd3786\"],[0.5555555555555556,\"#d8576b\"],[0.6666666666666666,\"#ed7953\"],[0.7777777777777778,\"#fb9f3a\"],[0.8888888888888888,\"#fdca26\"],[1.0,\"#f0f921\"]]}],\"surface\":[{\"type\":\"surface\",\"colorbar\":{\"outlinewidth\":0,\"ticks\":\"\"},\"colorscale\":[[0.0,\"#0d0887\"],[0.1111111111111111,\"#46039f\"],[0.2222222222222222,\"#7201a8\"],[0.3333333333333333,\"#9c179e\"],[0.4444444444444444,\"#bd3786\"],[0.5555555555555556,\"#d8576b\"],[0.6666666666666666,\"#ed7953\"],[0.7777777777777778,\"#fb9f3a\"],[0.8888888888888888,\"#fdca26\"],[1.0,\"#f0f921\"]]}],\"mesh3d\":[{\"type\":\"mesh3d\",\"colorbar\":{\"outlinewidth\":0,\"ticks\":\"\"}}],\"scatter\":[{\"fillpattern\":{\"fillmode\":\"overlay\",\"size\":10,\"solidity\":0.2},\"type\":\"scatter\"}],\"parcoords\":[{\"type\":\"parcoords\",\"line\":{\"colorbar\":{\"outlinewidth\":0,\"ticks\":\"\"}}}],\"scatterpolargl\":[{\"type\":\"scatterpolargl\",\"marker\":{\"colorbar\":{\"outlinewidth\":0,\"ticks\":\"\"}}}],\"bar\":[{\"error_x\":{\"color\":\"#2a3f5f\"},\"error_y\":{\"color\":\"#2a3f5f\"},\"marker\":{\"line\":{\"color\":\"#E5ECF6\",\"width\":0.5},\"pattern\":{\"fillmode\":\"overlay\",\"size\":10,\"solidity\":0.2}},\"type\":\"bar\"}],\"scattergeo\":[{\"type\":\"scattergeo\",\"marker\":{\"colorbar\":{\"outlinewidth\":0,\"ticks\":\"\"}}}],\"scatterpolar\":[{\"type\":\"scatterpolar\",\"marker\":{\"colorbar\":{\"outlinewidth\":0,\"ticks\":\"\"}}}],\"histogram\":[{\"marker\":{\"pattern\":{\"fillmode\":\"overlay\",\"size\":10,\"solidity\":0.2}},\"type\":\"histogram\"}],\"scattergl\":[{\"type\":\"scattergl\",\"marker\":{\"colorbar\":{\"outlinewidth\":0,\"ticks\":\"\"}}}],\"scatter3d\":[{\"type\":\"scatter3d\",\"line\":{\"colorbar\":{\"outlinewidth\":0,\"ticks\":\"\"}},\"marker\":{\"colorbar\":{\"outlinewidth\":0,\"ticks\":\"\"}}}],\"scattermapbox\":[{\"type\":\"scattermapbox\",\"marker\":{\"colorbar\":{\"outlinewidth\":0,\"ticks\":\"\"}}}],\"scatterternary\":[{\"type\":\"scatterternary\",\"marker\":{\"colorbar\":{\"outlinewidth\":0,\"ticks\":\"\"}}}],\"scattercarpet\":[{\"type\":\"scattercarpet\",\"marker\":{\"colorbar\":{\"outlinewidth\":0,\"ticks\":\"\"}}}],\"carpet\":[{\"aaxis\":{\"endlinecolor\":\"#2a3f5f\",\"gridcolor\":\"white\",\"linecolor\":\"white\",\"minorgridcolor\":\"white\",\"startlinecolor\":\"#2a3f5f\"},\"baxis\":{\"endlinecolor\":\"#2a3f5f\",\"gridcolor\":\"white\",\"linecolor\":\"white\",\"minorgridcolor\":\"white\",\"startlinecolor\":\"#2a3f5f\"},\"type\":\"carpet\"}],\"table\":[{\"cells\":{\"fill\":{\"color\":\"#EBF0F8\"},\"line\":{\"color\":\"white\"}},\"header\":{\"fill\":{\"color\":\"#C8D4E3\"},\"line\":{\"color\":\"white\"}},\"type\":\"table\"}],\"barpolar\":[{\"marker\":{\"line\":{\"color\":\"#E5ECF6\",\"width\":0.5},\"pattern\":{\"fillmode\":\"overlay\",\"size\":10,\"solidity\":0.2}},\"type\":\"barpolar\"}],\"pie\":[{\"automargin\":true,\"type\":\"pie\"}]},\"layout\":{\"autotypenumbers\":\"strict\",\"colorway\":[\"#636efa\",\"#EF553B\",\"#00cc96\",\"#ab63fa\",\"#FFA15A\",\"#19d3f3\",\"#FF6692\",\"#B6E880\",\"#FF97FF\",\"#FECB52\"],\"font\":{\"color\":\"#2a3f5f\"},\"hovermode\":\"closest\",\"hoverlabel\":{\"align\":\"left\"},\"paper_bgcolor\":\"white\",\"plot_bgcolor\":\"#E5ECF6\",\"polar\":{\"bgcolor\":\"#E5ECF6\",\"angularaxis\":{\"gridcolor\":\"white\",\"linecolor\":\"white\",\"ticks\":\"\"},\"radialaxis\":{\"gridcolor\":\"white\",\"linecolor\":\"white\",\"ticks\":\"\"}},\"ternary\":{\"bgcolor\":\"#E5ECF6\",\"aaxis\":{\"gridcolor\":\"white\",\"linecolor\":\"white\",\"ticks\":\"\"},\"baxis\":{\"gridcolor\":\"white\",\"linecolor\":\"white\",\"ticks\":\"\"},\"caxis\":{\"gridcolor\":\"white\",\"linecolor\":\"white\",\"ticks\":\"\"}},\"coloraxis\":{\"colorbar\":{\"outlinewidth\":0,\"ticks\":\"\"}},\"colorscale\":{\"sequential\":[[0.0,\"#0d0887\"],[0.1111111111111111,\"#46039f\"],[0.2222222222222222,\"#7201a8\"],[0.3333333333333333,\"#9c179e\"],[0.4444444444444444,\"#bd3786\"],[0.5555555555555556,\"#d8576b\"],[0.6666666666666666,\"#ed7953\"],[0.7777777777777778,\"#fb9f3a\"],[0.8888888888888888,\"#fdca26\"],[1.0,\"#f0f921\"]],\"sequentialminus\":[[0.0,\"#0d0887\"],[0.1111111111111111,\"#46039f\"],[0.2222222222222222,\"#7201a8\"],[0.3333333333333333,\"#9c179e\"],[0.4444444444444444,\"#bd3786\"],[0.5555555555555556,\"#d8576b\"],[0.6666666666666666,\"#ed7953\"],[0.7777777777777778,\"#fb9f3a\"],[0.8888888888888888,\"#fdca26\"],[1.0,\"#f0f921\"]],\"diverging\":[[0,\"#8e0152\"],[0.1,\"#c51b7d\"],[0.2,\"#de77ae\"],[0.3,\"#f1b6da\"],[0.4,\"#fde0ef\"],[0.5,\"#f7f7f7\"],[0.6,\"#e6f5d0\"],[0.7,\"#b8e186\"],[0.8,\"#7fbc41\"],[0.9,\"#4d9221\"],[1,\"#276419\"]]},\"xaxis\":{\"gridcolor\":\"white\",\"linecolor\":\"white\",\"ticks\":\"\",\"title\":{\"standoff\":15},\"zerolinecolor\":\"white\",\"automargin\":true,\"zerolinewidth\":2},\"yaxis\":{\"gridcolor\":\"white\",\"linecolor\":\"white\",\"ticks\":\"\",\"title\":{\"standoff\":15},\"zerolinecolor\":\"white\",\"automargin\":true,\"zerolinewidth\":2},\"scene\":{\"xaxis\":{\"backgroundcolor\":\"#E5ECF6\",\"gridcolor\":\"white\",\"linecolor\":\"white\",\"showbackground\":true,\"ticks\":\"\",\"zerolinecolor\":\"white\",\"gridwidth\":2},\"yaxis\":{\"backgroundcolor\":\"#E5ECF6\",\"gridcolor\":\"white\",\"linecolor\":\"white\",\"showbackground\":true,\"ticks\":\"\",\"zerolinecolor\":\"white\",\"gridwidth\":2},\"zaxis\":{\"backgroundcolor\":\"#E5ECF6\",\"gridcolor\":\"white\",\"linecolor\":\"white\",\"showbackground\":true,\"ticks\":\"\",\"zerolinecolor\":\"white\",\"gridwidth\":2}},\"shapedefaults\":{\"line\":{\"color\":\"#2a3f5f\"}},\"annotationdefaults\":{\"arrowcolor\":\"#2a3f5f\",\"arrowhead\":0,\"arrowwidth\":1},\"geo\":{\"bgcolor\":\"white\",\"landcolor\":\"#E5ECF6\",\"subunitcolor\":\"white\",\"showland\":true,\"showlakes\":true,\"lakecolor\":\"white\"},\"title\":{\"x\":0.05},\"mapbox\":{\"style\":\"light\"}}},\"xaxis\":{\"anchor\":\"y\",\"domain\":[0.0,1.0],\"title\":{\"text\":\"Position\"}},\"yaxis\":{\"anchor\":\"x\",\"domain\":[0.0,1.0],\"title\":{\"text\":\"Assists\"}},\"legend\":{\"title\":{\"text\":\"Red Cards\"},\"tracegroupgap\":0},\"margin\":{\"t\":60},\"boxmode\":\"group\",\"height\":400,\"width\":500},                        {\"responsive\": true}                    ).then(function(){\n",
       "                            \n",
       "var gd = document.getElementById('b1b0c8c6-cede-4d64-a584-d028dd446996');\n",
       "var x = new MutationObserver(function (mutations, observer) {{\n",
       "        var display = window.getComputedStyle(gd).display;\n",
       "        if (!display || display === 'none') {{\n",
       "            console.log([gd, 'removed!']);\n",
       "            Plotly.purge(gd);\n",
       "            observer.disconnect();\n",
       "        }}\n",
       "}});\n",
       "\n",
       "// Listen for the removal of the full notebook cells\n",
       "var notebookContainer = gd.closest('#notebook-container');\n",
       "if (notebookContainer) {{\n",
       "    x.observe(notebookContainer, {childList: true});\n",
       "}}\n",
       "\n",
       "// Listen for the clearing of the current output cell\n",
       "var outputEl = gd.closest('.output');\n",
       "if (outputEl) {{\n",
       "    x.observe(outputEl, {childList: true});\n",
       "}}\n",
       "\n",
       "                        })                };                });            </script>        </div>"
      ]
     },
     "metadata": {},
     "output_type": "display_data"
    }
   ],
   "source": [
    "px.box(data,x='Position',y='Assists', color='Red Cards',width=500, height=400)"
   ]
  },
  {
   "cell_type": "code",
   "execution_count": 298,
   "id": "b0e61aca",
   "metadata": {},
   "outputs": [
    {
     "data": {
      "text/html": [
       "<div>\n",
       "<style scoped>\n",
       "    .dataframe tbody tr th:only-of-type {\n",
       "        vertical-align: middle;\n",
       "    }\n",
       "\n",
       "    .dataframe tbody tr th {\n",
       "        vertical-align: top;\n",
       "    }\n",
       "\n",
       "    .dataframe thead th {\n",
       "        text-align: right;\n",
       "    }\n",
       "</style>\n",
       "<table border=\"1\" class=\"dataframe\">\n",
       "  <thead>\n",
       "    <tr style=\"text-align: right;\">\n",
       "      <th></th>\n",
       "      <th>Name</th>\n",
       "      <th>Position</th>\n",
       "      <th>Age</th>\n",
       "      <th>Markey Value In Millions(£)</th>\n",
       "      <th>Country</th>\n",
       "      <th>Club</th>\n",
       "      <th>Matches</th>\n",
       "      <th>Goals</th>\n",
       "      <th>Own Goals</th>\n",
       "      <th>Assists</th>\n",
       "      <th>Yellow Cards</th>\n",
       "      <th>Second Yellow Cards</th>\n",
       "      <th>Red Cards</th>\n",
       "      <th>Number Of Substitute In</th>\n",
       "      <th>Number Of Substitute Out</th>\n",
       "    </tr>\n",
       "  </thead>\n",
       "  <tbody>\n",
       "    <tr>\n",
       "      <th>316</th>\n",
       "      <td>Mike Maignan</td>\n",
       "      <td>Goalkeeper</td>\n",
       "      <td>26</td>\n",
       "      <td>22.5</td>\n",
       "      <td>France</td>\n",
       "      <td>AC Milan</td>\n",
       "      <td>9</td>\n",
       "      <td>0</td>\n",
       "      <td>0</td>\n",
       "      <td>0</td>\n",
       "      <td>1</td>\n",
       "      <td>0</td>\n",
       "      <td>0</td>\n",
       "      <td>0</td>\n",
       "      <td>0</td>\n",
       "    </tr>\n",
       "    <tr>\n",
       "      <th>166</th>\n",
       "      <td>Arthur</td>\n",
       "      <td>Central Midfield</td>\n",
       "      <td>25</td>\n",
       "      <td>31.5</td>\n",
       "      <td>Brazil</td>\n",
       "      <td>Juventus FC</td>\n",
       "      <td>6</td>\n",
       "      <td>0</td>\n",
       "      <td>0</td>\n",
       "      <td>0</td>\n",
       "      <td>2</td>\n",
       "      <td>0</td>\n",
       "      <td>0</td>\n",
       "      <td>5</td>\n",
       "      <td>1</td>\n",
       "    </tr>\n",
       "    <tr>\n",
       "      <th>218</th>\n",
       "      <td>Renato Sanches</td>\n",
       "      <td>Central Midfield</td>\n",
       "      <td>24</td>\n",
       "      <td>27.0</td>\n",
       "      <td>Portugal</td>\n",
       "      <td>LOSC Lille</td>\n",
       "      <td>8</td>\n",
       "      <td>0</td>\n",
       "      <td>0</td>\n",
       "      <td>1</td>\n",
       "      <td>2</td>\n",
       "      <td>0</td>\n",
       "      <td>0</td>\n",
       "      <td>2</td>\n",
       "      <td>4</td>\n",
       "    </tr>\n",
       "    <tr>\n",
       "      <th>283</th>\n",
       "      <td>Charles De Ketelaere</td>\n",
       "      <td>Centre-Forward</td>\n",
       "      <td>20</td>\n",
       "      <td>22.5</td>\n",
       "      <td>Belgium</td>\n",
       "      <td>Club Brugge KV</td>\n",
       "      <td>21</td>\n",
       "      <td>5</td>\n",
       "      <td>0</td>\n",
       "      <td>4</td>\n",
       "      <td>4</td>\n",
       "      <td>0</td>\n",
       "      <td>0</td>\n",
       "      <td>0</td>\n",
       "      <td>8</td>\n",
       "    </tr>\n",
       "    <tr>\n",
       "      <th>128</th>\n",
       "      <td>Kalvin Phillips</td>\n",
       "      <td>Defensive Midfield</td>\n",
       "      <td>25</td>\n",
       "      <td>36.0</td>\n",
       "      <td>England</td>\n",
       "      <td>Leeds United</td>\n",
       "      <td>11</td>\n",
       "      <td>1</td>\n",
       "      <td>0</td>\n",
       "      <td>1</td>\n",
       "      <td>1</td>\n",
       "      <td>0</td>\n",
       "      <td>0</td>\n",
       "      <td>0</td>\n",
       "      <td>0</td>\n",
       "    </tr>\n",
       "  </tbody>\n",
       "</table>\n",
       "</div>"
      ],
      "text/plain": [
       "                     Name            Position  Age  \\\n",
       "316          Mike Maignan          Goalkeeper   26   \n",
       "166                Arthur    Central Midfield   25   \n",
       "218        Renato Sanches    Central Midfield   24   \n",
       "283  Charles De Ketelaere      Centre-Forward   20   \n",
       "128       Kalvin Phillips  Defensive Midfield   25   \n",
       "\n",
       "     Markey Value In Millions(£)   Country            Club  Matches  Goals  \\\n",
       "316                         22.5    France        AC Milan        9      0   \n",
       "166                         31.5    Brazil     Juventus FC        6      0   \n",
       "218                         27.0  Portugal      LOSC Lille        8      0   \n",
       "283                         22.5   Belgium  Club Brugge KV       21      5   \n",
       "128                         36.0   England    Leeds United       11      1   \n",
       "\n",
       "     Own Goals  Assists  Yellow Cards  Second Yellow Cards  Red Cards  \\\n",
       "316          0        0             1                    0          0   \n",
       "166          0        0             2                    0          0   \n",
       "218          0        1             2                    0          0   \n",
       "283          0        4             4                    0          0   \n",
       "128          0        1             1                    0          0   \n",
       "\n",
       "     Number Of Substitute In  Number Of Substitute Out  \n",
       "316                        0                         0  \n",
       "166                        5                         1  \n",
       "218                        2                         4  \n",
       "283                        0                         8  \n",
       "128                        0                         0  "
      ]
     },
     "execution_count": 298,
     "metadata": {},
     "output_type": "execute_result"
    }
   ],
   "source": [
    "data.sample(5)"
   ]
  },
  {
   "cell_type": "code",
   "execution_count": 178,
   "id": "fff3cc09",
   "metadata": {},
   "outputs": [
    {
     "data": {
      "text/html": [
       "<div>\n",
       "<style scoped>\n",
       "    .dataframe tbody tr th:only-of-type {\n",
       "        vertical-align: middle;\n",
       "    }\n",
       "\n",
       "    .dataframe tbody tr th {\n",
       "        vertical-align: top;\n",
       "    }\n",
       "\n",
       "    .dataframe thead th {\n",
       "        text-align: right;\n",
       "    }\n",
       "</style>\n",
       "<table border=\"1\" class=\"dataframe\">\n",
       "  <thead>\n",
       "    <tr style=\"text-align: right;\">\n",
       "      <th></th>\n",
       "      <th>Age</th>\n",
       "      <th>Goals</th>\n",
       "      <th>Assists</th>\n",
       "      <th>Red Cards</th>\n",
       "    </tr>\n",
       "  </thead>\n",
       "  <tbody>\n",
       "    <tr>\n",
       "      <th>Age</th>\n",
       "      <td>1.000000</td>\n",
       "      <td>0.038950</td>\n",
       "      <td>-0.037685</td>\n",
       "      <td>-0.011659</td>\n",
       "    </tr>\n",
       "    <tr>\n",
       "      <th>Goals</th>\n",
       "      <td>0.038950</td>\n",
       "      <td>1.000000</td>\n",
       "      <td>0.478299</td>\n",
       "      <td>-0.020866</td>\n",
       "    </tr>\n",
       "    <tr>\n",
       "      <th>Assists</th>\n",
       "      <td>-0.037685</td>\n",
       "      <td>0.478299</td>\n",
       "      <td>1.000000</td>\n",
       "      <td>0.000551</td>\n",
       "    </tr>\n",
       "    <tr>\n",
       "      <th>Red Cards</th>\n",
       "      <td>-0.011659</td>\n",
       "      <td>-0.020866</td>\n",
       "      <td>0.000551</td>\n",
       "      <td>1.000000</td>\n",
       "    </tr>\n",
       "  </tbody>\n",
       "</table>\n",
       "</div>"
      ],
      "text/plain": [
       "                Age     Goals   Assists  Red Cards\n",
       "Age        1.000000  0.038950 -0.037685  -0.011659\n",
       "Goals      0.038950  1.000000  0.478299  -0.020866\n",
       "Assists   -0.037685  0.478299  1.000000   0.000551\n",
       "Red Cards -0.011659 -0.020866  0.000551   1.000000"
      ]
     },
     "execution_count": 178,
     "metadata": {},
     "output_type": "execute_result"
    }
   ],
   "source": [
    "data[['Age','Goals','Assists','Red Cards']].corr()"
   ]
  },
  {
   "cell_type": "code",
   "execution_count": null,
   "id": "4d5157bc",
   "metadata": {},
   "outputs": [],
   "source": []
  },
  {
   "cell_type": "code",
   "execution_count": null,
   "id": "6efdcaf6",
   "metadata": {},
   "outputs": [],
   "source": []
  },
  {
   "cell_type": "code",
   "execution_count": 179,
   "id": "9fb8e01c",
   "metadata": {},
   "outputs": [
    {
     "data": {
      "text/html": [
       "<div>\n",
       "<style scoped>\n",
       "    .dataframe tbody tr th:only-of-type {\n",
       "        vertical-align: middle;\n",
       "    }\n",
       "\n",
       "    .dataframe tbody tr th {\n",
       "        vertical-align: top;\n",
       "    }\n",
       "\n",
       "    .dataframe thead th {\n",
       "        text-align: right;\n",
       "    }\n",
       "</style>\n",
       "<table border=\"1\" class=\"dataframe\">\n",
       "  <thead>\n",
       "    <tr style=\"text-align: right;\">\n",
       "      <th></th>\n",
       "      <th>Name</th>\n",
       "      <th>Position</th>\n",
       "      <th>Age</th>\n",
       "      <th>Markey Value In Millions(£)</th>\n",
       "      <th>Country</th>\n",
       "      <th>Club</th>\n",
       "      <th>Matches</th>\n",
       "      <th>Goals</th>\n",
       "      <th>Own Goals</th>\n",
       "      <th>Assists</th>\n",
       "      <th>Yellow Cards</th>\n",
       "      <th>Second Yellow Cards</th>\n",
       "      <th>Red Cards</th>\n",
       "      <th>Number Of Substitute In</th>\n",
       "      <th>Number Of Substitute Out</th>\n",
       "    </tr>\n",
       "  </thead>\n",
       "  <tbody>\n",
       "    <tr>\n",
       "      <th>284</th>\n",
       "      <td>Gabriel</td>\n",
       "      <td>Centre-Back</td>\n",
       "      <td>23</td>\n",
       "      <td>22.5</td>\n",
       "      <td>Brazil</td>\n",
       "      <td>Arsenal FC</td>\n",
       "      <td>9</td>\n",
       "      <td>1</td>\n",
       "      <td>0</td>\n",
       "      <td>0</td>\n",
       "      <td>1</td>\n",
       "      <td>0</td>\n",
       "      <td>0</td>\n",
       "      <td>0</td>\n",
       "      <td>1</td>\n",
       "    </tr>\n",
       "  </tbody>\n",
       "</table>\n",
       "</div>"
      ],
      "text/plain": [
       "        Name     Position  Age  Markey Value In Millions(£) Country  \\\n",
       "284  Gabriel  Centre-Back   23                         22.5  Brazil   \n",
       "\n",
       "           Club  Matches  Goals  Own Goals  Assists  Yellow Cards  \\\n",
       "284  Arsenal FC        9      1          0        0             1   \n",
       "\n",
       "     Second Yellow Cards  Red Cards  Number Of Substitute In  \\\n",
       "284                    0          0                        0   \n",
       "\n",
       "     Number Of Substitute Out  \n",
       "284                         1  "
      ]
     },
     "execution_count": 179,
     "metadata": {},
     "output_type": "execute_result"
    }
   ],
   "source": [
    "data.sample()"
   ]
  },
  {
   "cell_type": "markdown",
   "id": "bffe4c85",
   "metadata": {},
   "source": [
    ">> Q1: Who is the player with the highest market value in England?"
   ]
  },
  {
   "cell_type": "code",
   "execution_count": 220,
   "id": "d8f9615c",
   "metadata": {},
   "outputs": [
    {
     "data": {
      "text/plain": [
       "'Memphis Depay'"
      ]
     },
     "execution_count": 220,
     "metadata": {},
     "output_type": "execute_result"
    }
   ],
   "source": [
    "data['Name'][data[(data['Country']=='England')]['Markey Value In Millions(£)'].max()]"
   ]
  },
  {
   "cell_type": "markdown",
   "id": "bced9be8",
   "metadata": {},
   "source": [
    ">> Q2: Who is the player with the highest market value in Brazil"
   ]
  },
  {
   "cell_type": "code",
   "execution_count": 235,
   "id": "ea02e395",
   "metadata": {},
   "outputs": [
    {
     "data": {
      "text/plain": [
       "'Piotr Zielinski'"
      ]
     },
     "execution_count": 235,
     "metadata": {},
     "output_type": "execute_result"
    }
   ],
   "source": [
    "data['Name'][data[(data['Country']=='Brazil')]['Markey Value In Millions(£)'].max()]"
   ]
  },
  {
   "cell_type": "markdown",
   "id": "3366ed07",
   "metadata": {},
   "source": [
    ">> Q3: What is the name of the club with the most goals?"
   ]
  },
  {
   "cell_type": "code",
   "execution_count": 240,
   "id": "d5ca8438",
   "metadata": {},
   "outputs": [
    {
     "data": {
      "text/plain": [
       "Club\n",
       "Bayern Munich                23\n",
       "Liverpool FC                 15\n",
       "Club Atlético River Plate    15\n",
       "Name: Goals, dtype: int64"
      ]
     },
     "execution_count": 240,
     "metadata": {},
     "output_type": "execute_result"
    }
   ],
   "source": [
    "data.groupby('Club')['Goals'].max().sort_values(ascending=False).nlargest(3)"
   ]
  },
  {
   "cell_type": "markdown",
   "id": "e7d96d57",
   "metadata": {},
   "source": [
    ">> Q4: Where is the position of the most scoring player in France?"
   ]
  },
  {
   "cell_type": "code",
   "execution_count": 245,
   "id": "b13d3d94",
   "metadata": {},
   "outputs": [
    {
     "data": {
      "text/plain": [
       "Position\n",
       "Centre-Forward        14\n",
       "Attacking Midfield    11\n",
       "Name: Goals, dtype: int64"
      ]
     },
     "execution_count": 245,
     "metadata": {},
     "output_type": "execute_result"
    }
   ],
   "source": [
    "data[(data['Country']=='France')].groupby('Position')['Goals'].max().nlargest(2)"
   ]
  },
  {
   "cell_type": "markdown",
   "id": "7eb727f2",
   "metadata": {},
   "source": [
    ">> Q5: Where is Roberto Firmino  position in Liverpool?"
   ]
  },
  {
   "cell_type": "code",
   "execution_count": 249,
   "id": "95c08917",
   "metadata": {},
   "outputs": [
    {
     "data": {
      "text/plain": [
       "146    Centre-Forward\n",
       "Name: Position, dtype: object"
      ]
     },
     "execution_count": 249,
     "metadata": {},
     "output_type": "execute_result"
    }
   ],
   "source": [
    "data['Position'][(data['Name']=='Roberto Firmino')]"
   ]
  },
  {
   "cell_type": "markdown",
   "id": "e0d80357",
   "metadata": {},
   "source": [
    ">> Q6: Who is the player who has two red cards?"
   ]
  },
  {
   "cell_type": "code",
   "execution_count": 254,
   "id": "a41636e7",
   "metadata": {},
   "outputs": [
    {
     "data": {
      "text/html": [
       "<div>\n",
       "<style scoped>\n",
       "    .dataframe tbody tr th:only-of-type {\n",
       "        vertical-align: middle;\n",
       "    }\n",
       "\n",
       "    .dataframe tbody tr th {\n",
       "        vertical-align: top;\n",
       "    }\n",
       "\n",
       "    .dataframe thead th {\n",
       "        text-align: right;\n",
       "    }\n",
       "</style>\n",
       "<table border=\"1\" class=\"dataframe\">\n",
       "  <thead>\n",
       "    <tr style=\"text-align: right;\">\n",
       "      <th></th>\n",
       "      <th>Name</th>\n",
       "      <th>Position</th>\n",
       "      <th>Age</th>\n",
       "      <th>Markey Value In Millions(£)</th>\n",
       "      <th>Country</th>\n",
       "      <th>Club</th>\n",
       "      <th>Matches</th>\n",
       "      <th>Goals</th>\n",
       "      <th>Own Goals</th>\n",
       "      <th>Assists</th>\n",
       "      <th>Yellow Cards</th>\n",
       "      <th>Second Yellow Cards</th>\n",
       "      <th>Red Cards</th>\n",
       "      <th>Number Of Substitute In</th>\n",
       "      <th>Number Of Substitute Out</th>\n",
       "    </tr>\n",
       "  </thead>\n",
       "  <tbody>\n",
       "  </tbody>\n",
       "</table>\n",
       "</div>"
      ],
      "text/plain": [
       "Empty DataFrame\n",
       "Columns: [Name, Position, Age, Markey Value In Millions(£), Country, Club, Matches, Goals, Own Goals, Assists, Yellow Cards, Second Yellow Cards, Red Cards, Number Of Substitute In, Number Of Substitute Out]\n",
       "Index: []"
      ]
     },
     "execution_count": 254,
     "metadata": {},
     "output_type": "execute_result"
    }
   ],
   "source": [
    "data[data['Red Cards']==2 ]"
   ]
  },
  {
   "cell_type": "code",
   "execution_count": 250,
   "id": "3f6184cf",
   "metadata": {},
   "outputs": [
    {
     "data": {
      "text/html": [
       "<div>\n",
       "<style scoped>\n",
       "    .dataframe tbody tr th:only-of-type {\n",
       "        vertical-align: middle;\n",
       "    }\n",
       "\n",
       "    .dataframe tbody tr th {\n",
       "        vertical-align: top;\n",
       "    }\n",
       "\n",
       "    .dataframe thead th {\n",
       "        text-align: right;\n",
       "    }\n",
       "</style>\n",
       "<table border=\"1\" class=\"dataframe\">\n",
       "  <thead>\n",
       "    <tr style=\"text-align: right;\">\n",
       "      <th></th>\n",
       "      <th>Name</th>\n",
       "      <th>Position</th>\n",
       "      <th>Age</th>\n",
       "      <th>Markey Value In Millions(£)</th>\n",
       "      <th>Country</th>\n",
       "      <th>Club</th>\n",
       "      <th>Matches</th>\n",
       "      <th>Goals</th>\n",
       "      <th>Own Goals</th>\n",
       "      <th>Assists</th>\n",
       "      <th>Yellow Cards</th>\n",
       "      <th>Second Yellow Cards</th>\n",
       "      <th>Red Cards</th>\n",
       "      <th>Number Of Substitute In</th>\n",
       "      <th>Number Of Substitute Out</th>\n",
       "    </tr>\n",
       "  </thead>\n",
       "  <tbody>\n",
       "    <tr>\n",
       "      <th>182</th>\n",
       "      <td>Andrea Belotti</td>\n",
       "      <td>Centre-Forward</td>\n",
       "      <td>27</td>\n",
       "      <td>31.5</td>\n",
       "      <td>Italy</td>\n",
       "      <td>Torino FC</td>\n",
       "      <td>8</td>\n",
       "      <td>2</td>\n",
       "      <td>0</td>\n",
       "      <td>0</td>\n",
       "      <td>0</td>\n",
       "      <td>0</td>\n",
       "      <td>0</td>\n",
       "      <td>4</td>\n",
       "      <td>3</td>\n",
       "    </tr>\n",
       "  </tbody>\n",
       "</table>\n",
       "</div>"
      ],
      "text/plain": [
       "               Name        Position  Age  Markey Value In Millions(£) Country  \\\n",
       "182  Andrea Belotti  Centre-Forward   27                         31.5   Italy   \n",
       "\n",
       "          Club  Matches  Goals  Own Goals  Assists  Yellow Cards  \\\n",
       "182  Torino FC        8      2          0        0             0   \n",
       "\n",
       "     Second Yellow Cards  Red Cards  Number Of Substitute In  \\\n",
       "182                    0          0                        4   \n",
       "\n",
       "     Number Of Substitute Out  \n",
       "182                         3  "
      ]
     },
     "execution_count": 250,
     "metadata": {},
     "output_type": "execute_result"
    }
   ],
   "source": [
    "data.sample()"
   ]
  },
  {
   "cell_type": "markdown",
   "id": "07c796e5",
   "metadata": {},
   "source": [
    ">> Q7: Who is the player who has a high marketing value and sits on the bench ?"
   ]
  },
  {
   "cell_type": "code",
   "execution_count": 258,
   "id": "b18c71ab",
   "metadata": {},
   "outputs": [
    {
     "data": {
      "text/plain": [
       "0    144.0\n",
       "Name: Markey Value In Millions(£), dtype: float64"
      ]
     },
     "execution_count": 258,
     "metadata": {},
     "output_type": "execute_result"
    }
   ],
   "source": [
    "data[(data['Number Of Substitute Out']>=1 )]['Markey Value In Millions(£)'].nlargest(1)"
   ]
  },
  {
   "cell_type": "markdown",
   "id": "5c12563a",
   "metadata": {},
   "source": [
    ">>Q8:Who is the most scoring player with a red card?"
   ]
  },
  {
   "cell_type": "code",
   "execution_count": 266,
   "id": "2272957e",
   "metadata": {},
   "outputs": [
    {
     "data": {
      "text/plain": [
       "50    9\n",
       "Name: Goals, dtype: int64"
      ]
     },
     "execution_count": 266,
     "metadata": {},
     "output_type": "execute_result"
    }
   ],
   "source": [
    "data[(data['Red Cards']>=1 )]['Goals'].nlargest(1)"
   ]
  },
  {
   "cell_type": "code",
   "execution_count": 268,
   "id": "44f2d119",
   "metadata": {},
   "outputs": [
    {
     "data": {
      "text/plain": [
       "'Gabriel Jesus'"
      ]
     },
     "execution_count": 268,
     "metadata": {},
     "output_type": "execute_result"
    }
   ],
   "source": [
    "data['Name'].iloc[50]"
   ]
  },
  {
   "cell_type": "markdown",
   "id": "fb0e157a",
   "metadata": {},
   "source": [
    ">>Q9:How many matches did Vinícius Júnior play and how many goals did he score?"
   ]
  },
  {
   "cell_type": "code",
   "execution_count": 272,
   "id": "e8fa4881",
   "metadata": {},
   "outputs": [
    {
     "data": {
      "text/html": [
       "<div>\n",
       "<style scoped>\n",
       "    .dataframe tbody tr th:only-of-type {\n",
       "        vertical-align: middle;\n",
       "    }\n",
       "\n",
       "    .dataframe tbody tr th {\n",
       "        vertical-align: top;\n",
       "    }\n",
       "\n",
       "    .dataframe thead th {\n",
       "        text-align: right;\n",
       "    }\n",
       "</style>\n",
       "<table border=\"1\" class=\"dataframe\">\n",
       "  <thead>\n",
       "    <tr style=\"text-align: right;\">\n",
       "      <th></th>\n",
       "      <th>Matches</th>\n",
       "      <th>Goals</th>\n",
       "    </tr>\n",
       "  </thead>\n",
       "  <tbody>\n",
       "    <tr>\n",
       "      <th>80</th>\n",
       "      <td>16</td>\n",
       "      <td>9</td>\n",
       "    </tr>\n",
       "  </tbody>\n",
       "</table>\n",
       "</div>"
      ],
      "text/plain": [
       "    Matches  Goals\n",
       "80       16      9"
      ]
     },
     "execution_count": 272,
     "metadata": {},
     "output_type": "execute_result"
    }
   ],
   "source": [
    "data[['Matches','Goals']][data['Name']=='Vinícius Júnior']"
   ]
  },
  {
   "cell_type": "code",
   "execution_count": null,
   "id": "b46a001a",
   "metadata": {},
   "outputs": [],
   "source": []
  },
  {
   "cell_type": "markdown",
   "id": "70971a3f",
   "metadata": {},
   "source": [
    ">>Q10:Which club did Eden Hazard move to and how old is he?"
   ]
  },
  {
   "cell_type": "code",
   "execution_count": 273,
   "id": "2c1a6cf1",
   "metadata": {},
   "outputs": [
    {
     "data": {
      "text/html": [
       "<div>\n",
       "<style scoped>\n",
       "    .dataframe tbody tr th:only-of-type {\n",
       "        vertical-align: middle;\n",
       "    }\n",
       "\n",
       "    .dataframe tbody tr th {\n",
       "        vertical-align: top;\n",
       "    }\n",
       "\n",
       "    .dataframe thead th {\n",
       "        text-align: right;\n",
       "    }\n",
       "</style>\n",
       "<table border=\"1\" class=\"dataframe\">\n",
       "  <thead>\n",
       "    <tr style=\"text-align: right;\">\n",
       "      <th></th>\n",
       "      <th>Club</th>\n",
       "      <th>Age</th>\n",
       "    </tr>\n",
       "  </thead>\n",
       "  <tbody>\n",
       "    <tr>\n",
       "      <th>332</th>\n",
       "      <td>Real Madrid</td>\n",
       "      <td>30</td>\n",
       "    </tr>\n",
       "  </tbody>\n",
       "</table>\n",
       "</div>"
      ],
      "text/plain": [
       "            Club  Age\n",
       "332  Real Madrid   30"
      ]
     },
     "execution_count": 273,
     "metadata": {},
     "output_type": "execute_result"
    }
   ],
   "source": [
    "data[['Club','Age']][data['Name']=='Eden Hazard']"
   ]
  },
  {
   "cell_type": "markdown",
   "id": "8c3e41c8",
   "metadata": {},
   "source": [
    ">>Q11:How many transfers does Atletico Madrid have?"
   ]
  },
  {
   "cell_type": "code",
   "execution_count": 280,
   "id": "4808ab92",
   "metadata": {},
   "outputs": [
    {
     "data": {
      "text/plain": [
       "15"
      ]
     },
     "execution_count": 280,
     "metadata": {},
     "output_type": "execute_result"
    }
   ],
   "source": [
    "data['Name'][(data['Club']=='Atlético de Madrid')].count()"
   ]
  },
  {
   "cell_type": "markdown",
   "id": "e2f66532",
   "metadata": {},
   "source": [
    ">>Q12:Who is the player who made the most assists at the age of 24?"
   ]
  },
  {
   "cell_type": "code",
   "execution_count": 295,
   "id": "03f9e542",
   "metadata": {},
   "outputs": [
    {
     "data": {
      "text/plain": [
       "96    7\n",
       "Name: Assists, dtype: int64"
      ]
     },
     "execution_count": 295,
     "metadata": {},
     "output_type": "execute_result"
    }
   ],
   "source": [
    "data[(data['Age']==24 )]['Assists'].nlargest(1)"
   ]
  },
  {
   "cell_type": "code",
   "execution_count": 297,
   "id": "f353aef1",
   "metadata": {},
   "outputs": [
    {
     "data": {
      "text/plain": [
       "'Reece James'"
      ]
     },
     "execution_count": 297,
     "metadata": {},
     "output_type": "execute_result"
    }
   ],
   "source": [
    "data['Name'].iloc[96]"
   ]
  },
  {
   "cell_type": "markdown",
   "id": "2b5287d3",
   "metadata": {},
   "source": [
    ">>Q13: How many French players has he moved to Real Madrid Hotspur?"
   ]
  },
  {
   "cell_type": "code",
   "execution_count": 300,
   "id": "acf65b1e",
   "metadata": {},
   "outputs": [
    {
     "data": {
      "text/html": [
       "<div>\n",
       "<style scoped>\n",
       "    .dataframe tbody tr th:only-of-type {\n",
       "        vertical-align: middle;\n",
       "    }\n",
       "\n",
       "    .dataframe tbody tr th {\n",
       "        vertical-align: top;\n",
       "    }\n",
       "\n",
       "    .dataframe thead th {\n",
       "        text-align: right;\n",
       "    }\n",
       "</style>\n",
       "<table border=\"1\" class=\"dataframe\">\n",
       "  <thead>\n",
       "    <tr style=\"text-align: right;\">\n",
       "      <th></th>\n",
       "      <th>Name</th>\n",
       "      <th>Position</th>\n",
       "      <th>Age</th>\n",
       "      <th>Markey Value In Millions(£)</th>\n",
       "      <th>Country</th>\n",
       "      <th>Club</th>\n",
       "      <th>Matches</th>\n",
       "      <th>Goals</th>\n",
       "      <th>Own Goals</th>\n",
       "      <th>Assists</th>\n",
       "      <th>Yellow Cards</th>\n",
       "      <th>Second Yellow Cards</th>\n",
       "      <th>Red Cards</th>\n",
       "      <th>Number Of Substitute In</th>\n",
       "      <th>Number Of Substitute Out</th>\n",
       "    </tr>\n",
       "  </thead>\n",
       "  <tbody>\n",
       "    <tr>\n",
       "      <th>64</th>\n",
       "      <td>Eduardo Camavinga</td>\n",
       "      <td>Central Midfield</td>\n",
       "      <td>19</td>\n",
       "      <td>49.5</td>\n",
       "      <td>France</td>\n",
       "      <td>Real Madrid</td>\n",
       "      <td>20</td>\n",
       "      <td>2</td>\n",
       "      <td>0</td>\n",
       "      <td>1</td>\n",
       "      <td>5</td>\n",
       "      <td>0</td>\n",
       "      <td>0</td>\n",
       "      <td>11</td>\n",
       "      <td>5</td>\n",
       "    </tr>\n",
       "    <tr>\n",
       "      <th>86</th>\n",
       "      <td>Ferland Mendy</td>\n",
       "      <td>Left-Back</td>\n",
       "      <td>26</td>\n",
       "      <td>45.0</td>\n",
       "      <td>France</td>\n",
       "      <td>Real Madrid</td>\n",
       "      <td>6</td>\n",
       "      <td>0</td>\n",
       "      <td>0</td>\n",
       "      <td>0</td>\n",
       "      <td>2</td>\n",
       "      <td>0</td>\n",
       "      <td>0</td>\n",
       "      <td>1</td>\n",
       "      <td>2</td>\n",
       "    </tr>\n",
       "    <tr>\n",
       "      <th>333</th>\n",
       "      <td>Karim Benzema</td>\n",
       "      <td>Centre-Forward</td>\n",
       "      <td>33</td>\n",
       "      <td>22.5</td>\n",
       "      <td>France</td>\n",
       "      <td>Real Madrid</td>\n",
       "      <td>15</td>\n",
       "      <td>14</td>\n",
       "      <td>0</td>\n",
       "      <td>8</td>\n",
       "      <td>0</td>\n",
       "      <td>0</td>\n",
       "      <td>0</td>\n",
       "      <td>0</td>\n",
       "      <td>4</td>\n",
       "    </tr>\n",
       "  </tbody>\n",
       "</table>\n",
       "</div>"
      ],
      "text/plain": [
       "                  Name          Position  Age  Markey Value In Millions(£)  \\\n",
       "64   Eduardo Camavinga  Central Midfield   19                         49.5   \n",
       "86       Ferland Mendy         Left-Back   26                         45.0   \n",
       "333      Karim Benzema    Centre-Forward   33                         22.5   \n",
       "\n",
       "    Country         Club  Matches  Goals  Own Goals  Assists  Yellow Cards  \\\n",
       "64   France  Real Madrid       20      2          0        1             5   \n",
       "86   France  Real Madrid        6      0          0        0             2   \n",
       "333  France  Real Madrid       15     14          0        8             0   \n",
       "\n",
       "     Second Yellow Cards  Red Cards  Number Of Substitute In  \\\n",
       "64                     0          0                       11   \n",
       "86                     0          0                        1   \n",
       "333                    0          0                        0   \n",
       "\n",
       "     Number Of Substitute Out  \n",
       "64                          5  \n",
       "86                          2  \n",
       "333                         4  "
      ]
     },
     "execution_count": 300,
     "metadata": {},
     "output_type": "execute_result"
    }
   ],
   "source": [
    "data[(data['Country']=='France') & (data['Club']=='Real Madrid')]"
   ]
  },
  {
   "cell_type": "markdown",
   "id": "06cab4a6",
   "metadata": {},
   "source": [
    ">>Q14: To which club did the player Gavi move and how many times did he replaced"
   ]
  },
  {
   "cell_type": "code",
   "execution_count": 301,
   "id": "e2dad8df",
   "metadata": {},
   "outputs": [
    {
     "data": {
      "text/html": [
       "<div>\n",
       "<style scoped>\n",
       "    .dataframe tbody tr th:only-of-type {\n",
       "        vertical-align: middle;\n",
       "    }\n",
       "\n",
       "    .dataframe tbody tr th {\n",
       "        vertical-align: top;\n",
       "    }\n",
       "\n",
       "    .dataframe thead th {\n",
       "        text-align: right;\n",
       "    }\n",
       "</style>\n",
       "<table border=\"1\" class=\"dataframe\">\n",
       "  <thead>\n",
       "    <tr style=\"text-align: right;\">\n",
       "      <th></th>\n",
       "      <th>Club</th>\n",
       "      <th>Number Of Substitute In</th>\n",
       "    </tr>\n",
       "  </thead>\n",
       "  <tbody>\n",
       "    <tr>\n",
       "      <th>271</th>\n",
       "      <td>FC Barcelona</td>\n",
       "      <td>6</td>\n",
       "    </tr>\n",
       "  </tbody>\n",
       "</table>\n",
       "</div>"
      ],
      "text/plain": [
       "             Club  Number Of Substitute In\n",
       "271  FC Barcelona                        6"
      ]
     },
     "execution_count": 301,
     "metadata": {},
     "output_type": "execute_result"
    }
   ],
   "source": [
    "data[['Club','Number Of Substitute In']][data['Name']=='Gavi']"
   ]
  },
  {
   "cell_type": "markdown",
   "id": "37b26f1a",
   "metadata": {},
   "source": [
    ">>Q15: What is the marketing value of the players of a player who moved to Real Madrid to play as aRight Winger?"
   ]
  },
  {
   "cell_type": "code",
   "execution_count": 304,
   "id": "7769a304",
   "metadata": {},
   "outputs": [
    {
     "data": {
      "text/html": [
       "<div>\n",
       "<style scoped>\n",
       "    .dataframe tbody tr th:only-of-type {\n",
       "        vertical-align: middle;\n",
       "    }\n",
       "\n",
       "    .dataframe tbody tr th {\n",
       "        vertical-align: top;\n",
       "    }\n",
       "\n",
       "    .dataframe thead th {\n",
       "        text-align: right;\n",
       "    }\n",
       "</style>\n",
       "<table border=\"1\" class=\"dataframe\">\n",
       "  <thead>\n",
       "    <tr style=\"text-align: right;\">\n",
       "      <th></th>\n",
       "      <th>Markey Value In Millions(£)</th>\n",
       "      <th>Name</th>\n",
       "    </tr>\n",
       "  </thead>\n",
       "  <tbody>\n",
       "    <tr>\n",
       "      <th>161</th>\n",
       "      <td>31.5</td>\n",
       "      <td>Rodrygo</td>\n",
       "    </tr>\n",
       "    <tr>\n",
       "      <th>173</th>\n",
       "      <td>31.5</td>\n",
       "      <td>Marco Asensio</td>\n",
       "    </tr>\n",
       "  </tbody>\n",
       "</table>\n",
       "</div>"
      ],
      "text/plain": [
       "     Markey Value In Millions(£)           Name\n",
       "161                         31.5        Rodrygo\n",
       "173                         31.5  Marco Asensio"
      ]
     },
     "execution_count": 304,
     "metadata": {},
     "output_type": "execute_result"
    }
   ],
   "source": [
    "data[['Markey Value In Millions(£)','Name']][(data['Club']=='Real Madrid') &(data['Position']=='Right Winger')]"
   ]
  },
  {
   "cell_type": "code",
   "execution_count": null,
   "id": "83893669",
   "metadata": {},
   "outputs": [],
   "source": []
  },
  {
   "cell_type": "code",
   "execution_count": null,
   "id": "eb309d33",
   "metadata": {},
   "outputs": [],
   "source": []
  },
  {
   "cell_type": "code",
   "execution_count": null,
   "id": "aedf4689",
   "metadata": {},
   "outputs": [],
   "source": []
  },
  {
   "cell_type": "code",
   "execution_count": null,
   "id": "1ccafbc8",
   "metadata": {},
   "outputs": [],
   "source": []
  },
  {
   "cell_type": "code",
   "execution_count": null,
   "id": "a7d67151",
   "metadata": {},
   "outputs": [],
   "source": []
  },
  {
   "cell_type": "code",
   "execution_count": null,
   "id": "760df7f4",
   "metadata": {},
   "outputs": [],
   "source": []
  },
  {
   "cell_type": "code",
   "execution_count": null,
   "id": "5f17ec23",
   "metadata": {},
   "outputs": [],
   "source": []
  }
 ],
 "metadata": {
  "kernelspec": {
   "display_name": "Python 3 (ipykernel)",
   "language": "python",
   "name": "python3"
  },
  "language_info": {
   "codemirror_mode": {
    "name": "ipython",
    "version": 3
   },
   "file_extension": ".py",
   "mimetype": "text/x-python",
   "name": "python",
   "nbconvert_exporter": "python",
   "pygments_lexer": "ipython3",
   "version": "3.9.13"
  }
 },
 "nbformat": 4,
 "nbformat_minor": 5
}
